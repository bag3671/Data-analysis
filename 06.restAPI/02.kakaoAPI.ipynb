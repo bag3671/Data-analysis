{
 "metadata": {
  "language_info": {
   "codemirror_mode": {
    "name": "ipython",
    "version": 3
   },
   "file_extension": ".py",
   "mimetype": "text/x-python",
   "name": "python",
   "nbconvert_exporter": "python",
   "pygments_lexer": "ipython3",
   "version": "3.8.3-final"
  },
  "orig_nbformat": 2,
  "kernelspec": {
   "name": "python3",
   "display_name": "Python 3"
  }
 },
 "nbformat": 4,
 "nbformat_minor": 2,
 "cells": [
  {
   "source": [
    "# 카카오 MAP key\n",
    "### 도로명주소로부터 위도,경도 정보 구하기"
   ],
   "cell_type": "markdown",
   "metadata": {}
  },
  {
   "cell_type": "code",
   "execution_count": 4,
   "metadata": {},
   "outputs": [],
   "source": [
    "import requests\n",
    "from urllib.parse import urlparse\n",
    "import pandas as pd"
   ]
  },
  {
   "cell_type": "code",
   "execution_count": 7,
   "metadata": {},
   "outputs": [],
   "source": [
    "key_fd = open('kakaomapkey.txt')\n",
    "kmap_key = key_fd.read(100)\n",
    "key_fd.close()"
   ]
  },
  {
   "cell_type": "code",
   "execution_count": 25,
   "metadata": {},
   "outputs": [
    {
     "output_type": "stream",
     "name": "stdout",
     "text": [
      "위도는 126.849532173376\n경도는 37.5509655144007\n"
     ]
    }
   ],
   "source": [
    "addr = '서울특별시 강서구 화곡로 302 (화곡동)'\n",
    "url = 'https://dapi.kakao.com/v2/local/search/address.json?query=' + addr\n",
    "result = requests.get(urlparse(url).geturl(),\n",
    "        headers={\"Authorization\":\"KakaoAK \"+kmap_key}).json()\n",
    "address = result['documents'][0]['address']\n",
    "lng = address['x'] \n",
    "lat = address['y']\n",
    "print(f\"위도는 {lng}\") \n",
    "print(f\"경도는 {lat}\") "
   ]
  },
  {
   "cell_type": "code",
   "execution_count": 24,
   "metadata": {},
   "outputs": [
    {
     "output_type": "execute_result",
     "data": {
      "text/plain": [
       "{'address_name': '서울 강서구 화곡동 980-16',\n",
       " 'b_code': '1150010300',\n",
       " 'h_code': '1150059100',\n",
       " 'main_address_no': '980',\n",
       " 'mountain_yn': 'N',\n",
       " 'region_1depth_name': '서울',\n",
       " 'region_2depth_name': '강서구',\n",
       " 'region_3depth_h_name': '화곡6동',\n",
       " 'region_3depth_name': '화곡동',\n",
       " 'sub_address_no': '16',\n",
       " 'x': '126.849532173376',\n",
       " 'y': '37.5509655144007'}"
      ]
     },
     "metadata": {},
     "execution_count": 24
    }
   ],
   "source": [
    "address"
   ]
  },
  {
   "source": [
    "### address.csv 파일 읽어서 위도, 경도 정보 추가하기"
   ],
   "cell_type": "markdown",
   "metadata": {}
  },
  {
   "cell_type": "code",
   "execution_count": 30,
   "metadata": {},
   "outputs": [
    {
     "output_type": "execute_result",
     "data": {
      "text/plain": [
       "      지역        건물이름                      도로명 주소   우편번호\n",
       "0   강서구청        강서구청     서울특별시 강서구 화곡로 302 (화곡동)   7658\n",
       "1   양천구청        양천구청    서울특별시 양천구 목동동로 105 (신정동)   8095\n",
       "2   부천시청  부천시청/부천시의회      경기도 부천시 길주로 210-2 (중동)  14547\n",
       "3  영등포구청       영등포구청  서울특별시 영등포구 당산로 123 (당산동3가)   7260\n",
       "4   김포시청        김포시청        경기도 김포시 사우중로 1 (사우동)  10109"
      ],
      "text/html": "<div>\n<style scoped>\n    .dataframe tbody tr th:only-of-type {\n        vertical-align: middle;\n    }\n\n    .dataframe tbody tr th {\n        vertical-align: top;\n    }\n\n    .dataframe thead th {\n        text-align: right;\n    }\n</style>\n<table border=\"1\" class=\"dataframe\">\n  <thead>\n    <tr style=\"text-align: right;\">\n      <th></th>\n      <th>지역</th>\n      <th>건물이름</th>\n      <th>도로명 주소</th>\n      <th>우편번호</th>\n    </tr>\n  </thead>\n  <tbody>\n    <tr>\n      <th>0</th>\n      <td>강서구청</td>\n      <td>강서구청</td>\n      <td>서울특별시 강서구 화곡로 302 (화곡동)</td>\n      <td>7658</td>\n    </tr>\n    <tr>\n      <th>1</th>\n      <td>양천구청</td>\n      <td>양천구청</td>\n      <td>서울특별시 양천구 목동동로 105 (신정동)</td>\n      <td>8095</td>\n    </tr>\n    <tr>\n      <th>2</th>\n      <td>부천시청</td>\n      <td>부천시청/부천시의회</td>\n      <td>경기도 부천시 길주로 210-2 (중동)</td>\n      <td>14547</td>\n    </tr>\n    <tr>\n      <th>3</th>\n      <td>영등포구청</td>\n      <td>영등포구청</td>\n      <td>서울특별시 영등포구 당산로 123 (당산동3가)</td>\n      <td>7260</td>\n    </tr>\n    <tr>\n      <th>4</th>\n      <td>김포시청</td>\n      <td>김포시청</td>\n      <td>경기도 김포시 사우중로 1 (사우동)</td>\n      <td>10109</td>\n    </tr>\n  </tbody>\n</table>\n</div>"
     },
     "metadata": {},
     "execution_count": 30
    }
   ],
   "source": [
    "df = pd.read_csv(\"address.csv\")\n",
    "df"
   ]
  },
  {
   "cell_type": "code",
   "execution_count": 31,
   "metadata": {},
   "outputs": [],
   "source": [
    "lat_list=[]\n",
    "lng_list=[]\n",
    "for i in df.index:\n",
    "    url = 'https://dapi.kakao.com/v2/local/search/address.json?query=' + df['도로명 주소'][i]\n",
    "    result = requests.get(urlparse(url).geturl(),\n",
    "        headers={\"Authorization\":\"KakaoAK \"+kmap_key}).json()\n",
    "    address = result['documents'][0]['address']\n",
    "    lng = address['x'] \n",
    "    lat = address['y']\n",
    "    lng_list.append(lng)\n",
    "    lat_list.append(lat)\n"
   ]
  },
  {
   "cell_type": "code",
   "execution_count": 32,
   "metadata": {},
   "outputs": [
    {
     "output_type": "execute_result",
     "data": {
      "text/plain": [
       "      지역        건물이름                      도로명 주소   우편번호               lng  \\\n",
       "0   강서구청        강서구청     서울특별시 강서구 화곡로 302 (화곡동)   7658  126.849532173376   \n",
       "1   양천구청        양천구청    서울특별시 양천구 목동동로 105 (신정동)   8095  126.866542541936   \n",
       "2   부천시청  부천시청/부천시의회      경기도 부천시 길주로 210-2 (중동)  14547  126.765003997801   \n",
       "3  영등포구청       영등포구청  서울특별시 영등포구 당산로 123 (당산동3가)   7260  126.896367130558   \n",
       "4   김포시청        김포시청        경기도 김포시 사우중로 1 (사우동)  10109  126.715717006327   \n",
       "\n",
       "                lat  \n",
       "0  37.5509655144007  \n",
       "1  37.5170753784215  \n",
       "2  37.5022773330823  \n",
       "3   37.525963157053  \n",
       "4  37.6151899959384  "
      ],
      "text/html": "<div>\n<style scoped>\n    .dataframe tbody tr th:only-of-type {\n        vertical-align: middle;\n    }\n\n    .dataframe tbody tr th {\n        vertical-align: top;\n    }\n\n    .dataframe thead th {\n        text-align: right;\n    }\n</style>\n<table border=\"1\" class=\"dataframe\">\n  <thead>\n    <tr style=\"text-align: right;\">\n      <th></th>\n      <th>지역</th>\n      <th>건물이름</th>\n      <th>도로명 주소</th>\n      <th>우편번호</th>\n      <th>lng</th>\n      <th>lat</th>\n    </tr>\n  </thead>\n  <tbody>\n    <tr>\n      <th>0</th>\n      <td>강서구청</td>\n      <td>강서구청</td>\n      <td>서울특별시 강서구 화곡로 302 (화곡동)</td>\n      <td>7658</td>\n      <td>126.849532173376</td>\n      <td>37.5509655144007</td>\n    </tr>\n    <tr>\n      <th>1</th>\n      <td>양천구청</td>\n      <td>양천구청</td>\n      <td>서울특별시 양천구 목동동로 105 (신정동)</td>\n      <td>8095</td>\n      <td>126.866542541936</td>\n      <td>37.5170753784215</td>\n    </tr>\n    <tr>\n      <th>2</th>\n      <td>부천시청</td>\n      <td>부천시청/부천시의회</td>\n      <td>경기도 부천시 길주로 210-2 (중동)</td>\n      <td>14547</td>\n      <td>126.765003997801</td>\n      <td>37.5022773330823</td>\n    </tr>\n    <tr>\n      <th>3</th>\n      <td>영등포구청</td>\n      <td>영등포구청</td>\n      <td>서울특별시 영등포구 당산로 123 (당산동3가)</td>\n      <td>7260</td>\n      <td>126.896367130558</td>\n      <td>37.525963157053</td>\n    </tr>\n    <tr>\n      <th>4</th>\n      <td>김포시청</td>\n      <td>김포시청</td>\n      <td>경기도 김포시 사우중로 1 (사우동)</td>\n      <td>10109</td>\n      <td>126.715717006327</td>\n      <td>37.6151899959384</td>\n    </tr>\n  </tbody>\n</table>\n</div>"
     },
     "metadata": {},
     "execution_count": 32
    }
   ],
   "source": [
    "df['lng'] = lng_list\n",
    "df['lat'] = lat_list\n",
    "df"
   ]
  },
  {
   "cell_type": "code",
   "execution_count": 33,
   "metadata": {},
   "outputs": [],
   "source": [
    "df.to_csv(\"address2.csv\", sep=',' ,encoding='UTF-8', index=False)"
   ]
  },
  {
   "cell_type": "code",
   "execution_count": 34,
   "metadata": {},
   "outputs": [
    {
     "output_type": "execute_result",
     "data": {
      "text/plain": [
       "      지역        건물이름                      도로명 주소   우편번호         lng        lat\n",
       "0   강서구청        강서구청     서울특별시 강서구 화곡로 302 (화곡동)   7658  126.849532  37.550966\n",
       "1   양천구청        양천구청    서울특별시 양천구 목동동로 105 (신정동)   8095  126.866543  37.517075\n",
       "2   부천시청  부천시청/부천시의회      경기도 부천시 길주로 210-2 (중동)  14547  126.765004  37.502277\n",
       "3  영등포구청       영등포구청  서울특별시 영등포구 당산로 123 (당산동3가)   7260  126.896367  37.525963\n",
       "4   김포시청        김포시청        경기도 김포시 사우중로 1 (사우동)  10109  126.715717  37.615190"
      ],
      "text/html": "<div>\n<style scoped>\n    .dataframe tbody tr th:only-of-type {\n        vertical-align: middle;\n    }\n\n    .dataframe tbody tr th {\n        vertical-align: top;\n    }\n\n    .dataframe thead th {\n        text-align: right;\n    }\n</style>\n<table border=\"1\" class=\"dataframe\">\n  <thead>\n    <tr style=\"text-align: right;\">\n      <th></th>\n      <th>지역</th>\n      <th>건물이름</th>\n      <th>도로명 주소</th>\n      <th>우편번호</th>\n      <th>lng</th>\n      <th>lat</th>\n    </tr>\n  </thead>\n  <tbody>\n    <tr>\n      <th>0</th>\n      <td>강서구청</td>\n      <td>강서구청</td>\n      <td>서울특별시 강서구 화곡로 302 (화곡동)</td>\n      <td>7658</td>\n      <td>126.849532</td>\n      <td>37.550966</td>\n    </tr>\n    <tr>\n      <th>1</th>\n      <td>양천구청</td>\n      <td>양천구청</td>\n      <td>서울특별시 양천구 목동동로 105 (신정동)</td>\n      <td>8095</td>\n      <td>126.866543</td>\n      <td>37.517075</td>\n    </tr>\n    <tr>\n      <th>2</th>\n      <td>부천시청</td>\n      <td>부천시청/부천시의회</td>\n      <td>경기도 부천시 길주로 210-2 (중동)</td>\n      <td>14547</td>\n      <td>126.765004</td>\n      <td>37.502277</td>\n    </tr>\n    <tr>\n      <th>3</th>\n      <td>영등포구청</td>\n      <td>영등포구청</td>\n      <td>서울특별시 영등포구 당산로 123 (당산동3가)</td>\n      <td>7260</td>\n      <td>126.896367</td>\n      <td>37.525963</td>\n    </tr>\n    <tr>\n      <th>4</th>\n      <td>김포시청</td>\n      <td>김포시청</td>\n      <td>경기도 김포시 사우중로 1 (사우동)</td>\n      <td>10109</td>\n      <td>126.715717</td>\n      <td>37.615190</td>\n    </tr>\n  </tbody>\n</table>\n</div>"
     },
     "metadata": {},
     "execution_count": 34
    }
   ],
   "source": [
    "df2 = pd.read_csv(\"address2.csv\")\n",
    "df2"
   ]
  },
  {
   "cell_type": "code",
   "execution_count": null,
   "metadata": {},
   "outputs": [],
   "source": []
  }
 ]
}