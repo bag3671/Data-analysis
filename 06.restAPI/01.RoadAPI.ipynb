{
 "metadata": {
  "language_info": {
   "codemirror_mode": {
    "name": "ipython",
    "version": 3
   },
   "file_extension": ".py",
   "mimetype": "text/x-python",
   "name": "python",
   "nbconvert_exporter": "python",
   "pygments_lexer": "ipython3",
   "version": "3.8.3-final"
  },
  "orig_nbformat": 2,
  "kernelspec": {
   "name": "python3",
   "display_name": "Python 3"
  }
 },
 "nbformat": 4,
 "nbformat_minor": 2,
 "cells": [
  {
   "source": [
    "# 행정안전부 도로명 주소 API\n",
    "### 건물명으로부터 도로명주소 구하기"
   ],
   "cell_type": "markdown",
   "metadata": {}
  },
  {
   "cell_type": "code",
   "execution_count": 5,
   "metadata": {},
   "outputs": [],
   "source": [
    "import requests\n",
    "from urllib.parse import urlparse\n",
    "import pandas as pd"
   ]
  },
  {
   "cell_type": "code",
   "execution_count": 6,
   "metadata": {},
   "outputs": [],
   "source": [
    "key_fd = open('roadapikey.txt')\n",
    "roadapi_key = key_fd.read(100)\n",
    "key_fd.close()"
   ]
  },
  {
   "cell_type": "code",
   "execution_count": 57,
   "metadata": {},
   "outputs": [
    {
     "output_type": "execute_result",
     "data": {
      "text/plain": [
       "'https://www.juso.go.kr/addrlink/addrLinkApi.do?confmKey=U01TX0FVVEgyMDIwMTExOTEwMjMzNTExMDQzNzg=&currentPage=1&countPerPage=1000&keyword=투썸플레이스&resultType=json'"
      ]
     },
     "metadata": {},
     "execution_count": 57
    }
   ],
   "source": [
    "road_url = 'https://www.juso.go.kr/addrlink/addrLinkApi.do'\n",
    "ad_url = 'https://www.juso.go.kr/addrlink/addrLinkApi.do'\n",
    "url = f'{road_url}?confmKey={roadapi_key}&currentPage=1&countPerPage=1000&keyword=투썸플레이스&resultType=json'\n",
    "urlparse(url).geturl()"
   ]
  },
  {
   "cell_type": "code",
   "execution_count": 58,
   "metadata": {},
   "outputs": [
    {
     "output_type": "execute_result",
     "data": {
      "text/plain": [
       "{'results': {'common': {'errorMessage': '정상',\n",
       "   'countPerPage': '100',\n",
       "   'totalCount': '7',\n",
       "   'errorCode': '0',\n",
       "   'currentPage': '1'},\n",
       "  'juso': [{'detBdNmList': '',\n",
       "    'engAddr': '213, Sasang-ro, Sasang-gu, Busan',\n",
       "    'rn': '사상로',\n",
       "    'emdNm': '괘법동',\n",
       "    'zipNo': '46963',\n",
       "    'roadAddrPart2': ' (괘법동)',\n",
       "    'emdNo': '03',\n",
       "    'sggNm': '사상구',\n",
       "    'jibunAddr': '부산광역시 사상구 괘법동 526-39 다사랑한의원, 투썸플레이스',\n",
       "    'siNm': '부산광역시',\n",
       "    'roadAddrPart1': '부산광역시 사상구 사상로 213',\n",
       "    'bdNm': '다사랑한의원, 투썸플레이스',\n",
       "    'admCd': '2653010400',\n",
       "    'udrtYn': '0',\n",
       "    'lnbrMnnm': '526',\n",
       "    'roadAddr': '부산광역시 사상구 사상로 213 (괘법동)',\n",
       "    'lnbrSlno': '39',\n",
       "    'buldMnnm': '213',\n",
       "    'bdKdcd': '0',\n",
       "    'liNm': '',\n",
       "    'rnMgtSn': '265303132023',\n",
       "    'mtYn': '0',\n",
       "    'bdMgtSn': '2653010400105260039031548',\n",
       "    'buldSlno': '0'},\n",
       "   {'detBdNmList': '',\n",
       "    'engAddr': '81, Seochon-ro, Dong-gu, Daegu',\n",
       "    'rn': '서촌로',\n",
       "    'emdNm': '송정동',\n",
       "    'zipNo': '41000',\n",
       "    'roadAddrPart2': ' (송정동)',\n",
       "    'emdNo': '02',\n",
       "    'sggNm': '동구',\n",
       "    'jibunAddr': '대구광역시 동구 송정동 174 투썸플레이스',\n",
       "    'siNm': '대구광역시',\n",
       "    'roadAddrPart1': '대구광역시 동구 서촌로 81',\n",
       "    'bdNm': '투썸플레이스',\n",
       "    'admCd': '2714014300',\n",
       "    'udrtYn': '0',\n",
       "    'lnbrMnnm': '174',\n",
       "    'roadAddr': '대구광역시 동구 서촌로 81 (송정동)',\n",
       "    'lnbrSlno': '0',\n",
       "    'buldMnnm': '81',\n",
       "    'bdKdcd': '0',\n",
       "    'liNm': '',\n",
       "    'rnMgtSn': '271403142019',\n",
       "    'mtYn': '0',\n",
       "    'bdMgtSn': '2714014300101740000000001',\n",
       "    'buldSlno': '0'},\n",
       "   {'detBdNmList': '',\n",
       "    'engAddr': '1859, Bocheong-daero, Boeun-eup, Boeun-gun, Chungcheongbuk-do',\n",
       "    'rn': '보청대로',\n",
       "    'emdNm': '보은읍',\n",
       "    'zipNo': '28941',\n",
       "    'roadAddrPart2': '',\n",
       "    'emdNo': '01',\n",
       "    'sggNm': '보은군',\n",
       "    'jibunAddr': '충청북도 보은군 보은읍 교사리 26-5 투썸플레이스',\n",
       "    'siNm': '충청북도',\n",
       "    'roadAddrPart1': '충청북도 보은군 보은읍 보청대로 1859',\n",
       "    'bdNm': '투썸플레이스',\n",
       "    'admCd': '4372025024',\n",
       "    'udrtYn': '0',\n",
       "    'lnbrMnnm': '26',\n",
       "    'roadAddr': '충청북도 보은군 보은읍 보청대로 1859',\n",
       "    'lnbrSlno': '5',\n",
       "    'buldMnnm': '1859',\n",
       "    'bdKdcd': '0',\n",
       "    'liNm': '교사리',\n",
       "    'rnMgtSn': '437202014002',\n",
       "    'mtYn': '0',\n",
       "    'bdMgtSn': '4372025024100260005001360',\n",
       "    'buldSlno': '0'},\n",
       "   {'detBdNmList': '',\n",
       "    'engAddr': '2, Uhyeon-ro 87beon-gil, Jung-gu, Incheon',\n",
       "    'rn': '우현로87번길',\n",
       "    'emdNm': '인현동',\n",
       "    'zipNo': '22316',\n",
       "    'roadAddrPart2': ' (인현동)',\n",
       "    'emdNo': '01',\n",
       "    'sggNm': '중구',\n",
       "    'jibunAddr': '인천광역시 중구 인현동 20-11 안경박사,베스킨라빈스,투썸플레이스',\n",
       "    'siNm': '인천광역시',\n",
       "    'roadAddrPart1': '인천광역시 중구 우현로87번길 2',\n",
       "    'bdNm': '안경박사,베스킨라빈스,투썸플레이스',\n",
       "    'admCd': '2811013600',\n",
       "    'udrtYn': '0',\n",
       "    'lnbrMnnm': '20',\n",
       "    'roadAddr': '인천광역시 중구 우현로87번길 2 (인현동)',\n",
       "    'lnbrSlno': '11',\n",
       "    'buldMnnm': '2',\n",
       "    'bdKdcd': '0',\n",
       "    'liNm': '',\n",
       "    'rnMgtSn': '281104247245',\n",
       "    'mtYn': '0',\n",
       "    'bdMgtSn': '2811013600100200011211217',\n",
       "    'buldSlno': '0'},\n",
       "   {'detBdNmList': '공장',\n",
       "    'engAddr': '44, Bungmyeongongdan 2-gil, Buk-myeon, Jeongeup-si, Jeollabuk-do',\n",
       "    'rn': '북면공단2길',\n",
       "    'emdNm': '북면',\n",
       "    'zipNo': '56134',\n",
       "    'roadAddrPart2': '',\n",
       "    'emdNo': '01',\n",
       "    'sggNm': '정읍시',\n",
       "    'jibunAddr': '전라북도 정읍시 북면 한교리 37-18 투썸플레이스(주)',\n",
       "    'siNm': '전라북도',\n",
       "    'roadAddrPart1': '전라북도 정읍시 북면 북면공단2길 44',\n",
       "    'bdNm': '투썸플레이스(주)',\n",
       "    'admCd': '4518031021',\n",
       "    'udrtYn': '0',\n",
       "    'lnbrMnnm': '37',\n",
       "    'roadAddr': '전라북도 정읍시 북면 북면공단2길 44',\n",
       "    'lnbrSlno': '18',\n",
       "    'buldMnnm': '44',\n",
       "    'bdKdcd': '0',\n",
       "    'liNm': '한교리',\n",
       "    'rnMgtSn': '451804610364',\n",
       "    'mtYn': '0',\n",
       "    'bdMgtSn': '4518031021100370018035556',\n",
       "    'buldSlno': '0'},\n",
       "   {'detBdNmList': '',\n",
       "    'engAddr': '113, Cheonbyeonbuk-ro, Gochang-eup, Gochang-gun, Jeollabuk-do',\n",
       "    'rn': '천변북로',\n",
       "    'emdNm': '고창읍',\n",
       "    'zipNo': '56432',\n",
       "    'roadAddrPart2': '',\n",
       "    'emdNo': '01',\n",
       "    'sggNm': '고창군',\n",
       "    'jibunAddr': '전라북도 고창군 고창읍 교촌리 73-3 투썸플레이스고창점',\n",
       "    'siNm': '전라북도',\n",
       "    'roadAddrPart1': '전라북도 고창군 고창읍 천변북로 113',\n",
       "    'bdNm': '투썸플레이스고창점',\n",
       "    'admCd': '4579025022',\n",
       "    'udrtYn': '0',\n",
       "    'lnbrMnnm': '73',\n",
       "    'roadAddr': '전라북도 고창군 고창읍 천변북로 113',\n",
       "    'lnbrSlno': '3',\n",
       "    'buldMnnm': '113',\n",
       "    'bdKdcd': '0',\n",
       "    'liNm': '교촌리',\n",
       "    'rnMgtSn': '457903279059',\n",
       "    'mtYn': '0',\n",
       "    'bdMgtSn': '4579025022100730003028632',\n",
       "    'buldSlno': '0'},\n",
       "   {'detBdNmList': '',\n",
       "    'engAddr': '1492, Jinsam-ro, Sacheon-eup, Sacheon-si, Gyeongsangnam-do',\n",
       "    'rn': '진삼로',\n",
       "    'emdNm': '사천읍',\n",
       "    'zipNo': '52518',\n",
       "    'roadAddrPart2': '',\n",
       "    'emdNo': '05',\n",
       "    'sggNm': '사천시',\n",
       "    'jibunAddr': '경상남도 사천시 사천읍 수석리 251-21 투썸플레이스카페',\n",
       "    'siNm': '경상남도',\n",
       "    'roadAddrPart1': '경상남도 사천시 사천읍 진삼로 1492',\n",
       "    'bdNm': '투썸플레이스카페',\n",
       "    'admCd': '4824025024',\n",
       "    'udrtYn': '0',\n",
       "    'lnbrMnnm': '251',\n",
       "    'roadAddr': '경상남도 사천시 사천읍 진삼로 1492',\n",
       "    'lnbrSlno': '21',\n",
       "    'buldMnnm': '1492',\n",
       "    'bdKdcd': '0',\n",
       "    'liNm': '수석리',\n",
       "    'rnMgtSn': '482403334046',\n",
       "    'mtYn': '0',\n",
       "    'bdMgtSn': '4824025024102510021000001',\n",
       "    'buldSlno': '0'}]}}"
      ]
     },
     "metadata": {},
     "execution_count": 58
    }
   ],
   "source": [
    "results = requests.get(urlparse(url).geturl()).json()\n",
    "results\n"
   ]
  },
  {
   "cell_type": "code",
   "execution_count": 17,
   "metadata": {},
   "outputs": [
    {
     "output_type": "execute_result",
     "data": {
      "text/plain": [
       "6"
      ]
     },
     "metadata": {},
     "execution_count": 17
    }
   ],
   "source": [
    "addr_list = results['results']['juso']\n",
    "len(addr_list)"
   ]
  },
  {
   "cell_type": "code",
   "execution_count": 19,
   "metadata": {},
   "outputs": [
    {
     "output_type": "stream",
     "name": "stdout",
     "text": [
      "강서구청 서울특별시 강서구 화곡로 302 (화곡동)\n강서구청 서울특별시 강서구 화곡로44나길 72 (화곡동)\n강서구청 부산광역시 강서구 낙동북로 477 (대저1동)\n강서구청청소차고 서울특별시 강서구 남부순환로 208 (외발산동)\n강서구청가양동별관 서울특별시 강서구 양천로59길 38 (가양동)\n강서구청역 부산광역시 강서구 낙동북로 485 (대저1동)\n"
     ]
    }
   ],
   "source": [
    "for addr in addr_list:\n",
    "    print(addr['bdNm'],addr['roadAddr'])"
   ]
  },
  {
   "source": [
    "### 강서구청, 양천구청, 부천시청, 영등포구청,김포시청"
   ],
   "cell_type": "markdown",
   "metadata": {}
  },
  {
   "cell_type": "code",
   "execution_count": 41,
   "metadata": {},
   "outputs": [
    {
     "output_type": "execute_result",
     "data": {
      "text/plain": [
       "      지역        건물이름                      도로명 주소   우편번호\n",
       "0   강서구청        강서구청     서울특별시 강서구 화곡로 302 (화곡동)  07658\n",
       "1   양천구청        양천구청    서울특별시 양천구 목동동로 105 (신정동)  08095\n",
       "2   부천시청  부천시청/부천시의회      경기도 부천시 길주로 210-2 (중동)  14547\n",
       "3  영등포구청       영등포구청  서울특별시 영등포구 당산로 123 (당산동3가)  07260\n",
       "4   김포시청        김포시청        경기도 김포시 사우중로 1 (사우동)  10109"
      ],
      "text/html": "<div>\n<style scoped>\n    .dataframe tbody tr th:only-of-type {\n        vertical-align: middle;\n    }\n\n    .dataframe tbody tr th {\n        vertical-align: top;\n    }\n\n    .dataframe thead th {\n        text-align: right;\n    }\n</style>\n<table border=\"1\" class=\"dataframe\">\n  <thead>\n    <tr style=\"text-align: right;\">\n      <th></th>\n      <th>지역</th>\n      <th>건물이름</th>\n      <th>도로명 주소</th>\n      <th>우편번호</th>\n    </tr>\n  </thead>\n  <tbody>\n    <tr>\n      <th>0</th>\n      <td>강서구청</td>\n      <td>강서구청</td>\n      <td>서울특별시 강서구 화곡로 302 (화곡동)</td>\n      <td>07658</td>\n    </tr>\n    <tr>\n      <th>1</th>\n      <td>양천구청</td>\n      <td>양천구청</td>\n      <td>서울특별시 양천구 목동동로 105 (신정동)</td>\n      <td>08095</td>\n    </tr>\n    <tr>\n      <th>2</th>\n      <td>부천시청</td>\n      <td>부천시청/부천시의회</td>\n      <td>경기도 부천시 길주로 210-2 (중동)</td>\n      <td>14547</td>\n    </tr>\n    <tr>\n      <th>3</th>\n      <td>영등포구청</td>\n      <td>영등포구청</td>\n      <td>서울특별시 영등포구 당산로 123 (당산동3가)</td>\n      <td>07260</td>\n    </tr>\n    <tr>\n      <th>4</th>\n      <td>김포시청</td>\n      <td>김포시청</td>\n      <td>경기도 김포시 사우중로 1 (사우동)</td>\n      <td>10109</td>\n    </tr>\n  </tbody>\n</table>\n</div>"
     },
     "metadata": {},
     "execution_count": 41
    }
   ],
   "source": [
    "key_fd = open('roadapikey.txt')\n",
    "roadapi_key = key_fd.read(100)\n",
    "key_fd.close()\n",
    "bdNm = []\n",
    "roadAddr = []\n",
    "zipNo = []\n",
    "a = ['강서구청', '양천구청', '부천시청', '영등포구청','김포시청']\n",
    "for i in a:\n",
    "    road_url = 'https://www.juso.go.kr/addrlink/addrLinkApi.do'\n",
    "    url = f'{road_url}?confmKey={roadapi_key}&currentPage=1&countPerPage=10&keyword={i}&resultType=json'\n",
    "    urlparse(url).geturl()\n",
    "    results = requests.get(urlparse(url).geturl()).json()\n",
    "    addr_list = results['results']['juso']\n",
    "    if addr_list[0]['bdNm'] != i:\n",
    "        bdNm.append(addr_list[2]['bdNm'])\n",
    "    else :\n",
    "        bdNm.append(addr_list[0]['bdNm'])\n",
    "    roadAddr.append(addr_list[0]['roadAddr'])\n",
    "    zipNo.append(addr_list[0]['zipNo'])\n",
    "adress = pd.DataFrame({\n",
    "                        \"지역\":a,\n",
    "                        \"건물이름\" : bdNm,\n",
    "                        \"도로명 주소\" : roadAddr,\n",
    "                        \"우편번호\" : zipNo\n",
    "            })\n",
    "adress.index_name = \"index\"\n",
    "adress.to_csv(\"adress.csv\",sep=',',encoding='UTF-8',index=False)\n",
    "adress"
   ]
  },
  {
   "cell_type": "code",
   "execution_count": 42,
   "metadata": {},
   "outputs": [
    {
     "output_type": "execute_result",
     "data": {
      "text/plain": [
       "      지역        건물이름                      도로명 주소   우편번호\n",
       "0   강서구청        강서구청     서울특별시 강서구 화곡로 302 (화곡동)   7658\n",
       "1   양천구청        양천구청    서울특별시 양천구 목동동로 105 (신정동)   8095\n",
       "2   부천시청  부천시청/부천시의회      경기도 부천시 길주로 210-2 (중동)  14547\n",
       "3  영등포구청       영등포구청  서울특별시 영등포구 당산로 123 (당산동3가)   7260\n",
       "4   김포시청        김포시청        경기도 김포시 사우중로 1 (사우동)  10109"
      ],
      "text/html": "<div>\n<style scoped>\n    .dataframe tbody tr th:only-of-type {\n        vertical-align: middle;\n    }\n\n    .dataframe tbody tr th {\n        vertical-align: top;\n    }\n\n    .dataframe thead th {\n        text-align: right;\n    }\n</style>\n<table border=\"1\" class=\"dataframe\">\n  <thead>\n    <tr style=\"text-align: right;\">\n      <th></th>\n      <th>지역</th>\n      <th>건물이름</th>\n      <th>도로명 주소</th>\n      <th>우편번호</th>\n    </tr>\n  </thead>\n  <tbody>\n    <tr>\n      <th>0</th>\n      <td>강서구청</td>\n      <td>강서구청</td>\n      <td>서울특별시 강서구 화곡로 302 (화곡동)</td>\n      <td>7658</td>\n    </tr>\n    <tr>\n      <th>1</th>\n      <td>양천구청</td>\n      <td>양천구청</td>\n      <td>서울특별시 양천구 목동동로 105 (신정동)</td>\n      <td>8095</td>\n    </tr>\n    <tr>\n      <th>2</th>\n      <td>부천시청</td>\n      <td>부천시청/부천시의회</td>\n      <td>경기도 부천시 길주로 210-2 (중동)</td>\n      <td>14547</td>\n    </tr>\n    <tr>\n      <th>3</th>\n      <td>영등포구청</td>\n      <td>영등포구청</td>\n      <td>서울특별시 영등포구 당산로 123 (당산동3가)</td>\n      <td>7260</td>\n    </tr>\n    <tr>\n      <th>4</th>\n      <td>김포시청</td>\n      <td>김포시청</td>\n      <td>경기도 김포시 사우중로 1 (사우동)</td>\n      <td>10109</td>\n    </tr>\n  </tbody>\n</table>\n</div>"
     },
     "metadata": {},
     "execution_count": 42
    }
   ],
   "source": []
  },
  {
   "cell_type": "code",
   "execution_count": null,
   "metadata": {},
   "outputs": [],
   "source": []
  }
 ]
}