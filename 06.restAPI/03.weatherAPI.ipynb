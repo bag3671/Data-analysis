{
 "metadata": {
  "language_info": {
   "codemirror_mode": {
    "name": "ipython",
    "version": 3
   },
   "file_extension": ".py",
   "mimetype": "text/x-python",
   "name": "python",
   "nbconvert_exporter": "python",
   "pygments_lexer": "ipython3",
   "version": "3.8.3-final"
  },
  "orig_nbformat": 2,
  "kernelspec": {
   "name": "python3",
   "display_name": "Python 3"
  }
 },
 "nbformat": 4,
 "nbformat_minor": 2,
 "cells": [
  {
   "source": [
    "# OpenWeather API\n",
    "### 위도, 경도로 부터 현재 날씨 구하기"
   ],
   "cell_type": "markdown",
   "metadata": {}
  },
  {
   "cell_type": "code",
   "execution_count": 57,
   "metadata": {},
   "outputs": [],
   "source": [
    "import requests\n",
    "from urllib.parse import urlparse\n",
    "import pandas as pd"
   ]
  },
  {
   "cell_type": "code",
   "execution_count": 58,
   "metadata": {},
   "outputs": [],
   "source": [
    "key_fd = open('openweatherkey.txt',mode='r')\n",
    "openweather_key = key_fd.read(200)\n",
    "key_fd.close()"
   ]
  },
  {
   "cell_type": "code",
   "execution_count": 72,
   "metadata": {},
   "outputs": [],
   "source": [
    "lng = 126.849532173376\n",
    "lat = 37.5509655144007\n",
    "url = f'https://api.openweathermap.org/data/2.5/weather?lat={lat}&lon={lng}&units=metric&appid={openweather_key}'"
   ]
  },
  {
   "cell_type": "code",
   "execution_count": 73,
   "metadata": {},
   "outputs": [
    {
     "output_type": "execute_result",
     "data": {
      "text/plain": [
       "{'coord': {'lon': 126.85, 'lat': 37.55},\n",
       " 'weather': [{'id': 803,\n",
       "   'main': 'Clouds',\n",
       "   'description': 'broken clouds',\n",
       "   'icon': '04d'}],\n",
       " 'base': 'stations',\n",
       " 'main': {'temp': 3.06,\n",
       "  'feels_like': -1.73,\n",
       "  'temp_min': 2,\n",
       "  'temp_max': 4,\n",
       "  'pressure': 1019,\n",
       "  'humidity': 69},\n",
       " 'visibility': 10000,\n",
       " 'wind': {'speed': 3.6, 'deg': 350},\n",
       " 'clouds': {'all': 75},\n",
       " 'dt': 1605841936,\n",
       " 'sys': {'type': 1,\n",
       "  'id': 8105,\n",
       "  'country': 'KR',\n",
       "  'sunrise': 1605824263,\n",
       "  'sunset': 1605860344},\n",
       " 'timezone': 32400,\n",
       " 'id': 1838716,\n",
       " 'name': 'Bucheon-si',\n",
       " 'cod': 200}"
      ]
     },
     "metadata": {},
     "execution_count": 73
    }
   ],
   "source": [
    "results = requests.get(urlparse(url).geturl()).json()\n",
    "results"
   ]
  },
  {
   "cell_type": "code",
   "execution_count": 74,
   "metadata": {},
   "outputs": [
    {
     "output_type": "execute_result",
     "data": {
      "text/plain": [
       "({'id': 803, 'main': 'Clouds', 'description': 'broken clouds', 'icon': '04d'},\n",
       " {'temp': 3.06,\n",
       "  'feels_like': -1.73,\n",
       "  'temp_min': 2,\n",
       "  'temp_max': 4,\n",
       "  'pressure': 1019,\n",
       "  'humidity': 69})"
      ]
     },
     "metadata": {},
     "execution_count": 74
    }
   ],
   "source": [
    "weather = results['weather'][0]\n",
    "main = results['main']\n",
    "\n",
    "weather,main"
   ]
  },
  {
   "cell_type": "code",
   "execution_count": 75,
   "metadata": {},
   "outputs": [
    {
     "output_type": "stream",
     "name": "stdout",
     "text": [
      "Clouds broken clouds\n"
     ]
    }
   ],
   "source": [
    "print(weather['main'],weather['description'])"
   ]
  },
  {
   "cell_type": "code",
   "execution_count": 79,
   "metadata": {},
   "outputs": [],
   "source": [
    "tmp = main['temp']\n",
    "tmp_min = main['temp_min']\n",
    "tmp_max = main['temp_max']"
   ]
  },
  {
   "cell_type": "code",
   "execution_count": 80,
   "metadata": {},
   "outputs": [
    {
     "output_type": "execute_result",
     "data": {
      "text/plain": [
       "3.1"
      ]
     },
     "metadata": {},
     "execution_count": 80
    }
   ],
   "source": [
    "tmp = round(float(tmp),1)\n",
    "tmp"
   ]
  },
  {
   "cell_type": "code",
   "execution_count": 83,
   "metadata": {},
   "outputs": [
    {
     "output_type": "execute_result",
     "data": {
      "text/plain": [
       "      지역        건물이름                      도로명 주소   우편번호         lng        lat\n",
       "0   강서구청        강서구청     서울특별시 강서구 화곡로 302 (화곡동)   7658  126.849532  37.550966\n",
       "1   양천구청        양천구청    서울특별시 양천구 목동동로 105 (신정동)   8095  126.866543  37.517075\n",
       "2   부천시청  부천시청/부천시의회      경기도 부천시 길주로 210-2 (중동)  14547  126.765004  37.502277\n",
       "3  영등포구청       영등포구청  서울특별시 영등포구 당산로 123 (당산동3가)   7260  126.896367  37.525963\n",
       "4   김포시청        김포시청        경기도 김포시 사우중로 1 (사우동)  10109  126.715717  37.615190"
      ],
      "text/html": "<div>\n<style scoped>\n    .dataframe tbody tr th:only-of-type {\n        vertical-align: middle;\n    }\n\n    .dataframe tbody tr th {\n        vertical-align: top;\n    }\n\n    .dataframe thead th {\n        text-align: right;\n    }\n</style>\n<table border=\"1\" class=\"dataframe\">\n  <thead>\n    <tr style=\"text-align: right;\">\n      <th></th>\n      <th>지역</th>\n      <th>건물이름</th>\n      <th>도로명 주소</th>\n      <th>우편번호</th>\n      <th>lng</th>\n      <th>lat</th>\n    </tr>\n  </thead>\n  <tbody>\n    <tr>\n      <th>0</th>\n      <td>강서구청</td>\n      <td>강서구청</td>\n      <td>서울특별시 강서구 화곡로 302 (화곡동)</td>\n      <td>7658</td>\n      <td>126.849532</td>\n      <td>37.550966</td>\n    </tr>\n    <tr>\n      <th>1</th>\n      <td>양천구청</td>\n      <td>양천구청</td>\n      <td>서울특별시 양천구 목동동로 105 (신정동)</td>\n      <td>8095</td>\n      <td>126.866543</td>\n      <td>37.517075</td>\n    </tr>\n    <tr>\n      <th>2</th>\n      <td>부천시청</td>\n      <td>부천시청/부천시의회</td>\n      <td>경기도 부천시 길주로 210-2 (중동)</td>\n      <td>14547</td>\n      <td>126.765004</td>\n      <td>37.502277</td>\n    </tr>\n    <tr>\n      <th>3</th>\n      <td>영등포구청</td>\n      <td>영등포구청</td>\n      <td>서울특별시 영등포구 당산로 123 (당산동3가)</td>\n      <td>7260</td>\n      <td>126.896367</td>\n      <td>37.525963</td>\n    </tr>\n    <tr>\n      <th>4</th>\n      <td>김포시청</td>\n      <td>김포시청</td>\n      <td>경기도 김포시 사우중로 1 (사우동)</td>\n      <td>10109</td>\n      <td>126.715717</td>\n      <td>37.615190</td>\n    </tr>\n  </tbody>\n</table>\n</div>"
     },
     "metadata": {},
     "execution_count": 83
    }
   ],
   "source": [
    "df = pd.read_csv(\"address2.csv\")\n",
    "df\n"
   ]
  },
  {
   "cell_type": "code",
   "execution_count": 85,
   "metadata": {},
   "outputs": [],
   "source": [
    "weather_list = []; desc_list = []; temp_list = []\n",
    "for i in df.index:\n",
    "    url = f'https://api.openweathermap.org/data/2.5/weather?lat={df.lat[i]}&lon={df.lng[i]}&units=metric&appid={openweather_key}'\n",
    "    results = requests.get(urlparse(url).geturl()).json()\n",
    "    weather = results['weather'][0]\n",
    "    main = results['main']\n",
    "    tmp = main['temp']\n",
    "    tmp = round(float(tmp),1)\n",
    "    tmp_min = main['temp_min']\n",
    "    tmp_max = main['temp_max']\n",
    "    weather_list.append(weather['main'])\n",
    "    desc_list.append(weather['description'])\n",
    "    temp_list.append(f'{tmp}/{tmp_min}/{tmp_max}')\n"
   ]
  },
  {
   "cell_type": "code",
   "execution_count": 87,
   "metadata": {},
   "outputs": [
    {
     "output_type": "execute_result",
     "data": {
      "text/plain": [
       "      지역        건물이름                      도로명 주소   우편번호         lng  \\\n",
       "0   강서구청        강서구청     서울특별시 강서구 화곡로 302 (화곡동)   7658  126.849532   \n",
       "1   양천구청        양천구청    서울특별시 양천구 목동동로 105 (신정동)   8095  126.866543   \n",
       "2   부천시청  부천시청/부천시의회      경기도 부천시 길주로 210-2 (중동)  14547  126.765004   \n",
       "3  영등포구청       영등포구청  서울특별시 영등포구 당산로 123 (당산동3가)   7260  126.896367   \n",
       "4   김포시청        김포시청        경기도 김포시 사우중로 1 (사우동)  10109  126.715717   \n",
       "\n",
       "         lat weather             desc     temp  \n",
       "0  37.550966  Clouds    broken clouds  3.1/2/4  \n",
       "1  37.517075  Clouds    broken clouds  3.9/3/5  \n",
       "2  37.502277  Clouds    broken clouds  3.0/2/4  \n",
       "3  37.525963  Clouds  overcast clouds  3.9/3/5  \n",
       "4  37.615190  Clouds    broken clouds  3.0/2/4  "
      ],
      "text/html": "<div>\n<style scoped>\n    .dataframe tbody tr th:only-of-type {\n        vertical-align: middle;\n    }\n\n    .dataframe tbody tr th {\n        vertical-align: top;\n    }\n\n    .dataframe thead th {\n        text-align: right;\n    }\n</style>\n<table border=\"1\" class=\"dataframe\">\n  <thead>\n    <tr style=\"text-align: right;\">\n      <th></th>\n      <th>지역</th>\n      <th>건물이름</th>\n      <th>도로명 주소</th>\n      <th>우편번호</th>\n      <th>lng</th>\n      <th>lat</th>\n      <th>weather</th>\n      <th>desc</th>\n      <th>temp</th>\n    </tr>\n  </thead>\n  <tbody>\n    <tr>\n      <th>0</th>\n      <td>강서구청</td>\n      <td>강서구청</td>\n      <td>서울특별시 강서구 화곡로 302 (화곡동)</td>\n      <td>7658</td>\n      <td>126.849532</td>\n      <td>37.550966</td>\n      <td>Clouds</td>\n      <td>broken clouds</td>\n      <td>3.1/2/4</td>\n    </tr>\n    <tr>\n      <th>1</th>\n      <td>양천구청</td>\n      <td>양천구청</td>\n      <td>서울특별시 양천구 목동동로 105 (신정동)</td>\n      <td>8095</td>\n      <td>126.866543</td>\n      <td>37.517075</td>\n      <td>Clouds</td>\n      <td>broken clouds</td>\n      <td>3.9/3/5</td>\n    </tr>\n    <tr>\n      <th>2</th>\n      <td>부천시청</td>\n      <td>부천시청/부천시의회</td>\n      <td>경기도 부천시 길주로 210-2 (중동)</td>\n      <td>14547</td>\n      <td>126.765004</td>\n      <td>37.502277</td>\n      <td>Clouds</td>\n      <td>broken clouds</td>\n      <td>3.0/2/4</td>\n    </tr>\n    <tr>\n      <th>3</th>\n      <td>영등포구청</td>\n      <td>영등포구청</td>\n      <td>서울특별시 영등포구 당산로 123 (당산동3가)</td>\n      <td>7260</td>\n      <td>126.896367</td>\n      <td>37.525963</td>\n      <td>Clouds</td>\n      <td>overcast clouds</td>\n      <td>3.9/3/5</td>\n    </tr>\n    <tr>\n      <th>4</th>\n      <td>김포시청</td>\n      <td>김포시청</td>\n      <td>경기도 김포시 사우중로 1 (사우동)</td>\n      <td>10109</td>\n      <td>126.715717</td>\n      <td>37.615190</td>\n      <td>Clouds</td>\n      <td>broken clouds</td>\n      <td>3.0/2/4</td>\n    </tr>\n  </tbody>\n</table>\n</div>"
     },
     "metadata": {},
     "execution_count": 87
    }
   ],
   "source": [
    "df['weather'] = weather_list\n",
    "df['desc'] = desc_list\n",
    "df['temp'] = temp_list\n",
    "df"
   ]
  },
  {
   "cell_type": "code",
   "execution_count": 88,
   "metadata": {},
   "outputs": [],
   "source": [
    "df.to_csv(\"address3.csv\",sep=',',index=False)"
   ]
  },
  {
   "cell_type": "code",
   "execution_count": null,
   "metadata": {},
   "outputs": [],
   "source": []
  }
 ]
}