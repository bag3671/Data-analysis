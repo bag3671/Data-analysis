{
 "metadata": {
  "language_info": {
   "codemirror_mode": {
    "name": "ipython",
    "version": 3
   },
   "file_extension": ".py",
   "mimetype": "text/x-python",
   "name": "python",
   "nbconvert_exporter": "python",
   "pygments_lexer": "ipython3",
   "version": "3.8.3-final"
  },
  "orig_nbformat": 2,
  "kernelspec": {
   "name": "python3",
   "display_name": "Python 3"
  }
 },
 "nbformat": 4,
 "nbformat_minor": 2,
 "cells": [
  {
   "cell_type": "code",
   "execution_count": 258,
   "metadata": {},
   "outputs": [],
   "source": [
    "from bs4 import BeautifulSoup\n",
    "import urllib.request\n",
    "import urllib.parse\n",
    "import pandas as pd\n",
    "import requests\n",
    "import numpy as np"
   ]
  },
  {
   "cell_type": "code",
   "execution_count": 260,
   "metadata": {},
   "outputs": [],
   "source": [
    "# paginate = soup.find(\"div\",{\"class\":\"paginate\"})\n",
    "# max_page = list(paginate.get_text().replace(\"\\n\",\" \").split())\n",
    "# if '>' not in max_page:\n",
    "#     print(\"대따\")"
   ]
  },
  {
   "cell_type": "code",
   "execution_count": 265,
   "metadata": {},
   "outputs": [
    {
     "output_type": "stream",
     "name": "stdout",
     "text": [
      "16\n"
     ]
    }
   ],
   "source": [
    "#끝 페이지까지 가는 구현 부분입니다\n",
    "page = 1\n",
    "while 1:\n",
    "    url = f\"https://www.hanbit.co.kr/academy/books/new_book_list.html?page={page}&cate_cd=&srt=&searchKey=&keyWord=\"\n",
    "    with urllib.request.urlopen(url) as res:\n",
    "        html = res.read()\n",
    "        soup = BeautifulSoup(html,'html.parser')\n",
    "    paginate = soup.find(\"div\",{\"class\":\"paginate\"})\n",
    "    page_list = list(paginate.get_text().replace(\"\\n\",\" \").split())\n",
    "    if '>' not in page_list:\n",
    "        break\n",
    "    page = page + 10\n",
    "max_page = int(page_list[-1])\n",
    "print(max_page)"
   ]
  },
  {
   "cell_type": "code",
   "execution_count": 266,
   "metadata": {},
   "outputs": [
    {
     "output_type": "execute_result",
     "data": {
      "text/plain": [
       "                                                 title  \\\n",
       "1                                          포르잔 C++ 에센셜   \n",
       "2             IT CookBook, 액세스 2019로 배우는 데이터베이스 기초와 실습   \n",
       "3                                          포르잔 C++ 바이블   \n",
       "4                                        딥러닝을 위한 선형대수학   \n",
       "5              IT CookBook, 오라클로 배우는 데이터베이스 개론과 실습(2판)   \n",
       "..                                                 ...   \n",
       "297                      문제해결력을 키우는 이공계 글쓰기 : 발표와 토론까지   \n",
       "298                진로개발과 직업세계 : 대학생과 청년층을 위한 진로, 취업지침서   \n",
       "299                                 Essential Calculus   \n",
       "300  IT CookBook, 디지털 통신 시스템 : Digital Communicatio...   \n",
       "301     IT CookBook, 운영체제론 : Operating Systems, 3rd Ed   \n",
       "\n",
       "                                        writer    price  \n",
       "1    Behrouz A. Forouzan , Richard F. Gilberg   32,000원  \n",
       "2                                         김지연   28,000원  \n",
       "3    Behrouz A. Forouzan , Richard F. Gilberg   45,000원  \n",
       "4                              Gilbert Strang   38,000원  \n",
       "5                             박우창 , 남송휘 , 이현룡   29,000원  \n",
       "..                                         ...      ...  \n",
       "297                                       한성우   18,000원  \n",
       "298                     서일수 , 김도균 , 김지혜 , 이정배   20,000원  \n",
       "299                             James Stewart   36,000원  \n",
       "300                                 정호영 , 임승각   25,000원  \n",
       "301                    하비 디텔 , 폴 디텔 , 데이빗 쇼픈스   32,000원  \n",
       "\n",
       "[301 rows x 3 columns]"
      ],
      "text/html": "<div>\n<style scoped>\n    .dataframe tbody tr th:only-of-type {\n        vertical-align: middle;\n    }\n\n    .dataframe tbody tr th {\n        vertical-align: top;\n    }\n\n    .dataframe thead th {\n        text-align: right;\n    }\n</style>\n<table border=\"1\" class=\"dataframe\">\n  <thead>\n    <tr style=\"text-align: right;\">\n      <th></th>\n      <th>title</th>\n      <th>writer</th>\n      <th>price</th>\n    </tr>\n  </thead>\n  <tbody>\n    <tr>\n      <th>1</th>\n      <td>포르잔 C++ 에센셜</td>\n      <td>Behrouz A. Forouzan , Richard F. Gilberg</td>\n      <td>32,000원</td>\n    </tr>\n    <tr>\n      <th>2</th>\n      <td>IT CookBook, 액세스 2019로 배우는 데이터베이스 기초와 실습</td>\n      <td>김지연</td>\n      <td>28,000원</td>\n    </tr>\n    <tr>\n      <th>3</th>\n      <td>포르잔 C++ 바이블</td>\n      <td>Behrouz A. Forouzan , Richard F. Gilberg</td>\n      <td>45,000원</td>\n    </tr>\n    <tr>\n      <th>4</th>\n      <td>딥러닝을 위한 선형대수학</td>\n      <td>Gilbert Strang</td>\n      <td>38,000원</td>\n    </tr>\n    <tr>\n      <th>5</th>\n      <td>IT CookBook, 오라클로 배우는 데이터베이스 개론과 실습(2판)</td>\n      <td>박우창 , 남송휘 , 이현룡</td>\n      <td>29,000원</td>\n    </tr>\n    <tr>\n      <th>...</th>\n      <td>...</td>\n      <td>...</td>\n      <td>...</td>\n    </tr>\n    <tr>\n      <th>297</th>\n      <td>문제해결력을 키우는 이공계 글쓰기 : 발표와 토론까지</td>\n      <td>한성우</td>\n      <td>18,000원</td>\n    </tr>\n    <tr>\n      <th>298</th>\n      <td>진로개발과 직업세계 : 대학생과 청년층을 위한 진로, 취업지침서</td>\n      <td>서일수 , 김도균 , 김지혜 , 이정배</td>\n      <td>20,000원</td>\n    </tr>\n    <tr>\n      <th>299</th>\n      <td>Essential Calculus</td>\n      <td>James Stewart</td>\n      <td>36,000원</td>\n    </tr>\n    <tr>\n      <th>300</th>\n      <td>IT CookBook, 디지털 통신 시스템 : Digital Communicatio...</td>\n      <td>정호영 , 임승각</td>\n      <td>25,000원</td>\n    </tr>\n    <tr>\n      <th>301</th>\n      <td>IT CookBook, 운영체제론 : Operating Systems, 3rd Ed</td>\n      <td>하비 디텔 , 폴 디텔 , 데이빗 쇼픈스</td>\n      <td>32,000원</td>\n    </tr>\n  </tbody>\n</table>\n<p>301 rows × 3 columns</p>\n</div>"
     },
     "metadata": {},
     "execution_count": 266
    }
   ],
   "source": [
    "for page in range(max_page):\n",
    "    basepage = 1+page\n",
    "    url = f\"https://www.hanbit.co.kr/academy/books/new_book_list.html?page={basepage}&cate_cd=&srt=&searchKey=&keyWord=\"\n",
    "    with urllib.request.urlopen(url) as res:\n",
    "        html = res.read()\n",
    "        soup = BeautifulSoup(html,'html.parser')\n",
    "    #1페이지일경우 리스트 초기화\n",
    "    if basepage == 1:\n",
    "        titles=[]\n",
    "        writers=[] \n",
    "        prices=[]\n",
    "    #class info로 이름과 저자를 동시에 가져옴\n",
    "    souce = soup.find_all(\"div\",{\"class\":\"info\"})\n",
    "    price = soup.find_all(\"span\",{\"class\":\"price\"})\n",
    "    for i in souce:\n",
    "        title_writer = i.get_text().split('\\n')\n",
    "        titles.append(title_writer[1])\n",
    "        writers.append(title_writer[2])\n",
    "    for i in price:\n",
    "        prices.append(i.get_text())\n",
    "book = pd.DataFrame({\n",
    "            \"title\":titles,\n",
    "            \"writer\":writers,\n",
    "            \"price\":prices,},\n",
    "            index=np.arange(1,len(titles)+1))\n",
    "            #index부분이 1부터 시작\n",
    "book"
   ]
  },
  {
   "cell_type": "code",
   "execution_count": 269,
   "metadata": {},
   "outputs": [
    {
     "output_type": "execute_result",
     "data": {
      "text/plain": [
       "'/academy/books/book_view.html?p_code=B4797877052'"
      ]
     },
     "metadata": {},
     "execution_count": 269
    }
   ],
   "source": [
    "page=1\n",
    "url = f\"https://www.hanbit.co.kr/academy/books/new_book_list.html?page={page}&cate_cd=&srt=&searchKey=&keyWord=\"\n",
    "with urllib.request.urlopen(url) as res:\n",
    "    html = res.read()\n",
    "    soup = BeautifulSoup(html,'html.parser')\n",
    "link = soup.select_one('span.pop_quick_menu > a').attrs['href']\n",
    "link"
   ]
  },
  {
   "cell_type": "code",
   "execution_count": null,
   "metadata": {},
   "outputs": [],
   "source": []
  }
 ]
}