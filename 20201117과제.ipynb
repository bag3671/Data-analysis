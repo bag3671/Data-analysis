{
 "metadata": {
  "language_info": {
   "codemirror_mode": {
    "name": "ipython",
    "version": 3
   },
   "file_extension": ".py",
   "mimetype": "text/x-python",
   "name": "python",
   "nbconvert_exporter": "python",
   "pygments_lexer": "ipython3",
   "version": "3.8.5-final"
  },
  "orig_nbformat": 2,
  "kernelspec": {
   "name": "python3",
   "display_name": "Python 3"
  }
 },
 "nbformat": 4,
 "nbformat_minor": 2,
 "cells": [
  {
   "cell_type": "code",
   "execution_count": 1,
   "metadata": {},
   "outputs": [],
   "source": [
    "from bs4 import BeautifulSoup\n",
    "import urllib.request\n",
    "import urllib.parse\n",
    "import pandas as pd\n",
    "import requests\n",
    "import numpy as np\n",
    "from tqdm import tqdm_notebook "
   ]
  },
  {
   "cell_type": "code",
   "execution_count": 8,
   "metadata": {},
   "outputs": [],
   "source": [
    "# paginate = soup.find(\"div\",{\"class\":\"paginate\"})\n",
    "# max_page = list(paginate.get_text().replace(\"\\n\",\" \").split())\n",
    "# if '>' not in max_page:\n",
    "#     print(\"대따\")"
   ]
  },
  {
   "cell_type": "code",
   "execution_count": 2,
   "metadata": {},
   "outputs": [
    {
     "output_type": "stream",
     "name": "stdout",
     "text": [
      "16\n"
     ]
    }
   ],
   "source": [
    "#끝 페이지까지 가는 구현 부분입니다\n",
    "page = 1\n",
    "while 1:\n",
    "    url = f\"https://www.hanbit.co.kr/academy/books/new_book_list.html?page={page}&cate_cd=&srt=&searchKey=&keyWord=\"\n",
    "    with urllib.request.urlopen(url) as res:\n",
    "        html = res.read()\n",
    "        soup = BeautifulSoup(html,'html.parser')\n",
    "    paginate = soup.find(\"div\",{\"class\":\"paginate\"})\n",
    "    page_list = list(paginate.get_text().replace(\"\\n\",\" \").split())\n",
    "    if '>' not in page_list:\n",
    "        break\n",
    "    page = page + 10\n",
    "max_page = int(page_list[-1])\n",
    "print(max_page)"
   ]
  },
  {
   "cell_type": "code",
   "execution_count": 3,
   "metadata": {},
   "outputs": [
    {
     "output_type": "display_data",
     "data": {
      "text/plain": "HBox(children=(HTML(value=''), FloatProgress(value=0.0, max=16.0), HTML(value='')))",
      "application/vnd.jupyter.widget-view+json": {
       "version_major": 2,
       "version_minor": 0,
       "model_id": "fddedbf84ee94cea8c8d66a13b1091a8"
      }
     },
     "metadata": {}
    },
    {
     "output_type": "stream",
     "name": "stdout",
     "text": [
      "\n"
     ]
    },
    {
     "output_type": "execute_result",
     "data": {
      "text/plain": [
       "                                                 title  \\\n",
       "1                                   쉽게 배우는 자바 프로그래밍 2판   \n",
       "2                                          포르잔 C++ 에센셜   \n",
       "3             IT CookBook, 액세스 2019로 배우는 데이터베이스 기초와 실습   \n",
       "4                                          포르잔 C++ 바이블   \n",
       "5                                        딥러닝을 위한 선형대수학   \n",
       "..                                                 ...   \n",
       "298                      문제해결력을 키우는 이공계 글쓰기 : 발표와 토론까지   \n",
       "299                진로개발과 직업세계 : 대학생과 청년층을 위한 진로, 취업지침서   \n",
       "300                                 Essential Calculus   \n",
       "301  IT CookBook, 디지털 통신 시스템 : Digital Communicatio...   \n",
       "302     IT CookBook, 운영체제론 : Operating Systems, 3rd Ed   \n",
       "\n",
       "                                        writer  price  \n",
       "1                                         우종정   29000  \n",
       "2    Behrouz A. Forouzan , Richard F. Gilberg   32000  \n",
       "3                                         김지연   28000  \n",
       "4    Behrouz A. Forouzan , Richard F. Gilberg   45000  \n",
       "5                              Gilbert Strang   38000  \n",
       "..                                         ...    ...  \n",
       "298                                       한성우   18000  \n",
       "299                     서일수 , 김도균 , 김지혜 , 이정배   20000  \n",
       "300                             James Stewart   36000  \n",
       "301                                 정호영 , 임승각   25000  \n",
       "302                    하비 디텔 , 폴 디텔 , 데이빗 쇼픈스   32000  \n",
       "\n",
       "[302 rows x 3 columns]"
      ],
      "text/html": "<div>\n<style scoped>\n    .dataframe tbody tr th:only-of-type {\n        vertical-align: middle;\n    }\n\n    .dataframe tbody tr th {\n        vertical-align: top;\n    }\n\n    .dataframe thead th {\n        text-align: right;\n    }\n</style>\n<table border=\"1\" class=\"dataframe\">\n  <thead>\n    <tr style=\"text-align: right;\">\n      <th></th>\n      <th>title</th>\n      <th>writer</th>\n      <th>price</th>\n    </tr>\n  </thead>\n  <tbody>\n    <tr>\n      <th>1</th>\n      <td>쉽게 배우는 자바 프로그래밍 2판</td>\n      <td>우종정</td>\n      <td>29000</td>\n    </tr>\n    <tr>\n      <th>2</th>\n      <td>포르잔 C++ 에센셜</td>\n      <td>Behrouz A. Forouzan , Richard F. Gilberg</td>\n      <td>32000</td>\n    </tr>\n    <tr>\n      <th>3</th>\n      <td>IT CookBook, 액세스 2019로 배우는 데이터베이스 기초와 실습</td>\n      <td>김지연</td>\n      <td>28000</td>\n    </tr>\n    <tr>\n      <th>4</th>\n      <td>포르잔 C++ 바이블</td>\n      <td>Behrouz A. Forouzan , Richard F. Gilberg</td>\n      <td>45000</td>\n    </tr>\n    <tr>\n      <th>5</th>\n      <td>딥러닝을 위한 선형대수학</td>\n      <td>Gilbert Strang</td>\n      <td>38000</td>\n    </tr>\n    <tr>\n      <th>...</th>\n      <td>...</td>\n      <td>...</td>\n      <td>...</td>\n    </tr>\n    <tr>\n      <th>298</th>\n      <td>문제해결력을 키우는 이공계 글쓰기 : 발표와 토론까지</td>\n      <td>한성우</td>\n      <td>18000</td>\n    </tr>\n    <tr>\n      <th>299</th>\n      <td>진로개발과 직업세계 : 대학생과 청년층을 위한 진로, 취업지침서</td>\n      <td>서일수 , 김도균 , 김지혜 , 이정배</td>\n      <td>20000</td>\n    </tr>\n    <tr>\n      <th>300</th>\n      <td>Essential Calculus</td>\n      <td>James Stewart</td>\n      <td>36000</td>\n    </tr>\n    <tr>\n      <th>301</th>\n      <td>IT CookBook, 디지털 통신 시스템 : Digital Communicatio...</td>\n      <td>정호영 , 임승각</td>\n      <td>25000</td>\n    </tr>\n    <tr>\n      <th>302</th>\n      <td>IT CookBook, 운영체제론 : Operating Systems, 3rd Ed</td>\n      <td>하비 디텔 , 폴 디텔 , 데이빗 쇼픈스</td>\n      <td>32000</td>\n    </tr>\n  </tbody>\n</table>\n<p>302 rows × 3 columns</p>\n</div>"
     },
     "metadata": {},
     "execution_count": 3
    }
   ],
   "source": [
    "for page in tqdm_notebook(range(max_page)):\n",
    "    basepage = 1+page\n",
    "    url = f\"https://www.hanbit.co.kr/academy/books/new_book_list.html?page={basepage}&cate_cd=&srt=&searchKey=&keyWord=\"\n",
    "    with urllib.request.urlopen(url) as res:\n",
    "        html = res.read()\n",
    "        soup = BeautifulSoup(html,'html.parser')\n",
    "    #1페이지일경우 리스트 초기화\n",
    "    if basepage == 1:\n",
    "        titles=[]\n",
    "        writers=[] \n",
    "        prices=[]\n",
    "    #class info로 이름과 저자를 동시에 가져옴\n",
    "    souce = soup.find_all(\"div\",{\"class\":\"info\"})\n",
    "    price = soup.find_all(\"span\",{\"class\":\"price\"})\n",
    "    for i in souce:\n",
    "        title_writer = i.get_text().split('\\n')\n",
    "        titles.append(title_writer[1])\n",
    "        writers.append(title_writer[2])\n",
    "    for i in price:\n",
    "        prices.append(int(i.get_text()[:-1].replace(\",\",\"\")))\n",
    "book = pd.DataFrame({\n",
    "            \"title\":titles,\n",
    "            \"writer\":writers,\n",
    "            \"price\":prices,},\n",
    "            index=np.arange(1,len(titles)+1))\n",
    "            #index부분이 1부터 시작\n",
    "book"
   ]
  },
  {
   "cell_type": "code",
   "execution_count": 14,
   "metadata": {},
   "outputs": [],
   "source": [
    "book.to_csv(\"과제.csv\")"
   ]
  },
  {
   "cell_type": "code",
   "execution_count": 85,
   "metadata": {},
   "outputs": [
    {
     "output_type": "display_data",
     "data": {
      "text/plain": "HBox(children=(FloatProgress(value=0.0, max=4.0), HTML(value='')))",
      "application/vnd.jupyter.widget-view+json": {
       "version_major": 2,
       "version_minor": 0,
       "model_id": "30d98e769fa34c00bcc3f64c90fcf3ae"
      }
     },
     "metadata": {}
    },
    {
     "output_type": "stream",
     "name": "stdout",
     "text": [
      "\n[<li><strong>저자 : </strong><span>Gilbert Strang </span></li>, <li><strong>번역 : </strong><span>부산대학교 산업수학센터(FFMIMC) </span></li>, <li><strong>출간 : </strong><span>2020-08-05</span></li>, <li><strong>페이지 : </strong><span>560 쪽</span></li>, <li><strong>ISBN : </strong><span>9791156644972</span></li>, <li><strong>물류코드 :</strong><span>4497</span></li>]\n"
     ]
    }
   ],
   "source": [
    "trans=[]\n",
    "dates=[]\n",
    "pages = []\n",
    "isbns = []\n",
    "Logistics_code=[]\n",
    "page=1\n",
    "url = f\"https://www.hanbit.co.kr/academy/books/new_book_list.html?page={page}&cate_cd=&srt=&searchKey=&keyWord=\"\n",
    "with urllib.request.urlopen(url) as res:\n",
    "    html = res.read()\n",
    "    soup = BeautifulSoup(html,'html.parser')\n",
    "link = soup.select('span.pop_quick_menu > a[href]')[0::2]\n",
    "for i in tqdm_notebook(range(len(link))[:4]):\n",
    "    han_url = \"https://www.hanbit.co.kr/\"\n",
    "    detail_url = link[i].attrs['href']\n",
    "    with urllib.request.urlopen(han_url + detail_url) as res:\n",
    "        html = res.read()\n",
    "        detail = BeautifulSoup(html,'html.parser')\n",
    "    detail_list = detail.select(\"ul.info_list > li\")\n",
    "    if detail_list[1].get_text()[:3].find(\"번역\") >= 0:\n",
    "        trans.append(detail_list[1].get_text()[5:])\n",
    "        dates.append(detail_list[2].get_text()[5:])\n",
    "        pages.append(detail_list[3].get_text()[5:-1])\n",
    "        isbns.append(detail_list[4].get_text()[7:])\n",
    "        Logistics_code.append(detail_list[5].get_text()[6:])\n",
    "    else:\n",
    "        trans.append(' ')\n",
    "        dates.append(detail_list[1].get_text()[5:])\n",
    "        pages.append(detail_list[2].get_text()[5:-1])\n",
    "        isbns.append(detail_list[3].get_text()[7:])\n",
    "        Logistics_code.append(detail_list[4].get_text()[6:])\n",
    "        trans.append(' ')\n",
    "    # trans.append(detail_list[1].get_text()[5:] if detail_list[1].get_text()[:3]\n",
    "    #dates.append(detail_list[2].get_text()[5:] if detail_list[1].get_text()[:3].find(\"출간\") >= 0 else ' ')\n",
    "print(detail_list)\n",
    "    # print(detail_list[1].get_text())\n",
    "    # print(detail_list[0].find(\"span\").get_text())"
   ]
  },
  {
   "cell_type": "code",
   "execution_count": 106,
   "metadata": {
    "tags": []
   },
   "outputs": [
    {
     "output_type": "display_data",
     "data": {
      "text/plain": "HBox(children=(FloatProgress(value=0.0, max=16.0), HTML(value='')))",
      "application/vnd.jupyter.widget-view+json": {
       "version_major": 2,
       "version_minor": 0,
       "model_id": "2c5532a392644d35b3bd23ddcefdc481"
      }
     },
     "metadata": {}
    },
    {
     "output_type": "stream",
     "name": "stdout",
     "text": [
      "\n"
     ]
    },
    {
     "output_type": "execute_result",
     "data": {
      "text/plain": [
       "                                                 title  \\\n",
       "1                                          포르잔 C++ 에센셜   \n",
       "2             IT CookBook, 액세스 2019로 배우는 데이터베이스 기초와 실습   \n",
       "3                                          포르잔 C++ 바이블   \n",
       "4                                        딥러닝을 위한 선형대수학   \n",
       "5              IT CookBook, 오라클로 배우는 데이터베이스 개론과 실습(2판)   \n",
       "..                                                 ...   \n",
       "297                      문제해결력을 키우는 이공계 글쓰기 : 발표와 토론까지   \n",
       "298                진로개발과 직업세계 : 대학생과 청년층을 위한 진로, 취업지침서   \n",
       "299                                 Essential Calculus   \n",
       "300  IT CookBook, 디지털 통신 시스템 : Digital Communicatio...   \n",
       "301     IT CookBook, 운영체제론 : Operating Systems, 3rd Ed   \n",
       "\n",
       "                                        writer  price                 trans  \\\n",
       "1    Behrouz A. Forouzan , Richard F. Gilberg   32000                   윤인성   \n",
       "2                                         김지연   28000                         \n",
       "3    Behrouz A. Forouzan , Richard F. Gilberg   45000                   윤인성   \n",
       "4                              Gilbert Strang   38000  부산대학교 산업수학센터(FFMIMC)   \n",
       "5                             박우창 , 남송휘 , 이현룡   29000                         \n",
       "..                                         ...    ...                   ...   \n",
       "297                                       한성우   18000                         \n",
       "298                     서일수 , 김도균 , 김지혜 , 이정배   20000                         \n",
       "299                             James Stewart   36000                         \n",
       "300                                 정호영 , 임승각   25000                         \n",
       "301                    하비 디텔 , 폴 디텔 , 데이빗 쇼픈스   32000                   송경희   \n",
       "\n",
       "          dates   pages          isbns Logistics_code  \n",
       "1    2020-11-10    756   9791156645061           4506  \n",
       "2    2020-09-28    536   9791156645054           4505  \n",
       "3    2020-08-31   1192   9791156645030           4503  \n",
       "4    2020-08-05    560   9791156644972           4497  \n",
       "5    2020-07-30    600   9791156645023           4502  \n",
       "..          ...     ...            ...            ...  \n",
       "297  2013-02-28    396   9788998756024           4002  \n",
       "298  2013-02-28    392   9788998756048           4004  \n",
       "299  2012-07-08    960   9781133492566           7999  \n",
       "300  2011-01-31    576   9788979147988           1798  \n",
       "301  2009-09-04    860   9788979146844           1684  \n",
       "\n",
       "[301 rows x 8 columns]"
      ],
      "text/html": "<div>\n<style scoped>\n    .dataframe tbody tr th:only-of-type {\n        vertical-align: middle;\n    }\n\n    .dataframe tbody tr th {\n        vertical-align: top;\n    }\n\n    .dataframe thead th {\n        text-align: right;\n    }\n</style>\n<table border=\"1\" class=\"dataframe\">\n  <thead>\n    <tr style=\"text-align: right;\">\n      <th></th>\n      <th>title</th>\n      <th>writer</th>\n      <th>price</th>\n      <th>trans</th>\n      <th>dates</th>\n      <th>pages</th>\n      <th>isbns</th>\n      <th>Logistics_code</th>\n    </tr>\n  </thead>\n  <tbody>\n    <tr>\n      <th>1</th>\n      <td>포르잔 C++ 에센셜</td>\n      <td>Behrouz A. Forouzan , Richard F. Gilberg</td>\n      <td>32000</td>\n      <td>윤인성</td>\n      <td>2020-11-10</td>\n      <td>756</td>\n      <td>9791156645061</td>\n      <td>4506</td>\n    </tr>\n    <tr>\n      <th>2</th>\n      <td>IT CookBook, 액세스 2019로 배우는 데이터베이스 기초와 실습</td>\n      <td>김지연</td>\n      <td>28000</td>\n      <td></td>\n      <td>2020-09-28</td>\n      <td>536</td>\n      <td>9791156645054</td>\n      <td>4505</td>\n    </tr>\n    <tr>\n      <th>3</th>\n      <td>포르잔 C++ 바이블</td>\n      <td>Behrouz A. Forouzan , Richard F. Gilberg</td>\n      <td>45000</td>\n      <td>윤인성</td>\n      <td>2020-08-31</td>\n      <td>1192</td>\n      <td>9791156645030</td>\n      <td>4503</td>\n    </tr>\n    <tr>\n      <th>4</th>\n      <td>딥러닝을 위한 선형대수학</td>\n      <td>Gilbert Strang</td>\n      <td>38000</td>\n      <td>부산대학교 산업수학센터(FFMIMC)</td>\n      <td>2020-08-05</td>\n      <td>560</td>\n      <td>9791156644972</td>\n      <td>4497</td>\n    </tr>\n    <tr>\n      <th>5</th>\n      <td>IT CookBook, 오라클로 배우는 데이터베이스 개론과 실습(2판)</td>\n      <td>박우창 , 남송휘 , 이현룡</td>\n      <td>29000</td>\n      <td></td>\n      <td>2020-07-30</td>\n      <td>600</td>\n      <td>9791156645023</td>\n      <td>4502</td>\n    </tr>\n    <tr>\n      <th>...</th>\n      <td>...</td>\n      <td>...</td>\n      <td>...</td>\n      <td>...</td>\n      <td>...</td>\n      <td>...</td>\n      <td>...</td>\n      <td>...</td>\n    </tr>\n    <tr>\n      <th>297</th>\n      <td>문제해결력을 키우는 이공계 글쓰기 : 발표와 토론까지</td>\n      <td>한성우</td>\n      <td>18000</td>\n      <td></td>\n      <td>2013-02-28</td>\n      <td>396</td>\n      <td>9788998756024</td>\n      <td>4002</td>\n    </tr>\n    <tr>\n      <th>298</th>\n      <td>진로개발과 직업세계 : 대학생과 청년층을 위한 진로, 취업지침서</td>\n      <td>서일수 , 김도균 , 김지혜 , 이정배</td>\n      <td>20000</td>\n      <td></td>\n      <td>2013-02-28</td>\n      <td>392</td>\n      <td>9788998756048</td>\n      <td>4004</td>\n    </tr>\n    <tr>\n      <th>299</th>\n      <td>Essential Calculus</td>\n      <td>James Stewart</td>\n      <td>36000</td>\n      <td></td>\n      <td>2012-07-08</td>\n      <td>960</td>\n      <td>9781133492566</td>\n      <td>7999</td>\n    </tr>\n    <tr>\n      <th>300</th>\n      <td>IT CookBook, 디지털 통신 시스템 : Digital Communicatio...</td>\n      <td>정호영 , 임승각</td>\n      <td>25000</td>\n      <td></td>\n      <td>2011-01-31</td>\n      <td>576</td>\n      <td>9788979147988</td>\n      <td>1798</td>\n    </tr>\n    <tr>\n      <th>301</th>\n      <td>IT CookBook, 운영체제론 : Operating Systems, 3rd Ed</td>\n      <td>하비 디텔 , 폴 디텔 , 데이빗 쇼픈스</td>\n      <td>32000</td>\n      <td>송경희</td>\n      <td>2009-09-04</td>\n      <td>860</td>\n      <td>9788979146844</td>\n      <td>1684</td>\n    </tr>\n  </tbody>\n</table>\n<p>301 rows × 8 columns</p>\n</div>"
     },
     "metadata": {},
     "execution_count": 106
    }
   ],
   "source": [
    "for page in tqdm_notebook(range(max_page)):\n",
    "    basepage = 1+page\n",
    "    url = f\"https://www.hanbit.co.kr/academy/books/new_book_list.html?page={basepage}&cate_cd=&srt=&searchKey=&keyWord=\"\n",
    "    with urllib.request.urlopen(url) as res:\n",
    "        html = res.read()\n",
    "        soup = BeautifulSoup(html,'html.parser')\n",
    "    #1페이지일경우 리스트 초기화\n",
    "    if basepage == 1:\n",
    "        titles=[]\n",
    "        writers=[] \n",
    "        prices=[]\n",
    "        trans=[]\n",
    "        dates=[]\n",
    "        pages = []\n",
    "        isbns = []\n",
    "        Logistics_code=[]\n",
    "\n",
    "    #페이지 상세보기에서 상세정보 가져오기\n",
    "    link = soup.select('span.pop_quick_menu > a[href]')[0::2]\n",
    "    for i in range(len(link)):\n",
    "        han_url = \"https://www.hanbit.co.kr/\"\n",
    "        detail_url = link[i].attrs['href']\n",
    "        with urllib.request.urlopen(han_url + detail_url) as res:\n",
    "            html = res.read()\n",
    "            detail = BeautifulSoup(html,'html.parser')\n",
    "        detail_list = detail.select(\"ul.info_list > li\")\n",
    "        #가져온 데이터 편집해서 list에 집어 넣기\n",
    "        if detail_list[1].get_text()[:3].find(\"번역\") >= 0:\n",
    "            trans.append(detail_list[1].get_text()[5:-1])\n",
    "            dates.append(detail_list[2].get_text()[5:])\n",
    "            pages.append(detail_list[3].get_text()[5:-1])\n",
    "            isbns.append(detail_list[4].get_text()[7:])\n",
    "            Logistics_code.append(detail_list[5].get_text()[6:])\n",
    "        else:\n",
    "            trans.append(' ')\n",
    "            dates.append(detail_list[1].get_text()[5:])\n",
    "            pages.append(detail_list[2].get_text()[5:-1])\n",
    "            isbns.append(detail_list[3].get_text()[7:])\n",
    "            Logistics_code.append(detail_list[4].get_text()[6:])\n",
    "    #class info로 이름과 저자를 동시에 가져옴\n",
    "    souce = soup.find_all(\"div\",{\"class\":\"info\"})\n",
    "    price = soup.find_all(\"span\",{\"class\":\"price\"})\n",
    "    for i in souce:\n",
    "        title_writer = i.get_text().split('\\n')\n",
    "        titles.append(title_writer[1])\n",
    "        writers.append(title_writer[2])\n",
    "    for i in price:\n",
    "        prices.append(int(i.get_text()[:-1].replace(\",\",\"\")))\n",
    "book = pd.DataFrame({\n",
    "            \"title\":titles,\n",
    "            \"writer\":writers,\n",
    "            \"price\":prices,\n",
    "            'trans':trans,\n",
    "            'dates':dates,\n",
    "            'pages':pages,\n",
    "            'isbns':isbns,\n",
    "            'Logistics_code':Logistics_code},\n",
    "            index=np.arange(1,len(titles)+1))\n",
    "            #index부분이 1부터 시작\n",
    "book"
   ]
  },
  {
   "cell_type": "code",
   "execution_count": 90,
   "metadata": {},
   "outputs": [],
   "source": [
    "book.to_csv(\"과제.csv\")"
   ]
  },
  {
   "cell_type": "code",
   "execution_count": 107,
   "metadata": {},
   "outputs": [
    {
     "output_type": "execute_result",
     "data": {
      "text/plain": [
       "         title                                     writer  price trans  \\\n",
       "1  포르잔 C++ 에센셜  Behrouz A. Forouzan , Richard F. Gilberg   32000   윤인성   \n",
       "3  포르잔 C++ 바이블  Behrouz A. Forouzan , Richard F. Gilberg   45000   윤인성   \n",
       "\n",
       "        dates   pages          isbns Logistics_code  \n",
       "1  2020-11-10    756   9791156645061           4506  \n",
       "3  2020-08-31   1192   9791156645030           4503  "
      ],
      "text/html": "<div>\n<style scoped>\n    .dataframe tbody tr th:only-of-type {\n        vertical-align: middle;\n    }\n\n    .dataframe tbody tr th {\n        vertical-align: top;\n    }\n\n    .dataframe thead th {\n        text-align: right;\n    }\n</style>\n<table border=\"1\" class=\"dataframe\">\n  <thead>\n    <tr style=\"text-align: right;\">\n      <th></th>\n      <th>title</th>\n      <th>writer</th>\n      <th>price</th>\n      <th>trans</th>\n      <th>dates</th>\n      <th>pages</th>\n      <th>isbns</th>\n      <th>Logistics_code</th>\n    </tr>\n  </thead>\n  <tbody>\n    <tr>\n      <th>1</th>\n      <td>포르잔 C++ 에센셜</td>\n      <td>Behrouz A. Forouzan , Richard F. Gilberg</td>\n      <td>32000</td>\n      <td>윤인성</td>\n      <td>2020-11-10</td>\n      <td>756</td>\n      <td>9791156645061</td>\n      <td>4506</td>\n    </tr>\n    <tr>\n      <th>3</th>\n      <td>포르잔 C++ 바이블</td>\n      <td>Behrouz A. Forouzan , Richard F. Gilberg</td>\n      <td>45000</td>\n      <td>윤인성</td>\n      <td>2020-08-31</td>\n      <td>1192</td>\n      <td>9791156645030</td>\n      <td>4503</td>\n    </tr>\n  </tbody>\n</table>\n</div>"
     },
     "metadata": {},
     "execution_count": 107
    }
   ],
   "source": [
    "book[book['trans']==\"윤인성\"]"
   ]
  },
  {
   "cell_type": "code",
   "execution_count": null,
   "metadata": {},
   "outputs": [],
   "source": [
    "성"
   ]
  },
  {
   "cell_type": "code",
   "execution_count": null,
   "metadata": {},
   "outputs": [],
   "source": []
  }
 ]
}