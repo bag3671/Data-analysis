{
 "metadata": {
  "language_info": {
   "codemirror_mode": {
    "name": "ipython",
    "version": 3
   },
   "file_extension": ".py",
   "mimetype": "text/x-python",
   "name": "python",
   "nbconvert_exporter": "python",
   "pygments_lexer": "ipython3",
   "version": "3.8.5-final"
  },
  "orig_nbformat": 2,
  "kernelspec": {
   "name": "python3",
   "display_name": "Python 3"
  }
 },
 "nbformat": 4,
 "nbformat_minor": 2,
 "cells": [
  {
   "cell_type": "code",
   "execution_count": 1,
   "metadata": {},
   "outputs": [],
   "source": [
    "import numpy as np\n",
    "import pandas as pd\n",
    "import seaborn as sns\n",
    "iris = sns.load_dataset(\"iris\")\n",
    "titanic = sns.load_dataset(\"titanic\")"
   ]
  },
  {
   "source": [
    "# 1.Iris"
   ],
   "cell_type": "markdown",
   "metadata": {}
  },
  {
   "source": [
    "### a"
   ],
   "cell_type": "markdown",
   "metadata": {}
  },
  {
   "cell_type": "code",
   "execution_count": 2,
   "metadata": {},
   "outputs": [
    {
     "output_type": "execute_result",
     "data": {
      "text/plain": [
       "0      5.1\n",
       "1      4.9\n",
       "2      4.7\n",
       "3      4.6\n",
       "4      5.0\n",
       "      ... \n",
       "145    6.7\n",
       "146    6.3\n",
       "147    6.5\n",
       "148    6.2\n",
       "149    5.9\n",
       "Name: sepal_length, Length: 150, dtype: float64"
      ]
     },
     "metadata": {},
     "execution_count": 2
    }
   ],
   "source": [
    "#1\n",
    "iris.sepal_length"
   ]
  },
  {
   "cell_type": "code",
   "execution_count": 3,
   "metadata": {},
   "outputs": [
    {
     "output_type": "execute_result",
     "data": {
      "text/plain": [
       "species                setosa  versicolor  virginica\n",
       "sepal_length count  50.000000   50.000000  50.000000\n",
       "             mean    5.006000    5.936000   6.588000\n",
       "             std     0.352490    0.516171   0.635880\n",
       "             min     4.300000    4.900000   4.900000\n",
       "             25%     4.800000    5.600000   6.225000\n",
       "             50%     5.000000    5.900000   6.500000\n",
       "             75%     5.200000    6.300000   6.900000\n",
       "             max     5.800000    7.000000   7.900000\n",
       "sepal_width  count  50.000000   50.000000  50.000000\n",
       "             mean    3.428000    2.770000   2.974000\n",
       "             std     0.379064    0.313798   0.322497\n",
       "             min     2.300000    2.000000   2.200000\n",
       "             25%     3.200000    2.525000   2.800000\n",
       "             50%     3.400000    2.800000   3.000000\n",
       "             75%     3.675000    3.000000   3.175000\n",
       "             max     4.400000    3.400000   3.800000\n",
       "petal_length count  50.000000   50.000000  50.000000\n",
       "             mean    1.462000    4.260000   5.552000\n",
       "             std     0.173664    0.469911   0.551895\n",
       "             min     1.000000    3.000000   4.500000\n",
       "             25%     1.400000    4.000000   5.100000\n",
       "             50%     1.500000    4.350000   5.550000\n",
       "             75%     1.575000    4.600000   5.875000\n",
       "             max     1.900000    5.100000   6.900000\n",
       "petal_width  count  50.000000   50.000000  50.000000\n",
       "             mean    0.246000    1.326000   2.026000\n",
       "             std     0.105386    0.197753   0.274650\n",
       "             min     0.100000    1.000000   1.400000\n",
       "             25%     0.200000    1.200000   1.800000\n",
       "             50%     0.200000    1.300000   2.000000\n",
       "             75%     0.300000    1.500000   2.300000\n",
       "             max     0.600000    1.800000   2.500000"
      ],
      "text/html": "<div>\n<style scoped>\n    .dataframe tbody tr th:only-of-type {\n        vertical-align: middle;\n    }\n\n    .dataframe tbody tr th {\n        vertical-align: top;\n    }\n\n    .dataframe thead th {\n        text-align: right;\n    }\n</style>\n<table border=\"1\" class=\"dataframe\">\n  <thead>\n    <tr style=\"text-align: right;\">\n      <th></th>\n      <th>species</th>\n      <th>setosa</th>\n      <th>versicolor</th>\n      <th>virginica</th>\n    </tr>\n  </thead>\n  <tbody>\n    <tr>\n      <th rowspan=\"8\" valign=\"top\">sepal_length</th>\n      <th>count</th>\n      <td>50.000000</td>\n      <td>50.000000</td>\n      <td>50.000000</td>\n    </tr>\n    <tr>\n      <th>mean</th>\n      <td>5.006000</td>\n      <td>5.936000</td>\n      <td>6.588000</td>\n    </tr>\n    <tr>\n      <th>std</th>\n      <td>0.352490</td>\n      <td>0.516171</td>\n      <td>0.635880</td>\n    </tr>\n    <tr>\n      <th>min</th>\n      <td>4.300000</td>\n      <td>4.900000</td>\n      <td>4.900000</td>\n    </tr>\n    <tr>\n      <th>25%</th>\n      <td>4.800000</td>\n      <td>5.600000</td>\n      <td>6.225000</td>\n    </tr>\n    <tr>\n      <th>50%</th>\n      <td>5.000000</td>\n      <td>5.900000</td>\n      <td>6.500000</td>\n    </tr>\n    <tr>\n      <th>75%</th>\n      <td>5.200000</td>\n      <td>6.300000</td>\n      <td>6.900000</td>\n    </tr>\n    <tr>\n      <th>max</th>\n      <td>5.800000</td>\n      <td>7.000000</td>\n      <td>7.900000</td>\n    </tr>\n    <tr>\n      <th rowspan=\"8\" valign=\"top\">sepal_width</th>\n      <th>count</th>\n      <td>50.000000</td>\n      <td>50.000000</td>\n      <td>50.000000</td>\n    </tr>\n    <tr>\n      <th>mean</th>\n      <td>3.428000</td>\n      <td>2.770000</td>\n      <td>2.974000</td>\n    </tr>\n    <tr>\n      <th>std</th>\n      <td>0.379064</td>\n      <td>0.313798</td>\n      <td>0.322497</td>\n    </tr>\n    <tr>\n      <th>min</th>\n      <td>2.300000</td>\n      <td>2.000000</td>\n      <td>2.200000</td>\n    </tr>\n    <tr>\n      <th>25%</th>\n      <td>3.200000</td>\n      <td>2.525000</td>\n      <td>2.800000</td>\n    </tr>\n    <tr>\n      <th>50%</th>\n      <td>3.400000</td>\n      <td>2.800000</td>\n      <td>3.000000</td>\n    </tr>\n    <tr>\n      <th>75%</th>\n      <td>3.675000</td>\n      <td>3.000000</td>\n      <td>3.175000</td>\n    </tr>\n    <tr>\n      <th>max</th>\n      <td>4.400000</td>\n      <td>3.400000</td>\n      <td>3.800000</td>\n    </tr>\n    <tr>\n      <th rowspan=\"8\" valign=\"top\">petal_length</th>\n      <th>count</th>\n      <td>50.000000</td>\n      <td>50.000000</td>\n      <td>50.000000</td>\n    </tr>\n    <tr>\n      <th>mean</th>\n      <td>1.462000</td>\n      <td>4.260000</td>\n      <td>5.552000</td>\n    </tr>\n    <tr>\n      <th>std</th>\n      <td>0.173664</td>\n      <td>0.469911</td>\n      <td>0.551895</td>\n    </tr>\n    <tr>\n      <th>min</th>\n      <td>1.000000</td>\n      <td>3.000000</td>\n      <td>4.500000</td>\n    </tr>\n    <tr>\n      <th>25%</th>\n      <td>1.400000</td>\n      <td>4.000000</td>\n      <td>5.100000</td>\n    </tr>\n    <tr>\n      <th>50%</th>\n      <td>1.500000</td>\n      <td>4.350000</td>\n      <td>5.550000</td>\n    </tr>\n    <tr>\n      <th>75%</th>\n      <td>1.575000</td>\n      <td>4.600000</td>\n      <td>5.875000</td>\n    </tr>\n    <tr>\n      <th>max</th>\n      <td>1.900000</td>\n      <td>5.100000</td>\n      <td>6.900000</td>\n    </tr>\n    <tr>\n      <th rowspan=\"8\" valign=\"top\">petal_width</th>\n      <th>count</th>\n      <td>50.000000</td>\n      <td>50.000000</td>\n      <td>50.000000</td>\n    </tr>\n    <tr>\n      <th>mean</th>\n      <td>0.246000</td>\n      <td>1.326000</td>\n      <td>2.026000</td>\n    </tr>\n    <tr>\n      <th>std</th>\n      <td>0.105386</td>\n      <td>0.197753</td>\n      <td>0.274650</td>\n    </tr>\n    <tr>\n      <th>min</th>\n      <td>0.100000</td>\n      <td>1.000000</td>\n      <td>1.400000</td>\n    </tr>\n    <tr>\n      <th>25%</th>\n      <td>0.200000</td>\n      <td>1.200000</td>\n      <td>1.800000</td>\n    </tr>\n    <tr>\n      <th>50%</th>\n      <td>0.200000</td>\n      <td>1.300000</td>\n      <td>2.000000</td>\n    </tr>\n    <tr>\n      <th>75%</th>\n      <td>0.300000</td>\n      <td>1.500000</td>\n      <td>2.300000</td>\n    </tr>\n    <tr>\n      <th>max</th>\n      <td>0.600000</td>\n      <td>1.800000</td>\n      <td>2.500000</td>\n    </tr>\n  </tbody>\n</table>\n</div>"
     },
     "metadata": {},
     "execution_count": 3
    }
   ],
   "source": [
    "iris.groupby([\"species\"]).describe().T"
   ]
  },
  {
   "cell_type": "code",
   "execution_count": 4,
   "metadata": {},
   "outputs": [],
   "source": [
    "#2\n",
    "Q1 = iris.quantile(.25)\n",
    "Q3 = iris.quantile(.75)\n",
    "IQR = Q3-Q1\n",
    "lower_bounce = Q1- 1.5*(IQR)\n",
    "upper_bounce = Q3 + 1.5*(IQR)\n",
    "def del_outlines(r):\n",
    "    return r[i] if (lower_bounce[i] < r[i]) & (upper_bounce[i] > r[1]) else 0\n"
   ]
  },
  {
   "cell_type": "code",
   "execution_count": 5,
   "metadata": {},
   "outputs": [],
   "source": [
    "iris2 = iris\n",
    "for i in [\"sepal_length\",\"sepal_width\",\"petal_length\",\"petal_width\"]:\n",
    "   iris2[i] = iris2.apply(del_outlines,axis=1)"
   ]
  },
  {
   "cell_type": "code",
   "execution_count": 6,
   "metadata": {},
   "outputs": [
    {
     "output_type": "execute_result",
     "data": {
      "text/plain": [
       "     sepal_length  sepal_width  petal_length  petal_width    species\n",
       "0             5.1          3.5           1.4          0.2     setosa\n",
       "1             4.9          3.0           1.4          0.2     setosa\n",
       "2             4.7          3.2           1.3          0.2     setosa\n",
       "3             4.6          3.1           1.5          0.2     setosa\n",
       "4             5.0          3.6           1.4          0.2     setosa\n",
       "..            ...          ...           ...          ...        ...\n",
       "145           6.7          3.0           5.2          2.3  virginica\n",
       "146           6.3          2.5           5.0          1.9  virginica\n",
       "147           6.5          3.0           5.2          2.0  virginica\n",
       "148           6.2          3.4           5.4          2.3  virginica\n",
       "149           5.9          3.0           5.1          1.8  virginica\n",
       "\n",
       "[150 rows x 5 columns]"
      ],
      "text/html": "<div>\n<style scoped>\n    .dataframe tbody tr th:only-of-type {\n        vertical-align: middle;\n    }\n\n    .dataframe tbody tr th {\n        vertical-align: top;\n    }\n\n    .dataframe thead th {\n        text-align: right;\n    }\n</style>\n<table border=\"1\" class=\"dataframe\">\n  <thead>\n    <tr style=\"text-align: right;\">\n      <th></th>\n      <th>sepal_length</th>\n      <th>sepal_width</th>\n      <th>petal_length</th>\n      <th>petal_width</th>\n      <th>species</th>\n    </tr>\n  </thead>\n  <tbody>\n    <tr>\n      <th>0</th>\n      <td>5.1</td>\n      <td>3.5</td>\n      <td>1.4</td>\n      <td>0.2</td>\n      <td>setosa</td>\n    </tr>\n    <tr>\n      <th>1</th>\n      <td>4.9</td>\n      <td>3.0</td>\n      <td>1.4</td>\n      <td>0.2</td>\n      <td>setosa</td>\n    </tr>\n    <tr>\n      <th>2</th>\n      <td>4.7</td>\n      <td>3.2</td>\n      <td>1.3</td>\n      <td>0.2</td>\n      <td>setosa</td>\n    </tr>\n    <tr>\n      <th>3</th>\n      <td>4.6</td>\n      <td>3.1</td>\n      <td>1.5</td>\n      <td>0.2</td>\n      <td>setosa</td>\n    </tr>\n    <tr>\n      <th>4</th>\n      <td>5.0</td>\n      <td>3.6</td>\n      <td>1.4</td>\n      <td>0.2</td>\n      <td>setosa</td>\n    </tr>\n    <tr>\n      <th>...</th>\n      <td>...</td>\n      <td>...</td>\n      <td>...</td>\n      <td>...</td>\n      <td>...</td>\n    </tr>\n    <tr>\n      <th>145</th>\n      <td>6.7</td>\n      <td>3.0</td>\n      <td>5.2</td>\n      <td>2.3</td>\n      <td>virginica</td>\n    </tr>\n    <tr>\n      <th>146</th>\n      <td>6.3</td>\n      <td>2.5</td>\n      <td>5.0</td>\n      <td>1.9</td>\n      <td>virginica</td>\n    </tr>\n    <tr>\n      <th>147</th>\n      <td>6.5</td>\n      <td>3.0</td>\n      <td>5.2</td>\n      <td>2.0</td>\n      <td>virginica</td>\n    </tr>\n    <tr>\n      <th>148</th>\n      <td>6.2</td>\n      <td>3.4</td>\n      <td>5.4</td>\n      <td>2.3</td>\n      <td>virginica</td>\n    </tr>\n    <tr>\n      <th>149</th>\n      <td>5.9</td>\n      <td>3.0</td>\n      <td>5.1</td>\n      <td>1.8</td>\n      <td>virginica</td>\n    </tr>\n  </tbody>\n</table>\n<p>150 rows × 5 columns</p>\n</div>"
     },
     "metadata": {},
     "execution_count": 6
    }
   ],
   "source": [
    "iris2"
   ]
  },
  {
   "cell_type": "code",
   "execution_count": 7,
   "metadata": {},
   "outputs": [
    {
     "output_type": "execute_result",
     "data": {
      "text/plain": [
       "           sepal_length           sepal_width           petal_length  \\\n",
       "                   mean       std        mean       std         mean   \n",
       "species                                                                \n",
       "setosa            5.006  0.352490       3.174  0.869860        1.462   \n",
       "versicolor        5.936  0.516171       2.730  0.491250        4.260   \n",
       "virginica         6.588  0.635880       2.974  0.322497        5.552   \n",
       "\n",
       "                     petal_width            \n",
       "                 std        mean       std  \n",
       "species                                     \n",
       "setosa      0.173664       0.246  0.105386  \n",
       "versicolor  0.469911       1.326  0.197753  \n",
       "virginica   0.551895       2.026  0.274650  "
      ],
      "text/html": "<div>\n<style scoped>\n    .dataframe tbody tr th:only-of-type {\n        vertical-align: middle;\n    }\n\n    .dataframe tbody tr th {\n        vertical-align: top;\n    }\n\n    .dataframe thead tr th {\n        text-align: left;\n    }\n\n    .dataframe thead tr:last-of-type th {\n        text-align: right;\n    }\n</style>\n<table border=\"1\" class=\"dataframe\">\n  <thead>\n    <tr>\n      <th></th>\n      <th colspan=\"2\" halign=\"left\">sepal_length</th>\n      <th colspan=\"2\" halign=\"left\">sepal_width</th>\n      <th colspan=\"2\" halign=\"left\">petal_length</th>\n      <th colspan=\"2\" halign=\"left\">petal_width</th>\n    </tr>\n    <tr>\n      <th></th>\n      <th>mean</th>\n      <th>std</th>\n      <th>mean</th>\n      <th>std</th>\n      <th>mean</th>\n      <th>std</th>\n      <th>mean</th>\n      <th>std</th>\n    </tr>\n    <tr>\n      <th>species</th>\n      <th></th>\n      <th></th>\n      <th></th>\n      <th></th>\n      <th></th>\n      <th></th>\n      <th></th>\n      <th></th>\n    </tr>\n  </thead>\n  <tbody>\n    <tr>\n      <th>setosa</th>\n      <td>5.006</td>\n      <td>0.352490</td>\n      <td>3.174</td>\n      <td>0.869860</td>\n      <td>1.462</td>\n      <td>0.173664</td>\n      <td>0.246</td>\n      <td>0.105386</td>\n    </tr>\n    <tr>\n      <th>versicolor</th>\n      <td>5.936</td>\n      <td>0.516171</td>\n      <td>2.730</td>\n      <td>0.491250</td>\n      <td>4.260</td>\n      <td>0.469911</td>\n      <td>1.326</td>\n      <td>0.197753</td>\n    </tr>\n    <tr>\n      <th>virginica</th>\n      <td>6.588</td>\n      <td>0.635880</td>\n      <td>2.974</td>\n      <td>0.322497</td>\n      <td>5.552</td>\n      <td>0.551895</td>\n      <td>2.026</td>\n      <td>0.274650</td>\n    </tr>\n  </tbody>\n</table>\n</div>"
     },
     "metadata": {},
     "execution_count": 7
    }
   ],
   "source": [
    "iris2.groupby(\"species\").agg(['mean','std'])"
   ]
  },
  {
   "source": [
    "# Titanic"
   ],
   "cell_type": "markdown",
   "metadata": {}
  },
  {
   "cell_type": "code",
   "execution_count": 8,
   "metadata": {},
   "outputs": [
    {
     "output_type": "execute_result",
     "data": {
      "text/plain": [
       "     survived  pclass     sex   age  sibsp  parch     fare embarked   class  \\\n",
       "0           0       3    male  22.0      1      0   7.2500        S   Third   \n",
       "1           1       1  female  38.0      1      0  71.2833        C   First   \n",
       "2           1       3  female  26.0      0      0   7.9250        S   Third   \n",
       "3           1       1  female  35.0      1      0  53.1000        S   First   \n",
       "4           0       3    male  35.0      0      0   8.0500        S   Third   \n",
       "..        ...     ...     ...   ...    ...    ...      ...      ...     ...   \n",
       "886         0       2    male  27.0      0      0  13.0000        S  Second   \n",
       "887         1       1  female  19.0      0      0  30.0000        S   First   \n",
       "888         0       3  female   NaN      1      2  23.4500        S   Third   \n",
       "889         1       1    male  26.0      0      0  30.0000        C   First   \n",
       "890         0       3    male  32.0      0      0   7.7500        Q   Third   \n",
       "\n",
       "       who  adult_male deck  embark_town alive  alone  \n",
       "0      man        True  NaN  Southampton    no  False  \n",
       "1    woman       False    C    Cherbourg   yes  False  \n",
       "2    woman       False  NaN  Southampton   yes   True  \n",
       "3    woman       False    C  Southampton   yes  False  \n",
       "4      man        True  NaN  Southampton    no   True  \n",
       "..     ...         ...  ...          ...   ...    ...  \n",
       "886    man        True  NaN  Southampton    no   True  \n",
       "887  woman       False    B  Southampton   yes   True  \n",
       "888  woman       False  NaN  Southampton    no  False  \n",
       "889    man        True    C    Cherbourg   yes   True  \n",
       "890    man        True  NaN   Queenstown    no   True  \n",
       "\n",
       "[891 rows x 15 columns]"
      ],
      "text/html": "<div>\n<style scoped>\n    .dataframe tbody tr th:only-of-type {\n        vertical-align: middle;\n    }\n\n    .dataframe tbody tr th {\n        vertical-align: top;\n    }\n\n    .dataframe thead th {\n        text-align: right;\n    }\n</style>\n<table border=\"1\" class=\"dataframe\">\n  <thead>\n    <tr style=\"text-align: right;\">\n      <th></th>\n      <th>survived</th>\n      <th>pclass</th>\n      <th>sex</th>\n      <th>age</th>\n      <th>sibsp</th>\n      <th>parch</th>\n      <th>fare</th>\n      <th>embarked</th>\n      <th>class</th>\n      <th>who</th>\n      <th>adult_male</th>\n      <th>deck</th>\n      <th>embark_town</th>\n      <th>alive</th>\n      <th>alone</th>\n    </tr>\n  </thead>\n  <tbody>\n    <tr>\n      <th>0</th>\n      <td>0</td>\n      <td>3</td>\n      <td>male</td>\n      <td>22.0</td>\n      <td>1</td>\n      <td>0</td>\n      <td>7.2500</td>\n      <td>S</td>\n      <td>Third</td>\n      <td>man</td>\n      <td>True</td>\n      <td>NaN</td>\n      <td>Southampton</td>\n      <td>no</td>\n      <td>False</td>\n    </tr>\n    <tr>\n      <th>1</th>\n      <td>1</td>\n      <td>1</td>\n      <td>female</td>\n      <td>38.0</td>\n      <td>1</td>\n      <td>0</td>\n      <td>71.2833</td>\n      <td>C</td>\n      <td>First</td>\n      <td>woman</td>\n      <td>False</td>\n      <td>C</td>\n      <td>Cherbourg</td>\n      <td>yes</td>\n      <td>False</td>\n    </tr>\n    <tr>\n      <th>2</th>\n      <td>1</td>\n      <td>3</td>\n      <td>female</td>\n      <td>26.0</td>\n      <td>0</td>\n      <td>0</td>\n      <td>7.9250</td>\n      <td>S</td>\n      <td>Third</td>\n      <td>woman</td>\n      <td>False</td>\n      <td>NaN</td>\n      <td>Southampton</td>\n      <td>yes</td>\n      <td>True</td>\n    </tr>\n    <tr>\n      <th>3</th>\n      <td>1</td>\n      <td>1</td>\n      <td>female</td>\n      <td>35.0</td>\n      <td>1</td>\n      <td>0</td>\n      <td>53.1000</td>\n      <td>S</td>\n      <td>First</td>\n      <td>woman</td>\n      <td>False</td>\n      <td>C</td>\n      <td>Southampton</td>\n      <td>yes</td>\n      <td>False</td>\n    </tr>\n    <tr>\n      <th>4</th>\n      <td>0</td>\n      <td>3</td>\n      <td>male</td>\n      <td>35.0</td>\n      <td>0</td>\n      <td>0</td>\n      <td>8.0500</td>\n      <td>S</td>\n      <td>Third</td>\n      <td>man</td>\n      <td>True</td>\n      <td>NaN</td>\n      <td>Southampton</td>\n      <td>no</td>\n      <td>True</td>\n    </tr>\n    <tr>\n      <th>...</th>\n      <td>...</td>\n      <td>...</td>\n      <td>...</td>\n      <td>...</td>\n      <td>...</td>\n      <td>...</td>\n      <td>...</td>\n      <td>...</td>\n      <td>...</td>\n      <td>...</td>\n      <td>...</td>\n      <td>...</td>\n      <td>...</td>\n      <td>...</td>\n      <td>...</td>\n    </tr>\n    <tr>\n      <th>886</th>\n      <td>0</td>\n      <td>2</td>\n      <td>male</td>\n      <td>27.0</td>\n      <td>0</td>\n      <td>0</td>\n      <td>13.0000</td>\n      <td>S</td>\n      <td>Second</td>\n      <td>man</td>\n      <td>True</td>\n      <td>NaN</td>\n      <td>Southampton</td>\n      <td>no</td>\n      <td>True</td>\n    </tr>\n    <tr>\n      <th>887</th>\n      <td>1</td>\n      <td>1</td>\n      <td>female</td>\n      <td>19.0</td>\n      <td>0</td>\n      <td>0</td>\n      <td>30.0000</td>\n      <td>S</td>\n      <td>First</td>\n      <td>woman</td>\n      <td>False</td>\n      <td>B</td>\n      <td>Southampton</td>\n      <td>yes</td>\n      <td>True</td>\n    </tr>\n    <tr>\n      <th>888</th>\n      <td>0</td>\n      <td>3</td>\n      <td>female</td>\n      <td>NaN</td>\n      <td>1</td>\n      <td>2</td>\n      <td>23.4500</td>\n      <td>S</td>\n      <td>Third</td>\n      <td>woman</td>\n      <td>False</td>\n      <td>NaN</td>\n      <td>Southampton</td>\n      <td>no</td>\n      <td>False</td>\n    </tr>\n    <tr>\n      <th>889</th>\n      <td>1</td>\n      <td>1</td>\n      <td>male</td>\n      <td>26.0</td>\n      <td>0</td>\n      <td>0</td>\n      <td>30.0000</td>\n      <td>C</td>\n      <td>First</td>\n      <td>man</td>\n      <td>True</td>\n      <td>C</td>\n      <td>Cherbourg</td>\n      <td>yes</td>\n      <td>True</td>\n    </tr>\n    <tr>\n      <th>890</th>\n      <td>0</td>\n      <td>3</td>\n      <td>male</td>\n      <td>32.0</td>\n      <td>0</td>\n      <td>0</td>\n      <td>7.7500</td>\n      <td>Q</td>\n      <td>Third</td>\n      <td>man</td>\n      <td>True</td>\n      <td>NaN</td>\n      <td>Queenstown</td>\n      <td>no</td>\n      <td>True</td>\n    </tr>\n  </tbody>\n</table>\n<p>891 rows × 15 columns</p>\n</div>"
     },
     "metadata": {},
     "execution_count": 8
    }
   ],
   "source": [
    "titanic"
   ]
  },
  {
   "cell_type": "code",
   "execution_count": 9,
   "metadata": {},
   "outputs": [
    {
     "output_type": "execute_result",
     "data": {
      "text/plain": [
       "0        male\n",
       "1      female\n",
       "2      female\n",
       "3      female\n",
       "4        male\n",
       "        ...  \n",
       "886      male\n",
       "887     child\n",
       "888    female\n",
       "889      male\n",
       "890      male\n",
       "Name: category1, Length: 891, dtype: object"
      ]
     },
     "metadata": {},
     "execution_count": 9
    }
   ],
   "source": [
    "#1\n",
    "titanic[\"category1\"] = titanic.apply(lambda r:\"child\"if r.age<20 else r.sex,axis=1)\n",
    "titanic[\"category1\"]"
   ]
  },
  {
   "cell_type": "code",
   "execution_count": 10,
   "metadata": {},
   "outputs": [],
   "source": [
    "#2\n",
    "titanic.age = titanic.age.fillna(titanic.age.mean())"
   ]
  },
  {
   "cell_type": "code",
   "execution_count": 11,
   "metadata": {},
   "outputs": [
    {
     "output_type": "execute_result",
     "data": {
      "text/plain": [
       "sex         female      male\n",
       "survived  0.742038  0.188908"
      ],
      "text/html": "<div>\n<style scoped>\n    .dataframe tbody tr th:only-of-type {\n        vertical-align: middle;\n    }\n\n    .dataframe tbody tr th {\n        vertical-align: top;\n    }\n\n    .dataframe thead th {\n        text-align: right;\n    }\n</style>\n<table border=\"1\" class=\"dataframe\">\n  <thead>\n    <tr style=\"text-align: right;\">\n      <th>sex</th>\n      <th>female</th>\n      <th>male</th>\n    </tr>\n  </thead>\n  <tbody>\n    <tr>\n      <th>survived</th>\n      <td>0.742038</td>\n      <td>0.188908</td>\n    </tr>\n  </tbody>\n</table>\n</div>"
     },
     "metadata": {},
     "execution_count": 11
    }
   ],
   "source": [
    "#3\n",
    "a = titanic.groupby([\"sex\"]).mean()[[\"survived\"]].T\n",
    "a"
   ]
  },
  {
   "cell_type": "code",
   "execution_count": 12,
   "metadata": {},
   "outputs": [
    {
     "output_type": "execute_result",
     "data": {
      "text/plain": [
       "pclass          1         2         3\n",
       "survived  0.62963  0.472826  0.242363"
      ],
      "text/html": "<div>\n<style scoped>\n    .dataframe tbody tr th:only-of-type {\n        vertical-align: middle;\n    }\n\n    .dataframe tbody tr th {\n        vertical-align: top;\n    }\n\n    .dataframe thead th {\n        text-align: right;\n    }\n</style>\n<table border=\"1\" class=\"dataframe\">\n  <thead>\n    <tr style=\"text-align: right;\">\n      <th>pclass</th>\n      <th>1</th>\n      <th>2</th>\n      <th>3</th>\n    </tr>\n  </thead>\n  <tbody>\n    <tr>\n      <th>survived</th>\n      <td>0.62963</td>\n      <td>0.472826</td>\n      <td>0.242363</td>\n    </tr>\n  </tbody>\n</table>\n</div>"
     },
     "metadata": {},
     "execution_count": 12
    }
   ],
   "source": [
    "b = titanic.groupby([\"pclass\"]).mean()[[\"survived\"]].T\n",
    "b"
   ]
  },
  {
   "cell_type": "code",
   "execution_count": 13,
   "metadata": {},
   "outputs": [
    {
     "output_type": "execute_result",
     "data": {
      "text/plain": [
       "pclass          1         2         3\n",
       "survived  0.62963  0.472826  0.242363"
      ],
      "text/html": "<div>\n<style scoped>\n    .dataframe tbody tr th:only-of-type {\n        vertical-align: middle;\n    }\n\n    .dataframe tbody tr th {\n        vertical-align: top;\n    }\n\n    .dataframe thead th {\n        text-align: right;\n    }\n</style>\n<table border=\"1\" class=\"dataframe\">\n  <thead>\n    <tr style=\"text-align: right;\">\n      <th>pclass</th>\n      <th>1</th>\n      <th>2</th>\n      <th>3</th>\n    </tr>\n  </thead>\n  <tbody>\n    <tr>\n      <th>survived</th>\n      <td>0.62963</td>\n      <td>0.472826</td>\n      <td>0.242363</td>\n    </tr>\n  </tbody>\n</table>\n</div>"
     },
     "metadata": {},
     "execution_count": 13
    }
   ],
   "source": [
    "c = titanic.groupby([\"embark_town\"]).mean()[[\"survived\"]].T\n",
    "b"
   ]
  },
  {
   "cell_type": "code",
   "execution_count": 14,
   "metadata": {},
   "outputs": [
    {
     "output_type": "execute_result",
     "data": {
      "text/plain": [
       "             survived\n",
       "female       0.742038\n",
       "male         0.188908\n",
       "1            0.629630\n",
       "2            0.472826\n",
       "3            0.242363\n",
       "Cherbourg    0.553571\n",
       "Queenstown   0.389610\n",
       "Southampton  0.336957"
      ],
      "text/html": "<div>\n<style scoped>\n    .dataframe tbody tr th:only-of-type {\n        vertical-align: middle;\n    }\n\n    .dataframe tbody tr th {\n        vertical-align: top;\n    }\n\n    .dataframe thead th {\n        text-align: right;\n    }\n</style>\n<table border=\"1\" class=\"dataframe\">\n  <thead>\n    <tr style=\"text-align: right;\">\n      <th></th>\n      <th>survived</th>\n    </tr>\n  </thead>\n  <tbody>\n    <tr>\n      <th>female</th>\n      <td>0.742038</td>\n    </tr>\n    <tr>\n      <th>male</th>\n      <td>0.188908</td>\n    </tr>\n    <tr>\n      <th>1</th>\n      <td>0.629630</td>\n    </tr>\n    <tr>\n      <th>2</th>\n      <td>0.472826</td>\n    </tr>\n    <tr>\n      <th>3</th>\n      <td>0.242363</td>\n    </tr>\n    <tr>\n      <th>Cherbourg</th>\n      <td>0.553571</td>\n    </tr>\n    <tr>\n      <th>Queenstown</th>\n      <td>0.389610</td>\n    </tr>\n    <tr>\n      <th>Southampton</th>\n      <td>0.336957</td>\n    </tr>\n  </tbody>\n</table>\n</div>"
     },
     "metadata": {},
     "execution_count": 14
    }
   ],
   "source": [
    "pd.concat([a,b,c],axis=1).T"
   ]
  },
  {
   "cell_type": "code",
   "execution_count": 15,
   "metadata": {},
   "outputs": [
    {
     "output_type": "execute_result",
     "data": {
      "text/plain": [
       "         survived\n",
       "age_cat          \n",
       "미성년자     0.424242\n",
       "청년       0.334152\n",
       "중년       0.423237\n",
       "장년       0.355932\n",
       "노년       0.200000"
      ],
      "text/html": "<div>\n<style scoped>\n    .dataframe tbody tr th:only-of-type {\n        vertical-align: middle;\n    }\n\n    .dataframe tbody tr th {\n        vertical-align: top;\n    }\n\n    .dataframe thead th {\n        text-align: right;\n    }\n</style>\n<table border=\"1\" class=\"dataframe\">\n  <thead>\n    <tr style=\"text-align: right;\">\n      <th></th>\n      <th>survived</th>\n    </tr>\n    <tr>\n      <th>age_cat</th>\n      <th></th>\n    </tr>\n  </thead>\n  <tbody>\n    <tr>\n      <th>미성년자</th>\n      <td>0.424242</td>\n    </tr>\n    <tr>\n      <th>청년</th>\n      <td>0.334152</td>\n    </tr>\n    <tr>\n      <th>중년</th>\n      <td>0.423237</td>\n    </tr>\n    <tr>\n      <th>장년</th>\n      <td>0.355932</td>\n    </tr>\n    <tr>\n      <th>노년</th>\n      <td>0.200000</td>\n    </tr>\n  </tbody>\n</table>\n</div>"
     },
     "metadata": {},
     "execution_count": 15
    }
   ],
   "source": [
    "#4\n",
    "bins = [1,20,30,50,70,100]\n",
    "labels = [\"미성년자\",\"청년\",\"중년\",\"장년\",\"노년\"]\n",
    "titanic[\"age_cat\"] = pd.cut(titanic.age, bins, labels=labels)\n",
    "titanic.groupby(\"age_cat\").mean()[[\"survived\"]]"
   ]
  },
  {
   "cell_type": "code",
   "execution_count": 16,
   "metadata": {},
   "outputs": [
    {
     "output_type": "execute_result",
     "data": {
      "text/plain": [
       "0      Q1\n",
       "1      Q3\n",
       "2      Q2\n",
       "3      Q3\n",
       "4      Q3\n",
       "       ..\n",
       "886    Q2\n",
       "887    Q1\n",
       "888    Q2\n",
       "889    Q2\n",
       "890    Q3\n",
       "Name: q_cut, Length: 891, dtype: category\n",
       "Categories (3, object): ['Q1' < 'Q2' < 'Q3']"
      ]
     },
     "metadata": {},
     "execution_count": 16
    }
   ],
   "source": [
    "#5\n",
    "titanic[\"q_cut\"] = pd.qcut(titanic.age,3,labels=[\"Q1\",\"Q2\",\"Q3\"])\n",
    "titanic[\"q_cut\"]"
   ]
  },
  {
   "cell_type": "code",
   "execution_count": 17,
   "metadata": {},
   "outputs": [
    {
     "output_type": "execute_result",
     "data": {
      "text/plain": [
       "              survived\n",
       "q_cut sex             \n",
       "Q1    female  0.713115\n",
       "      male    0.206704\n",
       "Q2    female  0.701031\n",
       "      male    0.164251\n",
       "Q3    female  0.821053\n",
       "      male    0.198953"
      ],
      "text/html": "<div>\n<style scoped>\n    .dataframe tbody tr th:only-of-type {\n        vertical-align: middle;\n    }\n\n    .dataframe tbody tr th {\n        vertical-align: top;\n    }\n\n    .dataframe thead th {\n        text-align: right;\n    }\n</style>\n<table border=\"1\" class=\"dataframe\">\n  <thead>\n    <tr style=\"text-align: right;\">\n      <th></th>\n      <th></th>\n      <th>survived</th>\n    </tr>\n    <tr>\n      <th>q_cut</th>\n      <th>sex</th>\n      <th></th>\n    </tr>\n  </thead>\n  <tbody>\n    <tr>\n      <th rowspan=\"2\" valign=\"top\">Q1</th>\n      <th>female</th>\n      <td>0.713115</td>\n    </tr>\n    <tr>\n      <th>male</th>\n      <td>0.206704</td>\n    </tr>\n    <tr>\n      <th rowspan=\"2\" valign=\"top\">Q2</th>\n      <th>female</th>\n      <td>0.701031</td>\n    </tr>\n    <tr>\n      <th>male</th>\n      <td>0.164251</td>\n    </tr>\n    <tr>\n      <th rowspan=\"2\" valign=\"top\">Q3</th>\n      <th>female</th>\n      <td>0.821053</td>\n    </tr>\n    <tr>\n      <th>male</th>\n      <td>0.198953</td>\n    </tr>\n  </tbody>\n</table>\n</div>"
     },
     "metadata": {},
     "execution_count": 17
    }
   ],
   "source": [
    "titanic_pivot = titanic.pivot_table(index=[\"q_cut\",\"sex\"])\n",
    "titanic_pivot[[\"survived\"]]"
   ]
  },
  {
   "cell_type": "code",
   "execution_count": 18,
   "metadata": {},
   "outputs": [
    {
     "output_type": "execute_result",
     "data": {
      "text/plain": [
       "q_cut  sex   \n",
       "Q1     female    0.713115\n",
       "       male      0.206704\n",
       "Q2     female    0.701031\n",
       "       male      0.164251\n",
       "Q3     female    0.821053\n",
       "       male      0.198953\n",
       "Name: survived, dtype: float64"
      ]
     },
     "metadata": {},
     "execution_count": 18
    }
   ],
   "source": [
    "# 생존율\n",
    "a = (titanic.groupby([\"q_cut\",\"sex\"]).sum()/titanic.groupby([\"q_cut\",\"sex\"]).count()).survived\n",
    "a"
   ]
  },
  {
   "cell_type": "code",
   "execution_count": 19,
   "metadata": {},
   "outputs": [
    {
     "output_type": "execute_result",
     "data": {
      "text/plain": [
       "q_cut  sex   \n",
       "Q1     female    0.405316\n",
       "       male      0.594684\n",
       "Q2     female    0.319079\n",
       "       male      0.680921\n",
       "Q3     female    0.332168\n",
       "       male      0.667832\n",
       "dtype: float64"
      ]
     },
     "metadata": {},
     "execution_count": 19
    }
   ],
   "source": [
    "b = titanic.groupby([\"q_cut\",\"sex\"]).size()/titanic.groupby([\"q_cut\"]).size()\n",
    "b"
   ]
  },
  {
   "cell_type": "code",
   "execution_count": 20,
   "metadata": {},
   "outputs": [
    {
     "output_type": "execute_result",
     "data": {
      "text/plain": [
       "              survived  male_female\n",
       "q_cut sex                          \n",
       "Q1    female  0.713115     0.405316\n",
       "      male    0.206704     0.594684\n",
       "Q2    female  0.701031     0.319079\n",
       "      male    0.164251     0.680921\n",
       "Q3    female  0.821053     0.332168\n",
       "      male    0.198953     0.667832"
      ],
      "text/html": "<div>\n<style scoped>\n    .dataframe tbody tr th:only-of-type {\n        vertical-align: middle;\n    }\n\n    .dataframe tbody tr th {\n        vertical-align: top;\n    }\n\n    .dataframe thead th {\n        text-align: right;\n    }\n</style>\n<table border=\"1\" class=\"dataframe\">\n  <thead>\n    <tr style=\"text-align: right;\">\n      <th></th>\n      <th></th>\n      <th>survived</th>\n      <th>male_female</th>\n    </tr>\n    <tr>\n      <th>q_cut</th>\n      <th>sex</th>\n      <th></th>\n      <th></th>\n    </tr>\n  </thead>\n  <tbody>\n    <tr>\n      <th rowspan=\"2\" valign=\"top\">Q1</th>\n      <th>female</th>\n      <td>0.713115</td>\n      <td>0.405316</td>\n    </tr>\n    <tr>\n      <th>male</th>\n      <td>0.206704</td>\n      <td>0.594684</td>\n    </tr>\n    <tr>\n      <th rowspan=\"2\" valign=\"top\">Q2</th>\n      <th>female</th>\n      <td>0.701031</td>\n      <td>0.319079</td>\n    </tr>\n    <tr>\n      <th>male</th>\n      <td>0.164251</td>\n      <td>0.680921</td>\n    </tr>\n    <tr>\n      <th rowspan=\"2\" valign=\"top\">Q3</th>\n      <th>female</th>\n      <td>0.821053</td>\n      <td>0.332168</td>\n    </tr>\n    <tr>\n      <th>male</th>\n      <td>0.198953</td>\n      <td>0.667832</td>\n    </tr>\n  </tbody>\n</table>\n</div>"
     },
     "metadata": {},
     "execution_count": 20
    }
   ],
   "source": [
    "df1 = pd.DataFrame(a)\n",
    "df2 = pd.DataFrame(b,columns=[\"male_female\"])\n",
    "\n",
    "pd.merge(df1, df2, how='outer',on=['q_cut',\"sex\"])"
   ]
  },
  {
   "source": [
    "# MPG"
   ],
   "cell_type": "markdown",
   "metadata": {}
  },
  {
   "cell_type": "code",
   "execution_count": 21,
   "metadata": {},
   "outputs": [],
   "source": [
    "mpg = sns.load_dataset('mpg')"
   ]
  },
  {
   "cell_type": "code",
   "execution_count": 22,
   "metadata": {},
   "outputs": [
    {
     "output_type": "execute_result",
     "data": {
      "text/plain": [
       "    mpg  cylinders  displacement  horsepower  weight  acceleration  \\\n",
       "0  18.0          8         307.0       130.0    3504          12.0   \n",
       "1  15.0          8         350.0       165.0    3693          11.5   \n",
       "2  18.0          8         318.0       150.0    3436          11.0   \n",
       "3  16.0          8         304.0       150.0    3433          12.0   \n",
       "4  17.0          8         302.0       140.0    3449          10.5   \n",
       "\n",
       "   model_year origin                       name  \n",
       "0          70    usa  chevrolet chevelle malibu  \n",
       "1          70    usa          buick skylark 320  \n",
       "2          70    usa         plymouth satellite  \n",
       "3          70    usa              amc rebel sst  \n",
       "4          70    usa                ford torino  "
      ],
      "text/html": "<div>\n<style scoped>\n    .dataframe tbody tr th:only-of-type {\n        vertical-align: middle;\n    }\n\n    .dataframe tbody tr th {\n        vertical-align: top;\n    }\n\n    .dataframe thead th {\n        text-align: right;\n    }\n</style>\n<table border=\"1\" class=\"dataframe\">\n  <thead>\n    <tr style=\"text-align: right;\">\n      <th></th>\n      <th>mpg</th>\n      <th>cylinders</th>\n      <th>displacement</th>\n      <th>horsepower</th>\n      <th>weight</th>\n      <th>acceleration</th>\n      <th>model_year</th>\n      <th>origin</th>\n      <th>name</th>\n    </tr>\n  </thead>\n  <tbody>\n    <tr>\n      <th>0</th>\n      <td>18.0</td>\n      <td>8</td>\n      <td>307.0</td>\n      <td>130.0</td>\n      <td>3504</td>\n      <td>12.0</td>\n      <td>70</td>\n      <td>usa</td>\n      <td>chevrolet chevelle malibu</td>\n    </tr>\n    <tr>\n      <th>1</th>\n      <td>15.0</td>\n      <td>8</td>\n      <td>350.0</td>\n      <td>165.0</td>\n      <td>3693</td>\n      <td>11.5</td>\n      <td>70</td>\n      <td>usa</td>\n      <td>buick skylark 320</td>\n    </tr>\n    <tr>\n      <th>2</th>\n      <td>18.0</td>\n      <td>8</td>\n      <td>318.0</td>\n      <td>150.0</td>\n      <td>3436</td>\n      <td>11.0</td>\n      <td>70</td>\n      <td>usa</td>\n      <td>plymouth satellite</td>\n    </tr>\n    <tr>\n      <th>3</th>\n      <td>16.0</td>\n      <td>8</td>\n      <td>304.0</td>\n      <td>150.0</td>\n      <td>3433</td>\n      <td>12.0</td>\n      <td>70</td>\n      <td>usa</td>\n      <td>amc rebel sst</td>\n    </tr>\n    <tr>\n      <th>4</th>\n      <td>17.0</td>\n      <td>8</td>\n      <td>302.0</td>\n      <td>140.0</td>\n      <td>3449</td>\n      <td>10.5</td>\n      <td>70</td>\n      <td>usa</td>\n      <td>ford torino</td>\n    </tr>\n  </tbody>\n</table>\n</div>"
     },
     "metadata": {},
     "execution_count": 22
    }
   ],
   "source": [
    "mpg.head()"
   ]
  },
  {
   "cell_type": "code",
   "execution_count": 23,
   "metadata": {},
   "outputs": [
    {
     "output_type": "execute_result",
     "data": {
      "text/plain": [
       "0      307.0\n",
       "1      350.0\n",
       "2      318.0\n",
       "3      304.0\n",
       "4      302.0\n",
       "       ...  \n",
       "393    140.0\n",
       "394     97.0\n",
       "395    135.0\n",
       "396    120.0\n",
       "397    119.0\n",
       "Name: displacement, Length: 398, dtype: float64"
      ]
     },
     "metadata": {},
     "execution_count": 23
    }
   ],
   "source": [
    "mpg.displacement"
   ]
  },
  {
   "cell_type": "code",
   "execution_count": 24,
   "metadata": {},
   "outputs": [
    {
     "output_type": "execute_result",
     "data": {
      "text/plain": [
       "0      0.423453\n",
       "1      0.471429\n",
       "2      0.471698\n",
       "3      0.493421\n",
       "4      0.463576\n",
       "         ...   \n",
       "393    0.614286\n",
       "394    0.536082\n",
       "395    0.622222\n",
       "396    0.658333\n",
       "397    0.689076\n",
       "Name: hp_per_cc, Length: 398, dtype: float64"
      ]
     },
     "metadata": {},
     "execution_count": 24
    }
   ],
   "source": [
    "# a\n",
    "mpg[\"hp_per_cc\"] = mpg.apply(lambda x:x[\"horsepower\"]/x[\"displacement\"],axis=1)\n",
    "mpg[\"hp_per_cc\"]"
   ]
  },
  {
   "cell_type": "code",
   "execution_count": 25,
   "metadata": {},
   "outputs": [
    {
     "output_type": "execute_result",
     "data": {
      "text/plain": [
       "0      chevrolet chevelle malibu\n",
       "1              buick skylark 320\n",
       "2             plymouth satellite\n",
       "3                  amc rebel sst\n",
       "4                    ford torino\n",
       "                 ...            \n",
       "393              ford mustang gl\n",
       "394                    vw pickup\n",
       "395                dodge rampage\n",
       "396                  ford ranger\n",
       "397                   chevy s-10\n",
       "Name: name, Length: 398, dtype: object"
      ]
     },
     "metadata": {},
     "execution_count": 25
    }
   ],
   "source": [
    "# b\n",
    "mpg.name"
   ]
  },
  {
   "cell_type": "code",
   "execution_count": 26,
   "metadata": {},
   "outputs": [],
   "source": [
    "mpg[\"manufacturer\"] = mpg.apply(lambda r:str(r[\"name\"]).split()[0],axis=1)"
   ]
  },
  {
   "cell_type": "code",
   "execution_count": 27,
   "metadata": {},
   "outputs": [
    {
     "output_type": "execute_result",
     "data": {
      "text/plain": [
       "0      chevelle malibu\n",
       "1          skylark 320\n",
       "2            satellite\n",
       "3            rebel sst\n",
       "4               torino\n",
       "            ...       \n",
       "393         mustang gl\n",
       "394             pickup\n",
       "395            rampage\n",
       "396             ranger\n",
       "397               s-10\n",
       "Name: model, Length: 398, dtype: object"
      ]
     },
     "metadata": {},
     "execution_count": 27
    }
   ],
   "source": [
    "mpg[\"model\"] = mpg.apply(lambda r:' '.join(str(r[\"name\"]).split()[1:]),axis=1)\n",
    "mpg[\"model\"]"
   ]
  },
  {
   "cell_type": "code",
   "execution_count": 28,
   "metadata": {},
   "outputs": [],
   "source": [
    "del mpg[\"name\"]"
   ]
  },
  {
   "cell_type": "code",
   "execution_count": 29,
   "metadata": {},
   "outputs": [
    {
     "output_type": "execute_result",
     "data": {
      "text/plain": [
       "                 mpg\n",
       "cylinders           \n",
       "8          14.963107\n",
       "6          19.985714\n",
       "5          27.366667\n",
       "4          29.286765\n",
       "3          20.550000"
      ],
      "text/html": "<div>\n<style scoped>\n    .dataframe tbody tr th:only-of-type {\n        vertical-align: middle;\n    }\n\n    .dataframe tbody tr th {\n        vertical-align: top;\n    }\n\n    .dataframe thead th {\n        text-align: right;\n    }\n</style>\n<table border=\"1\" class=\"dataframe\">\n  <thead>\n    <tr style=\"text-align: right;\">\n      <th></th>\n      <th>mpg</th>\n    </tr>\n    <tr>\n      <th>cylinders</th>\n      <th></th>\n    </tr>\n  </thead>\n  <tbody>\n    <tr>\n      <th>8</th>\n      <td>14.963107</td>\n    </tr>\n    <tr>\n      <th>6</th>\n      <td>19.985714</td>\n    </tr>\n    <tr>\n      <th>5</th>\n      <td>27.366667</td>\n    </tr>\n    <tr>\n      <th>4</th>\n      <td>29.286765</td>\n    </tr>\n    <tr>\n      <th>3</th>\n      <td>20.550000</td>\n    </tr>\n  </tbody>\n</table>\n</div>"
     },
     "metadata": {},
     "execution_count": 29
    }
   ],
   "source": [
    "# c\n",
    "mpg.groupby(\"cylinders\").mean()[::-1][[\"mpg\"]]"
   ]
  },
  {
   "cell_type": "code",
   "execution_count": 30,
   "metadata": {},
   "outputs": [
    {
     "output_type": "execute_result",
     "data": {
      "text/plain": [
       "        hp_per_cc\n",
       "origin           \n",
       "europe   0.740005\n",
       "japan    0.789485\n",
       "usa      0.512063"
      ],
      "text/html": "<div>\n<style scoped>\n    .dataframe tbody tr th:only-of-type {\n        vertical-align: middle;\n    }\n\n    .dataframe tbody tr th {\n        vertical-align: top;\n    }\n\n    .dataframe thead th {\n        text-align: right;\n    }\n</style>\n<table border=\"1\" class=\"dataframe\">\n  <thead>\n    <tr style=\"text-align: right;\">\n      <th></th>\n      <th>hp_per_cc</th>\n    </tr>\n    <tr>\n      <th>origin</th>\n      <th></th>\n    </tr>\n  </thead>\n  <tbody>\n    <tr>\n      <th>europe</th>\n      <td>0.740005</td>\n    </tr>\n    <tr>\n      <th>japan</th>\n      <td>0.789485</td>\n    </tr>\n    <tr>\n      <th>usa</th>\n      <td>0.512063</td>\n    </tr>\n  </tbody>\n</table>\n</div>"
     },
     "metadata": {},
     "execution_count": 30
    }
   ],
   "source": [
    "# d\n",
    "mpg.groupby(\"origin\").mean()[[\"hp_per_cc\"]]"
   ]
  },
  {
   "cell_type": "code",
   "execution_count": 31,
   "metadata": {},
   "outputs": [
    {
     "output_type": "execute_result",
     "data": {
      "text/plain": [
       "                     mpg  cylinders  displacement  horsepower       weight  \\\n",
       "manufacturer                                                                 \n",
       "amc            18.246429   6.357143    250.178571  114.703704  3280.642857   \n",
       "audi           26.714286   4.285714    111.857143   86.714286  2556.142857   \n",
       "bmw            23.750000   4.000000    121.000000  111.500000  2417.000000   \n",
       "buick          19.182353   6.470588    272.941176  136.411765  3553.352941   \n",
       "cadillac       19.750000   8.000000    350.000000  152.500000  4140.000000   \n",
       "capri          25.000000   4.000000    140.000000   92.000000  2572.000000   \n",
       "chevroelt      16.000000   6.000000    250.000000  105.000000  3897.000000   \n",
       "chevrolet      20.472093   6.139535    237.860465  112.930233  3276.023256   \n",
       "chevy          18.000000   6.666667    258.666667  142.333333  3717.000000   \n",
       "chrysler       17.266667   7.000000    330.166667  153.666667  3912.000000   \n",
       "datsun         31.113043   4.260870    103.260870   83.826087  2242.217391   \n",
       "dodge          22.060714   6.000000    223.125000  117.178571  3206.250000   \n",
       "fiat           28.912500   4.000000     92.125000   73.375000  2143.125000   \n",
       "ford           19.694118   6.078431    233.862745  112.229167  3301.215686   \n",
       "hi              9.000000   8.000000    304.000000  193.000000  4732.000000   \n",
       "honda          33.761538   4.000000     97.230769   67.846154  2023.384615   \n",
       "maxda          26.050000   3.500000     78.000000   77.500000  2049.500000   \n",
       "mazda          30.860000   3.700000     89.700000   77.700000  2272.200000   \n",
       "mercedes       25.400000   5.000000    183.000000   77.000000  3530.000000   \n",
       "mercedes-benz  23.250000   5.000000    157.000000   93.500000  3535.000000   \n",
       "mercury        19.118182   6.545455    258.000000  119.818182  3428.545455   \n",
       "nissan         36.000000   4.000000    120.000000   88.000000  2160.000000   \n",
       "oldsmobile     21.100000   7.200000    276.600000  122.000000  3575.900000   \n",
       "opel           25.750000   4.000000    111.250000   81.000000  2200.250000   \n",
       "peugeot        23.687500   4.250000    124.250000   88.000000  2972.750000   \n",
       "plymouth       21.703226   6.000000    222.741935  111.419355  3218.967742   \n",
       "pontiac        20.012500   6.250000    282.625000  136.937500  3655.312500   \n",
       "renault        32.880000   4.000000     92.200000   70.000000  2074.200000   \n",
       "saab           23.900000   4.000000    116.750000  108.750000  2625.250000   \n",
       "subaru         30.525000   4.000000     99.750000   73.500000  2146.500000   \n",
       "toyota         28.372000   4.240000    111.320000   83.440000  2301.160000   \n",
       "toyouta        23.000000   4.000000    120.000000   97.000000  2506.000000   \n",
       "triumph        35.000000   4.000000    122.000000   88.000000  2500.000000   \n",
       "vokswagen      29.800000   4.000000     89.000000   62.000000  1845.000000   \n",
       "volkswagen     29.106667   4.000000     96.533333   65.600000  2040.466667   \n",
       "volvo          21.116667   4.666667    133.500000  104.166667  3032.666667   \n",
       "vw             39.016667   4.000000     92.333333   60.833333  2092.666667   \n",
       "\n",
       "               acceleration  model_year  hp_per_cc  \n",
       "manufacturer                                        \n",
       "amc               15.264286   74.285714   0.454902  \n",
       "audi              15.942857   75.714286   0.779499  \n",
       "bmw               12.650000   73.500000   0.921488  \n",
       "buick             14.700000   76.117647   0.518085  \n",
       "cadillac          14.750000   77.500000   0.435714  \n",
       "capri             14.900000   76.000000   0.657143  \n",
       "chevroelt         18.500000   75.000000   0.420000  \n",
       "chevrolet         15.320930   75.511628   0.515856  \n",
       "chevy             15.466667   76.000000   0.584942  \n",
       "chrysler          13.300000   77.333333   0.470471  \n",
       "datsun            16.408696   76.869565   0.815750  \n",
       "dodge             14.460714   76.535714   0.582117  \n",
       "fiat              15.650000   74.250000   0.799070  \n",
       "ford              15.378431   75.490196   0.501533  \n",
       "hi                18.500000   70.000000   0.634868  \n",
       "honda             15.992308   78.923077   0.695736  \n",
       "maxda             14.350000   76.000000   1.020764  \n",
       "mazda             16.440000   79.300000   0.909519  \n",
       "mercedes          20.100000   79.000000   0.420765  \n",
       "mercedes-benz     19.250000   78.000000   0.586595  \n",
       "mercury           14.963636   76.090909   0.497982  \n",
       "nissan            14.500000   82.000000   0.733333  \n",
       "oldsmobile        16.020000   77.200000   0.453010  \n",
       "opel              15.225000   73.500000   0.731203  \n",
       "peugeot           19.550000   75.250000   0.719441  \n",
       "plymouth          14.851613   75.096774   0.532312  \n",
       "pontiac           14.081250   75.500000   0.508768  \n",
       "renault           17.000000   77.200000   0.758236  \n",
       "saab              15.175000   74.000000   0.930845  \n",
       "subaru            16.925000   78.000000   0.733319  \n",
       "toyota            16.100000   76.520000   0.758033  \n",
       "toyouta           14.500000   72.000000   0.808333  \n",
       "triumph           15.100000   80.000000   0.721311  \n",
       "vokswagen         15.300000   80.000000   0.696629  \n",
       "volkswagen        16.980000   75.400000   0.683160  \n",
       "volvo             15.566667   75.833333   0.789464  \n",
       "vw                18.816667   79.500000   0.658965  "
      ],
      "text/html": "<div>\n<style scoped>\n    .dataframe tbody tr th:only-of-type {\n        vertical-align: middle;\n    }\n\n    .dataframe tbody tr th {\n        vertical-align: top;\n    }\n\n    .dataframe thead th {\n        text-align: right;\n    }\n</style>\n<table border=\"1\" class=\"dataframe\">\n  <thead>\n    <tr style=\"text-align: right;\">\n      <th></th>\n      <th>mpg</th>\n      <th>cylinders</th>\n      <th>displacement</th>\n      <th>horsepower</th>\n      <th>weight</th>\n      <th>acceleration</th>\n      <th>model_year</th>\n      <th>hp_per_cc</th>\n    </tr>\n    <tr>\n      <th>manufacturer</th>\n      <th></th>\n      <th></th>\n      <th></th>\n      <th></th>\n      <th></th>\n      <th></th>\n      <th></th>\n      <th></th>\n    </tr>\n  </thead>\n  <tbody>\n    <tr>\n      <th>amc</th>\n      <td>18.246429</td>\n      <td>6.357143</td>\n      <td>250.178571</td>\n      <td>114.703704</td>\n      <td>3280.642857</td>\n      <td>15.264286</td>\n      <td>74.285714</td>\n      <td>0.454902</td>\n    </tr>\n    <tr>\n      <th>audi</th>\n      <td>26.714286</td>\n      <td>4.285714</td>\n      <td>111.857143</td>\n      <td>86.714286</td>\n      <td>2556.142857</td>\n      <td>15.942857</td>\n      <td>75.714286</td>\n      <td>0.779499</td>\n    </tr>\n    <tr>\n      <th>bmw</th>\n      <td>23.750000</td>\n      <td>4.000000</td>\n      <td>121.000000</td>\n      <td>111.500000</td>\n      <td>2417.000000</td>\n      <td>12.650000</td>\n      <td>73.500000</td>\n      <td>0.921488</td>\n    </tr>\n    <tr>\n      <th>buick</th>\n      <td>19.182353</td>\n      <td>6.470588</td>\n      <td>272.941176</td>\n      <td>136.411765</td>\n      <td>3553.352941</td>\n      <td>14.700000</td>\n      <td>76.117647</td>\n      <td>0.518085</td>\n    </tr>\n    <tr>\n      <th>cadillac</th>\n      <td>19.750000</td>\n      <td>8.000000</td>\n      <td>350.000000</td>\n      <td>152.500000</td>\n      <td>4140.000000</td>\n      <td>14.750000</td>\n      <td>77.500000</td>\n      <td>0.435714</td>\n    </tr>\n    <tr>\n      <th>capri</th>\n      <td>25.000000</td>\n      <td>4.000000</td>\n      <td>140.000000</td>\n      <td>92.000000</td>\n      <td>2572.000000</td>\n      <td>14.900000</td>\n      <td>76.000000</td>\n      <td>0.657143</td>\n    </tr>\n    <tr>\n      <th>chevroelt</th>\n      <td>16.000000</td>\n      <td>6.000000</td>\n      <td>250.000000</td>\n      <td>105.000000</td>\n      <td>3897.000000</td>\n      <td>18.500000</td>\n      <td>75.000000</td>\n      <td>0.420000</td>\n    </tr>\n    <tr>\n      <th>chevrolet</th>\n      <td>20.472093</td>\n      <td>6.139535</td>\n      <td>237.860465</td>\n      <td>112.930233</td>\n      <td>3276.023256</td>\n      <td>15.320930</td>\n      <td>75.511628</td>\n      <td>0.515856</td>\n    </tr>\n    <tr>\n      <th>chevy</th>\n      <td>18.000000</td>\n      <td>6.666667</td>\n      <td>258.666667</td>\n      <td>142.333333</td>\n      <td>3717.000000</td>\n      <td>15.466667</td>\n      <td>76.000000</td>\n      <td>0.584942</td>\n    </tr>\n    <tr>\n      <th>chrysler</th>\n      <td>17.266667</td>\n      <td>7.000000</td>\n      <td>330.166667</td>\n      <td>153.666667</td>\n      <td>3912.000000</td>\n      <td>13.300000</td>\n      <td>77.333333</td>\n      <td>0.470471</td>\n    </tr>\n    <tr>\n      <th>datsun</th>\n      <td>31.113043</td>\n      <td>4.260870</td>\n      <td>103.260870</td>\n      <td>83.826087</td>\n      <td>2242.217391</td>\n      <td>16.408696</td>\n      <td>76.869565</td>\n      <td>0.815750</td>\n    </tr>\n    <tr>\n      <th>dodge</th>\n      <td>22.060714</td>\n      <td>6.000000</td>\n      <td>223.125000</td>\n      <td>117.178571</td>\n      <td>3206.250000</td>\n      <td>14.460714</td>\n      <td>76.535714</td>\n      <td>0.582117</td>\n    </tr>\n    <tr>\n      <th>fiat</th>\n      <td>28.912500</td>\n      <td>4.000000</td>\n      <td>92.125000</td>\n      <td>73.375000</td>\n      <td>2143.125000</td>\n      <td>15.650000</td>\n      <td>74.250000</td>\n      <td>0.799070</td>\n    </tr>\n    <tr>\n      <th>ford</th>\n      <td>19.694118</td>\n      <td>6.078431</td>\n      <td>233.862745</td>\n      <td>112.229167</td>\n      <td>3301.215686</td>\n      <td>15.378431</td>\n      <td>75.490196</td>\n      <td>0.501533</td>\n    </tr>\n    <tr>\n      <th>hi</th>\n      <td>9.000000</td>\n      <td>8.000000</td>\n      <td>304.000000</td>\n      <td>193.000000</td>\n      <td>4732.000000</td>\n      <td>18.500000</td>\n      <td>70.000000</td>\n      <td>0.634868</td>\n    </tr>\n    <tr>\n      <th>honda</th>\n      <td>33.761538</td>\n      <td>4.000000</td>\n      <td>97.230769</td>\n      <td>67.846154</td>\n      <td>2023.384615</td>\n      <td>15.992308</td>\n      <td>78.923077</td>\n      <td>0.695736</td>\n    </tr>\n    <tr>\n      <th>maxda</th>\n      <td>26.050000</td>\n      <td>3.500000</td>\n      <td>78.000000</td>\n      <td>77.500000</td>\n      <td>2049.500000</td>\n      <td>14.350000</td>\n      <td>76.000000</td>\n      <td>1.020764</td>\n    </tr>\n    <tr>\n      <th>mazda</th>\n      <td>30.860000</td>\n      <td>3.700000</td>\n      <td>89.700000</td>\n      <td>77.700000</td>\n      <td>2272.200000</td>\n      <td>16.440000</td>\n      <td>79.300000</td>\n      <td>0.909519</td>\n    </tr>\n    <tr>\n      <th>mercedes</th>\n      <td>25.400000</td>\n      <td>5.000000</td>\n      <td>183.000000</td>\n      <td>77.000000</td>\n      <td>3530.000000</td>\n      <td>20.100000</td>\n      <td>79.000000</td>\n      <td>0.420765</td>\n    </tr>\n    <tr>\n      <th>mercedes-benz</th>\n      <td>23.250000</td>\n      <td>5.000000</td>\n      <td>157.000000</td>\n      <td>93.500000</td>\n      <td>3535.000000</td>\n      <td>19.250000</td>\n      <td>78.000000</td>\n      <td>0.586595</td>\n    </tr>\n    <tr>\n      <th>mercury</th>\n      <td>19.118182</td>\n      <td>6.545455</td>\n      <td>258.000000</td>\n      <td>119.818182</td>\n      <td>3428.545455</td>\n      <td>14.963636</td>\n      <td>76.090909</td>\n      <td>0.497982</td>\n    </tr>\n    <tr>\n      <th>nissan</th>\n      <td>36.000000</td>\n      <td>4.000000</td>\n      <td>120.000000</td>\n      <td>88.000000</td>\n      <td>2160.000000</td>\n      <td>14.500000</td>\n      <td>82.000000</td>\n      <td>0.733333</td>\n    </tr>\n    <tr>\n      <th>oldsmobile</th>\n      <td>21.100000</td>\n      <td>7.200000</td>\n      <td>276.600000</td>\n      <td>122.000000</td>\n      <td>3575.900000</td>\n      <td>16.020000</td>\n      <td>77.200000</td>\n      <td>0.453010</td>\n    </tr>\n    <tr>\n      <th>opel</th>\n      <td>25.750000</td>\n      <td>4.000000</td>\n      <td>111.250000</td>\n      <td>81.000000</td>\n      <td>2200.250000</td>\n      <td>15.225000</td>\n      <td>73.500000</td>\n      <td>0.731203</td>\n    </tr>\n    <tr>\n      <th>peugeot</th>\n      <td>23.687500</td>\n      <td>4.250000</td>\n      <td>124.250000</td>\n      <td>88.000000</td>\n      <td>2972.750000</td>\n      <td>19.550000</td>\n      <td>75.250000</td>\n      <td>0.719441</td>\n    </tr>\n    <tr>\n      <th>plymouth</th>\n      <td>21.703226</td>\n      <td>6.000000</td>\n      <td>222.741935</td>\n      <td>111.419355</td>\n      <td>3218.967742</td>\n      <td>14.851613</td>\n      <td>75.096774</td>\n      <td>0.532312</td>\n    </tr>\n    <tr>\n      <th>pontiac</th>\n      <td>20.012500</td>\n      <td>6.250000</td>\n      <td>282.625000</td>\n      <td>136.937500</td>\n      <td>3655.312500</td>\n      <td>14.081250</td>\n      <td>75.500000</td>\n      <td>0.508768</td>\n    </tr>\n    <tr>\n      <th>renault</th>\n      <td>32.880000</td>\n      <td>4.000000</td>\n      <td>92.200000</td>\n      <td>70.000000</td>\n      <td>2074.200000</td>\n      <td>17.000000</td>\n      <td>77.200000</td>\n      <td>0.758236</td>\n    </tr>\n    <tr>\n      <th>saab</th>\n      <td>23.900000</td>\n      <td>4.000000</td>\n      <td>116.750000</td>\n      <td>108.750000</td>\n      <td>2625.250000</td>\n      <td>15.175000</td>\n      <td>74.000000</td>\n      <td>0.930845</td>\n    </tr>\n    <tr>\n      <th>subaru</th>\n      <td>30.525000</td>\n      <td>4.000000</td>\n      <td>99.750000</td>\n      <td>73.500000</td>\n      <td>2146.500000</td>\n      <td>16.925000</td>\n      <td>78.000000</td>\n      <td>0.733319</td>\n    </tr>\n    <tr>\n      <th>toyota</th>\n      <td>28.372000</td>\n      <td>4.240000</td>\n      <td>111.320000</td>\n      <td>83.440000</td>\n      <td>2301.160000</td>\n      <td>16.100000</td>\n      <td>76.520000</td>\n      <td>0.758033</td>\n    </tr>\n    <tr>\n      <th>toyouta</th>\n      <td>23.000000</td>\n      <td>4.000000</td>\n      <td>120.000000</td>\n      <td>97.000000</td>\n      <td>2506.000000</td>\n      <td>14.500000</td>\n      <td>72.000000</td>\n      <td>0.808333</td>\n    </tr>\n    <tr>\n      <th>triumph</th>\n      <td>35.000000</td>\n      <td>4.000000</td>\n      <td>122.000000</td>\n      <td>88.000000</td>\n      <td>2500.000000</td>\n      <td>15.100000</td>\n      <td>80.000000</td>\n      <td>0.721311</td>\n    </tr>\n    <tr>\n      <th>vokswagen</th>\n      <td>29.800000</td>\n      <td>4.000000</td>\n      <td>89.000000</td>\n      <td>62.000000</td>\n      <td>1845.000000</td>\n      <td>15.300000</td>\n      <td>80.000000</td>\n      <td>0.696629</td>\n    </tr>\n    <tr>\n      <th>volkswagen</th>\n      <td>29.106667</td>\n      <td>4.000000</td>\n      <td>96.533333</td>\n      <td>65.600000</td>\n      <td>2040.466667</td>\n      <td>16.980000</td>\n      <td>75.400000</td>\n      <td>0.683160</td>\n    </tr>\n    <tr>\n      <th>volvo</th>\n      <td>21.116667</td>\n      <td>4.666667</td>\n      <td>133.500000</td>\n      <td>104.166667</td>\n      <td>3032.666667</td>\n      <td>15.566667</td>\n      <td>75.833333</td>\n      <td>0.789464</td>\n    </tr>\n    <tr>\n      <th>vw</th>\n      <td>39.016667</td>\n      <td>4.000000</td>\n      <td>92.333333</td>\n      <td>60.833333</td>\n      <td>2092.666667</td>\n      <td>18.816667</td>\n      <td>79.500000</td>\n      <td>0.658965</td>\n    </tr>\n  </tbody>\n</table>\n</div>"
     },
     "metadata": {},
     "execution_count": 31
    }
   ],
   "source": [
    "#e\n",
    "mpg_manu = mpg.groupby([\"manufacturer\"]).mean()\n",
    "mpg_manu"
   ]
  },
  {
   "cell_type": "code",
   "execution_count": 32,
   "metadata": {},
   "outputs": [
    {
     "output_type": "execute_result",
     "data": {
      "text/plain": [
       "                    mpg\n",
       "manufacturer           \n",
       "vw            39.016667\n",
       "honda         33.761538\n",
       "renault       32.880000\n",
       "datsun        31.113043\n",
       "mazda         30.860000"
      ],
      "text/html": "<div>\n<style scoped>\n    .dataframe tbody tr th:only-of-type {\n        vertical-align: middle;\n    }\n\n    .dataframe tbody tr th {\n        vertical-align: top;\n    }\n\n    .dataframe thead th {\n        text-align: right;\n    }\n</style>\n<table border=\"1\" class=\"dataframe\">\n  <thead>\n    <tr style=\"text-align: right;\">\n      <th></th>\n      <th>mpg</th>\n    </tr>\n    <tr>\n      <th>manufacturer</th>\n      <th></th>\n    </tr>\n  </thead>\n  <tbody>\n    <tr>\n      <th>vw</th>\n      <td>39.016667</td>\n    </tr>\n    <tr>\n      <th>honda</th>\n      <td>33.761538</td>\n    </tr>\n    <tr>\n      <th>renault</th>\n      <td>32.880000</td>\n    </tr>\n    <tr>\n      <th>datsun</th>\n      <td>31.113043</td>\n    </tr>\n    <tr>\n      <th>mazda</th>\n      <td>30.860000</td>\n    </tr>\n  </tbody>\n</table>\n</div>"
     },
     "metadata": {},
     "execution_count": 32
    }
   ],
   "source": [
    "# 이게 답이고 아래는 푼던 다른 방법입니다\n",
    "mpg_manu[mpg.manufacturer.value_counts()>4].sort_values(by=\"mpg\")[:-6:-1][[\"mpg\"]]"
   ]
  },
  {
   "cell_type": "code",
   "execution_count": 33,
   "metadata": {},
   "outputs": [
    {
     "output_type": "execute_result",
     "data": {
      "text/plain": [
       "            manufacturer\n",
       "ford                  51\n",
       "chevrolet             43\n",
       "plymouth              31\n",
       "dodge                 28\n",
       "amc                   28\n",
       "toyota                25\n",
       "datsun                23\n",
       "buick                 17\n",
       "pontiac               16\n",
       "volkswagen            15\n",
       "honda                 13\n",
       "mercury               11\n",
       "oldsmobile            10\n",
       "mazda                 10\n",
       "fiat                   8\n",
       "peugeot                8\n",
       "audi                   7\n",
       "vw                     6\n",
       "volvo                  6\n",
       "chrysler               6\n",
       "renault                5"
      ],
      "text/html": "<div>\n<style scoped>\n    .dataframe tbody tr th:only-of-type {\n        vertical-align: middle;\n    }\n\n    .dataframe tbody tr th {\n        vertical-align: top;\n    }\n\n    .dataframe thead th {\n        text-align: right;\n    }\n</style>\n<table border=\"1\" class=\"dataframe\">\n  <thead>\n    <tr style=\"text-align: right;\">\n      <th></th>\n      <th>manufacturer</th>\n    </tr>\n  </thead>\n  <tbody>\n    <tr>\n      <th>ford</th>\n      <td>51</td>\n    </tr>\n    <tr>\n      <th>chevrolet</th>\n      <td>43</td>\n    </tr>\n    <tr>\n      <th>plymouth</th>\n      <td>31</td>\n    </tr>\n    <tr>\n      <th>dodge</th>\n      <td>28</td>\n    </tr>\n    <tr>\n      <th>amc</th>\n      <td>28</td>\n    </tr>\n    <tr>\n      <th>toyota</th>\n      <td>25</td>\n    </tr>\n    <tr>\n      <th>datsun</th>\n      <td>23</td>\n    </tr>\n    <tr>\n      <th>buick</th>\n      <td>17</td>\n    </tr>\n    <tr>\n      <th>pontiac</th>\n      <td>16</td>\n    </tr>\n    <tr>\n      <th>volkswagen</th>\n      <td>15</td>\n    </tr>\n    <tr>\n      <th>honda</th>\n      <td>13</td>\n    </tr>\n    <tr>\n      <th>mercury</th>\n      <td>11</td>\n    </tr>\n    <tr>\n      <th>oldsmobile</th>\n      <td>10</td>\n    </tr>\n    <tr>\n      <th>mazda</th>\n      <td>10</td>\n    </tr>\n    <tr>\n      <th>fiat</th>\n      <td>8</td>\n    </tr>\n    <tr>\n      <th>peugeot</th>\n      <td>8</td>\n    </tr>\n    <tr>\n      <th>audi</th>\n      <td>7</td>\n    </tr>\n    <tr>\n      <th>vw</th>\n      <td>6</td>\n    </tr>\n    <tr>\n      <th>volvo</th>\n      <td>6</td>\n    </tr>\n    <tr>\n      <th>chrysler</th>\n      <td>6</td>\n    </tr>\n    <tr>\n      <th>renault</th>\n      <td>5</td>\n    </tr>\n  </tbody>\n</table>\n</div>"
     },
     "metadata": {},
     "execution_count": 33
    }
   ],
   "source": [
    "#e practice\n",
    "a = mpg.manufacturer.value_counts()[mpg.manufacturer.value_counts()>4]\n",
    "mpg_manu_count = pd.DataFrame(a)\n",
    "mpg_manu_count"
   ]
  },
  {
   "cell_type": "code",
   "execution_count": 34,
   "metadata": {},
   "outputs": [
    {
     "output_type": "execute_result",
     "data": {
      "text/plain": [
       "               mpg\n",
       "vw       39.016667\n",
       "honda    33.761538\n",
       "renault  32.880000\n",
       "datsun   31.113043\n",
       "mazda    30.860000"
      ],
      "text/html": "<div>\n<style scoped>\n    .dataframe tbody tr th:only-of-type {\n        vertical-align: middle;\n    }\n\n    .dataframe tbody tr th {\n        vertical-align: top;\n    }\n\n    .dataframe thead th {\n        text-align: right;\n    }\n</style>\n<table border=\"1\" class=\"dataframe\">\n  <thead>\n    <tr style=\"text-align: right;\">\n      <th></th>\n      <th>mpg</th>\n    </tr>\n  </thead>\n  <tbody>\n    <tr>\n      <th>vw</th>\n      <td>39.016667</td>\n    </tr>\n    <tr>\n      <th>honda</th>\n      <td>33.761538</td>\n    </tr>\n    <tr>\n      <th>renault</th>\n      <td>32.880000</td>\n    </tr>\n    <tr>\n      <th>datsun</th>\n      <td>31.113043</td>\n    </tr>\n    <tr>\n      <th>mazda</th>\n      <td>30.860000</td>\n    </tr>\n  </tbody>\n</table>\n</div>"
     },
     "metadata": {},
     "execution_count": 34
    }
   ],
   "source": [
    "mpg_manu_count.join(mpg_manu, how='inner').sort_values(by=\"mpg\")[:-6:-1][[\"mpg\"]]"
   ]
  },
  {
   "cell_type": "code",
   "execution_count": null,
   "metadata": {},
   "outputs": [],
   "source": []
  },
  {
   "cell_type": "code",
   "execution_count": null,
   "metadata": {},
   "outputs": [],
   "source": []
  },
  {
   "cell_type": "code",
   "execution_count": null,
   "metadata": {},
   "outputs": [],
   "source": []
  },
  {
   "cell_type": "code",
   "execution_count": null,
   "metadata": {},
   "outputs": [],
   "source": []
  }
 ]
}