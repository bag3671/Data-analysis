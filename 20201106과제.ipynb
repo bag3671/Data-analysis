{
 "metadata": {
  "language_info": {
   "codemirror_mode": {
    "name": "ipython",
    "version": 3
   },
   "file_extension": ".py",
   "mimetype": "text/x-python",
   "name": "python",
   "nbconvert_exporter": "python",
   "pygments_lexer": "ipython3",
   "version": "3.8.3-final"
  },
  "orig_nbformat": 2,
  "kernelspec": {
   "name": "Python 3.8.3 64-bit (conda)",
   "display_name": "Python 3.8.3 64-bit (conda)",
   "metadata": {
    "interpreter": {
     "hash": "b3ba2566441a7c06988d0923437866b63cedc61552a5af99d1f4fb67d367b25f"
    }
   }
  }
 },
 "nbformat": 4,
 "nbformat_minor": 2,
 "cells": [
  {
   "source": [
    "# 연습문제"
   ],
   "cell_type": "markdown",
   "metadata": {}
  },
  {
   "source": [
    "## 1번"
   ],
   "cell_type": "markdown",
   "metadata": {}
  },
  {
   "cell_type": "code",
   "execution_count": 5,
   "metadata": {},
   "outputs": [],
   "source": [
    "import sqlite3\n",
    "conn = sqlite3.connect('./01.DB/TEST.db')\n",
    "cur = conn.cursor()"
   ]
  },
  {
   "cell_type": "code",
   "execution_count": 4,
   "metadata": {},
   "outputs": [],
   "source": [
    "insert_Eagles_sql = 'INSERT INTO Eagles VALUES (?, ?, ?)'\n",
    "players = ((1,'신정락','투수'),(5,'윤대경','투수'),(11,'임준섭','투수'),(15,'문동욱','투수'),(17,'김범수','투수'),(18,'박주홍','투수'))\n",
    "cur.executemany(insert_Eagles_sql,players)\n",
    "conn.commit()"
   ]
  },
  {
   "cell_type": "code",
   "execution_count": 4,
   "metadata": {},
   "outputs": [],
   "source": [
    "ceate_table_sql = 'create table IF NOT EXISTS       Pitcher_stats(\\\n",
    "back_no int not null,\\\n",
    "ERA float,\\\n",
    "IP float,\\\n",
    "SO float\\\n",
    ")'\n",
    "cur.execute(ceate_table_sql)\n",
    "conn.commit()"
   ]
  },
  {
   "cell_type": "code",
   "execution_count": 23,
   "metadata": {},
   "outputs": [],
   "source": [
    "insert_Pitchers_sql = 'insert into Pitcher_stats \\\n",
    "    values(?,?,?,?)'\n",
    "players_record = ((1,9,12,14),(5,1.59,51,42),(11,13.5,8.6,6),(15,4.5,18,9),(17,5.24,55,55),(18,8.39,24.6,19))\n",
    "cur.executemany(insert_sql,players_record)\n",
    "conn.commit()"
   ]
  },
  {
   "cell_type": "code",
   "execution_count": 59,
   "metadata": {},
   "outputs": [
    {
     "output_type": "stream",
     "name": "stdout",
     "text": [
      "등번호:1 이름:신정락 포지션:투수 투구이닝:12.0 평균자책점:9.0 탈삼진:14.0 \n등번호:5 이름:윤대경 포지션:투수 투구이닝:51.0 평균자책점:1.59 탈삼진:42.0 \n등번호:11 이름:임준섭 포지션:투수 투구이닝:8.6 평균자책점:13.5 탈삼진:6.0 \n등번호:15 이름:문동욱 포지션:투수 투구이닝:18.0 평균자책점:4.5 탈삼진:9.0 \n등번호:17 이름:김범수 포지션:투수 투구이닝:55.0 평균자책점:5.24 탈삼진:55.0 \n등번호:18 이름:박주홍 포지션:투수 투구이닝:24.6 평균자책점:8.39 탈삼진:19.0 \n"
     ]
    }
   ],
   "source": [
    "select_sql = 'select Eagles.back_no,Eagles.name,\\\n",
    "    Eagles.position,Pi.IP,Pi.ERA,PI.SO from Eagles \\\n",
    "        inner join Pitcher_stats as Pi\\\n",
    "            on Eagles.back_no = PI.back_no'\n",
    "cur.execute(select_sql)\n",
    "rows = cur.fetchall()\n",
    "for row in rows:\n",
    "    print(f'등번호:{row[0]} 이름:{row[1]} 포지션:{row[2]} 투구이닝:{row[3]} 평균자책점:{row[4]} 탈삼진:{row[5]} ')"
   ]
  },
  {
   "cell_type": "code",
   "execution_count": 43,
   "metadata": {},
   "outputs": [],
   "source": [
    "conn.close()"
   ]
  },
  {
   "source": [
    "## 2번"
   ],
   "cell_type": "markdown",
   "metadata": {}
  },
  {
   "cell_type": "code",
   "execution_count": 2,
   "metadata": {},
   "outputs": [],
   "source": [
    "import sqlite3\n",
    "conn = sqlite3.connect('./01.DB/TEST.db')\n",
    "cur = conn.cursor()"
   ]
  },
  {
   "cell_type": "code",
   "execution_count": 36,
   "metadata": {},
   "outputs": [
    {
     "output_type": "execute_result",
     "data": {
      "text/plain": [
       "<sqlite3.Cursor at 0x23dc5db10a0>"
      ]
     },
     "metadata": {},
     "execution_count": 36
    }
   ],
   "source": [
    "create_girlgroup_sql = 'create table girlGroup(\\\n",
    "    id INT AUTO_INCREMENT,\\\n",
    "    group_name varchar(10),\\\n",
    "    members int,\\\n",
    "    debut datetime,\\\n",
    "    agency varchar(10),\\\n",
    "    primary key(id))'\n",
    "cur.execute(create_girlgroup_sql)"
   ]
  },
  {
   "cell_type": "code",
   "execution_count": 11,
   "metadata": {},
   "outputs": [],
   "source": [
    "insert_girlGroup_sql = 'insert into \\\n",
    "    girlGroup(group_name,members,debut,agency) \\\n",
    "    values(?,?,?,?)'\n",
    "girlGroups = (('블랙핑크',4,'2016-8-8','YG'),\n",
    "    ('fromis_9',9,'2017-9-29','off the record'),\n",
    "    ('마마무',4,'2014-6-19','RBW'),\n",
    "    ('트와이스',9,'2015-10-20','JYP'),\n",
    "    ('오마이걸',7 ,'2015-4-21','WM'),\n",
    "    ('이달의소녀',12,'2018-08-19','BlockBerry Creative'),\n",
    "    ('여자아이들',6,'2018-5-2','CUBE'))\n",
    "cur.executemany(insert_girlGroup_sql,girlGroups)\n",
    "conn.commit()"
   ]
  },
  {
   "cell_type": "code",
   "execution_count": 39,
   "metadata": {},
   "outputs": [],
   "source": [
    "create_songs_sql = 'create table songs(\\\n",
    "    song_id primary key,\\\n",
    "    song_name varchar(10),\\\n",
    "    group_id int,\\\n",
    "    release_year datetime,\\\n",
    "    composer varchar(10),\\\n",
    "    Introductory_lyrics varchar(100))'\n",
    "cur.execute(create_songs_sql)\n",
    "conn.commit()"
   ]
  },
  {
   "cell_type": "code",
   "execution_count": 23,
   "metadata": {},
   "outputs": [],
   "source": [
    "insert_songs_sql = 'insert into songs(song_name,group_id,release_year,\\\n",
    "composer,Introductory_lyrics) values(?,?,?,?,?)'\n",
    "songs = (('How You Like That',1,'2020-06-26','TEDDY, R.Tee, 24',\"BLACKPINK in your area\\\n",
    "    보란 듯이 무너졌어\\\n",
    "    바닥을 뚫고 저 지하까지\\\n",
    "    옷 끝자락 잡겠다고\\\n",
    "    저 높이 두 손을 뻗어 봐도\\\n",
    "    다시 캄캄한 이곳에 light up the sky\\\n",
    "    네 두 눈을 보며 I'll kiss you goodbye\\\n",
    "    실컷 비웃어라 꼴 좋으니까\\\n",
    "    이제 너희 하나 둘 셋\"),\\\n",
    "('Feel Good',2,'2020-9-16','이우민 \"collapsedone\"Justin Reinstein JJean',\"Feel so good\\\n",
    "    Cuz I feel so good\\\n",
    "    Nanananana nanananana\\\n",
    "    Nanananana\\\n",
    "    Hello, come into my place\\\n",
    "    (Yeah yeah yeah yeah)\\\n",
    "    비밀스런 나의 Space\\\n",
    "    (Yeah yeah yeah yeah)\\\n",
    "    여기서 내 시간은 Slo-w\\\n",
    "    다른 시선은 No no\\\n",
    "    내게로 와서 Fallin'\\\n",
    "    지금 기분에 맡겨 Feel it hey hey\"),\n",
    "('딩가딩가',3,'2020-10-20','김도훈, 박우상, 화사','''딩가딩가할래\n",
    "    친구들 모아\n",
    "    한잔 할래\n",
    "    Drink like a like a like a fish\n",
    "    딩가딩 링가링\n",
    "    노는 게 좋아 yeah\n",
    "    딩가딩가 딩가딩가\n",
    "    Ice cream 먹으러 갈래\n",
    "    나나나나나\n",
    "    딩가딩가'''),\n",
    "(\"I CAN'T STOP ME\",4,'2020-10-26','J.Y. Park \"The Asiansoul\"\\\n",
    "    심은지','''알람이 울려대 Ring ring a ling\n",
    "    서로의 눈길이 닿을 때마다\n",
    "    알면서 빙빙 도는데\n",
    "    점점 다가가잖아 I know it’s too late\n",
    "    마음속으로는 다 알고 있잖아\n",
    "    결국에는 선을 넘게 될 거라는 걸\n",
    "    I’m warning to myself\n",
    "    너 그러면 안 돼'''),\n",
    "('살짝 설렜어',5,'2020-4-27','STEVEN LEE, Andreas Johansson','''\n",
    "    going nonstop\n",
    "    말도 안 되잖아 그치 yayayaya\n",
    "    우린 서로가 모르는 게 없는 사인 걸\n",
    "    이토록 빤히 nanananana like nanananana\n",
    "    우리 사이 비밀 따위 있을 리 없는 걸\n",
    "    다 봤지 우린'''),\n",
    "('Why Not?',6,'2020-10-19','Will Simms,Sondre Nystrom,Julia Finnseter,\\\n",
    "    Ellen Berg','''I'm a bad girl 다 말하지\n",
    "대답을 빼앗고 내 입을 닫지\n",
    "그 아래 깨물린 붉게 물든 lips\n",
    "굳이 숨기지 않는 반항기\n",
    "I'm not a bad girl 좀 다르지\n",
    "딴 애들처럼 아주 반듯이\n",
    "칼같이 잘린 똑단발머린\n",
    "난 어울리지 않을 뿐이지'''),\n",
    "('덤디덤디',7,'2020-8-3','소연, Pop Time','''\n",
    "뜨거운 태양에 살짝 미친 난 쉽게 두 볼이 빨개지고\n",
    "그러다 어질어질 달아오른 난 헤엄을 치듯 춤을 추고\n",
    "음악을 더 크게 더 틀고 싶어 우리 사랑이 안 들리게\n",
    "안아도 더 가까이 붙고 싶어 닿은 심장이 팡 터지게'''),\n",
    "('눈누난나',8,'2020-7-30','유건형, 페노메코(PENOMECO), 전병일','''\n",
    "I’m trying to give u something more\n",
    "So come with me and fly away\n",
    "away away away away\n",
    "그래서 난 눈누난나\n",
    "눈누누난나'''))\n",
    "cur.executemany(insert_songs_sql,songs)\n",
    "conn.commit()"
   ]
  },
  {
   "cell_type": "code",
   "execution_count": 60,
   "metadata": {},
   "outputs": [
    {
     "output_type": "stream",
     "name": "stdout",
     "text": [
      "그룹명:마마무 멤버수:4 데뷔날짜:2014-6-19 노래이름:딩가딩가 발표날짜:2020-10-20\n그룹명:트와이스 멤버수:9 데뷔날짜:2015-10-20 노래이름:I CAN'T STOP ME 발표날짜:2020-10-26\n그룹명:오마이걸 멤버수:7 데뷔날짜:2015-4-21 노래이름:살짝 설렜어 발표날짜:2020-4-27\n그룹명:블랙핑크 멤버수:4 데뷔날짜:2016-8-8 노래이름:How You Like That 발표날짜:2020-06-26\n그룹명:fromis_9 멤버수:9 데뷔날짜:2017-9-29 노래이름:Feel Good 발표날짜:2020-9-16\n그룹명:이달의소녀 멤버수:12 데뷔날짜:2018-08-19 노래이름:Why Not? 발표날짜:2020-10-19\n그룹명:여자아이들 멤버수:6 데뷔날짜:2018-5-2 노래이름:덤디덤디 발표날짜:2020-8-3\n"
     ]
    }
   ],
   "source": [
    "select_girlgroupSongs_sql = 'select gg.group_name,gg.members,gg.debut,s.song_name,s.release_year from girlGroup as gg inner join songs as s on gg.rowid = s.group_id order by debut'\n",
    "cur.execute(select_girlgroupSongs_sql)\n",
    "rows = cur.fetchall()\n",
    "for row in rows:\n",
    "    print(f'그룹명:{row[0]} 멤버수:{row[1]} 데뷔날짜:{row[2]} 노래이름:{row[3]} 발표날짜:{row[4]}')"
   ]
  },
  {
   "source": [
    "## 3번문제"
   ],
   "cell_type": "markdown",
   "metadata": {}
  },
  {
   "cell_type": "code",
   "execution_count": 34,
   "metadata": {},
   "outputs": [
    {
     "output_type": "execute_result",
     "data": {
      "text/plain": [
       "<sqlite3.Cursor at 0x26224263880>"
      ]
     },
     "metadata": {},
     "execution_count": 34
    }
   ],
   "source": [
    "create_Users_sql = 'create table users(\\\n",
    "    id varchar(10) primary key,\\\n",
    "    password varchar(20))'\n",
    "cur.execute(create_Users_sql)"
   ]
  },
  {
   "cell_type": "code",
   "execution_count": 39,
   "metadata": {},
   "outputs": [
    {
     "output_type": "execute_result",
     "data": {
      "text/plain": [
       "<sqlite3.Cursor at 0x26224263880>"
      ]
     },
     "metadata": {},
     "execution_count": 39
    }
   ],
   "source": [
    "insert_user_sql = \"insert into users(id,password) values('admin',1234)\"\n",
    "cur.execute(insert_user_sql)\n",
    "conn.commit()"
   ]
  },
  {
   "cell_type": "code",
   "execution_count": 26,
   "metadata": {},
   "outputs": [],
   "source": [
    "id = input('아이디를 입력하세요') #admin\n",
    "pwd = input('비밀번호를 입력하세요') #1234"
   ]
  },
  {
   "cell_type": "code",
   "execution_count": 32,
   "metadata": {},
   "outputs": [
    {
     "output_type": "error",
     "ename": "OperationalError",
     "evalue": "no such function: if",
     "traceback": [
      "\u001b[1;31m---------------------------------------------------------------------------\u001b[0m",
      "\u001b[1;31mOperationalError\u001b[0m                          Traceback (most recent call last)",
      "\u001b[1;32m<ipython-input-32-937de996c6e7>\u001b[0m in \u001b[0;36m<module>\u001b[1;34m\u001b[0m\n\u001b[0;32m      1\u001b[0m \u001b[0mselect_users_sql\u001b[0m \u001b[1;33m=\u001b[0m \u001b[1;34m'select if(id = NULL,0,id),password from users where id = ?'\u001b[0m\u001b[1;33m\u001b[0m\u001b[1;33m\u001b[0m\u001b[0m\n\u001b[1;32m----> 2\u001b[1;33m \u001b[0mcur\u001b[0m\u001b[1;33m.\u001b[0m\u001b[0mexecute\u001b[0m\u001b[1;33m(\u001b[0m\u001b[0mselect_users_sql\u001b[0m\u001b[1;33m,\u001b[0m\u001b[1;33m(\u001b[0m\u001b[0mid\u001b[0m\u001b[1;33m,\u001b[0m\u001b[1;33m)\u001b[0m\u001b[1;33m)\u001b[0m\u001b[1;33m\u001b[0m\u001b[1;33m\u001b[0m\u001b[0m\n\u001b[0m\u001b[0;32m      3\u001b[0m \u001b[0mrow\u001b[0m \u001b[1;33m=\u001b[0m \u001b[0mcur\u001b[0m\u001b[1;33m.\u001b[0m\u001b[0mfetchone\u001b[0m\u001b[1;33m(\u001b[0m\u001b[1;33m)\u001b[0m\u001b[1;33m\u001b[0m\u001b[1;33m\u001b[0m\u001b[0m\n\u001b[0;32m      4\u001b[0m \u001b[1;33m\u001b[0m\u001b[0m\n\u001b[0;32m      5\u001b[0m \u001b[0mprint\u001b[0m\u001b[1;33m(\u001b[0m\u001b[1;34m'성공'\u001b[0m \u001b[1;32mif\u001b[0m \u001b[0mid\u001b[0m \u001b[1;33m==\u001b[0m \u001b[0mrow\u001b[0m\u001b[1;33m[\u001b[0m\u001b[1;36m0\u001b[0m\u001b[1;33m]\u001b[0m \u001b[1;32mand\u001b[0m \u001b[0mpwd\u001b[0m \u001b[1;33m==\u001b[0m \u001b[0mrow\u001b[0m\u001b[1;33m[\u001b[0m\u001b[1;36m1\u001b[0m\u001b[1;33m]\u001b[0m \u001b[1;32melse\u001b[0m \u001b[1;34m'실패'\u001b[0m\u001b[1;33m)\u001b[0m\u001b[1;33m\u001b[0m\u001b[1;33m\u001b[0m\u001b[0m\n",
      "\u001b[1;31mOperationalError\u001b[0m: no such function: if"
     ]
    }
   ],
   "source": [
    "select_users_sql = 'select id,password from users where id = ?'\n",
    "cur.execute(select_users_sql,(id,))\n",
    "row = cur.fetchone()\n",
    "\n",
    "print('성공' if id == row[0] and pwd == row[1] else '실패')\n",
    "\n",
    "    "
   ]
  },
  {
   "cell_type": "code",
   "execution_count": null,
   "metadata": {},
   "outputs": [],
   "source": []
  }
 ]
}