{
 "metadata": {
  "language_info": {
   "codemirror_mode": {
    "name": "ipython",
    "version": 3
   },
   "file_extension": ".py",
   "mimetype": "text/x-python",
   "name": "python",
   "nbconvert_exporter": "python",
   "pygments_lexer": "ipython3",
   "version": "3.8.3-final"
  },
  "orig_nbformat": 2,
  "kernelspec": {
   "name": "python3",
   "display_name": "Python 3"
  }
 },
 "nbformat": 4,
 "nbformat_minor": 2,
 "cells": [
  {
   "cell_type": "code",
   "execution_count": 8,
   "metadata": {},
   "outputs": [],
   "source": [
    "import requests\n",
    "from urllib.parse import urlparse\n",
    "import pandas as pd"
   ]
  },
  {
   "cell_type": "code",
   "execution_count": 9,
   "metadata": {},
   "outputs": [],
   "source": [
    "key_fd = open('roadapikey.txt')\n",
    "roadapi_key = key_fd.read(100)\n",
    "key_fd.close()"
   ]
  },
  {
   "cell_type": "code",
   "execution_count": 11,
   "metadata": {},
   "outputs": [
    {
     "output_type": "execute_result",
     "data": {
      "text/plain": [
       "{'results': {'common': {'errorMessage': '정상',\n",
       "   'countPerPage': '10',\n",
       "   'totalCount': '2',\n",
       "   'errorCode': '0',\n",
       "   'currentPage': '1'},\n",
       "  'juso': [{'detBdNmList': '',\n",
       "    'engAddr': '40-3, Sanae-ro, Sanae-myeon, Hwacheon-gun, Gangwon-do',\n",
       "    'rn': '사내로',\n",
       "    'emdNm': '사내면',\n",
       "    'zipNo': '24154',\n",
       "    'roadAddrPart2': '',\n",
       "    'emdNo': '01',\n",
       "    'sggNm': '화천군',\n",
       "    'jibunAddr': '강원도 화천군 사내면 사창리 455-5 빽다방 화천사내면점',\n",
       "    'siNm': '강원도',\n",
       "    'roadAddrPart1': '강원도 화천군 사내면 사내로 40-3',\n",
       "    'bdNm': '빽다방 화천사내면점',\n",
       "    'admCd': '4279034021',\n",
       "    'udrtYn': '0',\n",
       "    'lnbrMnnm': '455',\n",
       "    'roadAddr': '강원도 화천군 사내면 사내로 40-3',\n",
       "    'lnbrSlno': '5',\n",
       "    'buldMnnm': '40',\n",
       "    'bdKdcd': '0',\n",
       "    'liNm': '사창리',\n",
       "    'rnMgtSn': '427903231009',\n",
       "    'mtYn': '0',\n",
       "    'bdMgtSn': '4279034021004560005012315',\n",
       "    'buldSlno': '3'},\n",
       "   {'detBdNmList': '',\n",
       "    'engAddr': '38-1, Hupo-ro, Hupo-myeon, Uljin-gun, Gyeongsangbuk-do',\n",
       "    'rn': '후포로',\n",
       "    'emdNm': '후포면',\n",
       "    'zipNo': '36369',\n",
       "    'roadAddrPart2': '',\n",
       "    'emdNo': '01',\n",
       "    'sggNm': '울진군',\n",
       "    'jibunAddr': '경상북도 울진군 후포면 후포리 1036-8 빽다방 울진후포점',\n",
       "    'siNm': '경상북도',\n",
       "    'roadAddrPart1': '경상북도 울진군 후포면 후포로 38-1',\n",
       "    'bdNm': '빽다방 울진후포점',\n",
       "    'admCd': '4793038021',\n",
       "    'udrtYn': '0',\n",
       "    'lnbrMnnm': '1036',\n",
       "    'roadAddr': '경상북도 울진군 후포면 후포로 38-1',\n",
       "    'lnbrSlno': '8',\n",
       "    'buldMnnm': '38',\n",
       "    'bdKdcd': '0',\n",
       "    'liNm': '후포리',\n",
       "    'rnMgtSn': '479303325034',\n",
       "    'mtYn': '0',\n",
       "    'bdMgtSn': '4793038021110360009014410',\n",
       "    'buldSlno': '1'}]}}"
      ]
     },
     "metadata": {},
     "execution_count": 11
    }
   ],
   "source": [
    "road_url = 'https://www.juso.go.kr/addrlink/addrLinkApi.do'\n",
    "ad_url = 'https://www.juso.go.kr/addrlink/addrLinkApi.do'\n",
    "url = f'{road_url}?confmKey={roadapi_key}&currentPage=1&countPerPage=10&keyword=빽다방&resultType=json'\n",
    "results = requests.get(urlparse(url).geturl()).json()\n",
    "results"
   ]
  },
  {
   "cell_type": "code",
   "execution_count": null,
   "metadata": {},
   "outputs": [],
   "source": []
  }
 ]
}