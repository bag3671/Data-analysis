{
 "metadata": {
  "language_info": {
   "codemirror_mode": {
    "name": "ipython",
    "version": 3
   },
   "file_extension": ".py",
   "mimetype": "text/x-python",
   "name": "python",
   "nbconvert_exporter": "python",
   "pygments_lexer": "ipython3",
   "version": "3.8.3-final"
  },
  "orig_nbformat": 2,
  "kernelspec": {
   "name": "python3",
   "display_name": "Python 3"
  }
 },
 "nbformat": 4,
 "nbformat_minor": 2,
 "cells": [
  {
   "source": [
    "# Beautiful Soup Crawling"
   ],
   "cell_type": "markdown",
   "metadata": {}
  },
  {
   "cell_type": "code",
   "execution_count": 41,
   "metadata": {},
   "outputs": [],
   "source": [
    "from bs4 import BeautifulSoup"
   ]
  },
  {
   "source": [
    "### 파일 읽기"
   ],
   "cell_type": "markdown",
   "metadata": {}
  },
  {
   "cell_type": "code",
   "execution_count": 58,
   "metadata": {},
   "outputs": [],
   "source": [
    "# HTML 파일 열기\n",
    "with open(\"00_Example.html\") as fp:\n",
    "    soup = BeautifulSoup(fp, 'html.parser')"
   ]
  },
  {
   "cell_type": "code",
   "execution_count": 59,
   "metadata": {},
   "outputs": [
    {
     "output_type": "execute_result",
     "data": {
      "text/plain": [
       "<!DOCTYPE html>\n",
       "\n",
       "<html>\n",
       "<head>\n",
       "<meta charset=\"utf-8\"/>\n",
       "<title>Web Crawling Example</title>\n",
       "</head>\n",
       "<body>\n",
       "<div>\n",
       "<p>a</p>\n",
       "<p>b</p>\n",
       "<p>c</p>\n",
       "</div>\n",
       "<div class=\"ex_class sample\">\n",
       "<p>1</p>\n",
       "<p>2</p>\n",
       "<p>3</p>\n",
       "</div>\n",
       "<div id=\"ex_id\">\n",
       "<p>X</p>\n",
       "<p>Y</p>\n",
       "<p>Z</p>\n",
       "</div>\n",
       "<h1>This is a heading.</h1>\n",
       "<p>This is a paragraph.</p>\n",
       "<p>This is another paragraph.</p>\n",
       "<a class=\"a sample\" href=\"https://www.naver.com/\">\n",
       " Naver</a>\n",
       "</body>\n",
       "</html>"
      ]
     },
     "metadata": {},
     "execution_count": 59
    }
   ],
   "source": [
    "soup"
   ]
  },
  {
   "source": [
    "### 인터넷에서 가져오기"
   ],
   "cell_type": "markdown",
   "metadata": {}
  },
  {
   "cell_type": "code",
   "execution_count": 60,
   "metadata": {},
   "outputs": [],
   "source": [
    "# urllib를 통해서 웹에 있는 소스 가져오기\n",
    "\n",
    "import urllib.request\n",
    "import urllib.parse\n",
    "\n",
    "#web_url에 원하는 웹의 URL을 넣어주면 됨\n",
    "web_url = \"http://200.1.220.217:3000/bbs/list/1\"\n",
    "with urllib.request.urlopen(web_url) as response:\n",
    "    html = response.read()\n",
    "    soup = BeautifulSoup(html, 'html.parser')\n",
    "        \n"
   ]
  },
  {
   "cell_type": "code",
   "execution_count": 61,
   "metadata": {
    "tags": []
   },
   "outputs": [
    {
     "output_type": "stream",
     "name": "stdout",
     "text": [
      "<!DOCTYPE html>\n\n<html lang=\"ko\">\n<head>\n<title>My BBS</title>\n<meta charset=\"utf-8\"/>\n<meta content=\"width=device-width, initial-scale=1\" name=\"viewport\"/>\n<link href=\"/bootstrap/css/bootstrap.min.css\" rel=\"stylesheet\"/>\n<link href=\"/fontawesome/css/all.min.css\" rel=\"stylesheet\"/>\n<script src=\"/jquery/jquery.min.js\"></script>\n<script src=\"/popper/popper.min.js\"></script>\n<script src=\"/bootstrap/js/bootstrap.min.js\"></script>\n</head>\n<body>\n<nav class=\"navbar navbar-expand-lg bg-dark navbar-dark fixed-top\">\n<a class=\"navbar-brand\" href=\"#\">\n<img alt=\"호서직업능력개발원\" src=\"/img/hoseo.png\" style=\"height: 40px; margin-left: 50px; margin-right: 80px;\"/>\n</a>\n<ul class=\"nav mr-auto\">\n<li class=\"nav-item nav-light\">\n<a class=\"nav-link\" href=\"/\"><i class=\"fas fa-home\"></i>홈</a>\n</li>\n<li class=\"nav-item\">\n<a class=\"nav-link\" href=\"/bbs/write\"><i class=\"far fa-edit\"></i>글쓰기</a>\n</li>\n<li class=\"nav-item\">\n<a class=\"nav-link\" href=\"/user/dispatch\"><i class=\"far fa-user\"></i>사용자</a>\n</li>\n<li class=\"nav-item\">\n<a class=\"nav-link\" href=\"/admin/viewChart\"><i class=\"fas fa-chart-bar\"></i></a>\n</li>\n<li class=\"nav-item ml-5\">\n<a class=\"nav-link\" href=\"/logout\"><i class=\"fas fa-sign-out-alt\"></i>로그아웃</a>\n</li>\n</ul>\n<nav class=\"navbar navbar-light mr-4\">\n<form action=\"/bbs/search\" class=\"form-inline\" method=\"post\">\n<input aria-label=\"Search\" class=\"form-control mr-sm-2\" name=\"keyword\" placeholder=\"검색\" type=\"search\"/>\n<button class=\"btn btn-outline-light my-2 my-sm-0\" type=\"submit\"><i class=\"fas fa-search\"></i></button>\n</form>\n</nav>\n<div class=\"navbar-text fixed-right mr-3\">\n                undefined님 반갑습니다.\n            </div>\n</nav>\n<div class=\"container\" style=\"margin-top: 90px;\">\n<div class=\"row\">\n<div class=\"col-12\">\n<h3>게시판 글 목록</h3>\n<hr/>\n</div>\n<div class=\"col-1\"></div>\n<div class=\"col-10\">\n<table class=\"table table-condensed table-hover\">\n<tr class=\"table-secondary d-flex\">\n<td class=\"col-1\" style=\"text-align: center;\"><strong>번호</strong></td>\n<td class=\"col-6\" style=\"text-align: center;\"><strong>제목</strong></td>\n<td class=\"col-2\" style=\"text-align: center;\"><strong>글쓴이</strong></td>\n<td class=\"col-2\" style=\"text-align: center;\"><strong>날짜/시간</strong></td>\n<td class=\"col-1\" style=\"text-align: center;\"><strong>조회수</strong></td>\n</tr>\n<tr class=\"d-flex\">\n<td class=\"col-1\" style=\"text-align: center;\">1013</td>\n<td class=\"col-6\"><a href=\"/bbs/bid/1013/inc/1\"><strong>리눅스 글쓰기</strong></a></td>\n<td class=\"col-2\" style=\"text-align: center;\">홍길동</td>\n<td class=\"col-2\" style=\"text-align: center;\">2020-10-27</td>\n<td class=\"col-1\" style=\"text-align: center;\">3</td>\n</tr>\n<tr class=\"d-flex\">\n<td class=\"col-1\" style=\"text-align: center;\">1012</td>\n<td class=\"col-6\"><a href=\"/bbs/bid/1012/inc/1\"><strong>마이크로소프트 엣지에서의 동작<span class=\"text-danger\">[2]</span></strong></a></td>\n<td class=\"col-2\" style=\"text-align: center;\">김은숙</td>\n<td class=\"col-2\" style=\"text-align: center;\">2020-10-23</td>\n<td class=\"col-1\" style=\"text-align: center;\">14</td>\n</tr>\n<tr class=\"d-flex\">\n<td class=\"col-1\" style=\"text-align: center;\">1011</td>\n<td class=\"col-6\"><a href=\"/bbs/bid/1011/inc/1\"><strong>역적 - 백성을 훔친 도적<span class=\"text-danger\">[1]</span></strong></a></td>\n<td class=\"col-2\" style=\"text-align: center;\">홍길동</td>\n<td class=\"col-2\" style=\"text-align: center;\">2020-10-23</td>\n<td class=\"col-1\" style=\"text-align: center;\">3</td>\n</tr>\n<tr class=\"d-flex\">\n<td class=\"col-1\" style=\"text-align: center;\">1010</td>\n<td class=\"col-6\"><a href=\"/bbs/bid/1010/inc/1\"><strong>홍길동전</strong></a></td>\n<td class=\"col-2\" style=\"text-align: center;\">홍길동</td>\n<td class=\"col-2\" style=\"text-align: center;\">2020-10-23</td>\n<td class=\"col-1\" style=\"text-align: center;\">3</td>\n</tr>\n<tr class=\"d-flex\">\n<td class=\"col-1\" style=\"text-align: center;\">1009</td>\n<td class=\"col-6\"><a href=\"/bbs/bid/1009/inc/1\"><strong>대조영<span class=\"text-danger\">[2]</span></strong></a></td>\n<td class=\"col-2\" style=\"text-align: center;\">대조영</td>\n<td class=\"col-2\" style=\"text-align: center;\">2020-10-23</td>\n<td class=\"col-1\" style=\"text-align: center;\">9</td>\n</tr>\n<tr class=\"d-flex\">\n<td class=\"col-1\" style=\"text-align: center;\">1008</td>\n<td class=\"col-6\"><a href=\"/bbs/bid/1008/inc/1\"><strong>Linux server를 원격 Windows에서 접속하여 글쓰기<span class=\"text-danger\">[3]</span></strong></a></td>\n<td class=\"col-2\" style=\"text-align: center;\">관리자</td>\n<td class=\"col-2\" style=\"text-align: center;\">2020-10-23</td>\n<td class=\"col-1\" style=\"text-align: center;\">7</td>\n</tr>\n<tr class=\"d-flex\">\n<td class=\"col-1\" style=\"text-align: center;\">1007</td>\n<td class=\"col-6\"><a href=\"/bbs/bid/1007/inc/1\"><strong>ubuntu에서 글쓰기<span class=\"text-danger\">[1]</span></strong></a></td>\n<td class=\"col-2\" style=\"text-align: center;\">관리자</td>\n<td class=\"col-2\" style=\"text-align: center;\">2020-10-22</td>\n<td class=\"col-1\" style=\"text-align: center;\">5</td>\n</tr>\n<tr class=\"d-flex\">\n<td class=\"col-1\" style=\"text-align: center;\">1006</td>\n<td class=\"col-6\"><a href=\"/bbs/bid/1006/inc/1\"><strong>슬기로운 의사생활<span class=\"text-danger\">[3]</span></strong></a></td>\n<td class=\"col-2\" style=\"text-align: center;\">이우정</td>\n<td class=\"col-2\" style=\"text-align: center;\">2020-10-22</td>\n<td class=\"col-1\" style=\"text-align: center;\">11</td>\n</tr>\n<tr class=\"d-flex\">\n<td class=\"col-1\" style=\"text-align: center;\">1005</td>\n<td class=\"col-6\"><a href=\"/bbs/bid/1005/inc/1\"><strong>파리의 연인<span class=\"text-danger\">[4]</span></strong></a></td>\n<td class=\"col-2\" style=\"text-align: center;\">김은숙</td>\n<td class=\"col-2\" style=\"text-align: center;\">2020-10-22</td>\n<td class=\"col-1\" style=\"text-align: center;\">8</td>\n</tr>\n<tr class=\"d-flex\">\n<td class=\"col-1\" style=\"text-align: center;\">1004</td>\n<td class=\"col-6\"><a href=\"/bbs/bid/1004/inc/1\"><strong>시크릿 가든</strong></a></td>\n<td class=\"col-2\" style=\"text-align: center;\">김은숙</td>\n<td class=\"col-2\" style=\"text-align: center;\">2020-10-22</td>\n<td class=\"col-1\" style=\"text-align: center;\">4</td>\n</tr>\n</table>\n<ul class=\"pagination justify-content-center\">\n<li class=\"page-item\">\n<a aria-label=\"Previous\" class=\"page-link active\" href=\"#\">\n<span aria-hidden=\"true\">«</span></a>\n</li><li aria-current=\"page\" class=\"page-item active\">\n<span class=\"page-link\">\n                                1<span class=\"sr-only\">(current)</span>\n</span>\n</li><li class=\"page-item\"><a class=\"page-link\" href=\"/bbs/list/2\">2</a></li><li class=\"page-item\">\n<a aria-label=\"Next\" class=\"page-link\" href=\"#\">\n<span aria-hidden=\"true\">»</span></a>\n</li>\n</ul>\n</div>\n<div class=\"col-1\"></div>\n</div>\n</div>\n<nav class=\"navbar navbar-expand-lg navbar-light bg-light justify-content-center fixed-bottom\">\n<span class=\"navbar-text\">\n        Copyright © 2020 Hoseo Institute of Big Data\n    </span>\n</nav>\n</body>\n</html> \n"
     ]
    }
   ],
   "source": [
    "print(soup)"
   ]
  },
  {
   "source": [
    "### Beautiful Soup 사용법"
   ],
   "cell_type": "markdown",
   "metadata": {}
  },
  {
   "cell_type": "code",
   "execution_count": 62,
   "metadata": {},
   "outputs": [],
   "source": [
    "with open(\"00_Example.html\") as html:\n",
    "    soup = BeautifulSoup(html, 'html.parser')"
   ]
  },
  {
   "source": [
    "### 태그를 이용해서 찾기"
   ],
   "cell_type": "markdown",
   "metadata": {}
  },
  {
   "cell_type": "code",
   "execution_count": 63,
   "metadata": {},
   "outputs": [
    {
     "output_type": "execute_result",
     "data": {
      "text/plain": [
       "<div>\n",
       "<p>a</p>\n",
       "<p>b</p>\n",
       "<p>c</p>\n",
       "</div>"
      ]
     },
     "metadata": {},
     "execution_count": 63
    }
   ],
   "source": [
    "first_div = soup.find('div')\n",
    "first_div"
   ]
  },
  {
   "cell_type": "code",
   "execution_count": 64,
   "metadata": {},
   "outputs": [
    {
     "output_type": "stream",
     "name": "stdout",
     "text": [
      "[<div>\n<p>a</p>\n<p>b</p>\n<p>c</p>\n</div>, <div class=\"ex_class sample\">\n<p>1</p>\n<p>2</p>\n<p>3</p>\n</div>, <div id=\"ex_id\">\n<p>X</p>\n<p>Y</p>\n<p>Z</p>\n</div>]\n"
     ]
    }
   ],
   "source": [
    "div_all = soup.find_all(\"div\")\n",
    "print(div_all)"
   ]
  },
  {
   "cell_type": "code",
   "execution_count": 65,
   "metadata": {},
   "outputs": [
    {
     "output_type": "execute_result",
     "data": {
      "text/plain": [
       "[<p>a</p>,\n",
       " <p>b</p>,\n",
       " <p>c</p>,\n",
       " <p>1</p>,\n",
       " <p>2</p>,\n",
       " <p>3</p>,\n",
       " <p>X</p>,\n",
       " <p>Y</p>,\n",
       " <p>Z</p>,\n",
       " <p>This is a paragraph.</p>,\n",
       " <p>This is another paragraph.</p>]"
      ]
     },
     "metadata": {},
     "execution_count": 65
    }
   ],
   "source": [
    "all_ps = soup.find_all(\"p\")\n",
    "all_ps"
   ]
  },
  {
   "cell_type": "code",
   "execution_count": 66,
   "metadata": {},
   "outputs": [
    {
     "output_type": "execute_result",
     "data": {
      "text/plain": [
       "[<p>a</p>, <p>b</p>, <p>c</p>]"
      ]
     },
     "metadata": {},
     "execution_count": 66
    }
   ],
   "source": [
    "some_ps = first_div.find_all(\"p\")\n",
    "some_ps"
   ]
  },
  {
   "source": [
    "### 태그와 속성을 이용해서 가져오기"
   ],
   "cell_type": "markdown",
   "metadata": {}
  },
  {
   "source": [
    "#### 함수의 인자로 원하는 태그를 첫번째 인자로\n",
    "#### 그 다음에 속성:값의 형태(dictionary)로 만들어서 넣어주면 됨\n",
    "- #### find_all('태그명', {'속성명' : '값' ...})\n",
    "- #### find('태그명', {'속성명' : '값' ...})"
   ],
   "cell_type": "markdown",
   "metadata": {}
  },
  {
   "source": [
    "- ### select와 find_all은 리스트 \n",
    "- ### find와 select_one은 객체"
   ],
   "cell_type": "markdown",
   "metadata": {}
  },
  {
   "cell_type": "code",
   "execution_count": 67,
   "metadata": {},
   "outputs": [
    {
     "output_type": "execute_result",
     "data": {
      "text/plain": [
       "<div id=\"ex_id\">\n",
       "<p>X</p>\n",
       "<p>Y</p>\n",
       "<p>Z</p>\n",
       "</div>"
      ]
     },
     "metadata": {},
     "execution_count": 67
    }
   ],
   "source": [
    "ex_id_divs = soup.find('div',{'id':'ex_id'})\n",
    "ex_id_divs"
   ]
  },
  {
   "cell_type": "code",
   "execution_count": 68,
   "metadata": {},
   "outputs": [
    {
     "output_type": "execute_result",
     "data": {
      "text/plain": [
       "<div id=\"ex_id\">\n",
       "<p>X</p>\n",
       "<p>Y</p>\n",
       "<p>Z</p>\n",
       "</div>"
      ]
     },
     "metadata": {},
     "execution_count": 68
    }
   ],
   "source": [
    "ex_id = soup.find('div', id='ex_id')\n",
    "ex_id"
   ]
  },
  {
   "cell_type": "code",
   "execution_count": 69,
   "metadata": {},
   "outputs": [
    {
     "output_type": "execute_result",
     "data": {
      "text/plain": [
       "[<div id=\"ex_id\">\n",
       " <p>X</p>\n",
       " <p>Y</p>\n",
       " <p>Z</p>\n",
       " </div>]"
      ]
     },
     "metadata": {},
     "execution_count": 69
    }
   ],
   "source": [
    "# CSS Selector\n",
    "ex_id = soup.select('#ex_id')\n",
    "ex_id"
   ]
  },
  {
   "cell_type": "code",
   "execution_count": 70,
   "metadata": {},
   "outputs": [
    {
     "output_type": "execute_result",
     "data": {
      "text/plain": [
       "<div class=\"ex_class sample\">\n",
       "<p>1</p>\n",
       "<p>2</p>\n",
       "<p>3</p>\n",
       "</div>"
      ]
     },
     "metadata": {},
     "execution_count": 70
    }
   ],
   "source": [
    "ex_class = soup.find('div',{'class':'ex_class'})\n",
    "ex_class"
   ]
  },
  {
   "cell_type": "code",
   "execution_count": 71,
   "metadata": {},
   "outputs": [
    {
     "output_type": "execute_result",
     "data": {
      "text/plain": [
       "<div class=\"ex_class sample\">\n",
       "<p>1</p>\n",
       "<p>2</p>\n",
       "<p>3</p>\n",
       "</div>"
      ]
     },
     "metadata": {},
     "execution_count": 71
    }
   ],
   "source": [
    "ex_class = soup.find('div','ex_class')\n",
    "ex_class"
   ]
  },
  {
   "cell_type": "code",
   "execution_count": 72,
   "metadata": {},
   "outputs": [
    {
     "output_type": "execute_result",
     "data": {
      "text/plain": [
       "<div class=\"ex_class sample\">\n",
       "<p>1</p>\n",
       "<p>2</p>\n",
       "<p>3</p>\n",
       "</div>"
      ]
     },
     "metadata": {},
     "execution_count": 72
    }
   ],
   "source": [
    "ex_class = soup.find(class_ = 'ex_class')\n",
    "ex_class"
   ]
  },
  {
   "cell_type": "code",
   "execution_count": 81,
   "metadata": {},
   "outputs": [
    {
     "output_type": "execute_result",
     "data": {
      "text/plain": [
       "[<div class=\"ex_class sample\">\n",
       " <p>1</p>\n",
       " <p>2</p>\n",
       " <p>3</p>\n",
       " </div>]"
      ]
     },
     "metadata": {},
     "execution_count": 81
    }
   ],
   "source": [
    "#class\n",
    "ex_class = soup.select('.ex_class')\n",
    "ex_class"
   ]
  },
  {
   "cell_type": "code",
   "execution_count": 74,
   "metadata": {},
   "outputs": [
    {
     "output_type": "execute_result",
     "data": {
      "text/plain": [
       "[<div class=\"ex_class sample\">\n",
       " <p>1</p>\n",
       " <p>2</p>\n",
       " <p>3</p>\n",
       " </div>,\n",
       " <a class=\"a sample\" href=\"https://www.naver.com/\">\n",
       "  Naver</a>]"
      ]
     },
     "metadata": {},
     "execution_count": 74
    }
   ],
   "source": [
    "soup.select('.sample')"
   ]
  },
  {
   "cell_type": "code",
   "execution_count": 80,
   "metadata": {},
   "outputs": [
    {
     "output_type": "execute_result",
     "data": {
      "text/plain": [
       "[<a class=\"a sample\" href=\"https://www.naver.com/\">\n",
       "  Naver</a>]"
      ]
     },
     "metadata": {},
     "execution_count": 80
    }
   ],
   "source": [
    "soup.select('.a.sample')"
   ]
  },
  {
   "source": [
    "### 결과 가져오기"
   ],
   "cell_type": "markdown",
   "metadata": {}
  },
  {
   "cell_type": "code",
   "execution_count": 83,
   "metadata": {},
   "outputs": [
    {
     "output_type": "execute_result",
     "data": {
      "text/plain": [
       "[<div id=\"ex_id\">\n",
       " <p>X</p>\n",
       " <p>Y</p>\n",
       " <p>Z</p>\n",
       " </div>]"
      ]
     },
     "metadata": {},
     "execution_count": 83
    }
   ],
   "source": [
    "ex_id"
   ]
  },
  {
   "cell_type": "code",
   "execution_count": 92,
   "metadata": {},
   "outputs": [
    {
     "output_type": "execute_result",
     "data": {
      "text/plain": [
       "'X'"
      ]
     },
     "metadata": {},
     "execution_count": 92
    }
   ],
   "source": [
    "first_p = ex_id[0].find('p')\n",
    "first_p.get_text()"
   ]
  },
  {
   "cell_type": "code",
   "execution_count": 93,
   "metadata": {},
   "outputs": [
    {
     "output_type": "execute_result",
     "data": {
      "text/plain": [
       "'X'"
      ]
     },
     "metadata": {},
     "execution_count": 93
    }
   ],
   "source": [
    "first_p.string"
   ]
  },
  {
   "cell_type": "code",
   "execution_count": 84,
   "metadata": {},
   "outputs": [
    {
     "output_type": "execute_result",
     "data": {
      "text/plain": [
       "[<div class=\"ex_class sample\">\n",
       " <p>1</p>\n",
       " <p>2</p>\n",
       " <p>3</p>\n",
       " </div>]"
      ]
     },
     "metadata": {},
     "execution_count": 84
    }
   ],
   "source": [
    "ex_class"
   ]
  },
  {
   "cell_type": "code",
   "execution_count": 95,
   "metadata": {},
   "outputs": [
    {
     "output_type": "execute_result",
     "data": {
      "text/plain": [
       "[<p>1</p>, <p>2</p>, <p>3</p>]"
      ]
     },
     "metadata": {},
     "execution_count": 95
    }
   ],
   "source": [
    "class_ps = ex_class[0].find_all('p')\n",
    "class_ps"
   ]
  },
  {
   "cell_type": "code",
   "execution_count": 99,
   "metadata": {},
   "outputs": [
    {
     "output_type": "stream",
     "name": "stdout",
     "text": [
      "1\n2\n3\n"
     ]
    }
   ],
   "source": [
    "class_1p = class_ps[0].string\n",
    "for one_p in class_ps:\n",
    "    print(one_p.string)"
   ]
  },
  {
   "source": [
    "### 속성값 가져오기"
   ],
   "cell_type": "markdown",
   "metadata": {}
  },
  {
   "cell_type": "code",
   "execution_count": 106,
   "metadata": {},
   "outputs": [
    {
     "output_type": "execute_result",
     "data": {
      "text/plain": [
       "'\\n Naver'"
      ]
     },
     "metadata": {},
     "execution_count": 106
    }
   ],
   "source": [
    "a_tag = soup.find('a')\n",
    "a_tag.get_text()"
   ]
  },
  {
   "cell_type": "code",
   "execution_count": 107,
   "metadata": {},
   "outputs": [
    {
     "output_type": "execute_result",
     "data": {
      "text/plain": [
       "'https://www.naver.com/'"
      ]
     },
     "metadata": {},
     "execution_count": 107
    }
   ],
   "source": [
    "a_tag.attrs['href']"
   ]
  },
  {
   "source": [
    "### BBS 사이트 크롤링"
   ],
   "cell_type": "markdown",
   "metadata": {}
  },
  {
   "cell_type": "code",
   "execution_count": 110,
   "metadata": {},
   "outputs": [],
   "source": [
    "web_url = \"http://200.1.220.217:3000/bbs/list/1\"\n",
    "with urllib.request.urlopen(web_url) as response:\n",
    "    html = response.read()\n",
    "    soup = BeautifulSoup(html, 'html.parser')"
   ]
  },
  {
   "cell_type": "code",
   "execution_count": 247,
   "metadata": {},
   "outputs": [
    {
     "output_type": "execute_result",
     "data": {
      "text/plain": [
       "<tr class=\"d-flex\">\n",
       "<td class=\"col-1\" style=\"text-align: center;\">1003</td>\n",
       "<td class=\"col-6\"><a href=\"/bbs/bid/1003/inc/1\"><strong>태양의 후예<span class=\"text-danger\">[2]</span></strong></a></td>\n",
       "<td class=\"col-2\" style=\"text-align: center;\">김은숙</td>\n",
       "<td class=\"col-2\" style=\"text-align: center;\">2020-10-23</td>\n",
       "<td class=\"col-1\" style=\"text-align: center;\">11</td>\n",
       "</tr>"
      ]
     },
     "metadata": {},
     "execution_count": 247
    }
   ],
   "source": [
    "table = soup.find('table')\n",
    "rows = table.select('.d-flex')\n",
    "first_row = rows[1]\n",
    "first_row"
   ]
  },
  {
   "cell_type": "code",
   "execution_count": 248,
   "metadata": {},
   "outputs": [
    {
     "output_type": "execute_result",
     "data": {
      "text/plain": [
       "[<td class=\"col-1\" style=\"text-align: center;\">1003</td>,\n",
       " <td class=\"col-6\"><a href=\"/bbs/bid/1003/inc/1\"><strong>태양의 후예<span class=\"text-danger\">[2]</span></strong></a></td>,\n",
       " <td class=\"col-2\" style=\"text-align: center;\">김은숙</td>,\n",
       " <td class=\"col-2\" style=\"text-align: center;\">2020-10-23</td>,\n",
       " <td class=\"col-1\" style=\"text-align: center;\">11</td>]"
      ]
     },
     "metadata": {},
     "execution_count": 248
    }
   ],
   "source": [
    "tds = first_row.find_all('td')\n",
    "tds"
   ]
  },
  {
   "cell_type": "code",
   "execution_count": 249,
   "metadata": {},
   "outputs": [
    {
     "output_type": "stream",
     "name": "stdout",
     "text": [
      "1003\nNone\n김은숙\n2020-10-23\n11\n"
     ]
    }
   ],
   "source": [
    "for td in tds:\n",
    "    print(td.string)"
   ]
  },
  {
   "source": [
    "### 데이터 프레임으로 만들기"
   ],
   "cell_type": "markdown",
   "metadata": {}
  },
  {
   "cell_type": "code",
   "execution_count": 205,
   "metadata": {},
   "outputs": [],
   "source": [
    "trs = soup.select('tr')\n",
    "bids = []; titles = []; names = []; times = []; view_counts = []; reply_counts = []\n"
   ]
  },
  {
   "cell_type": "code",
   "execution_count": 206,
   "metadata": {},
   "outputs": [
    {
     "output_type": "execute_result",
     "data": {
      "text/plain": [
       "[]"
      ]
     },
     "metadata": {},
     "execution_count": 206
    }
   ],
   "source": [
    "titles"
   ]
  },
  {
   "cell_type": "code",
   "execution_count": 207,
   "metadata": {},
   "outputs": [
    {
     "output_type": "stream",
     "name": "stdout",
     "text": [
      "리눅스 글쓰기 0\n마이크로소프트 엣지에서의 동작 2\n역적 - 백성을 훔친 도적 1\n홍길동전 0\n대조영 2\nLinux server를 원격 Windows에서 접속하여 글쓰기 3\nubuntu에서 글쓰기 1\n슬기로운 의사생활 3\n파리의 연인 4\n시크릿 가든 0\n"
     ]
    }
   ],
   "source": [
    "for tr in trs[1:]:\n",
    "    tds = tr.find_all('td')\n",
    "    span = tds[1].find('span')\n",
    "    reply_count = span.string[1:-1] if span else 0\n",
    "    index = tds[1].get_text().find('[')\n",
    "    title = tds[1].get_text()[:index] if span else tds[1].get_text() \n",
    "    print(title,reply_count)\n",
    "    \n",
    "    bids.append(tds[0].get_text())\n",
    "    reply_counts.append(reply_count)\n",
    "    titles.append(title)\n",
    "    names.append(tds[2].get_text())\n",
    "    times.append(tds[3].get_text())\n",
    "    view_counts.append(tds[4].get_text())"
   ]
  },
  {
   "cell_type": "code",
   "execution_count": 208,
   "metadata": {},
   "outputs": [
    {
     "output_type": "execute_result",
     "data": {
      "text/plain": [
       "                                    title name        time view_count  \\\n",
       "bid                                                                     \n",
       "1013                              리눅스 글쓰기  홍길동  2020-10-27          3   \n",
       "1012                     마이크로소프트 엣지에서의 동작  김은숙  2020-10-23         14   \n",
       "1011                       역적 - 백성을 훔친 도적  홍길동  2020-10-23          3   \n",
       "1010                                 홍길동전  홍길동  2020-10-23          3   \n",
       "1009                                  대조영  대조영  2020-10-23          9   \n",
       "1008  Linux server를 원격 Windows에서 접속하여 글쓰기  관리자  2020-10-23          7   \n",
       "1007                         ubuntu에서 글쓰기  관리자  2020-10-22          5   \n",
       "1006                            슬기로운 의사생활  이우정  2020-10-22         11   \n",
       "1005                               파리의 연인  김은숙  2020-10-22          8   \n",
       "1004                               시크릿 가든  김은숙  2020-10-22          4   \n",
       "\n",
       "     reply_count  \n",
       "bid               \n",
       "1013           0  \n",
       "1012           2  \n",
       "1011           1  \n",
       "1010           0  \n",
       "1009           2  \n",
       "1008           3  \n",
       "1007           1  \n",
       "1006           3  \n",
       "1005           4  \n",
       "1004           0  "
      ],
      "text/html": "<div>\n<style scoped>\n    .dataframe tbody tr th:only-of-type {\n        vertical-align: middle;\n    }\n\n    .dataframe tbody tr th {\n        vertical-align: top;\n    }\n\n    .dataframe thead th {\n        text-align: right;\n    }\n</style>\n<table border=\"1\" class=\"dataframe\">\n  <thead>\n    <tr style=\"text-align: right;\">\n      <th></th>\n      <th>title</th>\n      <th>name</th>\n      <th>time</th>\n      <th>view_count</th>\n      <th>reply_count</th>\n    </tr>\n    <tr>\n      <th>bid</th>\n      <th></th>\n      <th></th>\n      <th></th>\n      <th></th>\n      <th></th>\n    </tr>\n  </thead>\n  <tbody>\n    <tr>\n      <th>1013</th>\n      <td>리눅스 글쓰기</td>\n      <td>홍길동</td>\n      <td>2020-10-27</td>\n      <td>3</td>\n      <td>0</td>\n    </tr>\n    <tr>\n      <th>1012</th>\n      <td>마이크로소프트 엣지에서의 동작</td>\n      <td>김은숙</td>\n      <td>2020-10-23</td>\n      <td>14</td>\n      <td>2</td>\n    </tr>\n    <tr>\n      <th>1011</th>\n      <td>역적 - 백성을 훔친 도적</td>\n      <td>홍길동</td>\n      <td>2020-10-23</td>\n      <td>3</td>\n      <td>1</td>\n    </tr>\n    <tr>\n      <th>1010</th>\n      <td>홍길동전</td>\n      <td>홍길동</td>\n      <td>2020-10-23</td>\n      <td>3</td>\n      <td>0</td>\n    </tr>\n    <tr>\n      <th>1009</th>\n      <td>대조영</td>\n      <td>대조영</td>\n      <td>2020-10-23</td>\n      <td>9</td>\n      <td>2</td>\n    </tr>\n    <tr>\n      <th>1008</th>\n      <td>Linux server를 원격 Windows에서 접속하여 글쓰기</td>\n      <td>관리자</td>\n      <td>2020-10-23</td>\n      <td>7</td>\n      <td>3</td>\n    </tr>\n    <tr>\n      <th>1007</th>\n      <td>ubuntu에서 글쓰기</td>\n      <td>관리자</td>\n      <td>2020-10-22</td>\n      <td>5</td>\n      <td>1</td>\n    </tr>\n    <tr>\n      <th>1006</th>\n      <td>슬기로운 의사생활</td>\n      <td>이우정</td>\n      <td>2020-10-22</td>\n      <td>11</td>\n      <td>3</td>\n    </tr>\n    <tr>\n      <th>1005</th>\n      <td>파리의 연인</td>\n      <td>김은숙</td>\n      <td>2020-10-22</td>\n      <td>8</td>\n      <td>4</td>\n    </tr>\n    <tr>\n      <th>1004</th>\n      <td>시크릿 가든</td>\n      <td>김은숙</td>\n      <td>2020-10-22</td>\n      <td>4</td>\n      <td>0</td>\n    </tr>\n  </tbody>\n</table>\n</div>"
     },
     "metadata": {},
     "execution_count": 208
    }
   ],
   "source": [
    "import pandas as pd\n",
    "bbs = pd.DataFrame({\n",
    "                    \"bid\" : bids,\n",
    "                    'title': titles,\n",
    "                    'name': names,\n",
    "                    'time':times링 \n",
    "                    'view_count' : view_counts,\n",
    "                    'reply_count':reply_counts})\n",
    "bbs = bbs.set_index('bid')\n",
    "bbs"
   ]
  },
  {
   "source": [
    "### 페이지까지 크롤링"
   ],
   "cell_type": "markdown",
   "metadata": {}
  },
  {
   "cell_type": "code",
   "execution_count": 209,
   "metadata": {},
   "outputs": [],
   "source": [
    "base_url = \"http://200.1.220.217:3000/bbs/list/\"\n",
    "page_url = '1'\n",
    "web_url = base_url + page_url\n",
    "with urllib.request.urlopen(web_url) as response:\n",
    "    html = response.read()\n",
    "    soup = BeautifulSoup(html, 'html.parser')"
   ]
  },
  {
   "cell_type": "code",
   "execution_count": 215,
   "metadata": {},
   "outputs": [
    {
     "output_type": "stream",
     "name": "stdout",
     "text": [
      "[<li class=\"page-item\">\n<a aria-label=\"Previous\" class=\"page-link active\" href=\"#\">\n<span aria-hidden=\"true\">«</span></a>\n</li>, <li aria-current=\"page\" class=\"page-item active\">\n<span class=\"page-link\">\n                                1<span class=\"sr-only\">(current)</span>\n</span>\n</li>, <li class=\"page-item\"><a class=\"page-link\" href=\"/bbs/list/2\">2</a></li>, <li class=\"page-item\">\n<a aria-label=\"Next\" class=\"page-link\" href=\"#\">\n<span aria-hidden=\"true\">»</span></a>\n</li>]\n"
     ]
    }
   ],
   "source": [
    "lis = soup.select('.page-item')"
   ]
  },
  {
   "cell_type": "code",
   "execution_count": 219,
   "metadata": {},
   "outputs": [
    {
     "output_type": "execute_result",
     "data": {
      "text/plain": [
       "2"
      ]
     },
     "metadata": {},
     "execution_count": 219
    }
   ],
   "source": [
    "page = int(lis[-2].get_text())\n",
    "page"
   ]
  },
  {
   "cell_type": "code",
   "execution_count": 226,
   "metadata": {},
   "outputs": [],
   "source": [
    "bids = []; titles = []; names = []; times = []; view_counts = []; reply_counts = []\n"
   ]
  },
  {
   "cell_type": "code",
   "execution_count": 227,
   "metadata": {},
   "outputs": [
    {
     "output_type": "execute_result",
     "data": {
      "text/plain": [
       "                                    title name        time view_count  \\\n",
       "bid                                                                     \n",
       "1013                              리눅스 글쓰기  홍길동  2020-10-27          3   \n",
       "1012                     마이크로소프트 엣지에서의 동작  김은숙  2020-10-23         14   \n",
       "1011                       역적 - 백성을 훔친 도적  홍길동  2020-10-23          4   \n",
       "1010                                 홍길동전  홍길동  2020-10-23          3   \n",
       "1009                                  대조영  대조영  2020-10-23          9   \n",
       "1008  Linux server를 원격 Windows에서 접속하여 글쓰기  관리자  2020-10-23          7   \n",
       "1007                         ubuntu에서 글쓰기  관리자  2020-10-22          5   \n",
       "1006                            슬기로운 의사생활  이우정  2020-10-22         12   \n",
       "1005                               파리의 연인  김은숙  2020-10-22          9   \n",
       "1004                               시크릿 가든  김은숙  2020-10-22          4   \n",
       "1003                               태양의 후예  김은숙  2020-10-23         11   \n",
       "1002                                  도깨비  김은숙  2020-10-22          4   \n",
       "1001                              미스터 션샤인  김은숙  2020-10-23          6   \n",
       "\n",
       "     reply_count  \n",
       "bid               \n",
       "1013           0  \n",
       "1012           2  \n",
       "1011           1  \n",
       "1010           0  \n",
       "1009           2  \n",
       "1008           3  \n",
       "1007           1  \n",
       "1006           3  \n",
       "1005           4  \n",
       "1004           0  \n",
       "1003           2  \n",
       "1002           1  \n",
       "1001           1  "
      ],
      "text/html": "<div>\n<style scoped>\n    .dataframe tbody tr th:only-of-type {\n        vertical-align: middle;\n    }\n\n    .dataframe tbody tr th {\n        vertical-align: top;\n    }\n\n    .dataframe thead th {\n        text-align: right;\n    }\n</style>\n<table border=\"1\" class=\"dataframe\">\n  <thead>\n    <tr style=\"text-align: right;\">\n      <th></th>\n      <th>title</th>\n      <th>name</th>\n      <th>time</th>\n      <th>view_count</th>\n      <th>reply_count</th>\n    </tr>\n    <tr>\n      <th>bid</th>\n      <th></th>\n      <th></th>\n      <th></th>\n      <th></th>\n      <th></th>\n    </tr>\n  </thead>\n  <tbody>\n    <tr>\n      <th>1013</th>\n      <td>리눅스 글쓰기</td>\n      <td>홍길동</td>\n      <td>2020-10-27</td>\n      <td>3</td>\n      <td>0</td>\n    </tr>\n    <tr>\n      <th>1012</th>\n      <td>마이크로소프트 엣지에서의 동작</td>\n      <td>김은숙</td>\n      <td>2020-10-23</td>\n      <td>14</td>\n      <td>2</td>\n    </tr>\n    <tr>\n      <th>1011</th>\n      <td>역적 - 백성을 훔친 도적</td>\n      <td>홍길동</td>\n      <td>2020-10-23</td>\n      <td>4</td>\n      <td>1</td>\n    </tr>\n    <tr>\n      <th>1010</th>\n      <td>홍길동전</td>\n      <td>홍길동</td>\n      <td>2020-10-23</td>\n      <td>3</td>\n      <td>0</td>\n    </tr>\n    <tr>\n      <th>1009</th>\n      <td>대조영</td>\n      <td>대조영</td>\n      <td>2020-10-23</td>\n      <td>9</td>\n      <td>2</td>\n    </tr>\n    <tr>\n      <th>1008</th>\n      <td>Linux server를 원격 Windows에서 접속하여 글쓰기</td>\n      <td>관리자</td>\n      <td>2020-10-23</td>\n      <td>7</td>\n      <td>3</td>\n    </tr>\n    <tr>\n      <th>1007</th>\n      <td>ubuntu에서 글쓰기</td>\n      <td>관리자</td>\n      <td>2020-10-22</td>\n      <td>5</td>\n      <td>1</td>\n    </tr>\n    <tr>\n      <th>1006</th>\n      <td>슬기로운 의사생활</td>\n      <td>이우정</td>\n      <td>2020-10-22</td>\n      <td>12</td>\n      <td>3</td>\n    </tr>\n    <tr>\n      <th>1005</th>\n      <td>파리의 연인</td>\n      <td>김은숙</td>\n      <td>2020-10-22</td>\n      <td>9</td>\n      <td>4</td>\n    </tr>\n    <tr>\n      <th>1004</th>\n      <td>시크릿 가든</td>\n      <td>김은숙</td>\n      <td>2020-10-22</td>\n      <td>4</td>\n      <td>0</td>\n    </tr>\n    <tr>\n      <th>1003</th>\n      <td>태양의 후예</td>\n      <td>김은숙</td>\n      <td>2020-10-23</td>\n      <td>11</td>\n      <td>2</td>\n    </tr>\n    <tr>\n      <th>1002</th>\n      <td>도깨비</td>\n      <td>김은숙</td>\n      <td>2020-10-22</td>\n      <td>4</td>\n      <td>1</td>\n    </tr>\n    <tr>\n      <th>1001</th>\n      <td>미스터 션샤인</td>\n      <td>김은숙</td>\n      <td>2020-10-23</td>\n      <td>6</td>\n      <td>1</td>\n    </tr>\n  </tbody>\n</table>\n</div>"
     },
     "metadata": {},
     "execution_count": 227
    }
   ],
   "source": [
    "for i in range(page):\n",
    "    base_url = \"http://200.1.220.217:3000/bbs/list/\"\n",
    "    page_url = str(i+1)\n",
    "    web_url = base_url + page_url\n",
    "    with urllib.request.urlopen(web_url) as response:\n",
    "        html = response.read()\n",
    "        soup = BeautifulSoup(html, 'html.parser')\n",
    "        trs = soup.select('tr')\n",
    "        for tr in trs[1:]:\n",
    "            tds = tr.find_all('td')\n",
    "            span = tds[1].find('span')\n",
    "            reply_count = span.string[1:-1] if span else 0\n",
    "            index = tds[1].get_text().find('[')\n",
    "            title = tds[1].get_text()[:index] if span else tds[1].get_text() \n",
    "          \n",
    "            bids.append(tds[0].get_text())\n",
    "            reply_counts.append(reply_count)\n",
    "            titles.append(title)\n",
    "            names.append(tds[2].get_text())\n",
    "            times.append(tds[3].get_text())\n",
    "            view_counts.append(tds[4].get_text())\n",
    "bbs = pd.DataFrame({\n",
    "                    \"bid\" : bids,\n",
    "                    'title': titles,\n",
    "                    'name': names,\n",
    "                    'time':times, \n",
    "                    'view_count' : view_counts,\n",
    "                    'reply_count':reply_counts})\n",
    "bbs = bbs.set_index('bid')\n",
    "bbs"
   ]
  },
  {
   "cell_type": "code",
   "execution_count": 264,
   "metadata": {},
   "outputs": [
    {
     "output_type": "error",
     "ename": "TypeError",
     "evalue": "'list_iterator' object is not subscriptable",
     "traceback": [
      "\u001b[1;31m---------------------------------------------------------------------------\u001b[0m",
      "\u001b[1;31mTypeError\u001b[0m                                 Traceback (most recent call last)",
      "\u001b[1;32m<ipython-input-264-9c8b62b4430b>\u001b[0m in \u001b[0;36m<module>\u001b[1;34m\u001b[0m\n\u001b[1;32m----> 1\u001b[1;33m \u001b[0mbody\u001b[0m \u001b[1;33m=\u001b[0m \u001b[0mlist\u001b[0m\u001b[1;33m(\u001b[0m\u001b[0mlist\u001b[0m\u001b[1;33m(\u001b[0m\u001b[0msoup\u001b[0m\u001b[1;33m.\u001b[0m\u001b[0mchildren\u001b[0m\u001b[1;33m[\u001b[0m\u001b[1;36m2\u001b[0m\u001b[1;33m]\u001b[0m\u001b[1;33m)\u001b[0m\u001b[1;33m.\u001b[0m\u001b[0mchildren\u001b[0m\u001b[1;33m)\u001b[0m\u001b[1;33m\u001b[0m\u001b[1;33m\u001b[0m\u001b[0m\n\u001b[0m",
      "\u001b[1;31mTypeError\u001b[0m: 'list_iterator' object is not subscriptable"
     ]
    }
   ],
   "source": [
    "body = list(list(soup.children[2]).children)"
   ]
  },
  {
   "cell_type": "code",
   "execution_count": 271,
   "metadata": {},
   "outputs": [
    {
     "output_type": "error",
     "ename": "HTTPError",
     "evalue": "HTTP Error 406: Not Acceptable",
     "traceback": [
      "\u001b[1;31m---------------------------------------------------------------------------\u001b[0m",
      "\u001b[1;31mHTTPError\u001b[0m                                 Traceback (most recent call last)",
      "\u001b[1;32m<ipython-input-271-fe16143b635f>\u001b[0m in \u001b[0;36m<module>\u001b[1;34m\u001b[0m\n\u001b[0;32m      1\u001b[0m \u001b[0mweb_url\u001b[0m \u001b[1;33m=\u001b[0m \u001b[1;34m\"https://www.melon.com/chart/week/index.htm\"\u001b[0m\u001b[1;33m\u001b[0m\u001b[1;33m\u001b[0m\u001b[0m\n\u001b[1;32m----> 2\u001b[1;33m \u001b[1;32mwith\u001b[0m \u001b[0murllib\u001b[0m\u001b[1;33m.\u001b[0m\u001b[0mrequest\u001b[0m\u001b[1;33m.\u001b[0m\u001b[0murlopen\u001b[0m\u001b[1;33m(\u001b[0m\u001b[0mweb_url\u001b[0m\u001b[1;33m)\u001b[0m \u001b[1;32mas\u001b[0m \u001b[0mresponse\u001b[0m\u001b[1;33m:\u001b[0m\u001b[1;33m\u001b[0m\u001b[1;33m\u001b[0m\u001b[0m\n\u001b[0m\u001b[0;32m      3\u001b[0m     \u001b[0mhtml\u001b[0m \u001b[1;33m=\u001b[0m \u001b[0mresponse\u001b[0m\u001b[1;33m.\u001b[0m\u001b[0mread\u001b[0m\u001b[1;33m(\u001b[0m\u001b[1;33m)\u001b[0m\u001b[1;33m\u001b[0m\u001b[1;33m\u001b[0m\u001b[0m\n\u001b[0;32m      4\u001b[0m     \u001b[0msoup\u001b[0m \u001b[1;33m=\u001b[0m \u001b[0mBeautifulSoup\u001b[0m\u001b[1;33m(\u001b[0m\u001b[0mhtml\u001b[0m\u001b[1;33m,\u001b[0m \u001b[1;34m'html.parser'\u001b[0m\u001b[1;33m)\u001b[0m\u001b[1;33m\u001b[0m\u001b[1;33m\u001b[0m\u001b[0m\n",
      "\u001b[1;32mC:\\ProgramData\\Anaconda3\\lib\\urllib\\request.py\u001b[0m in \u001b[0;36murlopen\u001b[1;34m(url, data, timeout, cafile, capath, cadefault, context)\u001b[0m\n\u001b[0;32m    220\u001b[0m     \u001b[1;32melse\u001b[0m\u001b[1;33m:\u001b[0m\u001b[1;33m\u001b[0m\u001b[1;33m\u001b[0m\u001b[0m\n\u001b[0;32m    221\u001b[0m         \u001b[0mopener\u001b[0m \u001b[1;33m=\u001b[0m \u001b[0m_opener\u001b[0m\u001b[1;33m\u001b[0m\u001b[1;33m\u001b[0m\u001b[0m\n\u001b[1;32m--> 222\u001b[1;33m     \u001b[1;32mreturn\u001b[0m \u001b[0mopener\u001b[0m\u001b[1;33m.\u001b[0m\u001b[0mopen\u001b[0m\u001b[1;33m(\u001b[0m\u001b[0murl\u001b[0m\u001b[1;33m,\u001b[0m \u001b[0mdata\u001b[0m\u001b[1;33m,\u001b[0m \u001b[0mtimeout\u001b[0m\u001b[1;33m)\u001b[0m\u001b[1;33m\u001b[0m\u001b[1;33m\u001b[0m\u001b[0m\n\u001b[0m\u001b[0;32m    223\u001b[0m \u001b[1;33m\u001b[0m\u001b[0m\n\u001b[0;32m    224\u001b[0m \u001b[1;32mdef\u001b[0m \u001b[0minstall_opener\u001b[0m\u001b[1;33m(\u001b[0m\u001b[0mopener\u001b[0m\u001b[1;33m)\u001b[0m\u001b[1;33m:\u001b[0m\u001b[1;33m\u001b[0m\u001b[1;33m\u001b[0m\u001b[0m\n",
      "\u001b[1;32mC:\\ProgramData\\Anaconda3\\lib\\urllib\\request.py\u001b[0m in \u001b[0;36mopen\u001b[1;34m(self, fullurl, data, timeout)\u001b[0m\n\u001b[0;32m    529\u001b[0m         \u001b[1;32mfor\u001b[0m \u001b[0mprocessor\u001b[0m \u001b[1;32min\u001b[0m \u001b[0mself\u001b[0m\u001b[1;33m.\u001b[0m\u001b[0mprocess_response\u001b[0m\u001b[1;33m.\u001b[0m\u001b[0mget\u001b[0m\u001b[1;33m(\u001b[0m\u001b[0mprotocol\u001b[0m\u001b[1;33m,\u001b[0m \u001b[1;33m[\u001b[0m\u001b[1;33m]\u001b[0m\u001b[1;33m)\u001b[0m\u001b[1;33m:\u001b[0m\u001b[1;33m\u001b[0m\u001b[1;33m\u001b[0m\u001b[0m\n\u001b[0;32m    530\u001b[0m             \u001b[0mmeth\u001b[0m \u001b[1;33m=\u001b[0m \u001b[0mgetattr\u001b[0m\u001b[1;33m(\u001b[0m\u001b[0mprocessor\u001b[0m\u001b[1;33m,\u001b[0m \u001b[0mmeth_name\u001b[0m\u001b[1;33m)\u001b[0m\u001b[1;33m\u001b[0m\u001b[1;33m\u001b[0m\u001b[0m\n\u001b[1;32m--> 531\u001b[1;33m             \u001b[0mresponse\u001b[0m \u001b[1;33m=\u001b[0m \u001b[0mmeth\u001b[0m\u001b[1;33m(\u001b[0m\u001b[0mreq\u001b[0m\u001b[1;33m,\u001b[0m \u001b[0mresponse\u001b[0m\u001b[1;33m)\u001b[0m\u001b[1;33m\u001b[0m\u001b[1;33m\u001b[0m\u001b[0m\n\u001b[0m\u001b[0;32m    532\u001b[0m \u001b[1;33m\u001b[0m\u001b[0m\n\u001b[0;32m    533\u001b[0m         \u001b[1;32mreturn\u001b[0m \u001b[0mresponse\u001b[0m\u001b[1;33m\u001b[0m\u001b[1;33m\u001b[0m\u001b[0m\n",
      "\u001b[1;32mC:\\ProgramData\\Anaconda3\\lib\\urllib\\request.py\u001b[0m in \u001b[0;36mhttp_response\u001b[1;34m(self, request, response)\u001b[0m\n\u001b[0;32m    638\u001b[0m         \u001b[1;31m# request was successfully received, understood, and accepted.\u001b[0m\u001b[1;33m\u001b[0m\u001b[1;33m\u001b[0m\u001b[1;33m\u001b[0m\u001b[0m\n\u001b[0;32m    639\u001b[0m         \u001b[1;32mif\u001b[0m \u001b[1;32mnot\u001b[0m \u001b[1;33m(\u001b[0m\u001b[1;36m200\u001b[0m \u001b[1;33m<=\u001b[0m \u001b[0mcode\u001b[0m \u001b[1;33m<\u001b[0m \u001b[1;36m300\u001b[0m\u001b[1;33m)\u001b[0m\u001b[1;33m:\u001b[0m\u001b[1;33m\u001b[0m\u001b[1;33m\u001b[0m\u001b[0m\n\u001b[1;32m--> 640\u001b[1;33m             response = self.parent.error(\n\u001b[0m\u001b[0;32m    641\u001b[0m                 'http', request, response, code, msg, hdrs)\n\u001b[0;32m    642\u001b[0m \u001b[1;33m\u001b[0m\u001b[0m\n",
      "\u001b[1;32mC:\\ProgramData\\Anaconda3\\lib\\urllib\\request.py\u001b[0m in \u001b[0;36merror\u001b[1;34m(self, proto, *args)\u001b[0m\n\u001b[0;32m    567\u001b[0m         \u001b[1;32mif\u001b[0m \u001b[0mhttp_err\u001b[0m\u001b[1;33m:\u001b[0m\u001b[1;33m\u001b[0m\u001b[1;33m\u001b[0m\u001b[0m\n\u001b[0;32m    568\u001b[0m             \u001b[0margs\u001b[0m \u001b[1;33m=\u001b[0m \u001b[1;33m(\u001b[0m\u001b[0mdict\u001b[0m\u001b[1;33m,\u001b[0m \u001b[1;34m'default'\u001b[0m\u001b[1;33m,\u001b[0m \u001b[1;34m'http_error_default'\u001b[0m\u001b[1;33m)\u001b[0m \u001b[1;33m+\u001b[0m \u001b[0morig_args\u001b[0m\u001b[1;33m\u001b[0m\u001b[1;33m\u001b[0m\u001b[0m\n\u001b[1;32m--> 569\u001b[1;33m             \u001b[1;32mreturn\u001b[0m \u001b[0mself\u001b[0m\u001b[1;33m.\u001b[0m\u001b[0m_call_chain\u001b[0m\u001b[1;33m(\u001b[0m\u001b[1;33m*\u001b[0m\u001b[0margs\u001b[0m\u001b[1;33m)\u001b[0m\u001b[1;33m\u001b[0m\u001b[1;33m\u001b[0m\u001b[0m\n\u001b[0m\u001b[0;32m    570\u001b[0m \u001b[1;33m\u001b[0m\u001b[0m\n\u001b[0;32m    571\u001b[0m \u001b[1;31m# XXX probably also want an abstract factory that knows when it makes\u001b[0m\u001b[1;33m\u001b[0m\u001b[1;33m\u001b[0m\u001b[1;33m\u001b[0m\u001b[0m\n",
      "\u001b[1;32mC:\\ProgramData\\Anaconda3\\lib\\urllib\\request.py\u001b[0m in \u001b[0;36m_call_chain\u001b[1;34m(self, chain, kind, meth_name, *args)\u001b[0m\n\u001b[0;32m    500\u001b[0m         \u001b[1;32mfor\u001b[0m \u001b[0mhandler\u001b[0m \u001b[1;32min\u001b[0m \u001b[0mhandlers\u001b[0m\u001b[1;33m:\u001b[0m\u001b[1;33m\u001b[0m\u001b[1;33m\u001b[0m\u001b[0m\n\u001b[0;32m    501\u001b[0m             \u001b[0mfunc\u001b[0m \u001b[1;33m=\u001b[0m \u001b[0mgetattr\u001b[0m\u001b[1;33m(\u001b[0m\u001b[0mhandler\u001b[0m\u001b[1;33m,\u001b[0m \u001b[0mmeth_name\u001b[0m\u001b[1;33m)\u001b[0m\u001b[1;33m\u001b[0m\u001b[1;33m\u001b[0m\u001b[0m\n\u001b[1;32m--> 502\u001b[1;33m             \u001b[0mresult\u001b[0m \u001b[1;33m=\u001b[0m \u001b[0mfunc\u001b[0m\u001b[1;33m(\u001b[0m\u001b[1;33m*\u001b[0m\u001b[0margs\u001b[0m\u001b[1;33m)\u001b[0m\u001b[1;33m\u001b[0m\u001b[1;33m\u001b[0m\u001b[0m\n\u001b[0m\u001b[0;32m    503\u001b[0m             \u001b[1;32mif\u001b[0m \u001b[0mresult\u001b[0m \u001b[1;32mis\u001b[0m \u001b[1;32mnot\u001b[0m \u001b[1;32mNone\u001b[0m\u001b[1;33m:\u001b[0m\u001b[1;33m\u001b[0m\u001b[1;33m\u001b[0m\u001b[0m\n\u001b[0;32m    504\u001b[0m                 \u001b[1;32mreturn\u001b[0m \u001b[0mresult\u001b[0m\u001b[1;33m\u001b[0m\u001b[1;33m\u001b[0m\u001b[0m\n",
      "\u001b[1;32mC:\\ProgramData\\Anaconda3\\lib\\urllib\\request.py\u001b[0m in \u001b[0;36mhttp_error_default\u001b[1;34m(self, req, fp, code, msg, hdrs)\u001b[0m\n\u001b[0;32m    647\u001b[0m \u001b[1;32mclass\u001b[0m \u001b[0mHTTPDefaultErrorHandler\u001b[0m\u001b[1;33m(\u001b[0m\u001b[0mBaseHandler\u001b[0m\u001b[1;33m)\u001b[0m\u001b[1;33m:\u001b[0m\u001b[1;33m\u001b[0m\u001b[1;33m\u001b[0m\u001b[0m\n\u001b[0;32m    648\u001b[0m     \u001b[1;32mdef\u001b[0m \u001b[0mhttp_error_default\u001b[0m\u001b[1;33m(\u001b[0m\u001b[0mself\u001b[0m\u001b[1;33m,\u001b[0m \u001b[0mreq\u001b[0m\u001b[1;33m,\u001b[0m \u001b[0mfp\u001b[0m\u001b[1;33m,\u001b[0m \u001b[0mcode\u001b[0m\u001b[1;33m,\u001b[0m \u001b[0mmsg\u001b[0m\u001b[1;33m,\u001b[0m \u001b[0mhdrs\u001b[0m\u001b[1;33m)\u001b[0m\u001b[1;33m:\u001b[0m\u001b[1;33m\u001b[0m\u001b[1;33m\u001b[0m\u001b[0m\n\u001b[1;32m--> 649\u001b[1;33m         \u001b[1;32mraise\u001b[0m \u001b[0mHTTPError\u001b[0m\u001b[1;33m(\u001b[0m\u001b[0mreq\u001b[0m\u001b[1;33m.\u001b[0m\u001b[0mfull_url\u001b[0m\u001b[1;33m,\u001b[0m \u001b[0mcode\u001b[0m\u001b[1;33m,\u001b[0m \u001b[0mmsg\u001b[0m\u001b[1;33m,\u001b[0m \u001b[0mhdrs\u001b[0m\u001b[1;33m,\u001b[0m \u001b[0mfp\u001b[0m\u001b[1;33m)\u001b[0m\u001b[1;33m\u001b[0m\u001b[1;33m\u001b[0m\u001b[0m\n\u001b[0m\u001b[0;32m    650\u001b[0m \u001b[1;33m\u001b[0m\u001b[0m\n\u001b[0;32m    651\u001b[0m \u001b[1;32mclass\u001b[0m \u001b[0mHTTPRedirectHandler\u001b[0m\u001b[1;33m(\u001b[0m\u001b[0mBaseHandler\u001b[0m\u001b[1;33m)\u001b[0m\u001b[1;33m:\u001b[0m\u001b[1;33m\u001b[0m\u001b[1;33m\u001b[0m\u001b[0m\n",
      "\u001b[1;31mHTTPError\u001b[0m: HTTP Error 406: Not Acceptable"
     ]
    }
   ],
   "source": []
  },
  {
   "cell_type": "code",
   "execution_count": null,
   "metadata": {},
   "outputs": [],
   "source": []
  }
 ]
}