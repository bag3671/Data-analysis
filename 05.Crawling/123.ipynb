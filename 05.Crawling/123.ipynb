{
 "metadata": {
  "language_info": {
   "codemirror_mode": {
    "name": "ipython",
    "version": 3
   },
   "file_extension": ".py",
   "mimetype": "text/x-python",
   "name": "python",
   "nbconvert_exporter": "python",
   "pygments_lexer": "ipython3",
   "version": "3.8.3-final"
  },
  "orig_nbformat": 2,
  "kernelspec": {
   "name": "python3",
   "display_name": "Python 3"
  }
 },
 "nbformat": 4,
 "nbformat_minor": 2,
 "cells": [
  {
   "cell_type": "code",
   "execution_count": 27,
   "metadata": {},
   "outputs": [],
   "source": [
    "import time\n",
    "from selenium import webdriver\n",
    "\n",
    "driver = webdriver.Chrome('./chromedriver.exe')\n",
    "driver.get('http://www.google.com')\n",
    "\n",
    "seach_box = driver.find_element_by_name(\"q\")\n",
    "# seach_box = driver.find_element_by_css_selector('#input')\n",
    "seach_box.send_keys('ChromDriver')\n",
    "seach_box.submit()\n",
    "# from bs4 import BeautifulSoup\n",
    "# html = driver.page_source\n",
    "# soup = BeautifulSoup(html,'html.parser')\n"
   ]
  },
  {
   "cell_type": "code",
   "execution_count": 28,
   "metadata": {},
   "outputs": [
    {
     "output_type": "execute_result",
     "data": {
      "text/plain": [
       "        Selenium을 사용하고 싶습니다 - goorm - Guide of goorm  \\\n",
       "0    Downloads - ChromeDriver - WebDriver for Chrome   \n",
       "1                ChromeDriver - WebDriver for Chrome   \n",
       "2  Getting started - ChromeDriver - WebDriver for...   \n",
       "3                    Selenium으로 무적 크롤러 만들기 · GitBook   \n",
       "4  selenium, webdriver, chromedriver 설치 방법 : 네이버 블로그   \n",
       "5            크롬드라이버(Chrome Driver) 설치/다운로드 : 네이버 블로그   \n",
       "6  Version Selection - ChromeDriver - WebDriver f...   \n",
       "7  Android - ChromeDriver - WebDriver for Chrome ...   \n",
       "8              [ChromeDriver] 크롬 드라이버 버전에 따라 설정하는 방법   \n",
       "9       Selenium을 사용하고 싶습니다 - goorm - Guide of goorm   \n",
       "\n",
       "  ChromeDriver 설치. 위에서 설치한 크롬 버전과 호환되는 크롬 드라이버의 버전으로 설치해야 에러가 발생하지 않습니다. 아래 안내에 따라 크롬 버전 확인 및 올바른 ...  \n",
       "0  ChromeDriver 87.0.4280.20. Supports Chrome ver...                                                   \n",
       "1  ChromeDriver. WebDriver is an open source tool...                                                   \n",
       "2  ChromeDriver is a separate executable that Sel...                                                   \n",
       "3  2017. 2. 27. — zip파일을 받고 풀어주면 chromedriver 라는 ...                                                   \n",
       "4  2019. 6. 27. — browser = webdriver.Chrome(exec...                                                   \n",
       "5  2019. 12. 28. — Downloads - ChromeDriver - Web...                                                   \n",
       "6  We maintain multiple versions of ChromeDriver....                                                   \n",
       "7  Binaries for ChromeDriver can be found package...                                                   \n",
       "8  2020. 6. 9. — Chrome 정보 클릭. 83. 어쩌고 버전입니다. 크롬드...                                                   \n",
       "9  ChromeDriver 설치. 위에서 설치한 크롬 버전과 호환되는 크롬 드라이버의 ...                                                   "
      ],
      "text/html": "<div>\n<style scoped>\n    .dataframe tbody tr th:only-of-type {\n        vertical-align: middle;\n    }\n\n    .dataframe tbody tr th {\n        vertical-align: top;\n    }\n\n    .dataframe thead th {\n        text-align: right;\n    }\n</style>\n<table border=\"1\" class=\"dataframe\">\n  <thead>\n    <tr style=\"text-align: right;\">\n      <th></th>\n      <th>Selenium을 사용하고 싶습니다 - goorm - Guide of goorm</th>\n      <th>ChromeDriver 설치. 위에서 설치한 크롬 버전과 호환되는 크롬 드라이버의 버전으로 설치해야 에러가 발생하지 않습니다. 아래 안내에 따라 크롬 버전 확인 및 올바른 ...</th>\n    </tr>\n  </thead>\n  <tbody>\n    <tr>\n      <th>0</th>\n      <td>Downloads - ChromeDriver - WebDriver for Chrome</td>\n      <td>ChromeDriver 87.0.4280.20. Supports Chrome ver...</td>\n    </tr>\n    <tr>\n      <th>1</th>\n      <td>ChromeDriver - WebDriver for Chrome</td>\n      <td>ChromeDriver. WebDriver is an open source tool...</td>\n    </tr>\n    <tr>\n      <th>2</th>\n      <td>Getting started - ChromeDriver - WebDriver for...</td>\n      <td>ChromeDriver is a separate executable that Sel...</td>\n    </tr>\n    <tr>\n      <th>3</th>\n      <td>Selenium으로 무적 크롤러 만들기 · GitBook</td>\n      <td>2017. 2. 27. — zip파일을 받고 풀어주면 chromedriver 라는 ...</td>\n    </tr>\n    <tr>\n      <th>4</th>\n      <td>selenium, webdriver, chromedriver 설치 방법 : 네이버 블로그</td>\n      <td>2019. 6. 27. — browser = webdriver.Chrome(exec...</td>\n    </tr>\n    <tr>\n      <th>5</th>\n      <td>크롬드라이버(Chrome Driver) 설치/다운로드 : 네이버 블로그</td>\n      <td>2019. 12. 28. — Downloads - ChromeDriver - Web...</td>\n    </tr>\n    <tr>\n      <th>6</th>\n      <td>Version Selection - ChromeDriver - WebDriver f...</td>\n      <td>We maintain multiple versions of ChromeDriver....</td>\n    </tr>\n    <tr>\n      <th>7</th>\n      <td>Android - ChromeDriver - WebDriver for Chrome ...</td>\n      <td>Binaries for ChromeDriver can be found package...</td>\n    </tr>\n    <tr>\n      <th>8</th>\n      <td>[ChromeDriver] 크롬 드라이버 버전에 따라 설정하는 방법</td>\n      <td>2020. 6. 9. — Chrome 정보 클릭. 83. 어쩌고 버전입니다. 크롬드...</td>\n    </tr>\n    <tr>\n      <th>9</th>\n      <td>Selenium을 사용하고 싶습니다 - goorm - Guide of goorm</td>\n      <td>ChromeDriver 설치. 위에서 설치한 크롬 버전과 호환되는 크롬 드라이버의 ...</td>\n    </tr>\n  </tbody>\n</table>\n</div>"
     },
     "metadata": {},
     "execution_count": 28
    }
   ],
   "source": [
    "import pandas as pd\n",
    "title_list = []\n",
    "content_list = []\n",
    "from bs4 import BeautifulSoup\n",
    "html = driver.page_source\n",
    "driver.close()\n",
    "soup = BeautifulSoup(html,'html.parser')\n",
    "divs = soup.select('.g')\n",
    "for div in divs:\n",
    "    title = div.select_one(\".LC20lb.DKV0Md\").get_text()\n",
    "    content = div.select_one(\".aCOpRe\").get_text()\n",
    "    title_list.append(title)\n",
    "    content_list.append(content)\n",
    "a = pd.DataFrame({\n",
    "    title : title_list, content : content_list\n",
    "})\n",
    "a"
   ]
  },
  {
   "cell_type": "code",
   "execution_count": 100,
   "metadata": {},
   "outputs": [],
   "source": [
    "import time\n",
    "import pandas as pd\n",
    "from selenium import webdriver\n",
    "from selenium.webdriver.common.keys import Keys\n",
    "from bs4 import BeautifulSoup\n",
    "\n",
    "# 로그인\n",
    "driver = webdriver.Chrome('./chromedriver')\n",
    "driver.get('http://200.1.220.254:3000/')\n",
    "uid = driver.find_element_by_css_selector('#uid')\n",
    "uid.send_keys('djy')\n",
    "pwd = driver.find_element_by_css_selector('#pwd')\n",
    "pwd.send_keys('1234')\n",
    "pwd.submit()\n",
    "# driver.find_element_by_css_selector(\".fas.fa-sign-out-alt\").click()\n",
    "\n"
   ]
  },
  {
   "cell_type": "code",
   "execution_count": 101,
   "metadata": {},
   "outputs": [],
   "source": [
    "# driver.get('http://200.1.220.254:3000/bbs/list/1')\n",
    "trs = driver.find_elements_by_css_selector('.d-flex')\n",
    "bids = []; titles = []; names = []; times = []; view_counts = []; reply_counts = []"
   ]
  },
  {
   "cell_type": "code",
   "execution_count": 102,
   "metadata": {},
   "outputs": [],
   "source": [
    "for tr in trs[1:]:\n",
    "    tds = tr.find_elements_by_tag_name('td')\n",
    "    try:\n",
    "        span = tds[1].find_element_by_tag_name('span')\n",
    "        reply_count = span.text[1:-1] if span else 0\n",
    "        index = tds[1].text().find('[')\n",
    "        title = tds[1].text()[:index] if span else tds[1].text()    \n",
    "    except:\n",
    "        reply_count = 0\n",
    "        title = tds[1]\n",
    "    bids.append(tds[0].text)\n",
    "    reply_counts.append(reply_count)\n",
    "    titles.append(title)\n",
    "    names.append(tds[2].text)\n",
    "    times.append(tds[3].text)\n",
    "    view_counts.append(tds[4].text)"
   ]
  },
  {
   "cell_type": "code",
   "execution_count": 103,
   "metadata": {},
   "outputs": [
    {
     "output_type": "error",
     "ename": "NameError",
     "evalue": "name 'page' is not defined",
     "traceback": [
      "\u001b[1;31m---------------------------------------------------------------------------\u001b[0m",
      "\u001b[1;31mNameError\u001b[0m                                 Traceback (most recent call last)",
      "\u001b[1;32m<ipython-input-103-0cf0f07aa64d>\u001b[0m in \u001b[0;36m<module>\u001b[1;34m\u001b[0m\n\u001b[0;32m      1\u001b[0m \u001b[0mul\u001b[0m \u001b[1;33m=\u001b[0m \u001b[0mdriver\u001b[0m\u001b[1;33m.\u001b[0m\u001b[0mfind_element_by_css_selector\u001b[0m\u001b[1;33m(\u001b[0m\u001b[1;34m'.pagination'\u001b[0m\u001b[1;33m)\u001b[0m\u001b[1;33m\u001b[0m\u001b[1;33m\u001b[0m\u001b[0m\n\u001b[0;32m      2\u001b[0m \u001b[0mlis\u001b[0m \u001b[1;33m=\u001b[0m \u001b[0mul\u001b[0m\u001b[1;33m.\u001b[0m\u001b[0mfind_elements_by_tag_name\u001b[0m\u001b[1;33m(\u001b[0m\u001b[1;34m'li'\u001b[0m\u001b[1;33m)\u001b[0m\u001b[1;33m\u001b[0m\u001b[1;33m\u001b[0m\u001b[0m\n\u001b[1;32m----> 3\u001b[1;33m \u001b[0mlis\u001b[0m\u001b[1;33m[\u001b[0m\u001b[0mpage\u001b[0m\u001b[1;33m+\u001b[0m\u001b[1;36m2\u001b[0m\u001b[1;33m]\u001b[0m\u001b[1;33m.\u001b[0m\u001b[0mclick\u001b[0m\u001b[1;33m(\u001b[0m\u001b[1;33m)\u001b[0m\u001b[1;33m\u001b[0m\u001b[1;33m\u001b[0m\u001b[0m\n\u001b[0m",
      "\u001b[1;31mNameError\u001b[0m: name 'page' is not defined"
     ]
    }
   ],
   "source": [
    "ul = driver.find_element_by_css_selector('.pagination')\n",
    "lis = ul.find_elements_by_tag_name('li')\n",
    "lis[page+2].click()\n"
   ]
  },
  {
   "cell_type": "code",
   "execution_count": null,
   "metadata": {},
   "outputs": [],
   "source": []
  }
 ]
}