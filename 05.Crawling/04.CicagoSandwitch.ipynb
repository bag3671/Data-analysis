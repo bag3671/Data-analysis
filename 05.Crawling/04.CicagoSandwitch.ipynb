{
 "metadata": {
  "language_info": {
   "codemirror_mode": {
    "name": "ipython",
    "version": 3
   },
   "file_extension": ".py",
   "mimetype": "text/x-python",
   "name": "python",
   "nbconvert_exporter": "python",
   "pygments_lexer": "ipython3",
   "version": "3.8.3-final"
  },
  "orig_nbformat": 2,
  "kernelspec": {
   "name": "python3",
   "display_name": "Python 3"
  }
 },
 "nbformat": 4,
 "nbformat_minor": 2,
 "cells": [
  {
   "source": [
    "# 시카고 샌드위치 맛집 사이트"
   ],
   "cell_type": "markdown",
   "metadata": {}
  },
  {
   "cell_type": "code",
   "execution_count": 1,
   "metadata": {},
   "outputs": [],
   "source": [
    "from bs4 import BeautifulSoup\n",
    "import urllib.request\n",
    "import urllib.parse\n",
    "import pandas as pd\n",
    "import requests\n",
    "import numpy as np\n",
    "from tqdm import tqdm_notebook "
   ]
  },
  {
   "cell_type": "code",
   "execution_count": 2,
   "metadata": {},
   "outputs": [
    {
     "output_type": "stream",
     "name": "stdout",
     "text": [
      "[<div class=\"sammy\" style=\"position: relative;\">\n<div class=\"sammyRank\">1</div>\n<div class=\"sammyListing\"><a href=\"/Chicago-Magazine/November-2012/Best-Sandwiches-in-Chicago-Old-Oak-Tap-BLT/\"><b>BLT</b><br>\nOld Oak Tap<br>\n<em>Read more</em> </br></br></a></div>\n</div>, <div class=\"sammy\" style=\"position: relative;\">\n<div class=\"sammyRank\">2</div>\n<div class=\"sammyListing\"><a href=\"/Chicago-Magazine/November-2012/Best-Sandwiches-in-Chicago-Au-Cheval-Fried-Bologna/\"><b>Fried Bologna</b><br/>\nAu Cheval<br/>\n<em>Read more</em> </a></div>\n</div>, <div class=\"sammy\" style=\"position: relative;\">\n<div class=\"sammyRank\">3</div>\n<div class=\"sammyListing\"><a href=\"/Chicago-Magazine/November-2012/Best-Sandwiches-in-Chicago-Xoco-Woodland-Mushroom/\"><b>Woodland Mushroom</b><br/>\nXoco<br/>\n<em>Read more</em> </a></div>\n</div>, <div class=\"sammy\" style=\"position: relative;\">\n<div class=\"sammyRank\">4</div>\n<div class=\"sammyListing\"><a href=\"/Chicago-Magazine/November-2012/Best-Sandwiches-in-Chicago-Als-Deli-Roast-Beef/\"><b>Roast Beef</b><br/>\nAl’s Deli<br/>\n<em>Read more</em> </a></div>\n</div>, <div class=\"sammy\" style=\"position: relative;\">\n<div class=\"sammyRank\">5</div>\n<div class=\"sammyListing\"><a href=\"/Chicago-Magazine/November-2012/Best-Sandwiches-in-Chicago-Publican-Quality-Meats-PB-L/\"><b>PB&amp;L</b><br/>\nPublican Quality Meats<br/>\n<em>Read more</em> </a></div>\n</div>, <div class=\"sammy\" style=\"position: relative;\">\n<div class=\"sammyRank\">6</div>\n<div class=\"sammyListing\"><a href=\"http://www.chicagomag.com/Chicago-Magazine/November-2012/Best-Sandwiches-in-Chicago-Hendrickx-Belgian-Bread-Crafter-Belgian-Chicken-Curry-Salad/\"><b>Belgian Chicken Curry Salad</b><br/>\nHendrickx Belgian Bread Crafter<br/>\n<em>Read more</em> </a></div>\n</div>, <div class=\"sammy\" style=\"position: relative;\">\n<div class=\"sammyRank\">7</div>\n<div class=\"sammyListing\"><a href=\"/Chicago-Magazine/November-2012/Best-Sandwiches-in-Chicago-Acadia-Lobster-Roll/\"><b>Lobster Roll</b><br/>\nAcadia<br/>\n<em>Read more</em> </a></div>\n</div>, <div class=\"sammy\" style=\"position: relative;\">\n<div class=\"sammyRank\">8</div>\n<div class=\"sammyListing\"><a href=\"/Chicago-Magazine/November-2012/Best-Sandwiches-in-Chicago-Birchwood-Kitchen-Smoked-Salmon-Salad/\"><b>Smoked Salmon Salad</b><br/>\nBirchwood Kitchen<br/>\n<em>Read more</em> </a></div>\n</div>, <div class=\"sammy\" style=\"position: relative;\">\n<div class=\"sammyRank\">9</div>\n<div class=\"sammyListing\"><a href=\"/Chicago-Magazine/November-2012/Best-Sandwiches-in-Chicago-Cemitas-Puebla-Atomica-Cemitas/\"><b>Atomica Cemitas</b><br/>\nCemitas Puebla<br/>\n<em>Read more</em> </a></div>\n</div>, <div class=\"sammy\" style=\"position: relative;\">\n<div class=\"sammyRank\">10</div>\n<div class=\"sammyListing\"><a href=\"/Chicago-Magazine/November-2012/Best-Sandwiches-in-Chicago-Nana-Grilled-Laughing-Bird-Shrimp-and-Fried-Oyster-Po-Boy/\"><b>Grilled Laughing Bird Shrimp and Fried Po’ Boy</b><br/>\nNana<br/>\n<em>Read more</em> </a></div>\n</div>, <div class=\"sammy\" style=\"position: relative;\">\n<div class=\"sammyRank\">11</div>\n<div class=\"sammyListing\"><a href=\"http://www.chicagomag.com/Chicago-Magazine/November-2012/Best-Sandwiches-in-Chicago-Lula-Cafe-Ham-and-Raclette-Panino/\"><b>Ham and Raclette Panino</b><br/>\nLula Cafe<br/>\n<em>Read more</em> </a></div>\n</div>, <div class=\"sammy\" style=\"position: relative;\">\n<div class=\"sammyRank\">12</div>\n<div class=\"sammyListing\"><a href=\"http://www.chicagomag.com/Chicago-Magazine/November-2012/Best-Sandwiches-in-Chicago-Ricobenes-Breaded-Steak/\"><b>Breaded Steak</b><br/>\nRicobene’s<br/>\n<em>Read more</em> </a></div>\n</div>, <div class=\"sammy\" style=\"position: relative;\">\n<div class=\"sammyRank\">13</div>\n<div class=\"sammyListing\"><a href=\"http://www.chicagomag.com/Chicago-Magazine/November-2012/Best-Sandwiches-in-Chicago-Frog-n-Snail-The-Hawkeye/\"><b>The Hawkeye</b><br/>\nFrog n Snail<br/>\n<em>Read more</em> </a></div>\n</div>, <div class=\"sammy\" style=\"position: relative;\">\n<div class=\"sammyRank\">14</div>\n<div class=\"sammyListing\"><a href=\"http://www.chicagomag.com/Chicago-Magazine/November-2012/Best-Sandwiches-in-Chicago-Crosbys-Kitchen-Chicken-Dip/\"><b>Chicken Dip</b><br/>\nCrosby’s Kitchen<br/>\n<em>Read more</em> </a></div>\n</div>, <div class=\"sammy\" style=\"position: relative;\">\n<div class=\"sammyRank\">15</div>\n<div class=\"sammyListing\"><a href=\"http://www.chicagomag.com/Chicago-Magazine/November-2012/Best-Sandwiches-in-Chicago-Longman-and-Eagle-Wild-Boar-Sloppy-Joe/\"><b>Wild Boar Sloppy Joe</b><br/>\nLongman &amp; Eagle<br/>\n<em>Read more</em> </a></div>\n</div>, <div class=\"sammy\" style=\"position: relative;\">\n<div class=\"sammyRank\">16</div>\n<div class=\"sammyListing\"><a href=\"http://www.chicagomag.com/Chicago-Magazine/November-2012/Best-Sandwiches-in-Chicago-Bari-Meatball-Sub/\"><b>Meatball Sub</b><br/>\nBari<br/>\n<em>Read more</em> </a></div>\n</div>, <div class=\"sammy\" style=\"position: relative;\">\n<div class=\"sammyRank\">17</div>\n<div class=\"sammyListing\"><a href=\"http://www.chicagomag.com/Chicago-Magazine/November-2012/Best-Sandwiches-in-Chicago-Mannys-Corned-Beef/\"><b>Corned Beef</b><br/>\nManny’s<br/>\n<em>Read more</em> </a></div>\n</div>, <div class=\"sammy\" style=\"position: relative;\">\n<div class=\"sammyRank\">18</div>\n<div class=\"sammyListing\"><a href=\"http://www.chicagomag.com/Chicago-Magazine/November-2012/Best-Sandwiches-in-Chicago-Eggys-Turkey-Club/\"><b>Turkey Club</b><br/>\nEggy’s<br/>\n<em>Read more</em> </a></div>\n</div>, <div class=\"sammy\" style=\"position: relative;\">\n<div class=\"sammyRank\">19</div>\n<div class=\"sammyListing\"><a href=\"http://www.chicagomag.com/Chicago-Magazine/November-2012/Best-Sandwiches-in-Chicago-Old-Jerusalem-Falafel/\"><b>Falafel</b><br/>\nOld Jerusalem<br/>\n<em>Read more</em> </a></div>\n</div>, <div class=\"sammy\" style=\"position: relative;\">\n<div class=\"sammyRank\">20</div>\n<div class=\"sammyListing\"><a href=\"http://www.chicagomag.com/Chicago-Magazine/November-2012/Best-Sandwiches-in-Chicago-Mindys-HotChocolate-Crab-Cake/\"><b>Crab Cake</b><br/>\nMindy’s HotChocolate<br/>\n<em>Read more</em> </a></div>\n</div>, <div class=\"sammy\" style=\"position: relative;\">\n<div class=\"sammyRank\">21</div>\n<div class=\"sammyListing\"><a href=\"http://www.chicagomag.com/Chicago-Magazine/November-2012/Best-Sandwiches-in-Chicago-Olgas-Delicatessen-Chicken-Schnitzel/\"><b>Chicken Schnitzel</b><br/>\nOlga’s Delicatessen<br/>\n<em>Read more</em> </a></div>\n</div>, <div class=\"sammy\" style=\"position: relative;\">\n<div class=\"sammyRank\">22</div>\n<div class=\"sammyListing\"><a href=\"http://www.chicagomag.com/Chicago-Magazine/November-2012/Best-Sandwiches-in-Chicago-Dawali-Mediterranean-Kitchen-Shawarma/\"><b>Shawarma</b><br/>\nDawali Mediterranean Kitchen<br/>\n<em>Read more</em> </a></div>\n</div>, <div class=\"sammy\" style=\"position: relative;\">\n<div class=\"sammyRank\">23</div>\n<div class=\"sammyListing\"><a href=\"http://www.chicagomag.com/Chicago-Magazine/November-2012/Best-Sandwiches-in-Chicago-Big-Jones-Toasted-Pimiento-Cheese/\"><b>Toasted Pimiento Cheese</b><br/>\nBig Jones<br/>\n<em>Read more</em> </a></div>\n</div>, <div class=\"sammy\" style=\"position: relative;\">\n<div class=\"sammyRank\">24</div>\n<div class=\"sammyListing\"><a href=\"http://www.chicagomag.com/Chicago-Magazine/November-2012/Best-Sandwiches-in-Chicago-La-Pane-Vegetarian-Panino/\"><b>Vegetarian Panino</b><br/>\nLa Pane<br/>\n<em>Read more</em> </a></div>\n</div>, <div class=\"sammy\" style=\"position: relative;\">\n<div class=\"sammyRank\">25</div>\n<div class=\"sammyListing\"><a href=\"/Chicago-Magazine/November-2012/Best-Sandwiches-in-Chicago-Pastoral-Cali-Chevre/\"><b>Cali Chèvre</b><br/>\nPastoral<br/>\n<em>Read more</em> </a></div>\n</div>, <div class=\"sammy\" style=\"position: relative;\">\n<div class=\"sammyRank\">26</div>\n<div class=\"sammyListing\"><a href=\"http://www.chicagomag.com/Chicago-Magazine/November-2012/Best-Sandwiches-in-Chicago-Maxs-Deli-Pastrami/\"><b>Pastrami</b><br/>\nMax’s Deli<br/>\n<em>Read more</em> </a></div>\n</div>, <div class=\"sammy\" style=\"position: relative;\">\n<div class=\"sammyRank\">27</div>\n<div class=\"sammyListing\"><a href=\"http://www.chicagomag.com/Chicago-Magazine/November-2012/Best-Sandwiches-in-Chicago-Luckys-Sandwich-Co-The-Fredo/\"><b>The Fredo</b><br/>\nLucky’s Sandwich Co.<br/>\n<em>Read more</em> </a></div>\n</div>, <div class=\"sammy\" style=\"position: relative;\">\n<div class=\"sammyRank\">28</div>\n<div class=\"sammyListing\"><a href=\"http://www.chicagomag.com/Chicago-Magazine/November-2012/Best-Sandwiches-in-Chicago-City-Provisions-Smoked-Ham/\"><b>Smoked Ham</b><br/>\nCity Provisions<br/>\n<em>Read more</em> </a></div>\n</div>, <div class=\"sammy\" style=\"position: relative;\">\n<div class=\"sammyRank\">29</div>\n<div class=\"sammyListing\"><a href=\"http://www.chicagomag.com/Chicago-Magazine/November-2012/Best-Sandwiches-in-Chicago-Papas-Cache-Sabroso-Jibarito/\"><b>Jibarito</b><br/>\nPapa’s Cache Sabroso<br/>\n<em>Read more</em> </a></div>\n</div>, <div class=\"sammy\" style=\"position: relative;\">\n<div class=\"sammyRank\">30</div>\n<div class=\"sammyListing\"><a href=\"http://www.chicagomag.com/Chicago-Magazine/November-2012/Best-Sandwiches-in-Chicago-Bavettes-Bar-and-Boeuf-Shaved-Prime-Rib/\"><b>Shaved Prime Rib</b><br/>\nBavette’s Bar &amp; Boeuf<br/>\n<em>Read more</em> </a></div>\n</div>, <div class=\"sammy\" style=\"position: relative;\">\n<div class=\"sammyRank\">31</div>\n<div class=\"sammyListing\"><a href=\"http://www.chicagomag.com/Chicago-Magazine/November-2012/Best-Sandwiches-in-Chicago-Hannahs-Bretzel-Serrano-Ham-and-Manchego-Cheese/\"><b>Serrano Ham and Manchego Cheese</b><br/>\nHannah’s Bretzel<br/>\n<em>Read more</em> </a></div>\n</div>, <div class=\"sammy\" style=\"position: relative;\">\n<div class=\"sammyRank\">32</div>\n<div class=\"sammyListing\"><a href=\"http://www.chicagomag.com/Chicago-Magazine/November-2012/Best-Sandwiches-in-Chicago-La-Fournette-Tuna-Salad/\"><b>Tuna Salad</b><br/>\nLa Fournette<br/>\n<em>Read more</em> </a></div>\n</div>, <div class=\"sammy\" style=\"position: relative;\">\n<div class=\"sammyRank\">33</div>\n<div class=\"sammyListing\"><a href=\"http://www.chicagomag.com/Chicago-Magazine/November-2012/Best-Sandwiches-in-Chicago-Paramount-Room-Paramount-Reuben/\"><b>Paramount Reuben</b><br/>\nParamount Room<br/>\n<em>Read more</em> </a></div>\n</div>, <div class=\"sammy\" style=\"position: relative;\">\n<div class=\"sammyRank\">34</div>\n<div class=\"sammyListing\"><a href=\"http://www.chicagomag.com/Chicago-Magazine/November-2012/Best-Sandwiches-in-Chicago-Melt-Sandwich-Shoppe-The-Istanbul/\"><b>The Istanbul</b><br/>\nMelt Sandwich Shoppe<br/>\n<em>Read more</em> </a></div>\n</div>, <div class=\"sammy\" style=\"position: relative;\">\n<div class=\"sammyRank\">35</div>\n<div class=\"sammyListing\"><a href=\"http://www.chicagomag.com/Chicago-Magazine/November-2012/Best-Sandwiches-in-Chicago-Floriole-Cafe-and-Bakery-BAD/\"><b>B.A.D.</b><br/>\nFloriole Cafe &amp; Bakery<br/>\n<em>Read more</em> </a></div>\n</div>, <div class=\"sammy\" style=\"position: relative;\">\n<div class=\"sammyRank\">36</div>\n<div class=\"sammyListing\"><a href=\"http://www.chicagomag.com/Chicago-Magazine/November-2012/Best-Sandwiches-in-Chicago-First-Slice-Pie-Cafe-Duck-Confit-and-Mozzarella/\"><b>Duck Confit and Mozzarella</b><br/>\nFirst Slice Pie Café<br/>\n<em>Read more</em> </a></div>\n</div>, <div class=\"sammy\" style=\"position: relative;\">\n<div class=\"sammyRank\">37</div>\n<div class=\"sammyListing\"><a href=\"http://www.chicagomag.com/Chicago-Magazine/November-2012/Best-Sandwiches-in-Chicago-Troquet-Croque-Monsieur/\"><b>Croque Monsieur</b><br/>\nTroquet<br/>\n<em>Read more</em> </a></div>\n</div>, <div class=\"sammy\" style=\"position: relative;\">\n<div class=\"sammyRank\">38</div>\n<div class=\"sammyListing\"><a href=\"http://www.chicagomag.com/Chicago-Magazine/November-2012/Best-Sandwiches-in-Chicago-Grahamwich-Green-Garbanzo/\"><b>Green Garbanzo</b><br/>\nGrahamwich<br/>\n<em>Read more</em> </a></div>\n</div>, <div class=\"sammy\" style=\"position: relative;\">\n<div class=\"sammyRank\">39</div>\n<div class=\"sammyListing\"><a href=\"http://www.chicagomag.com/Chicago-Magazine/November-2012/Best-Sandwiches-in-Chicago-Saigon-Sisters-The-Hen-House/\"><b>The Hen House</b><br/>\nSaigon Sisters<br/>\n<em>Read more</em> </a></div>\n</div>, <div class=\"sammy\" style=\"position: relative;\">\n<div class=\"sammyRank\">40</div>\n<div class=\"sammyListing\"><a href=\"http://www.chicagomag.com/Chicago-Magazine/November-2012/Best-Sandwiches-in-Chicago-Rosalias-Deli-Tuscan-Chicken/\"><b>Tuscan Chicken</b><br/>\nRosalia’s Deli<br/>\n<em>Read more</em> </a></div>\n</div>, <div class=\"sammy\" style=\"position: relative;\">\n<div class=\"sammyRank\">41</div>\n<div class=\"sammyListing\"><a href=\"http://www.chicagomag.com/Chicago-Magazine/November-2012/Best-Sandwiches-in-Chicago-Z-and-H-MarketCafe-The-Marty/\"><b>The Marty </b><br/>\nZ&amp;H MarketCafe<br/>\n<em>Read more</em> </a></div>\n</div>, <div class=\"sammy\" style=\"position: relative;\">\n<div class=\"sammyRank\">42</div>\n<div class=\"sammyListing\"><a href=\"http://www.chicagomag.com/Chicago-Magazine/November-2012/Best-Sandwiches-in-Chicago-Market-House-on-the-Square-Whitefish/\"><b>Whitefish</b><br/>\nMarket House on the Square<br/>\n<em>Read more</em> </a></div>\n</div>, <div class=\"sammy\" style=\"position: relative;\">\n<div class=\"sammyRank\">43</div>\n<div class=\"sammyListing\"><a href=\"http://www.chicagomag.com/Chicago-Magazine/November-2012/Best-Sandwiches-in-Chicago-Elaines-Coffee-Call-Oat-Bread-Pecan-Butter-and-Fruit-Jam/\"><b>Oat Bread, Pecan Butter, and Fruit Jam</b><br/>\nElaine’s Coffee Call<br/>\n<em>Read more</em> </a></div>\n</div>, <div class=\"sammy\" style=\"position: relative;\">\n<div class=\"sammyRank\">44</div>\n<div class=\"sammyListing\"><a href=\"http://www.chicagomag.com/Chicago-Magazine/November-2012/Best-Sandwiches-in-Chicago-Marion-Street-Cheese-Market-Cauliflower-Melt/\"><b>Cauliflower Melt</b><br/>\nMarion Street Cheese Market<br/>\n<em>Read more</em> </a></div>\n</div>, <div class=\"sammy\" style=\"position: relative;\">\n<div class=\"sammyRank\">45</div>\n<div class=\"sammyListing\"><a href=\"http://www.chicagomag.com/Chicago-Magazine/November-2012/Best-Sandwiches-in-Chicago-Cafecito-Cubano/\"><b>Cubana</b><br/>\nCafecito<br/>\n<em>Read more</em> </a></div>\n</div>, <div class=\"sammy\" style=\"position: relative;\">\n<div class=\"sammyRank\">46</div>\n<div class=\"sammyListing\"><a href=\"http://www.chicagomag.com/Chicago-Magazine/November-2012/Best-Sandwiches-in-Chicago-Chickpea-Kufta/\"><b>Kufta</b><br/>\nChickpea<br/>\n<em>Read more</em> </a></div>\n</div>, <div class=\"sammy\" style=\"position: relative;\">\n<div class=\"sammyRank\">47</div>\n<div class=\"sammyListing\"><a href=\"http://www.chicagomag.com/Chicago-Magazine/November-2012/Best-Sandwiches-in-Chicago-The-Goddess-and-Grocer-Debbies-Egg-Salad/\"><b>Debbie’s Egg Salad</b><br/>\nThe Goddess and Grocer<br/>\n<em>Read more</em> </a></div>\n</div>, <div class=\"sammy\" style=\"position: relative;\">\n<div class=\"sammyRank\">48</div>\n<div class=\"sammyListing\"><a href=\"http://www.chicagomag.com/Chicago-Magazine/November-2012/Best-Sandwiches-in-Chicago-Zenwich-Beef-Curry/\"><b>Beef Curry</b><br/>\nZenwich<br/>\n<em>Read more</em> </a></div>\n</div>, <div class=\"sammy\" style=\"position: relative;\">\n<div class=\"sammyRank\">49</div>\n<div class=\"sammyListing\"><a href=\"http://www.chicagomag.com/Chicago-Magazine/November-2012/Best-Sandwiches-in-Chicago-Toni-Patisserie-Le-Vegetarien/\"><b>Le Végétarien</b><br/>\nToni Patisserie<br/>\n<em>Read more</em> </a></div>\n</div>, <div class=\"sammy\" style=\"position: relative; border-bottom: 0\">\n<div class=\"sammyRank\">50</div>\n<div class=\"sammyListing\"><a href=\"http://www.chicagomag.com/Chicago-Magazine/November-2012/Best-Sandwiches-in-Chicago-Phoebes-Bakery-The-Gatsby/\"><b>The Gatsby</b><br/>\nPhoebe’s Bakery<br/>\n<em>Read more</em> </a></div>\n</div>]\n"
     ]
    }
   ],
   "source": [
    "url_base = 'http://www.chicagomag.com/'\n",
    "url_sub = 'Chicago-Magazine/November-2012/Best-Sandwiches-Chicago/'\n",
    "url = urllib.parse.urljoin(url_base,url_sub)\n",
    "html = urllib.request.urlopen(url)\n",
    "soup = BeautifulSoup(html,'html.parser')\n",
    "print(soup.find_all(\"div\",\"sammy\"))"
   ]
  },
  {
   "cell_type": "code",
   "execution_count": 3,
   "metadata": {},
   "outputs": [
    {
     "output_type": "execute_result",
     "data": {
      "text/plain": [
       "50"
      ]
     },
     "metadata": {},
     "execution_count": 3
    }
   ],
   "source": [
    "len(soup.find_all(\"div\",\"sammy\"))"
   ]
  },
  {
   "cell_type": "code",
   "execution_count": 4,
   "metadata": {},
   "outputs": [
    {
     "output_type": "error",
     "ename": "NameError",
     "evalue": "name 'rest_list' is not defined",
     "traceback": [
      "\u001b[1;31m---------------------------------------------------------------------------\u001b[0m",
      "\u001b[1;31mNameError\u001b[0m                                 Traceback (most recent call last)",
      "\u001b[1;32m<ipython-input-4-5832c801de1d>\u001b[0m in \u001b[0;36m<module>\u001b[1;34m\u001b[0m\n\u001b[1;32m----> 1\u001b[1;33m \u001b[0mrest_list\u001b[0m\u001b[1;33m[\u001b[0m\u001b[1;36m0\u001b[0m\u001b[1;33m]\u001b[0m\u001b[1;33m\u001b[0m\u001b[1;33m\u001b[0m\u001b[0m\n\u001b[0m",
      "\u001b[1;31mNameError\u001b[0m: name 'rest_list' is not defined"
     ]
    }
   ],
   "source": [
    "rest_list[0]"
   ]
  },
  {
   "cell_type": "code",
   "execution_count": 72,
   "metadata": {},
   "outputs": [
    {
     "output_type": "execute_result",
     "data": {
      "text/plain": [
       "('BLT', 'Old Oak Tap')"
      ]
     },
     "metadata": {},
     "execution_count": 72
    }
   ],
   "source": [
    "rest_list = soup.select(\".sammy\")\n",
    "rank = rest_list[0].find(\"div\",\"sammyRank\").get_text()\n",
    "tmp = rest_list[0].find(\"div\",\"sammyListing\").get_text()\n",
    "rest_url = rest_list[0].find('a')['href']\n",
    "tmp.split(\"\\n\")\n",
    "menu = tmp.split(\"\\n\")[0].replace(\"\\r\",\"\")\n",
    "cafe = tmp.split(\"\\n\")[1]\n",
    "menu,cafe\n"
   ]
  },
  {
   "cell_type": "code",
   "execution_count": 5,
   "metadata": {},
   "outputs": [
    {
     "output_type": "display_data",
     "data": {
      "text/plain": "HBox(children=(FloatProgress(value=0.0, max=50.0), HTML(value='')))",
      "application/vnd.jupyter.widget-view+json": {
       "version_major": 2,
       "version_minor": 0,
       "model_id": "669f4210950b441c8fa5baa9687b9dbf"
      }
     },
     "metadata": {}
    },
    {
     "output_type": "stream",
     "name": "stdout",
     "text": [
      "\n"
     ]
    },
    {
     "output_type": "execute_result",
     "data": {
      "text/plain": [
       "                                 cafe  \\\n",
       "rank                                    \n",
       "1                         Old Oak Tap   \n",
       "2                           Au Cheval   \n",
       "3                                Xoco   \n",
       "4                           Al’s Deli   \n",
       "5              Publican Quality Meats   \n",
       "6     Hendrickx Belgian Bread Crafter   \n",
       "7                              Acadia   \n",
       "8                   Birchwood Kitchen   \n",
       "9                      Cemitas Puebla   \n",
       "10                               Nana   \n",
       "11                          Lula Cafe   \n",
       "12                         Ricobene’s   \n",
       "13                       Frog n Snail   \n",
       "14                   Crosby’s Kitchen   \n",
       "15                    Longman & Eagle   \n",
       "16                               Bari   \n",
       "17                            Manny’s   \n",
       "18                             Eggy’s   \n",
       "19                      Old Jerusalem   \n",
       "20               Mindy’s HotChocolate   \n",
       "21                Olga’s Delicatessen   \n",
       "22       Dawali Mediterranean Kitchen   \n",
       "23                          Big Jones   \n",
       "24                            La Pane   \n",
       "25                           Pastoral   \n",
       "26                         Max’s Deli   \n",
       "27               Lucky’s Sandwich Co.   \n",
       "28                    City Provisions   \n",
       "29               Papa’s Cache Sabroso   \n",
       "30              Bavette’s Bar & Boeuf   \n",
       "31                   Hannah’s Bretzel   \n",
       "32                       La Fournette   \n",
       "33                     Paramount Room   \n",
       "34               Melt Sandwich Shoppe   \n",
       "35             Floriole Cafe & Bakery   \n",
       "36               First Slice Pie Café   \n",
       "37                            Troquet   \n",
       "38                         Grahamwich   \n",
       "39                     Saigon Sisters   \n",
       "40                     Rosalia’s Deli   \n",
       "41                     Z&H MarketCafe   \n",
       "42         Market House on the Square   \n",
       "43               Elaine’s Coffee Call   \n",
       "44        Marion Street Cheese Market   \n",
       "45                           Cafecito   \n",
       "46                           Chickpea   \n",
       "47             The Goddess and Grocer   \n",
       "48                            Zenwich   \n",
       "49                    Toni Patisserie   \n",
       "50                    Phoebe’s Bakery   \n",
       "\n",
       "                                                menu  \\\n",
       "rank                                                   \n",
       "1                                                BLT   \n",
       "2                                      Fried Bologna   \n",
       "3                                  Woodland Mushroom   \n",
       "4                                         Roast Beef   \n",
       "5                                               PB&L   \n",
       "6                        Belgian Chicken Curry Salad   \n",
       "7                                       Lobster Roll   \n",
       "8                                Smoked Salmon Salad   \n",
       "9                                    Atomica Cemitas   \n",
       "10    Grilled Laughing Bird Shrimp and Fried Po’ Boy   \n",
       "11                           Ham and Raclette Panino   \n",
       "12                                     Breaded Steak   \n",
       "13                                       The Hawkeye   \n",
       "14                                       Chicken Dip   \n",
       "15                              Wild Boar Sloppy Joe   \n",
       "16                                      Meatball Sub   \n",
       "17                                       Corned Beef   \n",
       "18                                       Turkey Club   \n",
       "19                                           Falafel   \n",
       "20                                         Crab Cake   \n",
       "21                                 Chicken Schnitzel   \n",
       "22                                          Shawarma   \n",
       "23                           Toasted Pimiento Cheese   \n",
       "24                                 Vegetarian Panino   \n",
       "25                                       Cali Chèvre   \n",
       "26                                          Pastrami   \n",
       "27                                         The Fredo   \n",
       "28                                        Smoked Ham   \n",
       "29                                          Jibarito   \n",
       "30                                  Shaved Prime Rib   \n",
       "31                   Serrano Ham and Manchego Cheese   \n",
       "32                                        Tuna Salad   \n",
       "33                                  Paramount Reuben   \n",
       "34                                      The Istanbul   \n",
       "35                                            B.A.D.   \n",
       "36                        Duck Confit and Mozzarella   \n",
       "37                                   Croque Monsieur   \n",
       "38                                    Green Garbanzo   \n",
       "39                                     The Hen House   \n",
       "40                                    Tuscan Chicken   \n",
       "41                                        The Marty    \n",
       "42                                         Whitefish   \n",
       "43            Oat Bread, Pecan Butter, and Fruit Jam   \n",
       "44                                  Cauliflower Melt   \n",
       "45                                            Cubana   \n",
       "46                                             Kufta   \n",
       "47                                Debbie’s Egg Salad   \n",
       "48                                        Beef Curry   \n",
       "49                                     Le Végétarien   \n",
       "50                                        The Gatsby   \n",
       "\n",
       "                                                    url  \n",
       "rank                                                     \n",
       "1     http://www.chicagomag.com/Chicago-Magazine/Nov...  \n",
       "2     http://www.chicagomag.com/Chicago-Magazine/Nov...  \n",
       "3     http://www.chicagomag.com/Chicago-Magazine/Nov...  \n",
       "4     http://www.chicagomag.com/Chicago-Magazine/Nov...  \n",
       "5     http://www.chicagomag.com/Chicago-Magazine/Nov...  \n",
       "6     http://www.chicagomag.com/Chicago-Magazine/Nov...  \n",
       "7     http://www.chicagomag.com/Chicago-Magazine/Nov...  \n",
       "8     http://www.chicagomag.com/Chicago-Magazine/Nov...  \n",
       "9     http://www.chicagomag.com/Chicago-Magazine/Nov...  \n",
       "10    http://www.chicagomag.com/Chicago-Magazine/Nov...  \n",
       "11    http://www.chicagomag.com/Chicago-Magazine/Nov...  \n",
       "12    http://www.chicagomag.com/Chicago-Magazine/Nov...  \n",
       "13    http://www.chicagomag.com/Chicago-Magazine/Nov...  \n",
       "14    http://www.chicagomag.com/Chicago-Magazine/Nov...  \n",
       "15    http://www.chicagomag.com/Chicago-Magazine/Nov...  \n",
       "16    http://www.chicagomag.com/Chicago-Magazine/Nov...  \n",
       "17    http://www.chicagomag.com/Chicago-Magazine/Nov...  \n",
       "18    http://www.chicagomag.com/Chicago-Magazine/Nov...  \n",
       "19    http://www.chicagomag.com/Chicago-Magazine/Nov...  \n",
       "20    http://www.chicagomag.com/Chicago-Magazine/Nov...  \n",
       "21    http://www.chicagomag.com/Chicago-Magazine/Nov...  \n",
       "22    http://www.chicagomag.com/Chicago-Magazine/Nov...  \n",
       "23    http://www.chicagomag.com/Chicago-Magazine/Nov...  \n",
       "24    http://www.chicagomag.com/Chicago-Magazine/Nov...  \n",
       "25    http://www.chicagomag.com/Chicago-Magazine/Nov...  \n",
       "26    http://www.chicagomag.com/Chicago-Magazine/Nov...  \n",
       "27    http://www.chicagomag.com/Chicago-Magazine/Nov...  \n",
       "28    http://www.chicagomag.com/Chicago-Magazine/Nov...  \n",
       "29    http://www.chicagomag.com/Chicago-Magazine/Nov...  \n",
       "30    http://www.chicagomag.com/Chicago-Magazine/Nov...  \n",
       "31    http://www.chicagomag.com/Chicago-Magazine/Nov...  \n",
       "32    http://www.chicagomag.com/Chicago-Magazine/Nov...  \n",
       "33    http://www.chicagomag.com/Chicago-Magazine/Nov...  \n",
       "34    http://www.chicagomag.com/Chicago-Magazine/Nov...  \n",
       "35    http://www.chicagomag.com/Chicago-Magazine/Nov...  \n",
       "36    http://www.chicagomag.com/Chicago-Magazine/Nov...  \n",
       "37    http://www.chicagomag.com/Chicago-Magazine/Nov...  \n",
       "38    http://www.chicagomag.com/Chicago-Magazine/Nov...  \n",
       "39    http://www.chicagomag.com/Chicago-Magazine/Nov...  \n",
       "40    http://www.chicagomag.com/Chicago-Magazine/Nov...  \n",
       "41    http://www.chicagomag.com/Chicago-Magazine/Nov...  \n",
       "42    http://www.chicagomag.com/Chicago-Magazine/Nov...  \n",
       "43    http://www.chicagomag.com/Chicago-Magazine/Nov...  \n",
       "44    http://www.chicagomag.com/Chicago-Magazine/Nov...  \n",
       "45    http://www.chicagomag.com/Chicago-Magazine/Nov...  \n",
       "46    http://www.chicagomag.com/Chicago-Magazine/Nov...  \n",
       "47    http://www.chicagomag.com/Chicago-Magazine/Nov...  \n",
       "48    http://www.chicagomag.com/Chicago-Magazine/Nov...  \n",
       "49    http://www.chicagomag.com/Chicago-Magazine/Nov...  \n",
       "50    http://www.chicagomag.com/Chicago-Magazine/Nov...  "
      ],
      "text/html": "<div>\n<style scoped>\n    .dataframe tbody tr th:only-of-type {\n        vertical-align: middle;\n    }\n\n    .dataframe tbody tr th {\n        vertical-align: top;\n    }\n\n    .dataframe thead th {\n        text-align: right;\n    }\n</style>\n<table border=\"1\" class=\"dataframe\">\n  <thead>\n    <tr style=\"text-align: right;\">\n      <th></th>\n      <th>cafe</th>\n      <th>menu</th>\n      <th>url</th>\n    </tr>\n    <tr>\n      <th>rank</th>\n      <th></th>\n      <th></th>\n      <th></th>\n    </tr>\n  </thead>\n  <tbody>\n    <tr>\n      <th>1</th>\n      <td>Old Oak Tap</td>\n      <td>BLT</td>\n      <td>http://www.chicagomag.com/Chicago-Magazine/Nov...</td>\n    </tr>\n    <tr>\n      <th>2</th>\n      <td>Au Cheval</td>\n      <td>Fried Bologna</td>\n      <td>http://www.chicagomag.com/Chicago-Magazine/Nov...</td>\n    </tr>\n    <tr>\n      <th>3</th>\n      <td>Xoco</td>\n      <td>Woodland Mushroom</td>\n      <td>http://www.chicagomag.com/Chicago-Magazine/Nov...</td>\n    </tr>\n    <tr>\n      <th>4</th>\n      <td>Al’s Deli</td>\n      <td>Roast Beef</td>\n      <td>http://www.chicagomag.com/Chicago-Magazine/Nov...</td>\n    </tr>\n    <tr>\n      <th>5</th>\n      <td>Publican Quality Meats</td>\n      <td>PB&amp;L</td>\n      <td>http://www.chicagomag.com/Chicago-Magazine/Nov...</td>\n    </tr>\n    <tr>\n      <th>6</th>\n      <td>Hendrickx Belgian Bread Crafter</td>\n      <td>Belgian Chicken Curry Salad</td>\n      <td>http://www.chicagomag.com/Chicago-Magazine/Nov...</td>\n    </tr>\n    <tr>\n      <th>7</th>\n      <td>Acadia</td>\n      <td>Lobster Roll</td>\n      <td>http://www.chicagomag.com/Chicago-Magazine/Nov...</td>\n    </tr>\n    <tr>\n      <th>8</th>\n      <td>Birchwood Kitchen</td>\n      <td>Smoked Salmon Salad</td>\n      <td>http://www.chicagomag.com/Chicago-Magazine/Nov...</td>\n    </tr>\n    <tr>\n      <th>9</th>\n      <td>Cemitas Puebla</td>\n      <td>Atomica Cemitas</td>\n      <td>http://www.chicagomag.com/Chicago-Magazine/Nov...</td>\n    </tr>\n    <tr>\n      <th>10</th>\n      <td>Nana</td>\n      <td>Grilled Laughing Bird Shrimp and Fried Po’ Boy</td>\n      <td>http://www.chicagomag.com/Chicago-Magazine/Nov...</td>\n    </tr>\n    <tr>\n      <th>11</th>\n      <td>Lula Cafe</td>\n      <td>Ham and Raclette Panino</td>\n      <td>http://www.chicagomag.com/Chicago-Magazine/Nov...</td>\n    </tr>\n    <tr>\n      <th>12</th>\n      <td>Ricobene’s</td>\n      <td>Breaded Steak</td>\n      <td>http://www.chicagomag.com/Chicago-Magazine/Nov...</td>\n    </tr>\n    <tr>\n      <th>13</th>\n      <td>Frog n Snail</td>\n      <td>The Hawkeye</td>\n      <td>http://www.chicagomag.com/Chicago-Magazine/Nov...</td>\n    </tr>\n    <tr>\n      <th>14</th>\n      <td>Crosby’s Kitchen</td>\n      <td>Chicken Dip</td>\n      <td>http://www.chicagomag.com/Chicago-Magazine/Nov...</td>\n    </tr>\n    <tr>\n      <th>15</th>\n      <td>Longman &amp; Eagle</td>\n      <td>Wild Boar Sloppy Joe</td>\n      <td>http://www.chicagomag.com/Chicago-Magazine/Nov...</td>\n    </tr>\n    <tr>\n      <th>16</th>\n      <td>Bari</td>\n      <td>Meatball Sub</td>\n      <td>http://www.chicagomag.com/Chicago-Magazine/Nov...</td>\n    </tr>\n    <tr>\n      <th>17</th>\n      <td>Manny’s</td>\n      <td>Corned Beef</td>\n      <td>http://www.chicagomag.com/Chicago-Magazine/Nov...</td>\n    </tr>\n    <tr>\n      <th>18</th>\n      <td>Eggy’s</td>\n      <td>Turkey Club</td>\n      <td>http://www.chicagomag.com/Chicago-Magazine/Nov...</td>\n    </tr>\n    <tr>\n      <th>19</th>\n      <td>Old Jerusalem</td>\n      <td>Falafel</td>\n      <td>http://www.chicagomag.com/Chicago-Magazine/Nov...</td>\n    </tr>\n    <tr>\n      <th>20</th>\n      <td>Mindy’s HotChocolate</td>\n      <td>Crab Cake</td>\n      <td>http://www.chicagomag.com/Chicago-Magazine/Nov...</td>\n    </tr>\n    <tr>\n      <th>21</th>\n      <td>Olga’s Delicatessen</td>\n      <td>Chicken Schnitzel</td>\n      <td>http://www.chicagomag.com/Chicago-Magazine/Nov...</td>\n    </tr>\n    <tr>\n      <th>22</th>\n      <td>Dawali Mediterranean Kitchen</td>\n      <td>Shawarma</td>\n      <td>http://www.chicagomag.com/Chicago-Magazine/Nov...</td>\n    </tr>\n    <tr>\n      <th>23</th>\n      <td>Big Jones</td>\n      <td>Toasted Pimiento Cheese</td>\n      <td>http://www.chicagomag.com/Chicago-Magazine/Nov...</td>\n    </tr>\n    <tr>\n      <th>24</th>\n      <td>La Pane</td>\n      <td>Vegetarian Panino</td>\n      <td>http://www.chicagomag.com/Chicago-Magazine/Nov...</td>\n    </tr>\n    <tr>\n      <th>25</th>\n      <td>Pastoral</td>\n      <td>Cali Chèvre</td>\n      <td>http://www.chicagomag.com/Chicago-Magazine/Nov...</td>\n    </tr>\n    <tr>\n      <th>26</th>\n      <td>Max’s Deli</td>\n      <td>Pastrami</td>\n      <td>http://www.chicagomag.com/Chicago-Magazine/Nov...</td>\n    </tr>\n    <tr>\n      <th>27</th>\n      <td>Lucky’s Sandwich Co.</td>\n      <td>The Fredo</td>\n      <td>http://www.chicagomag.com/Chicago-Magazine/Nov...</td>\n    </tr>\n    <tr>\n      <th>28</th>\n      <td>City Provisions</td>\n      <td>Smoked Ham</td>\n      <td>http://www.chicagomag.com/Chicago-Magazine/Nov...</td>\n    </tr>\n    <tr>\n      <th>29</th>\n      <td>Papa’s Cache Sabroso</td>\n      <td>Jibarito</td>\n      <td>http://www.chicagomag.com/Chicago-Magazine/Nov...</td>\n    </tr>\n    <tr>\n      <th>30</th>\n      <td>Bavette’s Bar &amp; Boeuf</td>\n      <td>Shaved Prime Rib</td>\n      <td>http://www.chicagomag.com/Chicago-Magazine/Nov...</td>\n    </tr>\n    <tr>\n      <th>31</th>\n      <td>Hannah’s Bretzel</td>\n      <td>Serrano Ham and Manchego Cheese</td>\n      <td>http://www.chicagomag.com/Chicago-Magazine/Nov...</td>\n    </tr>\n    <tr>\n      <th>32</th>\n      <td>La Fournette</td>\n      <td>Tuna Salad</td>\n      <td>http://www.chicagomag.com/Chicago-Magazine/Nov...</td>\n    </tr>\n    <tr>\n      <th>33</th>\n      <td>Paramount Room</td>\n      <td>Paramount Reuben</td>\n      <td>http://www.chicagomag.com/Chicago-Magazine/Nov...</td>\n    </tr>\n    <tr>\n      <th>34</th>\n      <td>Melt Sandwich Shoppe</td>\n      <td>The Istanbul</td>\n      <td>http://www.chicagomag.com/Chicago-Magazine/Nov...</td>\n    </tr>\n    <tr>\n      <th>35</th>\n      <td>Floriole Cafe &amp; Bakery</td>\n      <td>B.A.D.</td>\n      <td>http://www.chicagomag.com/Chicago-Magazine/Nov...</td>\n    </tr>\n    <tr>\n      <th>36</th>\n      <td>First Slice Pie Café</td>\n      <td>Duck Confit and Mozzarella</td>\n      <td>http://www.chicagomag.com/Chicago-Magazine/Nov...</td>\n    </tr>\n    <tr>\n      <th>37</th>\n      <td>Troquet</td>\n      <td>Croque Monsieur</td>\n      <td>http://www.chicagomag.com/Chicago-Magazine/Nov...</td>\n    </tr>\n    <tr>\n      <th>38</th>\n      <td>Grahamwich</td>\n      <td>Green Garbanzo</td>\n      <td>http://www.chicagomag.com/Chicago-Magazine/Nov...</td>\n    </tr>\n    <tr>\n      <th>39</th>\n      <td>Saigon Sisters</td>\n      <td>The Hen House</td>\n      <td>http://www.chicagomag.com/Chicago-Magazine/Nov...</td>\n    </tr>\n    <tr>\n      <th>40</th>\n      <td>Rosalia’s Deli</td>\n      <td>Tuscan Chicken</td>\n      <td>http://www.chicagomag.com/Chicago-Magazine/Nov...</td>\n    </tr>\n    <tr>\n      <th>41</th>\n      <td>Z&amp;H MarketCafe</td>\n      <td>The Marty</td>\n      <td>http://www.chicagomag.com/Chicago-Magazine/Nov...</td>\n    </tr>\n    <tr>\n      <th>42</th>\n      <td>Market House on the Square</td>\n      <td>Whitefish</td>\n      <td>http://www.chicagomag.com/Chicago-Magazine/Nov...</td>\n    </tr>\n    <tr>\n      <th>43</th>\n      <td>Elaine’s Coffee Call</td>\n      <td>Oat Bread, Pecan Butter, and Fruit Jam</td>\n      <td>http://www.chicagomag.com/Chicago-Magazine/Nov...</td>\n    </tr>\n    <tr>\n      <th>44</th>\n      <td>Marion Street Cheese Market</td>\n      <td>Cauliflower Melt</td>\n      <td>http://www.chicagomag.com/Chicago-Magazine/Nov...</td>\n    </tr>\n    <tr>\n      <th>45</th>\n      <td>Cafecito</td>\n      <td>Cubana</td>\n      <td>http://www.chicagomag.com/Chicago-Magazine/Nov...</td>\n    </tr>\n    <tr>\n      <th>46</th>\n      <td>Chickpea</td>\n      <td>Kufta</td>\n      <td>http://www.chicagomag.com/Chicago-Magazine/Nov...</td>\n    </tr>\n    <tr>\n      <th>47</th>\n      <td>The Goddess and Grocer</td>\n      <td>Debbie’s Egg Salad</td>\n      <td>http://www.chicagomag.com/Chicago-Magazine/Nov...</td>\n    </tr>\n    <tr>\n      <th>48</th>\n      <td>Zenwich</td>\n      <td>Beef Curry</td>\n      <td>http://www.chicagomag.com/Chicago-Magazine/Nov...</td>\n    </tr>\n    <tr>\n      <th>49</th>\n      <td>Toni Patisserie</td>\n      <td>Le Végétarien</td>\n      <td>http://www.chicagomag.com/Chicago-Magazine/Nov...</td>\n    </tr>\n    <tr>\n      <th>50</th>\n      <td>Phoebe’s Bakery</td>\n      <td>The Gatsby</td>\n      <td>http://www.chicagomag.com/Chicago-Magazine/Nov...</td>\n    </tr>\n  </tbody>\n</table>\n</div>"
     },
     "metadata": {},
     "execution_count": 5
    }
   ],
   "source": [
    "rest_list = soup.select(\".sammy\")\n",
    "rank_list = []\n",
    "menu_list = []\n",
    "rest_url_list = []\n",
    "cafe_list = []\n",
    "for i in tqdm_notebook(range(len(rest_list))):\n",
    "    tmp = rest_list[i].find(\"div\",\"sammyListing\").get_text()\n",
    "    rank = rest_list[i].find(\"div\",\"sammyRank\").get_text()\n",
    "    menu = tmp.split(\"\\n\")[0].replace(\"\\r\",\"\")\n",
    "    cafe = tmp.split(\"\\n\")[1]\n",
    "    rest_url = urllib.parse.urljoin(url_base,rest_list[i].find('a')['href'])\n",
    "    rank_list.append(rank)\n",
    "    menu_list.append(menu)\n",
    "    cafe_list.append(cafe)\n",
    "    rest_url_list.append(rest_url)\n",
    "df = pd.DataFrame({'rank':rank_list,\"cafe\":cafe_list,'menu':menu_list,'url':rest_url_list}).set_index('rank')\n",
    "df.to_csv(\"Chicago.csv\",sep=\",\",encoding=\"UTF-8\")\n",
    "df"
   ]
  },
  {
   "source": [
    "## 다수의 웹페이지에 자동으로 접근해서 원하는 정보 가져오기"
   ],
   "cell_type": "markdown",
   "metadata": {}
  },
  {
   "cell_type": "code",
   "execution_count": 36,
   "metadata": {},
   "outputs": [],
   "source": [
    "html = urllib.request.urlopen(df['url'][7])\n",
    "soup_tmp = BeautifulSoup(html,'html.parser')\n"
   ]
  },
  {
   "cell_type": "code",
   "execution_count": 39,
   "metadata": {},
   "outputs": [
    {
     "output_type": "execute_result",
     "data": {
      "text/plain": [
       "'\\n$10. 2211 W. North Ave., 773-276-2100, birchwoodkitchen.com'"
      ]
     },
     "metadata": {},
     "execution_count": 39
    }
   ],
   "source": [
    "soup_tmp.select_one('.addy').get_text()"
   ]
  },
  {
   "cell_type": "code",
   "execution_count": 44,
   "metadata": {},
   "outputs": [
    {
     "output_type": "execute_result",
     "data": {
      "text/plain": [
       "(3, ['\\n$10. 2211 W. North Ave.', ' 773-276-2100', ' birchwoodkitchen.com'])"
      ]
     },
     "metadata": {},
     "execution_count": 44
    }
   ],
   "source": [
    "tmp = soup_tmp.select_one('.addy').get_text().split(',')\n",
    "len(tmp),tmp"
   ]
  },
  {
   "cell_type": "code",
   "execution_count": 42,
   "metadata": {},
   "outputs": [
    {
     "output_type": "execute_result",
     "data": {
      "text/plain": [
       "'$10'"
      ]
     },
     "metadata": {},
     "execution_count": 42
    }
   ],
   "source": [
    "price = tmp[0].split()[0][:-1]\n",
    "price"
   ]
  },
  {
   "cell_type": "code",
   "execution_count": 43,
   "metadata": {},
   "outputs": [
    {
     "output_type": "execute_result",
     "data": {
      "text/plain": [
       "'2211 W. North Ave.'"
      ]
     },
     "metadata": {},
     "execution_count": 43
    }
   ],
   "source": [
    "adress = ' '.join(tmp[0].split()[1:])\n",
    "adress"
   ]
  },
  {
   "cell_type": "code",
   "execution_count": 10,
   "metadata": {},
   "outputs": [
    {
     "output_type": "execute_result",
     "data": {
      "text/plain": [
       "'914 Noyes St., Evanston'"
      ]
     },
     "metadata": {},
     "execution_count": 10
    }
   ],
   "source": [
    "' '.join(tmp[1:-2])[:-1]"
   ]
  },
  {
   "cell_type": "code",
   "execution_count": 50,
   "metadata": {},
   "outputs": [
    {
     "output_type": "display_data",
     "data": {
      "text/plain": "HBox(children=(FloatProgress(value=0.0, max=4.0), HTML(value='')))",
      "application/vnd.jupyter.widget-view+json": {
       "version_major": 2,
       "version_minor": 0,
       "model_id": "5a04c4aedd09495fbf020f8b0c19ed7c"
      }
     },
     "metadata": {}
    },
    {
     "output_type": "stream",
     "name": "stdout",
     "text": [
      "\n"
     ]
    },
    {
     "output_type": "execute_result",
     "data": {
      "text/plain": [
       "(['\\n$10. 2109 W. Chicago Ave',\n",
       "  '\\n$9. 800 W. Randolph St',\n",
       "  '\\n$9.50. 445 N. Clark St',\n",
       "  '\\n$9.40. 914 Noyes St'],\n",
       " ['', '', '', ' Evansto'],\n",
       " ['773-772-0406', '312-929-4580', '312-334-3688'],\n",
       " [' theoldoaktap.com', ' aucheval.tumblr.com', ' rickbayless.com'])"
      ]
     },
     "metadata": {},
     "execution_count": 50
    }
   ],
   "source": [
    "price_list = []\n",
    "adress_list = []\n",
    "tell_list = []\n",
    "hp_list = []\n",
    "for n in tqdm_notebook(df.index[:4]):\n",
    "    html = urllib.request.urlopen(df['url'][n])\n",
    "    soup_tmp = BeautifulSoup(html,'html.parser') \n",
    "    tmp = soup_tmp.select_one('.addy').get_text().split(',')\n",
    "    price_list.append(tmp[0][:-1])\n",
    "    addr = ' '.join(tmp[1:-2])[:-1]\n",
    "    if len(tmp) == 1:\n",
    "        adress_list.append(addr)\n",
    "        tell_list.append(' ')\n",
    "        hp_list.append(' ')\n",
    "    elif len(tmp) == 2:\n",
    "        if addr.find(\"Multiple\") >= 0: \n",
    "            tell_list.append(' ')\n",
    "            hp_list.append(tmp[1])\n",
    "        else :\n",
    "            tell_list.append(tmp[1].strip())\n",
    "            hp_list.append(' ')\n",
    "    elif len(tmp) == 3:\n",
    "        tell_list.append(tmp[1].strip())\n",
    "        hp_list.append(tmp[2])\n",
    "price_list,adress_list,tell_list,hp_list"
   ]
  },
  {
   "cell_type": "code",
   "execution_count": null,
   "metadata": {},
   "outputs": [],
   "source": [
    "len(price_list)"
   ]
  },
  {
   "cell_type": "code",
   "execution_count": null,
   "metadata": {},
   "outputs": [],
   "source": [
    "rest_list = soup_temp.select(\".sammy\")\n",
    "rank_list = []\n",
    "menu_list = []\n",
    "rest_url_list = []\n",
    "cafe_list = []\n",
    "price_list = []\n",
    "adress_list = []\n",
    "tell_list = []\n",
    "hp_list = []\n",
    "for i in tqdm_notebook(range(len(rest_list))):\n",
    "    tmp = rest_list[i].find(\"div\",\"sammyListing\").get_text()\n",
    "    rank = rest_list[i].find(\"div\",\"sammyRank\").get_text()\n",
    "    menu = tmp.split(\"\\n\")[0].replace(\"\\r\",\"\")\n",
    "    cafe = tmp.split(\"\\n\")[1]\n",
    "    rest_url = urllib.parse.urljoin(url_base,rest_list[i].find('a')['href'])\n",
    "    rank_list.append(rank)\n",
    "    menu_list.append(menu)\n",
    "    cafe_list.append(cafe)\n",
    "    rest_url_list.append(rest_url)\n",
    "\n",
    "    html = urllib.request.urlopen(url)\n",
    "    soup_tmp = BeautifulSoup(html,'html.parser') \n",
    "    tmp = soup_tmp.select_one('.addy')\n",
    "    price = tmp[0].split()[0][:-1]\n",
    "    adress = ' '.join(tmp[0].split()[1:])\n",
    "    price_list.append(price)\n",
    "    adress_list.append(adress)\n",
    "    tell_list.append(tmp[-2][:-1])\n",
    "    hp_list.append(tmp[-1])\n",
    "df = pd.DataFrame({'rank':rank_list,\"cafe\":cafe_list,'menu':menu_list,'url':rest_url_list}).set_index('rank')\n",
    "df.to_csv(\"Chicago.csv\",sep=\",\",encoding=\"UTF-8\")\n",
    "df"
   ]
  },
  {
   "cell_type": "code",
   "execution_count": 48,
   "metadata": {},
   "outputs": [
    {
     "output_type": "execute_result",
     "data": {
      "text/plain": [
       "                                 cafe  \\\n",
       "rank                                    \n",
       "1                         Old Oak Tap   \n",
       "2                           Au Cheval   \n",
       "3                                Xoco   \n",
       "4                           Al’s Deli   \n",
       "5              Publican Quality Meats   \n",
       "6     Hendrickx Belgian Bread Crafter   \n",
       "7                              Acadia   \n",
       "8                   Birchwood Kitchen   \n",
       "9                      Cemitas Puebla   \n",
       "10                               Nana   \n",
       "11                          Lula Cafe   \n",
       "12                         Ricobene’s   \n",
       "13                       Frog n Snail   \n",
       "14                   Crosby’s Kitchen   \n",
       "15                    Longman & Eagle   \n",
       "16                               Bari   \n",
       "17                            Manny’s   \n",
       "18                             Eggy’s   \n",
       "19                      Old Jerusalem   \n",
       "20               Mindy’s HotChocolate   \n",
       "21                Olga’s Delicatessen   \n",
       "22       Dawali Mediterranean Kitchen   \n",
       "23                          Big Jones   \n",
       "24                            La Pane   \n",
       "25                           Pastoral   \n",
       "26                         Max’s Deli   \n",
       "27               Lucky’s Sandwich Co.   \n",
       "28                    City Provisions   \n",
       "29               Papa’s Cache Sabroso   \n",
       "30              Bavette’s Bar & Boeuf   \n",
       "31                   Hannah’s Bretzel   \n",
       "32                       La Fournette   \n",
       "33                     Paramount Room   \n",
       "34               Melt Sandwich Shoppe   \n",
       "35             Floriole Cafe & Bakery   \n",
       "36               First Slice Pie Café   \n",
       "37                            Troquet   \n",
       "38                         Grahamwich   \n",
       "39                     Saigon Sisters   \n",
       "40                     Rosalia’s Deli   \n",
       "41                     Z&H MarketCafe   \n",
       "42         Market House on the Square   \n",
       "43               Elaine’s Coffee Call   \n",
       "44        Marion Street Cheese Market   \n",
       "45                           Cafecito   \n",
       "46                           Chickpea   \n",
       "47             The Goddess and Grocer   \n",
       "48                            Zenwich   \n",
       "49                    Toni Patisserie   \n",
       "50                    Phoebe’s Bakery   \n",
       "\n",
       "                                                menu  \\\n",
       "rank                                                   \n",
       "1                                                BLT   \n",
       "2                                      Fried Bologna   \n",
       "3                                  Woodland Mushroom   \n",
       "4                                         Roast Beef   \n",
       "5                                               PB&L   \n",
       "6                        Belgian Chicken Curry Salad   \n",
       "7                                       Lobster Roll   \n",
       "8                                Smoked Salmon Salad   \n",
       "9                                    Atomica Cemitas   \n",
       "10    Grilled Laughing Bird Shrimp and Fried Po’ Boy   \n",
       "11                           Ham and Raclette Panino   \n",
       "12                                     Breaded Steak   \n",
       "13                                       The Hawkeye   \n",
       "14                                       Chicken Dip   \n",
       "15                              Wild Boar Sloppy Joe   \n",
       "16                                      Meatball Sub   \n",
       "17                                       Corned Beef   \n",
       "18                                       Turkey Club   \n",
       "19                                           Falafel   \n",
       "20                                         Crab Cake   \n",
       "21                                 Chicken Schnitzel   \n",
       "22                                          Shawarma   \n",
       "23                           Toasted Pimiento Cheese   \n",
       "24                                 Vegetarian Panino   \n",
       "25                                       Cali Chèvre   \n",
       "26                                          Pastrami   \n",
       "27                                         The Fredo   \n",
       "28                                        Smoked Ham   \n",
       "29                                          Jibarito   \n",
       "30                                  Shaved Prime Rib   \n",
       "31                   Serrano Ham and Manchego Cheese   \n",
       "32                                        Tuna Salad   \n",
       "33                                  Paramount Reuben   \n",
       "34                                      The Istanbul   \n",
       "35                                            B.A.D.   \n",
       "36                        Duck Confit and Mozzarella   \n",
       "37                                   Croque Monsieur   \n",
       "38                                    Green Garbanzo   \n",
       "39                                     The Hen House   \n",
       "40                                    Tuscan Chicken   \n",
       "41                                        The Marty    \n",
       "42                                         Whitefish   \n",
       "43            Oat Bread, Pecan Butter, and Fruit Jam   \n",
       "44                                  Cauliflower Melt   \n",
       "45                                            Cubana   \n",
       "46                                             Kufta   \n",
       "47                                Debbie’s Egg Salad   \n",
       "48                                        Beef Curry   \n",
       "49                                     Le Végétarien   \n",
       "50                                        The Gatsby   \n",
       "\n",
       "                                                    url  \\\n",
       "rank                                                      \n",
       "1     http://www.chicagomag.com/Chicago-Magazine/Nov...   \n",
       "2     http://www.chicagomag.com/Chicago-Magazine/Nov...   \n",
       "3     http://www.chicagomag.com/Chicago-Magazine/Nov...   \n",
       "4     http://www.chicagomag.com/Chicago-Magazine/Nov...   \n",
       "5     http://www.chicagomag.com/Chicago-Magazine/Nov...   \n",
       "6     http://www.chicagomag.com/Chicago-Magazine/Nov...   \n",
       "7     http://www.chicagomag.com/Chicago-Magazine/Nov...   \n",
       "8     http://www.chicagomag.com/Chicago-Magazine/Nov...   \n",
       "9     http://www.chicagomag.com/Chicago-Magazine/Nov...   \n",
       "10    http://www.chicagomag.com/Chicago-Magazine/Nov...   \n",
       "11    http://www.chicagomag.com/Chicago-Magazine/Nov...   \n",
       "12    http://www.chicagomag.com/Chicago-Magazine/Nov...   \n",
       "13    http://www.chicagomag.com/Chicago-Magazine/Nov...   \n",
       "14    http://www.chicagomag.com/Chicago-Magazine/Nov...   \n",
       "15    http://www.chicagomag.com/Chicago-Magazine/Nov...   \n",
       "16    http://www.chicagomag.com/Chicago-Magazine/Nov...   \n",
       "17    http://www.chicagomag.com/Chicago-Magazine/Nov...   \n",
       "18    http://www.chicagomag.com/Chicago-Magazine/Nov...   \n",
       "19    http://www.chicagomag.com/Chicago-Magazine/Nov...   \n",
       "20    http://www.chicagomag.com/Chicago-Magazine/Nov...   \n",
       "21    http://www.chicagomag.com/Chicago-Magazine/Nov...   \n",
       "22    http://www.chicagomag.com/Chicago-Magazine/Nov...   \n",
       "23    http://www.chicagomag.com/Chicago-Magazine/Nov...   \n",
       "24    http://www.chicagomag.com/Chicago-Magazine/Nov...   \n",
       "25    http://www.chicagomag.com/Chicago-Magazine/Nov...   \n",
       "26    http://www.chicagomag.com/Chicago-Magazine/Nov...   \n",
       "27    http://www.chicagomag.com/Chicago-Magazine/Nov...   \n",
       "28    http://www.chicagomag.com/Chicago-Magazine/Nov...   \n",
       "29    http://www.chicagomag.com/Chicago-Magazine/Nov...   \n",
       "30    http://www.chicagomag.com/Chicago-Magazine/Nov...   \n",
       "31    http://www.chicagomag.com/Chicago-Magazine/Nov...   \n",
       "32    http://www.chicagomag.com/Chicago-Magazine/Nov...   \n",
       "33    http://www.chicagomag.com/Chicago-Magazine/Nov...   \n",
       "34    http://www.chicagomag.com/Chicago-Magazine/Nov...   \n",
       "35    http://www.chicagomag.com/Chicago-Magazine/Nov...   \n",
       "36    http://www.chicagomag.com/Chicago-Magazine/Nov...   \n",
       "37    http://www.chicagomag.com/Chicago-Magazine/Nov...   \n",
       "38    http://www.chicagomag.com/Chicago-Magazine/Nov...   \n",
       "39    http://www.chicagomag.com/Chicago-Magazine/Nov...   \n",
       "40    http://www.chicagomag.com/Chicago-Magazine/Nov...   \n",
       "41    http://www.chicagomag.com/Chicago-Magazine/Nov...   \n",
       "42    http://www.chicagomag.com/Chicago-Magazine/Nov...   \n",
       "43    http://www.chicagomag.com/Chicago-Magazine/Nov...   \n",
       "44    http://www.chicagomag.com/Chicago-Magazine/Nov...   \n",
       "45    http://www.chicagomag.com/Chicago-Magazine/Nov...   \n",
       "46    http://www.chicagomag.com/Chicago-Magazine/Nov...   \n",
       "47    http://www.chicagomag.com/Chicago-Magazine/Nov...   \n",
       "48    http://www.chicagomag.com/Chicago-Magazine/Nov...   \n",
       "49    http://www.chicagomag.com/Chicago-Magazine/Nov...   \n",
       "50    http://www.chicagomag.com/Chicago-Magazine/Nov...   \n",
       "\n",
       "                                price             adress                 tell  \\\n",
       "rank                                                                            \n",
       "1          \\n$10. 2109 W. Chicago Ave                            773-772-0406   \n",
       "2            \\n$9. 800 W. Randolph St                            312-929-4580   \n",
       "3            \\n$9.50. 445 N. Clark St                            312-334-3688   \n",
       "4               \\n$9.40. 914 Noyes St            Evansto             Evanston   \n",
       "5            \\n$10. 825 W. Fulton Mkt                            312-445-8977   \n",
       "6           \\n$7.25. 100 E. Walton St                            312-649-6717   \n",
       "7           \\n$16. 1639 S. Wabash Ave                            312-360-9500   \n",
       "8            \\n$10. 2211 W. North Ave                            773-276-2100   \n",
       "9             \\n$9. 3619 W. North Ave                            773-772-8435   \n",
       "10          \\n$17. 3267 S. Halsted St                            312-929-2486   \n",
       "11         \\n$11. 2537 N. Kedzie Blvd                            773-489-9554   \n",
       "12         \\n$5.49. Multiple location                      ricobenespizza.com   \n",
       "13             \\n$14. 3124 N. Broadwa                            773-661-9166   \n",
       "14       \\n$10. 3455 N. Southport Ave                            773-883-2525   \n",
       "15          \\n$13. 2657 N. Kedzie Ave                            773-276-7110   \n",
       "16         \\n$4.50. 1120 W. Grand Ave                            312-666-0730   \n",
       "17     \\n$11.95. 1141 S. Jefferson St                            312-939-2855   \n",
       "18         \\n$11.50. 333 E. Benton Pl                            773-234-3449   \n",
       "19          \\n$6.25. 1411 N. Wells St                            312-944-0459   \n",
       "20           \\n$15. 1747 N. Damen Ave                            773-489-1747   \n",
       "21       \\n$5. 3209 W. Irving Park Rd                            773-539-8038   \n",
       "22            \\n$6. Multiple location                       dawalikitchen.com   \n",
       "23             \\n$8. 5347 N. Clark St                            773-275-5725   \n",
       "24    \\n$5.99. 2954 W. Irving Park Rd                            773-539-5321   \n",
       "25         \\n$7.52. Multiple location                     pastoralartisan.com   \n",
       "26     \\n$11.95. 191 Skokie Valley Rd       Highland Par        Highland Park   \n",
       "27         \\n$7.50. Multiple location                       luckysandwich.com   \n",
       "28       \\n$12.95. 1818 W. Wilson Ave                            773-293-2489   \n",
       "29          \\n$7. 2517 W. Division St                            773-862-8313   \n",
       "30            \\n$21. 218 W. Kinzie St                            312-624-8154   \n",
       "31         \\n$9.79. Multiple location                      hannahsbretzel.com   \n",
       "32          \\n$9.75. 1547 N. Wells St                            312-624-9430   \n",
       "33        \\n$13. 415 N. Milwaukee Ave                            312-829-6300   \n",
       "34         \\n$7.95. 1840 N. Damen Ave                            773-681-9914   \n",
       "35          \\n$9. 1220 W. Webster Ave                            773-883-1313   \n",
       "36          \\n$9. 5357 N. Ashland Ave                            773-275-4297   \n",
       "37         \\n$8. 1834 W. Montrose Ave                            773-334-5664   \n",
       "38              \\n$8. 615 N. State St                            312-265-0434   \n",
       "39            \\n$7. Multiple location                       saigonsisters.com   \n",
       "40               \\n$6. 241 N. York Rd            Elmhurs             Elmhurst   \n",
       "41           \\n$7.25. 1323 E. 57th St                            773-538-7372   \n",
       "42              \\n$11. 655 Forest Ave         Lake Fores          Lake Forest   \n",
       "43                 \\n$6. Hotel Lincol   1816 N. Clark St    1816 N. Clark St.   \n",
       "44             \\n$9. 100 S. Marion St            Oak Par             Oak Park   \n",
       "45       \\n$5.49. 26 E. Congress Pkwy                            312-922-2233   \n",
       "46          \\n$8. 2018 W. Chicago Ave                            773-384-9930   \n",
       "47         \\n$6.50. 25 E. Delaware Pl                            312-896-2600   \n",
       "48            \\n$7.50. 416 N. York St            Elmhurs             Elmhurst   \n",
       "49       \\n$8.75. 65 E. Washington St                            312-726-2020   \n",
       "50           \\n$6.85. 3351 N. Broadwa                            773-868-4000   \n",
       "\n",
       "                                 hp  \n",
       "rank                                 \n",
       "1                  theoldoaktap.com  \n",
       "2               aucheval.tumblr.com  \n",
       "3                   rickbayless.com  \n",
       "4                      847-475-9400  \n",
       "5          publicanqualitymeats.com  \n",
       "6                                    \n",
       "7                 acadiachicago.com  \n",
       "8              birchwoodkitchen.com  \n",
       "9                 cemitaspuebla.com  \n",
       "10                  nanaorganic.com  \n",
       "11                     lulacafe.com  \n",
       "12                                   \n",
       "13                   frognsnail.com  \n",
       "14        crosbyskitchenchicago.com  \n",
       "15              longmanandeagle.com  \n",
       "16              bariitaliansubs.com  \n",
       "17                   mannysdeli.com  \n",
       "18                   eggysdiner.com  \n",
       "19          oldjerusalemchicago.com  \n",
       "20          hotchocolatechicago.com  \n",
       "21                                   \n",
       "22                                   \n",
       "23              bigjoneschicago.com  \n",
       "24                lapanechicago.com  \n",
       "25                                   \n",
       "26                     847-831-0600  \n",
       "27                                   \n",
       "28               cityprovisions.com  \n",
       "29            papascachesabroso.com  \n",
       "30                                   \n",
       "31                                   \n",
       "32                  lafournette.com  \n",
       "33                paramountroom.com  \n",
       "34    meltsandwichshoppechicago.com  \n",
       "35                     floriole.com  \n",
       "36                   firstslice.org  \n",
       "37               troquetchicago.com  \n",
       "38                   grahamwich.com  \n",
       "39                                   \n",
       "40                     630-516-3354  \n",
       "41                 zhmarketcafe.com  \n",
       "42                     847-234-8800  \n",
       "43                     312-254-4665  \n",
       "44                     708-725-7200  \n",
       "45              cafecitochicago.com  \n",
       "46              chickpeaonthego.com  \n",
       "47             goddessandgrocer.com  \n",
       "48                     630-359-5234  \n",
       "49               tonipatisserie.com  \n",
       "50                phoebesbakery.com  "
      ],
      "text/html": "<div>\n<style scoped>\n    .dataframe tbody tr th:only-of-type {\n        vertical-align: middle;\n    }\n\n    .dataframe tbody tr th {\n        vertical-align: top;\n    }\n\n    .dataframe thead th {\n        text-align: right;\n    }\n</style>\n<table border=\"1\" class=\"dataframe\">\n  <thead>\n    <tr style=\"text-align: right;\">\n      <th></th>\n      <th>cafe</th>\n      <th>menu</th>\n      <th>url</th>\n      <th>price</th>\n      <th>adress</th>\n      <th>tell</th>\n      <th>hp</th>\n    </tr>\n    <tr>\n      <th>rank</th>\n      <th></th>\n      <th></th>\n      <th></th>\n      <th></th>\n      <th></th>\n      <th></th>\n      <th></th>\n    </tr>\n  </thead>\n  <tbody>\n    <tr>\n      <th>1</th>\n      <td>Old Oak Tap</td>\n      <td>BLT</td>\n      <td>http://www.chicagomag.com/Chicago-Magazine/Nov...</td>\n      <td>\\n$10. 2109 W. Chicago Ave</td>\n      <td></td>\n      <td>773-772-0406</td>\n      <td>theoldoaktap.com</td>\n    </tr>\n    <tr>\n      <th>2</th>\n      <td>Au Cheval</td>\n      <td>Fried Bologna</td>\n      <td>http://www.chicagomag.com/Chicago-Magazine/Nov...</td>\n      <td>\\n$9. 800 W. Randolph St</td>\n      <td></td>\n      <td>312-929-4580</td>\n      <td>aucheval.tumblr.com</td>\n    </tr>\n    <tr>\n      <th>3</th>\n      <td>Xoco</td>\n      <td>Woodland Mushroom</td>\n      <td>http://www.chicagomag.com/Chicago-Magazine/Nov...</td>\n      <td>\\n$9.50. 445 N. Clark St</td>\n      <td></td>\n      <td>312-334-3688</td>\n      <td>rickbayless.com</td>\n    </tr>\n    <tr>\n      <th>4</th>\n      <td>Al’s Deli</td>\n      <td>Roast Beef</td>\n      <td>http://www.chicagomag.com/Chicago-Magazine/Nov...</td>\n      <td>\\n$9.40. 914 Noyes St</td>\n      <td>Evansto</td>\n      <td>Evanston</td>\n      <td>847-475-9400</td>\n    </tr>\n    <tr>\n      <th>5</th>\n      <td>Publican Quality Meats</td>\n      <td>PB&amp;L</td>\n      <td>http://www.chicagomag.com/Chicago-Magazine/Nov...</td>\n      <td>\\n$10. 825 W. Fulton Mkt</td>\n      <td></td>\n      <td>312-445-8977</td>\n      <td>publicanqualitymeats.com</td>\n    </tr>\n    <tr>\n      <th>6</th>\n      <td>Hendrickx Belgian Bread Crafter</td>\n      <td>Belgian Chicken Curry Salad</td>\n      <td>http://www.chicagomag.com/Chicago-Magazine/Nov...</td>\n      <td>\\n$7.25. 100 E. Walton St</td>\n      <td></td>\n      <td>312-649-6717</td>\n      <td></td>\n    </tr>\n    <tr>\n      <th>7</th>\n      <td>Acadia</td>\n      <td>Lobster Roll</td>\n      <td>http://www.chicagomag.com/Chicago-Magazine/Nov...</td>\n      <td>\\n$16. 1639 S. Wabash Ave</td>\n      <td></td>\n      <td>312-360-9500</td>\n      <td>acadiachicago.com</td>\n    </tr>\n    <tr>\n      <th>8</th>\n      <td>Birchwood Kitchen</td>\n      <td>Smoked Salmon Salad</td>\n      <td>http://www.chicagomag.com/Chicago-Magazine/Nov...</td>\n      <td>\\n$10. 2211 W. North Ave</td>\n      <td></td>\n      <td>773-276-2100</td>\n      <td>birchwoodkitchen.com</td>\n    </tr>\n    <tr>\n      <th>9</th>\n      <td>Cemitas Puebla</td>\n      <td>Atomica Cemitas</td>\n      <td>http://www.chicagomag.com/Chicago-Magazine/Nov...</td>\n      <td>\\n$9. 3619 W. North Ave</td>\n      <td></td>\n      <td>773-772-8435</td>\n      <td>cemitaspuebla.com</td>\n    </tr>\n    <tr>\n      <th>10</th>\n      <td>Nana</td>\n      <td>Grilled Laughing Bird Shrimp and Fried Po’ Boy</td>\n      <td>http://www.chicagomag.com/Chicago-Magazine/Nov...</td>\n      <td>\\n$17. 3267 S. Halsted St</td>\n      <td></td>\n      <td>312-929-2486</td>\n      <td>nanaorganic.com</td>\n    </tr>\n    <tr>\n      <th>11</th>\n      <td>Lula Cafe</td>\n      <td>Ham and Raclette Panino</td>\n      <td>http://www.chicagomag.com/Chicago-Magazine/Nov...</td>\n      <td>\\n$11. 2537 N. Kedzie Blvd</td>\n      <td></td>\n      <td>773-489-9554</td>\n      <td>lulacafe.com</td>\n    </tr>\n    <tr>\n      <th>12</th>\n      <td>Ricobene’s</td>\n      <td>Breaded Steak</td>\n      <td>http://www.chicagomag.com/Chicago-Magazine/Nov...</td>\n      <td>\\n$5.49. Multiple location</td>\n      <td></td>\n      <td>ricobenespizza.com</td>\n      <td></td>\n    </tr>\n    <tr>\n      <th>13</th>\n      <td>Frog n Snail</td>\n      <td>The Hawkeye</td>\n      <td>http://www.chicagomag.com/Chicago-Magazine/Nov...</td>\n      <td>\\n$14. 3124 N. Broadwa</td>\n      <td></td>\n      <td>773-661-9166</td>\n      <td>frognsnail.com</td>\n    </tr>\n    <tr>\n      <th>14</th>\n      <td>Crosby’s Kitchen</td>\n      <td>Chicken Dip</td>\n      <td>http://www.chicagomag.com/Chicago-Magazine/Nov...</td>\n      <td>\\n$10. 3455 N. Southport Ave</td>\n      <td></td>\n      <td>773-883-2525</td>\n      <td>crosbyskitchenchicago.com</td>\n    </tr>\n    <tr>\n      <th>15</th>\n      <td>Longman &amp; Eagle</td>\n      <td>Wild Boar Sloppy Joe</td>\n      <td>http://www.chicagomag.com/Chicago-Magazine/Nov...</td>\n      <td>\\n$13. 2657 N. Kedzie Ave</td>\n      <td></td>\n      <td>773-276-7110</td>\n      <td>longmanandeagle.com</td>\n    </tr>\n    <tr>\n      <th>16</th>\n      <td>Bari</td>\n      <td>Meatball Sub</td>\n      <td>http://www.chicagomag.com/Chicago-Magazine/Nov...</td>\n      <td>\\n$4.50. 1120 W. Grand Ave</td>\n      <td></td>\n      <td>312-666-0730</td>\n      <td>bariitaliansubs.com</td>\n    </tr>\n    <tr>\n      <th>17</th>\n      <td>Manny’s</td>\n      <td>Corned Beef</td>\n      <td>http://www.chicagomag.com/Chicago-Magazine/Nov...</td>\n      <td>\\n$11.95. 1141 S. Jefferson St</td>\n      <td></td>\n      <td>312-939-2855</td>\n      <td>mannysdeli.com</td>\n    </tr>\n    <tr>\n      <th>18</th>\n      <td>Eggy’s</td>\n      <td>Turkey Club</td>\n      <td>http://www.chicagomag.com/Chicago-Magazine/Nov...</td>\n      <td>\\n$11.50. 333 E. Benton Pl</td>\n      <td></td>\n      <td>773-234-3449</td>\n      <td>eggysdiner.com</td>\n    </tr>\n    <tr>\n      <th>19</th>\n      <td>Old Jerusalem</td>\n      <td>Falafel</td>\n      <td>http://www.chicagomag.com/Chicago-Magazine/Nov...</td>\n      <td>\\n$6.25. 1411 N. Wells St</td>\n      <td></td>\n      <td>312-944-0459</td>\n      <td>oldjerusalemchicago.com</td>\n    </tr>\n    <tr>\n      <th>20</th>\n      <td>Mindy’s HotChocolate</td>\n      <td>Crab Cake</td>\n      <td>http://www.chicagomag.com/Chicago-Magazine/Nov...</td>\n      <td>\\n$15. 1747 N. Damen Ave</td>\n      <td></td>\n      <td>773-489-1747</td>\n      <td>hotchocolatechicago.com</td>\n    </tr>\n    <tr>\n      <th>21</th>\n      <td>Olga’s Delicatessen</td>\n      <td>Chicken Schnitzel</td>\n      <td>http://www.chicagomag.com/Chicago-Magazine/Nov...</td>\n      <td>\\n$5. 3209 W. Irving Park Rd</td>\n      <td></td>\n      <td>773-539-8038</td>\n      <td></td>\n    </tr>\n    <tr>\n      <th>22</th>\n      <td>Dawali Mediterranean Kitchen</td>\n      <td>Shawarma</td>\n      <td>http://www.chicagomag.com/Chicago-Magazine/Nov...</td>\n      <td>\\n$6. Multiple location</td>\n      <td></td>\n      <td>dawalikitchen.com</td>\n      <td></td>\n    </tr>\n    <tr>\n      <th>23</th>\n      <td>Big Jones</td>\n      <td>Toasted Pimiento Cheese</td>\n      <td>http://www.chicagomag.com/Chicago-Magazine/Nov...</td>\n      <td>\\n$8. 5347 N. Clark St</td>\n      <td></td>\n      <td>773-275-5725</td>\n      <td>bigjoneschicago.com</td>\n    </tr>\n    <tr>\n      <th>24</th>\n      <td>La Pane</td>\n      <td>Vegetarian Panino</td>\n      <td>http://www.chicagomag.com/Chicago-Magazine/Nov...</td>\n      <td>\\n$5.99. 2954 W. Irving Park Rd</td>\n      <td></td>\n      <td>773-539-5321</td>\n      <td>lapanechicago.com</td>\n    </tr>\n    <tr>\n      <th>25</th>\n      <td>Pastoral</td>\n      <td>Cali Chèvre</td>\n      <td>http://www.chicagomag.com/Chicago-Magazine/Nov...</td>\n      <td>\\n$7.52. Multiple location</td>\n      <td></td>\n      <td>pastoralartisan.com</td>\n      <td></td>\n    </tr>\n    <tr>\n      <th>26</th>\n      <td>Max’s Deli</td>\n      <td>Pastrami</td>\n      <td>http://www.chicagomag.com/Chicago-Magazine/Nov...</td>\n      <td>\\n$11.95. 191 Skokie Valley Rd</td>\n      <td>Highland Par</td>\n      <td>Highland Park</td>\n      <td>847-831-0600</td>\n    </tr>\n    <tr>\n      <th>27</th>\n      <td>Lucky’s Sandwich Co.</td>\n      <td>The Fredo</td>\n      <td>http://www.chicagomag.com/Chicago-Magazine/Nov...</td>\n      <td>\\n$7.50. Multiple location</td>\n      <td></td>\n      <td>luckysandwich.com</td>\n      <td></td>\n    </tr>\n    <tr>\n      <th>28</th>\n      <td>City Provisions</td>\n      <td>Smoked Ham</td>\n      <td>http://www.chicagomag.com/Chicago-Magazine/Nov...</td>\n      <td>\\n$12.95. 1818 W. Wilson Ave</td>\n      <td></td>\n      <td>773-293-2489</td>\n      <td>cityprovisions.com</td>\n    </tr>\n    <tr>\n      <th>29</th>\n      <td>Papa’s Cache Sabroso</td>\n      <td>Jibarito</td>\n      <td>http://www.chicagomag.com/Chicago-Magazine/Nov...</td>\n      <td>\\n$7. 2517 W. Division St</td>\n      <td></td>\n      <td>773-862-8313</td>\n      <td>papascachesabroso.com</td>\n    </tr>\n    <tr>\n      <th>30</th>\n      <td>Bavette’s Bar &amp; Boeuf</td>\n      <td>Shaved Prime Rib</td>\n      <td>http://www.chicagomag.com/Chicago-Magazine/Nov...</td>\n      <td>\\n$21. 218 W. Kinzie St</td>\n      <td></td>\n      <td>312-624-8154</td>\n      <td></td>\n    </tr>\n    <tr>\n      <th>31</th>\n      <td>Hannah’s Bretzel</td>\n      <td>Serrano Ham and Manchego Cheese</td>\n      <td>http://www.chicagomag.com/Chicago-Magazine/Nov...</td>\n      <td>\\n$9.79. Multiple location</td>\n      <td></td>\n      <td>hannahsbretzel.com</td>\n      <td></td>\n    </tr>\n    <tr>\n      <th>32</th>\n      <td>La Fournette</td>\n      <td>Tuna Salad</td>\n      <td>http://www.chicagomag.com/Chicago-Magazine/Nov...</td>\n      <td>\\n$9.75. 1547 N. Wells St</td>\n      <td></td>\n      <td>312-624-9430</td>\n      <td>lafournette.com</td>\n    </tr>\n    <tr>\n      <th>33</th>\n      <td>Paramount Room</td>\n      <td>Paramount Reuben</td>\n      <td>http://www.chicagomag.com/Chicago-Magazine/Nov...</td>\n      <td>\\n$13. 415 N. Milwaukee Ave</td>\n      <td></td>\n      <td>312-829-6300</td>\n      <td>paramountroom.com</td>\n    </tr>\n    <tr>\n      <th>34</th>\n      <td>Melt Sandwich Shoppe</td>\n      <td>The Istanbul</td>\n      <td>http://www.chicagomag.com/Chicago-Magazine/Nov...</td>\n      <td>\\n$7.95. 1840 N. Damen Ave</td>\n      <td></td>\n      <td>773-681-9914</td>\n      <td>meltsandwichshoppechicago.com</td>\n    </tr>\n    <tr>\n      <th>35</th>\n      <td>Floriole Cafe &amp; Bakery</td>\n      <td>B.A.D.</td>\n      <td>http://www.chicagomag.com/Chicago-Magazine/Nov...</td>\n      <td>\\n$9. 1220 W. Webster Ave</td>\n      <td></td>\n      <td>773-883-1313</td>\n      <td>floriole.com</td>\n    </tr>\n    <tr>\n      <th>36</th>\n      <td>First Slice Pie Café</td>\n      <td>Duck Confit and Mozzarella</td>\n      <td>http://www.chicagomag.com/Chicago-Magazine/Nov...</td>\n      <td>\\n$9. 5357 N. Ashland Ave</td>\n      <td></td>\n      <td>773-275-4297</td>\n      <td>firstslice.org</td>\n    </tr>\n    <tr>\n      <th>37</th>\n      <td>Troquet</td>\n      <td>Croque Monsieur</td>\n      <td>http://www.chicagomag.com/Chicago-Magazine/Nov...</td>\n      <td>\\n$8. 1834 W. Montrose Ave</td>\n      <td></td>\n      <td>773-334-5664</td>\n      <td>troquetchicago.com</td>\n    </tr>\n    <tr>\n      <th>38</th>\n      <td>Grahamwich</td>\n      <td>Green Garbanzo</td>\n      <td>http://www.chicagomag.com/Chicago-Magazine/Nov...</td>\n      <td>\\n$8. 615 N. State St</td>\n      <td></td>\n      <td>312-265-0434</td>\n      <td>grahamwich.com</td>\n    </tr>\n    <tr>\n      <th>39</th>\n      <td>Saigon Sisters</td>\n      <td>The Hen House</td>\n      <td>http://www.chicagomag.com/Chicago-Magazine/Nov...</td>\n      <td>\\n$7. Multiple location</td>\n      <td></td>\n      <td>saigonsisters.com</td>\n      <td></td>\n    </tr>\n    <tr>\n      <th>40</th>\n      <td>Rosalia’s Deli</td>\n      <td>Tuscan Chicken</td>\n      <td>http://www.chicagomag.com/Chicago-Magazine/Nov...</td>\n      <td>\\n$6. 241 N. York Rd</td>\n      <td>Elmhurs</td>\n      <td>Elmhurst</td>\n      <td>630-516-3354</td>\n    </tr>\n    <tr>\n      <th>41</th>\n      <td>Z&amp;H MarketCafe</td>\n      <td>The Marty</td>\n      <td>http://www.chicagomag.com/Chicago-Magazine/Nov...</td>\n      <td>\\n$7.25. 1323 E. 57th St</td>\n      <td></td>\n      <td>773-538-7372</td>\n      <td>zhmarketcafe.com</td>\n    </tr>\n    <tr>\n      <th>42</th>\n      <td>Market House on the Square</td>\n      <td>Whitefish</td>\n      <td>http://www.chicagomag.com/Chicago-Magazine/Nov...</td>\n      <td>\\n$11. 655 Forest Ave</td>\n      <td>Lake Fores</td>\n      <td>Lake Forest</td>\n      <td>847-234-8800</td>\n    </tr>\n    <tr>\n      <th>43</th>\n      <td>Elaine’s Coffee Call</td>\n      <td>Oat Bread, Pecan Butter, and Fruit Jam</td>\n      <td>http://www.chicagomag.com/Chicago-Magazine/Nov...</td>\n      <td>\\n$6. Hotel Lincol</td>\n      <td>1816 N. Clark St</td>\n      <td>1816 N. Clark St.</td>\n      <td>312-254-4665</td>\n    </tr>\n    <tr>\n      <th>44</th>\n      <td>Marion Street Cheese Market</td>\n      <td>Cauliflower Melt</td>\n      <td>http://www.chicagomag.com/Chicago-Magazine/Nov...</td>\n      <td>\\n$9. 100 S. Marion St</td>\n      <td>Oak Par</td>\n      <td>Oak Park</td>\n      <td>708-725-7200</td>\n    </tr>\n    <tr>\n      <th>45</th>\n      <td>Cafecito</td>\n      <td>Cubana</td>\n      <td>http://www.chicagomag.com/Chicago-Magazine/Nov...</td>\n      <td>\\n$5.49. 26 E. Congress Pkwy</td>\n      <td></td>\n      <td>312-922-2233</td>\n      <td>cafecitochicago.com</td>\n    </tr>\n    <tr>\n      <th>46</th>\n      <td>Chickpea</td>\n      <td>Kufta</td>\n      <td>http://www.chicagomag.com/Chicago-Magazine/Nov...</td>\n      <td>\\n$8. 2018 W. Chicago Ave</td>\n      <td></td>\n      <td>773-384-9930</td>\n      <td>chickpeaonthego.com</td>\n    </tr>\n    <tr>\n      <th>47</th>\n      <td>The Goddess and Grocer</td>\n      <td>Debbie’s Egg Salad</td>\n      <td>http://www.chicagomag.com/Chicago-Magazine/Nov...</td>\n      <td>\\n$6.50. 25 E. Delaware Pl</td>\n      <td></td>\n      <td>312-896-2600</td>\n      <td>goddessandgrocer.com</td>\n    </tr>\n    <tr>\n      <th>48</th>\n      <td>Zenwich</td>\n      <td>Beef Curry</td>\n      <td>http://www.chicagomag.com/Chicago-Magazine/Nov...</td>\n      <td>\\n$7.50. 416 N. York St</td>\n      <td>Elmhurs</td>\n      <td>Elmhurst</td>\n      <td>630-359-5234</td>\n    </tr>\n    <tr>\n      <th>49</th>\n      <td>Toni Patisserie</td>\n      <td>Le Végétarien</td>\n      <td>http://www.chicagomag.com/Chicago-Magazine/Nov...</td>\n      <td>\\n$8.75. 65 E. Washington St</td>\n      <td></td>\n      <td>312-726-2020</td>\n      <td>tonipatisserie.com</td>\n    </tr>\n    <tr>\n      <th>50</th>\n      <td>Phoebe’s Bakery</td>\n      <td>The Gatsby</td>\n      <td>http://www.chicagomag.com/Chicago-Magazine/Nov...</td>\n      <td>\\n$6.85. 3351 N. Broadwa</td>\n      <td></td>\n      <td>773-868-4000</td>\n      <td>phoebesbakery.com</td>\n    </tr>\n  </tbody>\n</table>\n</div>"
     },
     "metadata": {},
     "execution_count": 48
    }
   ],
   "source": [
    "df2 = pd.DataFrame({\n",
    "                'rank':rank_list,\n",
    "                \"cafe\":cafe_list,\n",
    "                'menu':menu_list,\n",
    "                'url':rest_url_list,\n",
    "                'price':price_list,\n",
    "                'adress':adress_list,\n",
    "                'tell':tell_list,\n",
    "                'hp':hp_list\n",
    "                }).set_index('rank')\n",
    "# df2.to_csv(\"Chicago.csv\",sep=\",\",encoding=\"UTF-8\")\n",
    "df2"
   ]
  },
  {
   "cell_type": "code",
   "execution_count": 118,
   "metadata": {},
   "outputs": [
    {
     "output_type": "execute_result",
     "data": {
      "text/plain": [
       "['1']"
      ]
     },
     "metadata": {},
     "execution_count": 118
    }
   ],
   "source": []
  },
  {
   "cell_type": "code",
   "execution_count": null,
   "metadata": {},
   "outputs": [],
   "source": []
  }
 ]
}