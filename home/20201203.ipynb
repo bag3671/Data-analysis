{
 "metadata": {
  "language_info": {
   "codemirror_mode": {
    "name": "ipython",
    "version": 3
   },
   "file_extension": ".py",
   "mimetype": "text/x-python",
   "name": "python",
   "nbconvert_exporter": "python",
   "pygments_lexer": "ipython3",
   "version": "3.8.5-final"
  },
  "orig_nbformat": 2,
  "kernelspec": {
   "name": "python3",
   "display_name": "Python 3"
  }
 },
 "nbformat": 4,
 "nbformat_minor": 2,
 "cells": [
  {
   "cell_type": "code",
   "execution_count": 407,
   "metadata": {},
   "outputs": [],
   "source": [
    "import requests\n",
    "from urllib.parse import urlparse, quote\n",
    "import pandas as pd\n",
    "from bs4 import BeautifulSoup\n",
    "from tqdm import tqdm_notebook\n",
    "import datetime"
   ]
  },
  {
   "source": [
    "## 코로나 지역별"
   ],
   "cell_type": "markdown",
   "metadata": {}
  },
  {
   "cell_type": "code",
   "execution_count": 418,
   "metadata": {},
   "outputs": [],
   "source": [
    "key_fd = open('./data/corona_key.txt')\n",
    "key = key_fd.read(200)\n",
    "key_fd.close()"
   ]
  },
  {
   "cell_type": "code",
   "execution_count": 419,
   "metadata": {},
   "outputs": [
    {
     "output_type": "execute_result",
     "data": {
      "text/plain": [
       "Empty DataFrame\n",
       "Columns: [지역, 등록시간, 확진자 수, 격리해제 수, 사망자 수]\n",
       "Index: []"
      ],
      "text/html": "<div>\n<style scoped>\n    .dataframe tbody tr th:only-of-type {\n        vertical-align: middle;\n    }\n\n    .dataframe tbody tr th {\n        vertical-align: top;\n    }\n\n    .dataframe thead th {\n        text-align: right;\n    }\n</style>\n<table border=\"1\" class=\"dataframe\">\n  <thead>\n    <tr style=\"text-align: right;\">\n      <th></th>\n      <th>지역</th>\n      <th>등록시간</th>\n      <th>확진자 수</th>\n      <th>격리해제 수</th>\n      <th>사망자 수</th>\n    </tr>\n  </thead>\n  <tbody>\n  </tbody>\n</table>\n</div>"
     },
     "metadata": {},
     "execution_count": 419
    }
   ],
   "source": [
    "month_11 = pd.date_range(start='2020-01-01',end='2020-11-30',freq='d')\n",
    "# 빈 데이터프레임 생성\n",
    "corona_area = pd.DataFrame(\n",
    "    columns = ['지역','등록시간','확진자 수','격리해제 수','사망자 수']\n",
    "    # index = month_11\n",
    ")\n",
    "corona_area.head()"
   ]
  },
  {
   "cell_type": "code",
   "execution_count": 424,
   "metadata": {
    "tags": [
     "outputPrepend"
    ]
   },
   "outputs": [
    {
     "output_type": "display_data",
     "data": {
      "text/plain": "HBox(children=(HTML(value=''), FloatProgress(value=0.0, max=334.0), HTML(value='')))",
      "application/vnd.jupyter.widget-view+json": {
       "version_major": 2,
       "version_minor": 0,
       "model_id": "14ccaa59b18045699cf5da3ebc3aa939"
      }
     },
     "metadata": {}
    },
    {
     "output_type": "stream",
     "name": "stdout",
     "text": [
      "<resultcode>99</resultcode><resultmsg>LIMITED NUMBER OF SERVICE REQUESTS EXCEEDS ERROR.</resultmsg></header></response>\n",
      "<?xml version=\"1.0\" encoding=\"UTF-8\" standalone=\"yes\"?><response><header><resultcode>99</resultcode><resultmsg>LIMITED NUMBER OF SERVICE REQUESTS EXCEEDS ERROR.</resultmsg></header></response>\n",
      "<?xml version=\"1.0\" encoding=\"UTF-8\" standalone=\"yes\"?><response><header><resultcode>99</resultcode><resultmsg>LIMITED NUMBER OF SERVICE REQUESTS EXCEEDS ERROR.</resultmsg></header></response>\n",
      "<?xml version=\"1.0\" encoding=\"UTF-8\" standalone=\"yes\"?><response><header><resultcode>99</resultcode><resultmsg>LIMITED NUMBER OF SERVICE REQUESTS EXCEEDS ERROR.</resultmsg></header></response>\n",
      "<?xml version=\"1.0\" encoding=\"UTF-8\" standalone=\"yes\"?><response><header><resultcode>99</resultcode><resultmsg>LIMITED NUMBER OF SERVICE REQUESTS EXCEEDS ERROR.</resultmsg></header></response>\n",
      "<?xml version=\"1.0\" encoding=\"UTF-8\" standalone=\"yes\"?><response><header><resultcode>99</resultcode><resultmsg>LIMITED NUMBER OF SERVICE REQUESTS EXCEEDS ERROR.</resultmsg></header></response>\n",
      "<?xml version=\"1.0\" encoding=\"UTF-8\" standalone=\"yes\"?><response><header><resultcode>99</resultcode><resultmsg>LIMITED NUMBER OF SERVICE REQUESTS EXCEEDS ERROR.</resultmsg></header></response>\n",
      "<?xml version=\"1.0\" encoding=\"UTF-8\" standalone=\"yes\"?><response><header><resultcode>99</resultcode><resultmsg>LIMITED NUMBER OF SERVICE REQUESTS EXCEEDS ERROR.</resultmsg></header></response>\n",
      "<?xml version=\"1.0\" encoding=\"UTF-8\" standalone=\"yes\"?><response><header><resultcode>99</resultcode><resultmsg>LIMITED NUMBER OF SERVICE REQUESTS EXCEEDS ERROR.</resultmsg></header></response>\n",
      "<?xml version=\"1.0\" encoding=\"UTF-8\" standalone=\"yes\"?><response><header><resultcode>99</resultcode><resultmsg>LIMITED NUMBER OF SERVICE REQUESTS EXCEEDS ERROR.</resultmsg></header></response>\n",
      "<?xml version=\"1.0\" encoding=\"UTF-8\" standalone=\"yes\"?><response><header><resultcode>99</resultcode><resultmsg>LIMITED NUMBER OF SERVICE REQUESTS EXCEEDS ERROR.</resultmsg></header></response>\n",
      "<?xml version=\"1.0\" encoding=\"UTF-8\" standalone=\"yes\"?><response><header><resultcode>99</resultcode><resultmsg>LIMITED NUMBER OF SERVICE REQUESTS EXCEEDS ERROR.</resultmsg></header></response>\n",
      "<?xml version=\"1.0\" encoding=\"UTF-8\" standalone=\"yes\"?><response><header><resultcode>99</resultcode><resultmsg>LIMITED NUMBER OF SERVICE REQUESTS EXCEEDS ERROR.</resultmsg></header></response>\n",
      "<?xml version=\"1.0\" encoding=\"UTF-8\" standalone=\"yes\"?><response><header><resultcode>99</resultcode><resultmsg>LIMITED NUMBER OF SERVICE REQUESTS EXCEEDS ERROR.</resultmsg></header></response>\n",
      "<?xml version=\"1.0\" encoding=\"UTF-8\" standalone=\"yes\"?><response><header><resultcode>99</resultcode><resultmsg>LIMITED NUMBER OF SERVICE REQUESTS EXCEEDS ERROR.</resultmsg></header></response>\n",
      "<?xml version=\"1.0\" encoding=\"UTF-8\" standalone=\"yes\"?><response><header><resultcode>99</resultcode><resultmsg>LIMITED NUMBER OF SERVICE REQUESTS EXCEEDS ERROR.</resultmsg></header></response>\n",
      "<?xml version=\"1.0\" encoding=\"UTF-8\" standalone=\"yes\"?><response><header><resultcode>99</resultcode><resultmsg>LIMITED NUMBER OF SERVICE REQUESTS EXCEEDS ERROR.</resultmsg></header></response>\n",
      "<?xml version=\"1.0\" encoding=\"UTF-8\" standalone=\"yes\"?><response><header><resultcode>99</resultcode><resultmsg>LIMITED NUMBER OF SERVICE REQUESTS EXCEEDS ERROR.</resultmsg></header></response>\n",
      "<?xml version=\"1.0\" encoding=\"UTF-8\" standalone=\"yes\"?><response><header><resultcode>99</resultcode><resultmsg>LIMITED NUMBER OF SERVICE REQUESTS EXCEEDS ERROR.</resultmsg></header></response>\n",
      "<?xml version=\"1.0\" encoding=\"UTF-8\" standalone=\"yes\"?><response><header><resultcode>99</resultcode><resultmsg>LIMITED NUMBER OF SERVICE REQUESTS EXCEEDS ERROR.</resultmsg></header></response>\n",
      "<?xml version=\"1.0\" encoding=\"UTF-8\" standalone=\"yes\"?><response><header><resultcode>99</resultcode><resultmsg>LIMITED NUMBER OF SERVICE REQUESTS EXCEEDS ERROR.</resultmsg></header></response>\n",
      "<?xml version=\"1.0\" encoding=\"UTF-8\" standalone=\"yes\"?><response><header><resultcode>99</resultcode><resultmsg>LIMITED NUMBER OF SERVICE REQUESTS EXCEEDS ERROR.</resultmsg></header></response>\n",
      "<?xml version=\"1.0\" encoding=\"UTF-8\" standalone=\"yes\"?><response><header><resultcode>99</resultcode><resultmsg>LIMITED NUMBER OF SERVICE REQUESTS EXCEEDS ERROR.</resultmsg></header></response>\n",
      "<?xml version=\"1.0\" encoding=\"UTF-8\" standalone=\"yes\"?><response><header><resultcode>99</resultcode><resultmsg>LIMITED NUMBER OF SERVICE REQUESTS EXCEEDS ERROR.</resultmsg></header></response>\n",
      "<?xml version=\"1.0\" encoding=\"UTF-8\" standalone=\"yes\"?><response><header><resultcode>99</resultcode><resultmsg>LIMITED NUMBER OF SERVICE REQUESTS EXCEEDS ERROR.</resultmsg></header></response>\n",
      "<?xml version=\"1.0\" encoding=\"UTF-8\" standalone=\"yes\"?><response><header><resultcode>99</resultcode><resultmsg>LIMITED NUMBER OF SERVICE REQUESTS EXCEEDS ERROR.</resultmsg></header></response>\n",
      "<?xml version=\"1.0\" encoding=\"UTF-8\" standalone=\"yes\"?><response><header><resultcode>99</resultcode><resultmsg>LIMITED NUMBER OF SERVICE REQUESTS EXCEEDS ERROR.</resultmsg></header></response>\n",
      "<?xml version=\"1.0\" encoding=\"UTF-8\" standalone=\"yes\"?><response><header><resultcode>99</resultcode><resultmsg>LIMITED NUMBER OF SERVICE REQUESTS EXCEEDS ERROR.</resultmsg></header></response>\n",
      "<?xml version=\"1.0\" encoding=\"UTF-8\" standalone=\"yes\"?><response><header><resultcode>99</resultcode><resultmsg>LIMITED NUMBER OF SERVICE REQUESTS EXCEEDS ERROR.</resultmsg></header></response>\n",
      "<?xml version=\"1.0\" encoding=\"UTF-8\" standalone=\"yes\"?><response><header><resultcode>99</resultcode><resultmsg>LIMITED NUMBER OF SERVICE REQUESTS EXCEEDS ERROR.</resultmsg></header></response>\n",
      "<?xml version=\"1.0\" encoding=\"UTF-8\" standalone=\"yes\"?><response><header><resultcode>99</resultcode><resultmsg>LIMITED NUMBER OF SERVICE REQUESTS EXCEEDS ERROR.</resultmsg></header></response>\n",
      "<?xml version=\"1.0\" encoding=\"UTF-8\" standalone=\"yes\"?><response><header><resultcode>99</resultcode><resultmsg>LIMITED NUMBER OF SERVICE REQUESTS EXCEEDS ERROR.</resultmsg></header></response>\n",
      "<?xml version=\"1.0\" encoding=\"UTF-8\" standalone=\"yes\"?><response><header><resultcode>99</resultcode><resultmsg>LIMITED NUMBER OF SERVICE REQUESTS EXCEEDS ERROR.</resultmsg></header></response>\n",
      "<?xml version=\"1.0\" encoding=\"UTF-8\" standalone=\"yes\"?><response><header><resultcode>99</resultcode><resultmsg>LIMITED NUMBER OF SERVICE REQUESTS EXCEEDS ERROR.</resultmsg></header></response>\n",
      "<?xml version=\"1.0\" encoding=\"UTF-8\" standalone=\"yes\"?><response><header><resultcode>99</resultcode><resultmsg>LIMITED NUMBER OF SERVICE REQUESTS EXCEEDS ERROR.</resultmsg></header></response>\n",
      "<?xml version=\"1.0\" encoding=\"UTF-8\" standalone=\"yes\"?><response><header><resultcode>99</resultcode><resultmsg>LIMITED NUMBER OF SERVICE REQUESTS EXCEEDS ERROR.</resultmsg></header></response>\n",
      "<?xml version=\"1.0\" encoding=\"UTF-8\" standalone=\"yes\"?><response><header><resultcode>99</resultcode><resultmsg>LIMITED NUMBER OF SERVICE REQUESTS EXCEEDS ERROR.</resultmsg></header></response>\n",
      "<?xml version=\"1.0\" encoding=\"UTF-8\" standalone=\"yes\"?><response><header><resultcode>99</resultcode><resultmsg>LIMITED NUMBER OF SERVICE REQUESTS EXCEEDS ERROR.</resultmsg></header></response>\n",
      "<?xml version=\"1.0\" encoding=\"UTF-8\" standalone=\"yes\"?><response><header><resultcode>99</resultcode><resultmsg>LIMITED NUMBER OF SERVICE REQUESTS EXCEEDS ERROR.</resultmsg></header></response>\n",
      "<?xml version=\"1.0\" encoding=\"UTF-8\" standalone=\"yes\"?><response><header><resultcode>99</resultcode><resultmsg>LIMITED NUMBER OF SERVICE REQUESTS EXCEEDS ERROR.</resultmsg></header></response>\n",
      "<?xml version=\"1.0\" encoding=\"UTF-8\" standalone=\"yes\"?><response><header><resultcode>99</resultcode><resultmsg>LIMITED NUMBER OF SERVICE REQUESTS EXCEEDS ERROR.</resultmsg></header></response>\n",
      "<?xml version=\"1.0\" encoding=\"UTF-8\" standalone=\"yes\"?><response><header><resultcode>99</resultcode><resultmsg>LIMITED NUMBER OF SERVICE REQUESTS EXCEEDS ERROR.</resultmsg></header></response>\n",
      "<?xml version=\"1.0\" encoding=\"UTF-8\" standalone=\"yes\"?><response><header><resultcode>99</resultcode><resultmsg>LIMITED NUMBER OF SERVICE REQUESTS EXCEEDS ERROR.</resultmsg></header></response>\n",
      "<?xml version=\"1.0\" encoding=\"UTF-8\" standalone=\"yes\"?><response><header><resultcode>99</resultcode><resultmsg>LIMITED NUMBER OF SERVICE REQUESTS EXCEEDS ERROR.</resultmsg></header></response>\n",
      "<?xml version=\"1.0\" encoding=\"UTF-8\" standalone=\"yes\"?><response><header><resultcode>99</resultcode><resultmsg>LIMITED NUMBER OF SERVICE REQUESTS EXCEEDS ERROR.</resultmsg></header></response>\n",
      "<?xml version=\"1.0\" encoding=\"UTF-8\" standalone=\"yes\"?><response><header><resultcode>99</resultcode><resultmsg>LIMITED NUMBER OF SERVICE REQUESTS EXCEEDS ERROR.</resultmsg></header></response>\n",
      "<?xml version=\"1.0\" encoding=\"UTF-8\" standalone=\"yes\"?><response><header><resultcode>99</resultcode><resultmsg>LIMITED NUMBER OF SERVICE REQUESTS EXCEEDS ERROR.</resultmsg></header></response>\n",
      "<?xml version=\"1.0\" encoding=\"UTF-8\" standalone=\"yes\"?><response><header><resultcode>99</resultcode><resultmsg>LIMITED NUMBER OF SERVICE REQUESTS EXCEEDS ERROR.</resultmsg></header></response>\n",
      "<?xml version=\"1.0\" encoding=\"UTF-8\" standalone=\"yes\"?><response><header><resultcode>99</resultcode><resultmsg>LIMITED NUMBER OF SERVICE REQUESTS EXCEEDS ERROR.</resultmsg></header></response>\n",
      "<?xml version=\"1.0\" encoding=\"UTF-8\" standalone=\"yes\"?><response><header><resultcode>99</resultcode><resultmsg>LIMITED NUMBER OF SERVICE REQUESTS EXCEEDS ERROR.</resultmsg></header></response>\n",
      "<?xml version=\"1.0\" encoding=\"UTF-8\" standalone=\"yes\"?><response><header><resultcode>99</resultcode><resultmsg>LIMITED NUMBER OF SERVICE REQUESTS EXCEEDS ERROR.</resultmsg></header></response>\n",
      "<?xml version=\"1.0\" encoding=\"UTF-8\" standalone=\"yes\"?><response><header><resultcode>99</resultcode><resultmsg>LIMITED NUMBER OF SERVICE REQUESTS EXCEEDS ERROR.</resultmsg></header></response>\n",
      "<?xml version=\"1.0\" encoding=\"UTF-8\" standalone=\"yes\"?><response><header><resultcode>99</resultcode><resultmsg>LIMITED NUMBER OF SERVICE REQUESTS EXCEEDS ERROR.</resultmsg></header></response>\n",
      "<?xml version=\"1.0\" encoding=\"UTF-8\" standalone=\"yes\"?><response><header><resultcode>99</resultcode><resultmsg>LIMITED NUMBER OF SERVICE REQUESTS EXCEEDS ERROR.</resultmsg></header></response>\n",
      "<?xml version=\"1.0\" encoding=\"UTF-8\" standalone=\"yes\"?><response><header><resultcode>99</resultcode><resultmsg>LIMITED NUMBER OF SERVICE REQUESTS EXCEEDS ERROR.</resultmsg></header></response>\n",
      "<?xml version=\"1.0\" encoding=\"UTF-8\" standalone=\"yes\"?><response><header><resultcode>99</resultcode><resultmsg>LIMITED NUMBER OF SERVICE REQUESTS EXCEEDS ERROR.</resultmsg></header></response>\n",
      "<?xml version=\"1.0\" encoding=\"UTF-8\" standalone=\"yes\"?><response><header><resultcode>99</resultcode><resultmsg>LIMITED NUMBER OF SERVICE REQUESTS EXCEEDS ERROR.</resultmsg></header></response>\n",
      "<?xml version=\"1.0\" encoding=\"UTF-8\" standalone=\"yes\"?><response><header><resultcode>99</resultcode><resultmsg>LIMITED NUMBER OF SERVICE REQUESTS EXCEEDS ERROR.</resultmsg></header></response>\n",
      "<?xml version=\"1.0\" encoding=\"UTF-8\" standalone=\"yes\"?><response><header><resultcode>99</resultcode><resultmsg>LIMITED NUMBER OF SERVICE REQUESTS EXCEEDS ERROR.</resultmsg></header></response>\n",
      "<?xml version=\"1.0\" encoding=\"UTF-8\" standalone=\"yes\"?><response><header><resultcode>99</resultcode><resultmsg>LIMITED NUMBER OF SERVICE REQUESTS EXCEEDS ERROR.</resultmsg></header></response>\n",
      "<?xml version=\"1.0\" encoding=\"UTF-8\" standalone=\"yes\"?><response><header><resultcode>99</resultcode><resultmsg>LIMITED NUMBER OF SERVICE REQUESTS EXCEEDS ERROR.</resultmsg></header></response>\n",
      "<?xml version=\"1.0\" encoding=\"UTF-8\" standalone=\"yes\"?><response><header><resultcode>99</resultcode><resultmsg>LIMITED NUMBER OF SERVICE REQUESTS EXCEEDS ERROR.</resultmsg></header></response>\n",
      "<?xml version=\"1.0\" encoding=\"UTF-8\" standalone=\"yes\"?><response><header><resultcode>99</resultcode><resultmsg>LIMITED NUMBER OF SERVICE REQUESTS EXCEEDS ERROR.</resultmsg></header></response>\n",
      "<?xml version=\"1.0\" encoding=\"UTF-8\" standalone=\"yes\"?><response><header><resultcode>99</resultcode><resultmsg>LIMITED NUMBER OF SERVICE REQUESTS EXCEEDS ERROR.</resultmsg></header></response>\n",
      "<?xml version=\"1.0\" encoding=\"UTF-8\" standalone=\"yes\"?><response><header><resultcode>99</resultcode><resultmsg>LIMITED NUMBER OF SERVICE REQUESTS EXCEEDS ERROR.</resultmsg></header></response>\n",
      "<?xml version=\"1.0\" encoding=\"UTF-8\" standalone=\"yes\"?><response><header><resultcode>99</resultcode><resultmsg>LIMITED NUMBER OF SERVICE REQUESTS EXCEEDS ERROR.</resultmsg></header></response>\n",
      "<?xml version=\"1.0\" encoding=\"UTF-8\" standalone=\"yes\"?><response><header><resultcode>99</resultcode><resultmsg>LIMITED NUMBER OF SERVICE REQUESTS EXCEEDS ERROR.</resultmsg></header></response>\n",
      "<?xml version=\"1.0\" encoding=\"UTF-8\" standalone=\"yes\"?><response><header><resultcode>99</resultcode><resultmsg>LIMITED NUMBER OF SERVICE REQUESTS EXCEEDS ERROR.</resultmsg></header></response>\n",
      "<?xml version=\"1.0\" encoding=\"UTF-8\" standalone=\"yes\"?><response><header><resultcode>99</resultcode><resultmsg>LIMITED NUMBER OF SERVICE REQUESTS EXCEEDS ERROR.</resultmsg></header></response>\n",
      "<?xml version=\"1.0\" encoding=\"UTF-8\" standalone=\"yes\"?><response><header><resultcode>99</resultcode><resultmsg>LIMITED NUMBER OF SERVICE REQUESTS EXCEEDS ERROR.</resultmsg></header></response>\n",
      "<?xml version=\"1.0\" encoding=\"UTF-8\" standalone=\"yes\"?><response><header><resultcode>99</resultcode><resultmsg>LIMITED NUMBER OF SERVICE REQUESTS EXCEEDS ERROR.</resultmsg></header></response>\n",
      "<?xml version=\"1.0\" encoding=\"UTF-8\" standalone=\"yes\"?><response><header><resultcode>99</resultcode><resultmsg>LIMITED NUMBER OF SERVICE REQUESTS EXCEEDS ERROR.</resultmsg></header></response>\n",
      "<?xml version=\"1.0\" encoding=\"UTF-8\" standalone=\"yes\"?><response><header><resultcode>99</resultcode><resultmsg>LIMITED NUMBER OF SERVICE REQUESTS EXCEEDS ERROR.</resultmsg></header></response>\n",
      "<?xml version=\"1.0\" encoding=\"UTF-8\" standalone=\"yes\"?><response><header><resultcode>99</resultcode><resultmsg>LIMITED NUMBER OF SERVICE REQUESTS EXCEEDS ERROR.</resultmsg></header></response>\n",
      "<?xml version=\"1.0\" encoding=\"UTF-8\" standalone=\"yes\"?><response><header><resultcode>99</resultcode><resultmsg>LIMITED NUMBER OF SERVICE REQUESTS EXCEEDS ERROR.</resultmsg></header></response>\n",
      "<?xml version=\"1.0\" encoding=\"UTF-8\" standalone=\"yes\"?><response><header><resultcode>99</resultcode><resultmsg>LIMITED NUMBER OF SERVICE REQUESTS EXCEEDS ERROR.</resultmsg></header></response>\n",
      "<?xml version=\"1.0\" encoding=\"UTF-8\" standalone=\"yes\"?><response><header><resultcode>99</resultcode><resultmsg>LIMITED NUMBER OF SERVICE REQUESTS EXCEEDS ERROR.</resultmsg></header></response>\n",
      "<?xml version=\"1.0\" encoding=\"UTF-8\" standalone=\"yes\"?><response><header><resultcode>99</resultcode><resultmsg>LIMITED NUMBER OF SERVICE REQUESTS EXCEEDS ERROR.</resultmsg></header></response>\n",
      "<?xml version=\"1.0\" encoding=\"UTF-8\" standalone=\"yes\"?><response><header><resultcode>99</resultcode><resultmsg>LIMITED NUMBER OF SERVICE REQUESTS EXCEEDS ERROR.</resultmsg></header></response>\n",
      "<?xml version=\"1.0\" encoding=\"UTF-8\" standalone=\"yes\"?><response><header><resultcode>99</resultcode><resultmsg>LIMITED NUMBER OF SERVICE REQUESTS EXCEEDS ERROR.</resultmsg></header></response>\n",
      "<?xml version=\"1.0\" encoding=\"UTF-8\" standalone=\"yes\"?><response><header><resultcode>99</resultcode><resultmsg>LIMITED NUMBER OF SERVICE REQUESTS EXCEEDS ERROR.</resultmsg></header></response>\n",
      "<?xml version=\"1.0\" encoding=\"UTF-8\" standalone=\"yes\"?><response><header><resultcode>99</resultcode><resultmsg>LIMITED NUMBER OF SERVICE REQUESTS EXCEEDS ERROR.</resultmsg></header></response>\n",
      "<?xml version=\"1.0\" encoding=\"UTF-8\" standalone=\"yes\"?><response><header><resultcode>99</resultcode><resultmsg>LIMITED NUMBER OF SERVICE REQUESTS EXCEEDS ERROR.</resultmsg></header></response>\n",
      "<?xml version=\"1.0\" encoding=\"UTF-8\" standalone=\"yes\"?><response><header><resultcode>99</resultcode><resultmsg>LIMITED NUMBER OF SERVICE REQUESTS EXCEEDS ERROR.</resultmsg></header></response>\n",
      "<?xml version=\"1.0\" encoding=\"UTF-8\" standalone=\"yes\"?><response><header><resultcode>99</resultcode><resultmsg>LIMITED NUMBER OF SERVICE REQUESTS EXCEEDS ERROR.</resultmsg></header></response>\n",
      "<?xml version=\"1.0\" encoding=\"UTF-8\" standalone=\"yes\"?><response><header><resultcode>99</resultcode><resultmsg>LIMITED NUMBER OF SERVICE REQUESTS EXCEEDS ERROR.</resultmsg></header></response>\n",
      "<?xml version=\"1.0\" encoding=\"UTF-8\" standalone=\"yes\"?><response><header><resultcode>99</resultcode><resultmsg>LIMITED NUMBER OF SERVICE REQUESTS EXCEEDS ERROR.</resultmsg></header></response>\n",
      "<?xml version=\"1.0\" encoding=\"UTF-8\" standalone=\"yes\"?><response><header><resultcode>99</resultcode><resultmsg>LIMITED NUMBER OF SERVICE REQUESTS EXCEEDS ERROR.</resultmsg></header></response>\n",
      "<?xml version=\"1.0\" encoding=\"UTF-8\" standalone=\"yes\"?><response><header><resultcode>99</resultcode><resultmsg>LIMITED NUMBER OF SERVICE REQUESTS EXCEEDS ERROR.</resultmsg></header></response>\n",
      "<?xml version=\"1.0\" encoding=\"UTF-8\" standalone=\"yes\"?><response><header><resultcode>99</resultcode><resultmsg>LIMITED NUMBER OF SERVICE REQUESTS EXCEEDS ERROR.</resultmsg></header></response>\n",
      "<?xml version=\"1.0\" encoding=\"UTF-8\" standalone=\"yes\"?><response><header><resultcode>99</resultcode><resultmsg>LIMITED NUMBER OF SERVICE REQUESTS EXCEEDS ERROR.</resultmsg></header></response>\n",
      "<?xml version=\"1.0\" encoding=\"UTF-8\" standalone=\"yes\"?><response><header><resultcode>99</resultcode><resultmsg>LIMITED NUMBER OF SERVICE REQUESTS EXCEEDS ERROR.</resultmsg></header></response>\n",
      "<?xml version=\"1.0\" encoding=\"UTF-8\" standalone=\"yes\"?><response><header><resultcode>99</resultcode><resultmsg>LIMITED NUMBER OF SERVICE REQUESTS EXCEEDS ERROR.</resultmsg></header></response>\n",
      "<?xml version=\"1.0\" encoding=\"UTF-8\" standalone=\"yes\"?><response><header><resultcode>99</resultcode><resultmsg>LIMITED NUMBER OF SERVICE REQUESTS EXCEEDS ERROR.</resultmsg></header></response>\n",
      "<?xml version=\"1.0\" encoding=\"UTF-8\" standalone=\"yes\"?><response><header><resultcode>99</resultcode><resultmsg>LIMITED NUMBER OF SERVICE REQUESTS EXCEEDS ERROR.</resultmsg></header></response>\n",
      "<?xml version=\"1.0\" encoding=\"UTF-8\" standalone=\"yes\"?><response><header><resultcode>99</resultcode><resultmsg>LIMITED NUMBER OF SERVICE REQUESTS EXCEEDS ERROR.</resultmsg></header></response>\n",
      "<?xml version=\"1.0\" encoding=\"UTF-8\" standalone=\"yes\"?><response><header><resultcode>99</resultcode><resultmsg>LIMITED NUMBER OF SERVICE REQUESTS EXCEEDS ERROR.</resultmsg></header></response>\n",
      "<?xml version=\"1.0\" encoding=\"UTF-8\" standalone=\"yes\"?><response><header><resultcode>99</resultcode><resultmsg>LIMITED NUMBER OF SERVICE REQUESTS EXCEEDS ERROR.</resultmsg></header></response>\n",
      "<?xml version=\"1.0\" encoding=\"UTF-8\" standalone=\"yes\"?><response><header><resultcode>99</resultcode><resultmsg>LIMITED NUMBER OF SERVICE REQUESTS EXCEEDS ERROR.</resultmsg></header></response>\n",
      "<?xml version=\"1.0\" encoding=\"UTF-8\" standalone=\"yes\"?><response><header><resultcode>99</resultcode><resultmsg>LIMITED NUMBER OF SERVICE REQUESTS EXCEEDS ERROR.</resultmsg></header></response>\n",
      "<?xml version=\"1.0\" encoding=\"UTF-8\" standalone=\"yes\"?><response><header><resultcode>99</resultcode><resultmsg>LIMITED NUMBER OF SERVICE REQUESTS EXCEEDS ERROR.</resultmsg></header></response>\n",
      "<?xml version=\"1.0\" encoding=\"UTF-8\" standalone=\"yes\"?><response><header><resultcode>99</resultcode><resultmsg>LIMITED NUMBER OF SERVICE REQUESTS EXCEEDS ERROR.</resultmsg></header></response>\n",
      "<?xml version=\"1.0\" encoding=\"UTF-8\" standalone=\"yes\"?><response><header><resultcode>99</resultcode><resultmsg>LIMITED NUMBER OF SERVICE REQUESTS EXCEEDS ERROR.</resultmsg></header></response>\n",
      "<?xml version=\"1.0\" encoding=\"UTF-8\" standalone=\"yes\"?><response><header><resultcode>99</resultcode><resultmsg>LIMITED NUMBER OF SERVICE REQUESTS EXCEEDS ERROR.</resultmsg></header></response>\n",
      "\n"
     ]
    }
   ],
   "source": [
    "gubun = []\n",
    "createDt = []\n",
    "defCnt = []\n",
    "deathCnt = []\n",
    "clearCnt = []\n",
    "for i in tqdm_notebook(range(len(month_11)-1)):\n",
    "    corona_url = 'http://openapi.data.go.kr/openapi/service/rest/Covid19/getCovid19SidoInfStateJson'\n",
    "    startDate = month_11[i].strftime('%Y%m%d')\n",
    "    endDate = month_11[i].strftime('%Y%m%d')\n",
    "    url = f'{corona_url}?serviceKey={key}&pageNo=1&numOfRows=10&startCreateDt={startDate}&endCreateDt={endDate}' \n",
    "    result = requests.get(urlparse(url).geturl())\n",
    "    html = result.text\n",
    "    soup = BeautifulSoup(html, 'html.parser')\n",
    "    print(soup)\n",
    "    for i in range(len(soup.select('gubun'))):\n",
    "        if soup.select('gubun')[i].string in ['검역','합계']:\n",
    "            # print(soup.select('gubun')[i].string)\n",
    "            continue\n",
    "        gubun.append(soup.select('gubun')[i].get_text())\n",
    "        createDt.append(soup.select('createDt')[i].get_text())\n",
    "        defCnt.append(soup.select('defCnt')[i].get_text() if not len(soup.select('defCnt'))!= 0 else '')\n",
    "        clearCnt.append(soup.select('isolClearCnt')[i].get_text() if not len(soup.select('isolClearCnt'))!= 0 else '')\n",
    "        deathCnt.append(soup.select('deathCnt')[i].get_text())\n",
    "corona_area['등록시간']=[i for i in createDt]\n",
    "corona_area['지역'] = gubun\n",
    "corona_area['확진자 수'] = defCnt\n",
    "corona_area['격리해제 수'] = clearCnt\n",
    "corona_area['사망자 수'] = deathCnt\n"
   ]
  },
  {
   "cell_type": "code",
   "execution_count": 422,
   "metadata": {},
   "outputs": [
    {
     "output_type": "execute_result",
     "data": {
      "text/plain": [
       "Empty DataFrame\n",
       "Columns: [지역, 등록시간, 확진자 수, 격리해제 수, 사망자 수]\n",
       "Index: []"
      ],
      "text/html": "<div>\n<style scoped>\n    .dataframe tbody tr th:only-of-type {\n        vertical-align: middle;\n    }\n\n    .dataframe tbody tr th {\n        vertical-align: top;\n    }\n\n    .dataframe thead th {\n        text-align: right;\n    }\n</style>\n<table border=\"1\" class=\"dataframe\">\n  <thead>\n    <tr style=\"text-align: right;\">\n      <th></th>\n      <th>지역</th>\n      <th>등록시간</th>\n      <th>확진자 수</th>\n      <th>격리해제 수</th>\n      <th>사망자 수</th>\n    </tr>\n  </thead>\n  <tbody>\n  </tbody>\n</table>\n</div>"
     },
     "metadata": {},
     "execution_count": 422
    }
   ],
   "source": [
    "corona_area.head()"
   ]
  },
  {
   "cell_type": "code",
   "execution_count": 411,
   "metadata": {},
   "outputs": [],
   "source": [
    "# 숫자형으로 바꿈\n",
    "corona_area[['확진자 수','격리해제 수','사망자 수']] = corona_area[['확진자 수','격리해제 수','사망자 수']].apply(pd.to_numeric)"
   ]
  },
  {
   "cell_type": "code",
   "execution_count": 412,
   "metadata": {},
   "outputs": [
    {
     "output_type": "stream",
     "name": "stdout",
     "text": [
      "Series([], Name: 등록시간, dtype: datetime64[ns])\n"
     ]
    },
    {
     "output_type": "execute_result",
     "data": {
      "text/plain": [
       "Empty DataFrame\n",
       "Columns: []\n",
       "Index: []"
      ],
      "text/html": "<div>\n<style scoped>\n    .dataframe tbody tr th:only-of-type {\n        vertical-align: middle;\n    }\n\n    .dataframe tbody tr th {\n        vertical-align: top;\n    }\n\n    .dataframe thead tr th {\n        text-align: left;\n    }\n\n    .dataframe thead tr:last-of-type th {\n        text-align: right;\n    }\n</style>\n<table border=\"1\" class=\"dataframe\">\n  <thead>\n    <tr>\n      <th>지역</th>\n    </tr>\n  </thead>\n  <tbody>\n  </tbody>\n</table>\n</div>"
     },
     "metadata": {},
     "execution_count": 412
    }
   ],
   "source": [
    "# 등록시간에서 날짜만 남김\n",
    "corona_area['등록시간'] = pd.to_datetime(corona_area['등록시간']).dt.date\n",
    "corona_area['등록시간'] = pd.to_datetime(corona_area['등록시간'])\n",
    "print(corona_area['등록시간'])\n",
    "# 피봇으로 정리\n",
    "corona_area_week = pd.pivot_table(data=corona_area,columns='등록시간',index='지역')\n",
    "corona_area_week"
   ]
  },
  {
   "cell_type": "code",
   "execution_count": 413,
   "metadata": {},
   "outputs": [
    {
     "output_type": "execute_result",
     "data": {
      "text/plain": [
       "DatetimeIndex([], dtype='datetime64[ns]', name='등록시간', freq=None)"
      ]
     },
     "metadata": {},
     "execution_count": 413
    }
   ],
   "source": [
    "corona_area_week.T.reset_index().set_index('등록시간').index "
   ]
  },
  {
   "cell_type": "code",
   "execution_count": 414,
   "metadata": {},
   "outputs": [
    {
     "output_type": "execute_result",
     "data": {
      "text/plain": [
       "Empty DataFrame\n",
       "Columns: [level_0]\n",
       "Index: []"
      ],
      "text/html": "<div>\n<style scoped>\n    .dataframe tbody tr th:only-of-type {\n        vertical-align: middle;\n    }\n\n    .dataframe tbody tr th {\n        vertical-align: top;\n    }\n\n    .dataframe thead th {\n        text-align: right;\n    }\n</style>\n<table border=\"1\" class=\"dataframe\">\n  <thead>\n    <tr style=\"text-align: right;\">\n      <th>지역</th>\n      <th>level_0</th>\n    </tr>\n    <tr>\n      <th>등록시간</th>\n      <th></th>\n    </tr>\n  </thead>\n  <tbody>\n  </tbody>\n</table>\n</div>"
     },
     "metadata": {},
     "execution_count": 414
    }
   ],
   "source": [
    "corona_area_week.T.reset_index().set_index('등록시간').resample('w').sum()"
   ]
  },
  {
   "cell_type": "code",
   "execution_count": 415,
   "metadata": {},
   "outputs": [
    {
     "output_type": "execute_result",
     "data": {
      "text/plain": [
       "     지역                    등록시간 확진자 수 격리해제 수 사망자 수\n",
       "0    제주 2020-11-01 09:42:56.006    59     59     0\n",
       "1    경남 2020-11-01 09:42:56.006   318    299     0\n",
       "2    경북 2020-11-01 09:42:56.006  1587   1516    57\n",
       "3    전남 2020-11-01 09:42:56.006   188    174     2\n",
       "4    전북 2020-11-01 09:42:56.006   166    149     0\n",
       "..   ..                     ...   ...    ...   ...\n",
       "522  광주 2020-11-29 09:42:34.125   683    564     3\n",
       "523  인천 2020-11-29 09:42:34.124  1376   1068    11\n",
       "524  대구 2020-11-29 09:42:34.124  7228   6998   199\n",
       "525  부산 2020-11-29 09:42:34.124   757    596    15\n",
       "526  서울 2020-11-29 09:42:34.124  8644   6529    92\n",
       "\n",
       "[527 rows x 5 columns]"
      ],
      "text/html": "<div>\n<style scoped>\n    .dataframe tbody tr th:only-of-type {\n        vertical-align: middle;\n    }\n\n    .dataframe tbody tr th {\n        vertical-align: top;\n    }\n\n    .dataframe thead th {\n        text-align: right;\n    }\n</style>\n<table border=\"1\" class=\"dataframe\">\n  <thead>\n    <tr style=\"text-align: right;\">\n      <th></th>\n      <th>지역</th>\n      <th>등록시간</th>\n      <th>확진자 수</th>\n      <th>격리해제 수</th>\n      <th>사망자 수</th>\n    </tr>\n  </thead>\n  <tbody>\n    <tr>\n      <th>0</th>\n      <td>제주</td>\n      <td>2020-11-01 09:42:56.006</td>\n      <td>59</td>\n      <td>59</td>\n      <td>0</td>\n    </tr>\n    <tr>\n      <th>1</th>\n      <td>경남</td>\n      <td>2020-11-01 09:42:56.006</td>\n      <td>318</td>\n      <td>299</td>\n      <td>0</td>\n    </tr>\n    <tr>\n      <th>2</th>\n      <td>경북</td>\n      <td>2020-11-01 09:42:56.006</td>\n      <td>1587</td>\n      <td>1516</td>\n      <td>57</td>\n    </tr>\n    <tr>\n      <th>3</th>\n      <td>전남</td>\n      <td>2020-11-01 09:42:56.006</td>\n      <td>188</td>\n      <td>174</td>\n      <td>2</td>\n    </tr>\n    <tr>\n      <th>4</th>\n      <td>전북</td>\n      <td>2020-11-01 09:42:56.006</td>\n      <td>166</td>\n      <td>149</td>\n      <td>0</td>\n    </tr>\n    <tr>\n      <th>...</th>\n      <td>...</td>\n      <td>...</td>\n      <td>...</td>\n      <td>...</td>\n      <td>...</td>\n    </tr>\n    <tr>\n      <th>522</th>\n      <td>광주</td>\n      <td>2020-11-29 09:42:34.125</td>\n      <td>683</td>\n      <td>564</td>\n      <td>3</td>\n    </tr>\n    <tr>\n      <th>523</th>\n      <td>인천</td>\n      <td>2020-11-29 09:42:34.124</td>\n      <td>1376</td>\n      <td>1068</td>\n      <td>11</td>\n    </tr>\n    <tr>\n      <th>524</th>\n      <td>대구</td>\n      <td>2020-11-29 09:42:34.124</td>\n      <td>7228</td>\n      <td>6998</td>\n      <td>199</td>\n    </tr>\n    <tr>\n      <th>525</th>\n      <td>부산</td>\n      <td>2020-11-29 09:42:34.124</td>\n      <td>757</td>\n      <td>596</td>\n      <td>15</td>\n    </tr>\n    <tr>\n      <th>526</th>\n      <td>서울</td>\n      <td>2020-11-29 09:42:34.124</td>\n      <td>8644</td>\n      <td>6529</td>\n      <td>92</td>\n    </tr>\n  </tbody>\n</table>\n<p>527 rows × 5 columns</p>\n</div>"
     },
     "metadata": {},
     "execution_count": 415
    }
   ],
   "source": [
    "# monthly_corona = corona_area.set_index('등록시간')\n",
    "# monthly_corona = monthly_corona.resample('MS')\n",
    "# monthly_corona['등록시간'] = corona_area['등록시간'].strftime('%m월')\n",
    "monthly_corona"
   ]
  },
  {
   "cell_type": "code",
   "execution_count": 416,
   "metadata": {},
   "outputs": [
    {
     "output_type": "error",
     "ename": "IndexError",
     "evalue": "list index out of range",
     "traceback": [
      "\u001b[1;31m---------------------------------------------------------------------------\u001b[0m",
      "\u001b[1;31mIndexError\u001b[0m                                Traceback (most recent call last)",
      "\u001b[1;32m<ipython-input-416-f73b6bbec225>\u001b[0m in \u001b[0;36m<module>\u001b[1;34m\u001b[0m\n\u001b[0;32m      7\u001b[0m     \u001b[0mhtml\u001b[0m \u001b[1;33m=\u001b[0m \u001b[0mresult\u001b[0m\u001b[1;33m.\u001b[0m\u001b[0mtext\u001b[0m\u001b[1;33m\u001b[0m\u001b[1;33m\u001b[0m\u001b[0m\n\u001b[0;32m      8\u001b[0m     \u001b[0msoup\u001b[0m \u001b[1;33m=\u001b[0m \u001b[0mBeautifulSoup\u001b[0m\u001b[1;33m(\u001b[0m\u001b[0mhtml\u001b[0m\u001b[1;33m,\u001b[0m \u001b[1;34m'html.parser'\u001b[0m\u001b[1;33m)\u001b[0m\u001b[1;33m\u001b[0m\u001b[1;33m\u001b[0m\u001b[0m\n\u001b[1;32m----> 9\u001b[1;33m     \u001b[0mcreateDt\u001b[0m\u001b[1;33m.\u001b[0m\u001b[0mappend\u001b[0m\u001b[1;33m(\u001b[0m\u001b[0msoup\u001b[0m\u001b[1;33m.\u001b[0m\u001b[0mselect\u001b[0m\u001b[1;33m(\u001b[0m\u001b[1;34m'createDt'\u001b[0m\u001b[1;33m)\u001b[0m\u001b[1;33m[\u001b[0m\u001b[1;36m0\u001b[0m\u001b[1;33m]\u001b[0m\u001b[1;33m.\u001b[0m\u001b[0mstring\u001b[0m\u001b[1;33m)\u001b[0m\u001b[1;33m\u001b[0m\u001b[1;33m\u001b[0m\u001b[0m\n\u001b[0m\u001b[0;32m     10\u001b[0m \u001b[1;33m\u001b[0m\u001b[0m\n",
      "\u001b[1;31mIndexError\u001b[0m: list index out of range"
     ]
    }
   ],
   "source": [
    "for i in range(len(month_11)):\n",
    "    corona_url = 'http://openapi.data.go.kr/openapi/service/rest/Covid19/getCovid19InfStateJson'\n",
    "    startDate = month_11[i].strftime('%Y%m%d')\n",
    "    endDate = month_11[i].strftime('%Y%m%d')\n",
    "    url = f'{corona_url}?serviceKey={key}&pageNo=1&numOfRows=10&startCreateDt={startDate}&endCreateDt={endDate}' \n",
    "    result = requests.get(urlparse(url).geturl())\n",
    "    html = result.text\n",
    "    soup = BeautifulSoup(html, 'html.parser')\n",
    "    createDt.append(soup.select('createDt')[0].string)\n",
    "   "
   ]
  },
  {
   "cell_type": "code",
   "execution_count": 152,
   "metadata": {},
   "outputs": [
    {
     "output_type": "execute_result",
     "data": {
      "text/plain": [
       "'526'"
      ]
     },
     "metadata": {},
     "execution_count": 152
    }
   ],
   "source": [
    "soup.select('deathcnt')[0].string"
   ]
  },
  {
   "cell_type": "code",
   "execution_count": 115,
   "metadata": {},
   "outputs": [
    {
     "output_type": "execute_result",
     "data": {
      "text/plain": [
       "Timestamp('2020-11-01 00:00:00', freq='D')"
      ]
     },
     "metadata": {},
     "execution_count": 115
    }
   ],
   "source": [
    "pd.date_range(start='2020-11-01',end='2020-11-30',freq='d')"
   ]
  },
  {
   "source": [
    "### 코로나현황"
   ],
   "cell_type": "markdown",
   "metadata": {}
  },
  {
   "cell_type": "code",
   "execution_count": 161,
   "metadata": {},
   "outputs": [
    {
     "output_type": "execute_result",
     "data": {
      "text/plain": [
       "Empty DataFrame\n",
       "Columns: [등록시간, 게시글번호, 확진자 수, 격리해제 수, 검사진행 수, 사망자 수, 치료중 환자 수]\n",
       "Index: []"
      ],
      "text/html": "<div>\n<style scoped>\n    .dataframe tbody tr th:only-of-type {\n        vertical-align: middle;\n    }\n\n    .dataframe tbody tr th {\n        vertical-align: top;\n    }\n\n    .dataframe thead th {\n        text-align: right;\n    }\n</style>\n<table border=\"1\" class=\"dataframe\">\n  <thead>\n    <tr style=\"text-align: right;\">\n      <th></th>\n      <th>등록시간</th>\n      <th>게시글번호</th>\n      <th>확진자 수</th>\n      <th>격리해제 수</th>\n      <th>검사진행 수</th>\n      <th>사망자 수</th>\n      <th>치료중 환자 수</th>\n    </tr>\n  </thead>\n  <tbody>\n  </tbody>\n</table>\n</div>"
     },
     "metadata": {},
     "execution_count": 161
    }
   ],
   "source": [
    "month_11 = pd.date_range(start='2020-11-01',end='2020-11-30',freq='d')\n",
    "corona = pd.DataFrame(\n",
    "    columns = ['등록시간','게시글번호','확진자 수','격리해제 수','검사진행 수','사망자 수','치료중 환자 수']\n",
    "    # index = month_11\n",
    ")\n",
    "corona.head()"
   ]
  },
  {
   "cell_type": "code",
   "execution_count": 164,
   "metadata": {
    "tags": []
   },
   "outputs": [
    {
     "output_type": "execute_result",
     "data": {
      "text/plain": [
       "                       등록시간 게시글번호  확진자 수 격리해제 수   검사진행 수 사망자 수 치료중 환자 수\n",
       "0   2020-11-01 09:41:40.025   309  26635  24357  2630630   466     1812\n",
       "1   2020-11-02 09:35:09.923   310  26732  24395  2636650   468     1869\n",
       "2   2020-11-03 09:30:37.135   311  26807  24510  2649859   472     1825\n",
       "3    2020-11-04 09:37:25.13   312  26925  24616  2662260   474     1835\n",
       "4   2020-11-05 09:51:34.898   313  27050  24735  2673706   475     1840\n",
       "5   2020-11-06 09:24:23.717   314  27195  24821  2686314   476     1898\n",
       "6   2020-11-07 09:40:32.259   315  27284  24910  2697249   477     1897\n",
       "7   2020-11-08 09:34:44.609   316  27427  24968  2702880   478     1981\n",
       "8   2020-11-09 09:36:39.787   317  27553  25029  2709199   480     2044\n",
       "9   2020-11-10 09:37:02.955   318  27653  25160  2723960   485     2008\n",
       "10  2020-11-11 09:35:35.369   319  27799  25266  2736534   487     2046\n",
       "11  2020-11-12 09:39:23.831   320  27942  25404  2749772   487     2051\n",
       "12  2020-11-13 09:35:49.753   321  28133  25537  2761411   488     2108\n",
       "13  2020-11-14 09:31:38.207   322  28338  25636  2777289   492     2210\n",
       "14  2020-11-15 09:40:16.172   323  28546  25691  2786878   493     2362\n",
       "15  2020-11-16 09:34:22.212   324  28769  25759  2797691   494     2516\n",
       "16  2020-11-17 09:38:28.585   325  28998  25860  2815755   494     2644\n",
       "17  2020-11-18 09:34:00.934   326  29311  25973  2834362   496     2842\n",
       "18  2020-11-19 09:32:40.671   327  29654  26098  2853843   498     3058\n",
       "19  2020-11-20 09:35:51.078   328  30017  26263  2873443   501     3253\n",
       "20  2020-11-21 09:35:35.158   329  30403  26365  2896746   503     3535\n",
       "21  2020-11-22 09:35:12.388   330  30733  26466  2908890   505     3762\n",
       "22  2020-11-23 09:33:24.973   331  31004  26539  2922135   509     3956\n",
       "23  2020-11-24 09:33:23.193   332  31353  26722  2946399   510     4121\n",
       "24  2020-11-25 09:32:47.722   333  31735  26825  2966405   513     4397\n",
       "25  2020-11-26 09:44:15.678   334  32318  26950  2988046   515     4853\n",
       "26  2020-11-27 09:39:01.652   335  32887  27103  3009577   516     5268\n",
       "27  2020-11-28 09:31:45.871   336  33375  27349  3032004   522     5504\n",
       "28  2020-11-29 09:33:56.021   337  33824  27542  3046971   523     5759\n",
       "29  2020-11-30 14:29:16.143   338  34201  27625  3061172   526     6050"
      ],
      "text/html": "<div>\n<style scoped>\n    .dataframe tbody tr th:only-of-type {\n        vertical-align: middle;\n    }\n\n    .dataframe tbody tr th {\n        vertical-align: top;\n    }\n\n    .dataframe thead th {\n        text-align: right;\n    }\n</style>\n<table border=\"1\" class=\"dataframe\">\n  <thead>\n    <tr style=\"text-align: right;\">\n      <th></th>\n      <th>등록시간</th>\n      <th>게시글번호</th>\n      <th>확진자 수</th>\n      <th>격리해제 수</th>\n      <th>검사진행 수</th>\n      <th>사망자 수</th>\n      <th>치료중 환자 수</th>\n    </tr>\n  </thead>\n  <tbody>\n    <tr>\n      <th>0</th>\n      <td>2020-11-01 09:41:40.025</td>\n      <td>309</td>\n      <td>26635</td>\n      <td>24357</td>\n      <td>2630630</td>\n      <td>466</td>\n      <td>1812</td>\n    </tr>\n    <tr>\n      <th>1</th>\n      <td>2020-11-02 09:35:09.923</td>\n      <td>310</td>\n      <td>26732</td>\n      <td>24395</td>\n      <td>2636650</td>\n      <td>468</td>\n      <td>1869</td>\n    </tr>\n    <tr>\n      <th>2</th>\n      <td>2020-11-03 09:30:37.135</td>\n      <td>311</td>\n      <td>26807</td>\n      <td>24510</td>\n      <td>2649859</td>\n      <td>472</td>\n      <td>1825</td>\n    </tr>\n    <tr>\n      <th>3</th>\n      <td>2020-11-04 09:37:25.13</td>\n      <td>312</td>\n      <td>26925</td>\n      <td>24616</td>\n      <td>2662260</td>\n      <td>474</td>\n      <td>1835</td>\n    </tr>\n    <tr>\n      <th>4</th>\n      <td>2020-11-05 09:51:34.898</td>\n      <td>313</td>\n      <td>27050</td>\n      <td>24735</td>\n      <td>2673706</td>\n      <td>475</td>\n      <td>1840</td>\n    </tr>\n    <tr>\n      <th>5</th>\n      <td>2020-11-06 09:24:23.717</td>\n      <td>314</td>\n      <td>27195</td>\n      <td>24821</td>\n      <td>2686314</td>\n      <td>476</td>\n      <td>1898</td>\n    </tr>\n    <tr>\n      <th>6</th>\n      <td>2020-11-07 09:40:32.259</td>\n      <td>315</td>\n      <td>27284</td>\n      <td>24910</td>\n      <td>2697249</td>\n      <td>477</td>\n      <td>1897</td>\n    </tr>\n    <tr>\n      <th>7</th>\n      <td>2020-11-08 09:34:44.609</td>\n      <td>316</td>\n      <td>27427</td>\n      <td>24968</td>\n      <td>2702880</td>\n      <td>478</td>\n      <td>1981</td>\n    </tr>\n    <tr>\n      <th>8</th>\n      <td>2020-11-09 09:36:39.787</td>\n      <td>317</td>\n      <td>27553</td>\n      <td>25029</td>\n      <td>2709199</td>\n      <td>480</td>\n      <td>2044</td>\n    </tr>\n    <tr>\n      <th>9</th>\n      <td>2020-11-10 09:37:02.955</td>\n      <td>318</td>\n      <td>27653</td>\n      <td>25160</td>\n      <td>2723960</td>\n      <td>485</td>\n      <td>2008</td>\n    </tr>\n    <tr>\n      <th>10</th>\n      <td>2020-11-11 09:35:35.369</td>\n      <td>319</td>\n      <td>27799</td>\n      <td>25266</td>\n      <td>2736534</td>\n      <td>487</td>\n      <td>2046</td>\n    </tr>\n    <tr>\n      <th>11</th>\n      <td>2020-11-12 09:39:23.831</td>\n      <td>320</td>\n      <td>27942</td>\n      <td>25404</td>\n      <td>2749772</td>\n      <td>487</td>\n      <td>2051</td>\n    </tr>\n    <tr>\n      <th>12</th>\n      <td>2020-11-13 09:35:49.753</td>\n      <td>321</td>\n      <td>28133</td>\n      <td>25537</td>\n      <td>2761411</td>\n      <td>488</td>\n      <td>2108</td>\n    </tr>\n    <tr>\n      <th>13</th>\n      <td>2020-11-14 09:31:38.207</td>\n      <td>322</td>\n      <td>28338</td>\n      <td>25636</td>\n      <td>2777289</td>\n      <td>492</td>\n      <td>2210</td>\n    </tr>\n    <tr>\n      <th>14</th>\n      <td>2020-11-15 09:40:16.172</td>\n      <td>323</td>\n      <td>28546</td>\n      <td>25691</td>\n      <td>2786878</td>\n      <td>493</td>\n      <td>2362</td>\n    </tr>\n    <tr>\n      <th>15</th>\n      <td>2020-11-16 09:34:22.212</td>\n      <td>324</td>\n      <td>28769</td>\n      <td>25759</td>\n      <td>2797691</td>\n      <td>494</td>\n      <td>2516</td>\n    </tr>\n    <tr>\n      <th>16</th>\n      <td>2020-11-17 09:38:28.585</td>\n      <td>325</td>\n      <td>28998</td>\n      <td>25860</td>\n      <td>2815755</td>\n      <td>494</td>\n      <td>2644</td>\n    </tr>\n    <tr>\n      <th>17</th>\n      <td>2020-11-18 09:34:00.934</td>\n      <td>326</td>\n      <td>29311</td>\n      <td>25973</td>\n      <td>2834362</td>\n      <td>496</td>\n      <td>2842</td>\n    </tr>\n    <tr>\n      <th>18</th>\n      <td>2020-11-19 09:32:40.671</td>\n      <td>327</td>\n      <td>29654</td>\n      <td>26098</td>\n      <td>2853843</td>\n      <td>498</td>\n      <td>3058</td>\n    </tr>\n    <tr>\n      <th>19</th>\n      <td>2020-11-20 09:35:51.078</td>\n      <td>328</td>\n      <td>30017</td>\n      <td>26263</td>\n      <td>2873443</td>\n      <td>501</td>\n      <td>3253</td>\n    </tr>\n    <tr>\n      <th>20</th>\n      <td>2020-11-21 09:35:35.158</td>\n      <td>329</td>\n      <td>30403</td>\n      <td>26365</td>\n      <td>2896746</td>\n      <td>503</td>\n      <td>3535</td>\n    </tr>\n    <tr>\n      <th>21</th>\n      <td>2020-11-22 09:35:12.388</td>\n      <td>330</td>\n      <td>30733</td>\n      <td>26466</td>\n      <td>2908890</td>\n      <td>505</td>\n      <td>3762</td>\n    </tr>\n    <tr>\n      <th>22</th>\n      <td>2020-11-23 09:33:24.973</td>\n      <td>331</td>\n      <td>31004</td>\n      <td>26539</td>\n      <td>2922135</td>\n      <td>509</td>\n      <td>3956</td>\n    </tr>\n    <tr>\n      <th>23</th>\n      <td>2020-11-24 09:33:23.193</td>\n      <td>332</td>\n      <td>31353</td>\n      <td>26722</td>\n      <td>2946399</td>\n      <td>510</td>\n      <td>4121</td>\n    </tr>\n    <tr>\n      <th>24</th>\n      <td>2020-11-25 09:32:47.722</td>\n      <td>333</td>\n      <td>31735</td>\n      <td>26825</td>\n      <td>2966405</td>\n      <td>513</td>\n      <td>4397</td>\n    </tr>\n    <tr>\n      <th>25</th>\n      <td>2020-11-26 09:44:15.678</td>\n      <td>334</td>\n      <td>32318</td>\n      <td>26950</td>\n      <td>2988046</td>\n      <td>515</td>\n      <td>4853</td>\n    </tr>\n    <tr>\n      <th>26</th>\n      <td>2020-11-27 09:39:01.652</td>\n      <td>335</td>\n      <td>32887</td>\n      <td>27103</td>\n      <td>3009577</td>\n      <td>516</td>\n      <td>5268</td>\n    </tr>\n    <tr>\n      <th>27</th>\n      <td>2020-11-28 09:31:45.871</td>\n      <td>336</td>\n      <td>33375</td>\n      <td>27349</td>\n      <td>3032004</td>\n      <td>522</td>\n      <td>5504</td>\n    </tr>\n    <tr>\n      <th>28</th>\n      <td>2020-11-29 09:33:56.021</td>\n      <td>337</td>\n      <td>33824</td>\n      <td>27542</td>\n      <td>3046971</td>\n      <td>523</td>\n      <td>5759</td>\n    </tr>\n    <tr>\n      <th>29</th>\n      <td>2020-11-30 14:29:16.143</td>\n      <td>338</td>\n      <td>34201</td>\n      <td>27625</td>\n      <td>3061172</td>\n      <td>526</td>\n      <td>6050</td>\n    </tr>\n  </tbody>\n</table>\n</div>"
     },
     "metadata": {},
     "execution_count": 164
    }
   ],
   "source": [
    "createDt = []\n",
    "seq = []\n",
    "decideCnt = []\n",
    "clearCnt = []\n",
    "accExamCnt = []\n",
    "deathCnt = []\n",
    "careCnt = []\n",
    "for i in range(len(month_11)):\n",
    "    corona_url = 'http://openapi.data.go.kr/openapi/service/rest/Covid19/getCovid19InfStateJson'\n",
    "    startDate = month_11[i].strftime('%Y%m%d')\n",
    "    endDate = month_11[i].strftime('%Y%m%d')\n",
    "    url = f'{corona_url}?serviceKey={key}&pageNo=1&numOfRows=10&startCreateDt={startDate}&endCreateDt={endDate}' \n",
    "    result = requests.get(urlparse(url).geturl())\n",
    "    html = result.text\n",
    "    soup = BeautifulSoup(html, 'html.parser')\n",
    "    createDt.append(soup.select('createDt')[0].string)\n",
    "    seq.append(soup.select('seq')[0].string)\n",
    "    decideCnt.append(soup.select('decideCnt')[0].string)\n",
    "    clearCnt.append(soup.select('clearCnt')[0].string)\n",
    "    accExamCnt.append(soup.select('accExamCnt')[0].string)\n",
    "    deathCnt.append(soup.select('deathCnt')[0].string)\n",
    "    careCnt.append(soup.select('careCnt')[0].string)\n",
    "corona['등록시간']=[str(i) for i in createDt]\n",
    "corona['게시글번호']=seq\n",
    "corona['확진자 수']=decideCnt\n",
    "corona['격리해제 수']=clearCnt\n",
    "corona['검사진행 수']=accExamCnt\n",
    "corona['사망자 수']=deathCnt\n",
    "corona['치료중 환자 수']=careCnt\n",
    "corona"
   ]
  },
  {
   "cell_type": "code",
   "execution_count": null,
   "metadata": {},
   "outputs": [],
   "source": []
  }
 ]
}